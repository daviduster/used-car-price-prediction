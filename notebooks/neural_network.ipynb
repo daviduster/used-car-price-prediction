{
 "cells": [
  {
   "cell_type": "code",
   "execution_count": 1,
   "metadata": {},
   "outputs": [],
   "source": [
    "import numpy as np\n",
    "import pandas as pd\n",
    "import matplotlib\n",
    "import matplotlib.pyplot as plt\n",
    "import seaborn as sns\n",
    "from collections import Counter"
   ]
  },
  {
   "cell_type": "code",
   "execution_count": 2,
   "metadata": {},
   "outputs": [],
   "source": [
    "from sklearn.preprocessing import LabelEncoder"
   ]
  },
  {
   "cell_type": "code",
   "execution_count": 3,
   "metadata": {},
   "outputs": [],
   "source": [
    "car_train=pd.read_csv(\"../data/train.csv\")\n",
    "car_test=pd.read_csv(\"../data/test.csv\")"
   ]
  },
  {
   "cell_type": "markdown",
   "metadata": {},
   "source": [
    "## Missing values"
   ]
  },
  {
   "cell_type": "code",
   "execution_count": 4,
   "metadata": {},
   "outputs": [],
   "source": [
    "car_train = car_train.drop([\"Descuento\"], axis = 1)\n",
    "car_test = car_test.drop([\"Descuento\"], axis = 1)"
   ]
  },
  {
   "cell_type": "markdown",
   "metadata": {},
   "source": [
    "### Sustituir por la moda de la misma compañia"
   ]
  },
  {
   "cell_type": "code",
   "execution_count": null,
   "metadata": {},
   "outputs": [],
   "source": [
    "car_train = car_train[car_train['Nombre'].notna()]\n",
    "car_train.reset_index(drop=True)"
   ]
  },
  {
   "cell_type": "code",
   "execution_count": null,
   "metadata": {},
   "outputs": [],
   "source": [
    "car_train.Consumo = car_train.Consumo.replace('0.0 kmpl', np.nan)"
   ]
  },
  {
   "cell_type": "code",
   "execution_count": null,
   "metadata": {},
   "outputs": [],
   "source": [
    "part = car_train['Nombre'].astype(str).str.partition()\n",
    "car_train['Company'] = part[0].str.title()\n",
    "#car_train_2['Car_name'] = part[2]"
   ]
  },
  {
   "cell_type": "code",
   "execution_count": null,
   "metadata": {},
   "outputs": [],
   "source": [
    "#df_train.loc[df_train['brand_name'] == 'Maruti']['Asientos'].mode()[0]\n",
    "def fill_na_with_mode(ds, brandname, column):\n",
    "    if ds.loc[ds['Company'] == brandname][column].isnull().any() == False:\n",
    "        fill_value = ds.loc[ds['Company'] == brandname][column].mode()[0]\n",
    "        condit = ((ds['Company'] == brandname) & (ds[column].isnull()))\n",
    "        ds.loc[condit, column] = ds.loc[condit, column].fillna(fill_value)"
   ]
  },
  {
   "cell_type": "code",
   "execution_count": null,
   "metadata": {},
   "outputs": [],
   "source": [
    "for col in list(car_train.columns):\n",
    "    if car_train[col].isnull().any():\n",
    "         for brand in list(car_train.Company.unique()):\n",
    "                fill_na_with_mode(car_train, brand, col)"
   ]
  },
  {
   "cell_type": "code",
   "execution_count": null,
   "metadata": {},
   "outputs": [],
   "source": [
    "car_train = car_train.drop([\"Company\"], axis = 1)"
   ]
  },
  {
   "cell_type": "markdown",
   "metadata": {},
   "source": [
    "### Or fill the missing values with the mean if numeric or the mode if object"
   ]
  },
  {
   "cell_type": "code",
   "execution_count": null,
   "metadata": {},
   "outputs": [],
   "source": [
    "for i in car_train.columns:\n",
    "    if car_train[i].isnull().values.any():\n",
    "        if car_train[i].dtype == \"O\":\n",
    "            car_train[i]= car_train[i].fillna((car_train[i].mode()[0]))\n",
    "        else:\n",
    "            car_train[i]= car_train[i].fillna((car_train[i].mean()))"
   ]
  },
  {
   "cell_type": "markdown",
   "metadata": {},
   "source": [
    "### Or drop all missing values"
   ]
  },
  {
   "cell_type": "code",
   "execution_count": 5,
   "metadata": {},
   "outputs": [],
   "source": [
    "# Probar a rellenar\n",
    "car_train = car_train.dropna()\n",
    "car_test = car_test.dropna()"
   ]
  },
  {
   "cell_type": "markdown",
   "metadata": {},
   "source": [
    "## Etiquetado"
   ]
  },
  {
   "cell_type": "markdown",
   "metadata": {},
   "source": [
    "### Usando label encoder"
   ]
  },
  {
   "cell_type": "code",
   "execution_count": null,
   "metadata": {},
   "outputs": [],
   "source": [
    "car_train_orig = car_train.copy()\n",
    "car_test_orig =  car_test.copy()"
   ]
  },
  {
   "cell_type": "code",
   "execution_count": null,
   "metadata": {},
   "outputs": [],
   "source": [
    "for i in list(car_train.columns):\n",
    "    if car_train[i].dtypes == \"object\":\n",
    "        to_read = \"../data/\" + i.lower() + \".csv\"\n",
    "        label = LabelEncoder().fit(pd.read_csv(to_read)[i])\n",
    "        car_train[i] = label.transform(car_train_orig[i])\n",
    "        car_test[i] = label.transform(car_test_orig[i])"
   ]
  },
  {
   "cell_type": "code",
   "execution_count": null,
   "metadata": {
    "scrolled": true
   },
   "outputs": [],
   "source": [
    "car_train.head()"
   ]
  },
  {
   "cell_type": "markdown",
   "metadata": {},
   "source": [
    "### O usando one hot para algunas variables"
   ]
  },
  {
   "cell_type": "markdown",
   "metadata": {},
   "source": [
    "### Train"
   ]
  },
  {
   "cell_type": "code",
   "execution_count": 6,
   "metadata": {},
   "outputs": [],
   "source": [
    "car_train['Consumo']=car_train.Consumo.astype(str).str.partition()[0].astype('float')\n",
    "car_train['Motor_CC']=car_train.Motor_CC.astype(str).str.partition()[0].astype('float')\n",
    "car_train['Potencia']=car_train.Potencia.astype(str).str.partition()[0].astype('float')"
   ]
  },
  {
   "cell_type": "code",
   "execution_count": 7,
   "metadata": {},
   "outputs": [],
   "source": [
    "car_train.replace({'First':1,'Second':2,'Third':3,'Fourth & Above':4},inplace = True)"
   ]
  },
  {
   "cell_type": "code",
   "execution_count": 8,
   "metadata": {},
   "outputs": [],
   "source": [
    "tipo_marchas = car_train[['Tipo_marchas']]\n",
    "tipo_marchas = pd.get_dummies(tipo_marchas, drop_first=True)\n",
    "ciudad = car_train[['Ciudad']]\n",
    "ciudad = pd.get_dummies(ciudad, drop_first=True)\n",
    "combustible = car_train[['Combustible']]\n",
    "combustible = pd.get_dummies(combustible, drop_first=True)"
   ]
  },
  {
   "cell_type": "code",
   "execution_count": 9,
   "metadata": {},
   "outputs": [],
   "source": [
    "car_train = pd.concat([car_train, ciudad , tipo_marchas, combustible], axis = 1)"
   ]
  },
  {
   "cell_type": "code",
   "execution_count": 10,
   "metadata": {},
   "outputs": [],
   "source": [
    "car_train = car_train.drop([\"Ciudad\", \"Tipo_marchas\", \"Combustible\"], axis = 1)"
   ]
  },
  {
   "cell_type": "code",
   "execution_count": 11,
   "metadata": {},
   "outputs": [],
   "source": [
    "car_train = car_train.reset_index(drop=True)"
   ]
  },
  {
   "cell_type": "code",
   "execution_count": 12,
   "metadata": {},
   "outputs": [],
   "source": [
    "car_train_orig = car_train.copy()\n",
    "car_test_orig =  car_test.copy()"
   ]
  },
  {
   "cell_type": "code",
   "execution_count": 13,
   "metadata": {},
   "outputs": [],
   "source": [
    "label = LabelEncoder().fit(pd.read_csv('../data/nombre.csv').Nombre)\n",
    "car_train.Nombre = label.transform(car_train_orig.Nombre)\n",
    "car_test.Nombre = label.transform(car_test_orig.Nombre)"
   ]
  },
  {
   "cell_type": "code",
   "execution_count": 14,
   "metadata": {},
   "outputs": [
    {
     "data": {
      "text/html": [
       "<div>\n",
       "<style scoped>\n",
       "    .dataframe tbody tr th:only-of-type {\n",
       "        vertical-align: middle;\n",
       "    }\n",
       "\n",
       "    .dataframe tbody tr th {\n",
       "        vertical-align: top;\n",
       "    }\n",
       "\n",
       "    .dataframe thead th {\n",
       "        text-align: right;\n",
       "    }\n",
       "</style>\n",
       "<table border=\"1\" class=\"dataframe\">\n",
       "  <thead>\n",
       "    <tr style=\"text-align: right;\">\n",
       "      <th></th>\n",
       "      <th>id</th>\n",
       "      <th>Nombre</th>\n",
       "      <th>Año</th>\n",
       "      <th>Kilometros</th>\n",
       "      <th>Mano</th>\n",
       "      <th>Consumo</th>\n",
       "      <th>Motor_CC</th>\n",
       "      <th>Potencia</th>\n",
       "      <th>Asientos</th>\n",
       "      <th>Precio_cat</th>\n",
       "      <th>...</th>\n",
       "      <th>Ciudad_G</th>\n",
       "      <th>Ciudad_H</th>\n",
       "      <th>Ciudad_I</th>\n",
       "      <th>Ciudad_J</th>\n",
       "      <th>Ciudad_K</th>\n",
       "      <th>Ciudad_L</th>\n",
       "      <th>Tipo_marchas_Manual</th>\n",
       "      <th>Combustible_Diesel</th>\n",
       "      <th>Combustible_LPG</th>\n",
       "      <th>Combustible_Petrol</th>\n",
       "    </tr>\n",
       "  </thead>\n",
       "  <tbody>\n",
       "    <tr>\n",
       "      <th>0</th>\n",
       "      <td>1.0</td>\n",
       "      <td>1143</td>\n",
       "      <td>2012.0</td>\n",
       "      <td>83000.0</td>\n",
       "      <td>1</td>\n",
       "      <td>23.40</td>\n",
       "      <td>1248.0</td>\n",
       "      <td>74.00</td>\n",
       "      <td>5.0</td>\n",
       "      <td>3</td>\n",
       "      <td>...</td>\n",
       "      <td>1</td>\n",
       "      <td>0</td>\n",
       "      <td>0</td>\n",
       "      <td>0</td>\n",
       "      <td>0</td>\n",
       "      <td>0</td>\n",
       "      <td>1</td>\n",
       "      <td>1</td>\n",
       "      <td>0</td>\n",
       "      <td>0</td>\n",
       "    </tr>\n",
       "    <tr>\n",
       "      <th>1</th>\n",
       "      <td>2.0</td>\n",
       "      <td>1204</td>\n",
       "      <td>2016.0</td>\n",
       "      <td>4800.0</td>\n",
       "      <td>1</td>\n",
       "      <td>20.51</td>\n",
       "      <td>998.0</td>\n",
       "      <td>67.04</td>\n",
       "      <td>5.0</td>\n",
       "      <td>3</td>\n",
       "      <td>...</td>\n",
       "      <td>0</td>\n",
       "      <td>0</td>\n",
       "      <td>1</td>\n",
       "      <td>0</td>\n",
       "      <td>0</td>\n",
       "      <td>0</td>\n",
       "      <td>1</td>\n",
       "      <td>0</td>\n",
       "      <td>0</td>\n",
       "      <td>1</td>\n",
       "    </tr>\n",
       "    <tr>\n",
       "      <th>2</th>\n",
       "      <td>3.0</td>\n",
       "      <td>846</td>\n",
       "      <td>2016.0</td>\n",
       "      <td>26000.0</td>\n",
       "      <td>1</td>\n",
       "      <td>25.32</td>\n",
       "      <td>1198.0</td>\n",
       "      <td>77.00</td>\n",
       "      <td>6.0</td>\n",
       "      <td>3</td>\n",
       "      <td>...</td>\n",
       "      <td>0</td>\n",
       "      <td>0</td>\n",
       "      <td>0</td>\n",
       "      <td>0</td>\n",
       "      <td>0</td>\n",
       "      <td>0</td>\n",
       "      <td>1</td>\n",
       "      <td>1</td>\n",
       "      <td>0</td>\n",
       "      <td>0</td>\n",
       "    </tr>\n",
       "    <tr>\n",
       "      <th>3</th>\n",
       "      <td>4.0</td>\n",
       "      <td>714</td>\n",
       "      <td>2013.0</td>\n",
       "      <td>56127.0</td>\n",
       "      <td>1</td>\n",
       "      <td>18.50</td>\n",
       "      <td>1197.0</td>\n",
       "      <td>80.00</td>\n",
       "      <td>5.0</td>\n",
       "      <td>3</td>\n",
       "      <td>...</td>\n",
       "      <td>0</td>\n",
       "      <td>0</td>\n",
       "      <td>0</td>\n",
       "      <td>0</td>\n",
       "      <td>0</td>\n",
       "      <td>0</td>\n",
       "      <td>1</td>\n",
       "      <td>0</td>\n",
       "      <td>0</td>\n",
       "      <td>1</td>\n",
       "    </tr>\n",
       "    <tr>\n",
       "      <th>4</th>\n",
       "      <td>5.0</td>\n",
       "      <td>472</td>\n",
       "      <td>2017.0</td>\n",
       "      <td>41981.0</td>\n",
       "      <td>1</td>\n",
       "      <td>18.70</td>\n",
       "      <td>1199.0</td>\n",
       "      <td>88.70</td>\n",
       "      <td>5.0</td>\n",
       "      <td>3</td>\n",
       "      <td>...</td>\n",
       "      <td>0</td>\n",
       "      <td>1</td>\n",
       "      <td>0</td>\n",
       "      <td>0</td>\n",
       "      <td>0</td>\n",
       "      <td>0</td>\n",
       "      <td>1</td>\n",
       "      <td>0</td>\n",
       "      <td>0</td>\n",
       "      <td>1</td>\n",
       "    </tr>\n",
       "  </tbody>\n",
       "</table>\n",
       "<p>5 rows × 24 columns</p>\n",
       "</div>"
      ],
      "text/plain": [
       "    id  Nombre     Año  Kilometros  Mano  Consumo  Motor_CC  Potencia  \\\n",
       "0  1.0    1143  2012.0     83000.0     1    23.40    1248.0     74.00   \n",
       "1  2.0    1204  2016.0      4800.0     1    20.51     998.0     67.04   \n",
       "2  3.0     846  2016.0     26000.0     1    25.32    1198.0     77.00   \n",
       "3  4.0     714  2013.0     56127.0     1    18.50    1197.0     80.00   \n",
       "4  5.0     472  2017.0     41981.0     1    18.70    1199.0     88.70   \n",
       "\n",
       "   Asientos  Precio_cat         ...          Ciudad_G  Ciudad_H  Ciudad_I  \\\n",
       "0       5.0           3         ...                 1         0         0   \n",
       "1       5.0           3         ...                 0         0         1   \n",
       "2       6.0           3         ...                 0         0         0   \n",
       "3       5.0           3         ...                 0         0         0   \n",
       "4       5.0           3         ...                 0         1         0   \n",
       "\n",
       "   Ciudad_J  Ciudad_K  Ciudad_L  Tipo_marchas_Manual  Combustible_Diesel  \\\n",
       "0         0         0         0                    1                   1   \n",
       "1         0         0         0                    1                   0   \n",
       "2         0         0         0                    1                   1   \n",
       "3         0         0         0                    1                   0   \n",
       "4         0         0         0                    1                   0   \n",
       "\n",
       "   Combustible_LPG  Combustible_Petrol  \n",
       "0                0                   0  \n",
       "1                0                   1  \n",
       "2                0                   0  \n",
       "3                0                   1  \n",
       "4                0                   1  \n",
       "\n",
       "[5 rows x 24 columns]"
      ]
     },
     "execution_count": 14,
     "metadata": {},
     "output_type": "execute_result"
    }
   ],
   "source": [
    "car_train.head()"
   ]
  },
  {
   "cell_type": "markdown",
   "metadata": {},
   "source": [
    "### Test"
   ]
  },
  {
   "cell_type": "code",
   "execution_count": 15,
   "metadata": {},
   "outputs": [],
   "source": [
    "car_test['Consumo']=car_test.Consumo.astype(str).str.partition()[0].astype('float')\n",
    "car_test['Motor_CC']=car_test.Motor_CC.astype(str).str.partition()[0].astype('float')\n",
    "car_test['Potencia']=car_test.Potencia.astype(str).str.partition()[0].astype('float')"
   ]
  },
  {
   "cell_type": "code",
   "execution_count": 16,
   "metadata": {},
   "outputs": [],
   "source": [
    "car_test.replace({'First':1,'Second':2,'Third':3,'Fourth & Above':4},inplace = True)"
   ]
  },
  {
   "cell_type": "code",
   "execution_count": 17,
   "metadata": {},
   "outputs": [],
   "source": [
    "# Tipo_marchas\n",
    "tipo_marchas = car_test[[\"Tipo_marchas\"]]\n",
    "tipo_marchas = pd.get_dummies(tipo_marchas,drop_first=True)\n",
    "\n",
    "# ciudad\n",
    "ciudad = car_test[[\"Ciudad\"]]\n",
    "ciudad = pd.get_dummies(ciudad,drop_first=True)\n",
    "\n",
    "# Combustible\n",
    "combustible = car_test[[\"Combustible\"]]\n",
    "combustible = pd.get_dummies(combustible,drop_first=True)"
   ]
  },
  {
   "cell_type": "code",
   "execution_count": 18,
   "metadata": {},
   "outputs": [],
   "source": [
    "car_test = pd.concat([car_test, ciudad, tipo_marchas, combustible ], axis = 1)"
   ]
  },
  {
   "cell_type": "code",
   "execution_count": 19,
   "metadata": {},
   "outputs": [],
   "source": [
    "car_test.drop(['Tipo_marchas', 'Ciudad', 'Combustible'], axis = 1, inplace = True)"
   ]
  },
  {
   "cell_type": "code",
   "execution_count": 20,
   "metadata": {},
   "outputs": [],
   "source": [
    "car_test = car_test.reset_index(drop=True)"
   ]
  },
  {
   "cell_type": "code",
   "execution_count": 21,
   "metadata": {},
   "outputs": [],
   "source": [
    "# Get missing columns in the training test\n",
    "missing_cols = set( car_train.columns ) - set( car_test.columns )\n",
    "# Add a missing column in test set with default value equal to 0\n",
    "for c in missing_cols:\n",
    "    car_test[c] = 0\n",
    "# Ensure the order of column in the test set is in the same order than in train set\n",
    "car_test = car_test[car_train.columns]"
   ]
  },
  {
   "cell_type": "code",
   "execution_count": 22,
   "metadata": {},
   "outputs": [],
   "source": [
    "car_test = car_test.drop('Precio_cat', axis=1)"
   ]
  },
  {
   "cell_type": "code",
   "execution_count": 23,
   "metadata": {},
   "outputs": [],
   "source": [
    "car_train = car_train.drop('id', axis=1)"
   ]
  },
  {
   "cell_type": "code",
   "execution_count": 24,
   "metadata": {},
   "outputs": [
    {
     "data": {
      "text/html": [
       "<div>\n",
       "<style scoped>\n",
       "    .dataframe tbody tr th:only-of-type {\n",
       "        vertical-align: middle;\n",
       "    }\n",
       "\n",
       "    .dataframe tbody tr th {\n",
       "        vertical-align: top;\n",
       "    }\n",
       "\n",
       "    .dataframe thead th {\n",
       "        text-align: right;\n",
       "    }\n",
       "</style>\n",
       "<table border=\"1\" class=\"dataframe\">\n",
       "  <thead>\n",
       "    <tr style=\"text-align: right;\">\n",
       "      <th></th>\n",
       "      <th>id</th>\n",
       "      <th>Nombre</th>\n",
       "      <th>Año</th>\n",
       "      <th>Kilometros</th>\n",
       "      <th>Mano</th>\n",
       "      <th>Consumo</th>\n",
       "      <th>Motor_CC</th>\n",
       "      <th>Potencia</th>\n",
       "      <th>Asientos</th>\n",
       "      <th>Ciudad_C</th>\n",
       "      <th>...</th>\n",
       "      <th>Ciudad_G</th>\n",
       "      <th>Ciudad_H</th>\n",
       "      <th>Ciudad_I</th>\n",
       "      <th>Ciudad_J</th>\n",
       "      <th>Ciudad_K</th>\n",
       "      <th>Ciudad_L</th>\n",
       "      <th>Tipo_marchas_Manual</th>\n",
       "      <th>Combustible_Diesel</th>\n",
       "      <th>Combustible_LPG</th>\n",
       "      <th>Combustible_Petrol</th>\n",
       "    </tr>\n",
       "  </thead>\n",
       "  <tbody>\n",
       "    <tr>\n",
       "      <th>0</th>\n",
       "      <td>4820</td>\n",
       "      <td>1318</td>\n",
       "      <td>2015</td>\n",
       "      <td>77771</td>\n",
       "      <td>1</td>\n",
       "      <td>19.27</td>\n",
       "      <td>2143.0</td>\n",
       "      <td>170.00</td>\n",
       "      <td>5.0</td>\n",
       "      <td>0</td>\n",
       "      <td>...</td>\n",
       "      <td>0</td>\n",
       "      <td>1</td>\n",
       "      <td>0</td>\n",
       "      <td>0</td>\n",
       "      <td>0</td>\n",
       "      <td>0</td>\n",
       "      <td>0</td>\n",
       "      <td>1</td>\n",
       "      <td>0</td>\n",
       "      <td>0</td>\n",
       "    </tr>\n",
       "    <tr>\n",
       "      <th>1</th>\n",
       "      <td>4821</td>\n",
       "      <td>695</td>\n",
       "      <td>2011</td>\n",
       "      <td>62000</td>\n",
       "      <td>1</td>\n",
       "      <td>19.81</td>\n",
       "      <td>1086.0</td>\n",
       "      <td>68.05</td>\n",
       "      <td>5.0</td>\n",
       "      <td>0</td>\n",
       "      <td>...</td>\n",
       "      <td>0</td>\n",
       "      <td>0</td>\n",
       "      <td>0</td>\n",
       "      <td>1</td>\n",
       "      <td>0</td>\n",
       "      <td>0</td>\n",
       "      <td>1</td>\n",
       "      <td>0</td>\n",
       "      <td>0</td>\n",
       "      <td>1</td>\n",
       "    </tr>\n",
       "    <tr>\n",
       "      <th>2</th>\n",
       "      <td>4822</td>\n",
       "      <td>326</td>\n",
       "      <td>2010</td>\n",
       "      <td>129986</td>\n",
       "      <td>2</td>\n",
       "      <td>20.00</td>\n",
       "      <td>1399.0</td>\n",
       "      <td>68.00</td>\n",
       "      <td>5.0</td>\n",
       "      <td>1</td>\n",
       "      <td>...</td>\n",
       "      <td>0</td>\n",
       "      <td>0</td>\n",
       "      <td>0</td>\n",
       "      <td>0</td>\n",
       "      <td>0</td>\n",
       "      <td>0</td>\n",
       "      <td>1</td>\n",
       "      <td>1</td>\n",
       "      <td>0</td>\n",
       "      <td>0</td>\n",
       "    </tr>\n",
       "    <tr>\n",
       "      <th>3</th>\n",
       "      <td>4823</td>\n",
       "      <td>1139</td>\n",
       "      <td>2015</td>\n",
       "      <td>49900</td>\n",
       "      <td>1</td>\n",
       "      <td>20.85</td>\n",
       "      <td>1197.0</td>\n",
       "      <td>83.14</td>\n",
       "      <td>5.0</td>\n",
       "      <td>0</td>\n",
       "      <td>...</td>\n",
       "      <td>0</td>\n",
       "      <td>0</td>\n",
       "      <td>0</td>\n",
       "      <td>0</td>\n",
       "      <td>0</td>\n",
       "      <td>0</td>\n",
       "      <td>1</td>\n",
       "      <td>0</td>\n",
       "      <td>0</td>\n",
       "      <td>1</td>\n",
       "    </tr>\n",
       "    <tr>\n",
       "      <th>4</th>\n",
       "      <td>4824</td>\n",
       "      <td>1093</td>\n",
       "      <td>2010</td>\n",
       "      <td>75319</td>\n",
       "      <td>2</td>\n",
       "      <td>21.10</td>\n",
       "      <td>1197.0</td>\n",
       "      <td>85.80</td>\n",
       "      <td>5.0</td>\n",
       "      <td>0</td>\n",
       "      <td>...</td>\n",
       "      <td>0</td>\n",
       "      <td>0</td>\n",
       "      <td>0</td>\n",
       "      <td>1</td>\n",
       "      <td>0</td>\n",
       "      <td>0</td>\n",
       "      <td>1</td>\n",
       "      <td>0</td>\n",
       "      <td>0</td>\n",
       "      <td>1</td>\n",
       "    </tr>\n",
       "  </tbody>\n",
       "</table>\n",
       "<p>5 rows × 23 columns</p>\n",
       "</div>"
      ],
      "text/plain": [
       "     id  Nombre   Año  Kilometros  Mano  Consumo  Motor_CC  Potencia  \\\n",
       "0  4820    1318  2015       77771     1    19.27    2143.0    170.00   \n",
       "1  4821     695  2011       62000     1    19.81    1086.0     68.05   \n",
       "2  4822     326  2010      129986     2    20.00    1399.0     68.00   \n",
       "3  4823    1139  2015       49900     1    20.85    1197.0     83.14   \n",
       "4  4824    1093  2010       75319     2    21.10    1197.0     85.80   \n",
       "\n",
       "   Asientos  Ciudad_C         ...          Ciudad_G  Ciudad_H  Ciudad_I  \\\n",
       "0       5.0         0         ...                 0         1         0   \n",
       "1       5.0         0         ...                 0         0         0   \n",
       "2       5.0         1         ...                 0         0         0   \n",
       "3       5.0         0         ...                 0         0         0   \n",
       "4       5.0         0         ...                 0         0         0   \n",
       "\n",
       "   Ciudad_J  Ciudad_K  Ciudad_L  Tipo_marchas_Manual  Combustible_Diesel  \\\n",
       "0         0         0         0                    0                   1   \n",
       "1         1         0         0                    1                   0   \n",
       "2         0         0         0                    1                   1   \n",
       "3         0         0         0                    1                   0   \n",
       "4         1         0         0                    1                   0   \n",
       "\n",
       "   Combustible_LPG  Combustible_Petrol  \n",
       "0                0                   0  \n",
       "1                0                   1  \n",
       "2                0                   0  \n",
       "3                0                   1  \n",
       "4                0                   1  \n",
       "\n",
       "[5 rows x 23 columns]"
      ]
     },
     "execution_count": 24,
     "metadata": {},
     "output_type": "execute_result"
    }
   ],
   "source": [
    "car_test.head()"
   ]
  },
  {
   "cell_type": "markdown",
   "metadata": {},
   "source": [
    "## Modelo "
   ]
  },
  {
   "cell_type": "code",
   "execution_count": 25,
   "metadata": {},
   "outputs": [],
   "source": [
    "from sklearn.model_selection import train_test_split\n",
    "from sklearn.preprocessing import OneHotEncoder, StandardScaler"
   ]
  },
  {
   "cell_type": "code",
   "execution_count": 26,
   "metadata": {},
   "outputs": [
    {
     "name": "stderr",
     "output_type": "stream",
     "text": [
      "Using TensorFlow backend.\n"
     ]
    }
   ],
   "source": [
    "from imblearn.over_sampling import RandomOverSampler"
   ]
  },
  {
   "cell_type": "code",
   "execution_count": 27,
   "metadata": {},
   "outputs": [],
   "source": [
    "y = car_train['Precio_cat']\n",
    "X = car_train.drop(['Precio_cat'],axis=1)"
   ]
  },
  {
   "cell_type": "code",
   "execution_count": 28,
   "metadata": {},
   "outputs": [],
   "source": [
    "X, y = RandomOverSampler(random_state = 42).fit_resample(X, y)"
   ]
  },
  {
   "cell_type": "code",
   "execution_count": 29,
   "metadata": {},
   "outputs": [
    {
     "name": "stderr",
     "output_type": "stream",
     "text": [
      "/Users/davidalbertomartinvela/opt/anaconda3/envs/Kaggle/lib/python3.5/site-packages/sklearn/preprocessing/_encoders.py:363: FutureWarning: The handling of integer data will change in version 0.22. Currently, the categories are determined based on the range [0, max(values)], while in the future they will be determined based on the unique values.\n",
      "If you want the future behaviour and silence this warning, you can specify \"categories='auto'\".\n",
      "In case you used a LabelEncoder before this OneHotEncoder to convert the categories to integers, then you can now use the OneHotEncoder directly.\n",
      "  warnings.warn(msg, FutureWarning)\n"
     ]
    }
   ],
   "source": [
    "# One hot encoding\n",
    "enc = OneHotEncoder()\n",
    "Y = enc.fit_transform(y[:, np.newaxis]).toarray()"
   ]
  },
  {
   "cell_type": "code",
   "execution_count": 30,
   "metadata": {},
   "outputs": [
    {
     "name": "stderr",
     "output_type": "stream",
     "text": [
      "/Users/davidalbertomartinvela/opt/anaconda3/envs/Kaggle/lib/python3.5/site-packages/sklearn/preprocessing/_encoders.py:363: FutureWarning: The handling of integer data will change in version 0.22. Currently, the categories are determined based on the range [0, max(values)], while in the future they will be determined based on the unique values.\n",
      "If you want the future behaviour and silence this warning, you can specify \"categories='auto'\".\n",
      "In case you used a LabelEncoder before this OneHotEncoder to convert the categories to integers, then you can now use the OneHotEncoder directly.\n",
      "  warnings.warn(msg, FutureWarning)\n"
     ]
    },
    {
     "data": {
      "text/plain": [
       "array([[0., 0., 1., 0., 0.],\n",
       "       [0., 0., 1., 0., 0.],\n",
       "       [0., 0., 1., 0., 0.],\n",
       "       ...,\n",
       "       [0., 0., 0., 0., 1.],\n",
       "       [0., 0., 0., 0., 1.],\n",
       "       [0., 0., 0., 0., 1.]])"
      ]
     },
     "execution_count": 30,
     "metadata": {},
     "output_type": "execute_result"
    }
   ],
   "source": [
    "enc.fit_transform(y[:, np.newaxis]).toarray()"
   ]
  },
  {
   "cell_type": "code",
   "execution_count": 31,
   "metadata": {},
   "outputs": [],
   "source": [
    "# Scale data to have mean 0 and variance 1 \n",
    "# which is importance for convergence of the neural network\n",
    "scaler = StandardScaler()\n",
    "X_scaled = scaler.fit_transform(X)"
   ]
  },
  {
   "cell_type": "code",
   "execution_count": 32,
   "metadata": {},
   "outputs": [
    {
     "name": "stdout",
     "output_type": "stream",
     "text": [
      "Number of features: 22\n",
      "Number of samples: 4495\n",
      "Number of classes to predict: 5\n"
     ]
    }
   ],
   "source": [
    "# Split the data set into training and testing\n",
    "X_train, X_test, Y_train, Y_test = train_test_split(X_scaled, Y, test_size=0.5, random_state=2)\n",
    "\n",
    "# n_features = X.shape[1]\n",
    "# n_samples = X.shape[0]\n",
    "n_features = X.shape[1]\n",
    "n_samples = X_train.shape[0]\n",
    "n_classes = Y.shape[1]\n",
    "print(\"Number of features:\", n_features)\n",
    "print(\"Number of samples:\", n_samples)\n",
    "print(\"Number of classes to predict:\", n_classes)"
   ]
  },
  {
   "cell_type": "code",
   "execution_count": 33,
   "metadata": {},
   "outputs": [],
   "source": [
    "# In order to ignore FutureWarning\n",
    "import warnings\n",
    "warnings.simplefilter(action='ignore', category=FutureWarning)\n",
    "warnings.simplefilter(action='ignore', category=DeprecationWarning)\n",
    "\n",
    "from keras.models import Sequential\n",
    "from keras.layers import Dense"
   ]
  },
  {
   "cell_type": "code",
   "execution_count": 34,
   "metadata": {},
   "outputs": [],
   "source": [
    "def create_custom_model(input_dim, output_dim, nodes, n=1, name='model'):\n",
    "    def create_model():\n",
    "        # Create model\n",
    "        model = Sequential(name=name)\n",
    "        for i in range(n):\n",
    "            model.add(Dense(nodes, input_dim=input_dim, activation='relu'))\n",
    "        model.add(Dense(output_dim, activation='softmax'))\n",
    "\n",
    "        # Compile model\n",
    "        model.compile(loss='categorical_crossentropy', \n",
    "                      optimizer='adam', \n",
    "                      metrics=['accuracy'])\n",
    "        return model\n",
    "    return create_model"
   ]
  },
  {
   "cell_type": "code",
   "execution_count": 35,
   "metadata": {},
   "outputs": [
    {
     "name": "stdout",
     "output_type": "stream",
     "text": [
      "Number of nodes: 33\n",
      "_________________________________________________________________\n",
      "Layer (type)                 Output Shape              Param #   \n",
      "=================================================================\n",
      "dense_1 (Dense)              (None, 33)                759       \n",
      "_________________________________________________________________\n",
      "dense_2 (Dense)              (None, 5)                 170       \n",
      "=================================================================\n",
      "Total params: 929\n",
      "Trainable params: 929\n",
      "Non-trainable params: 0\n",
      "_________________________________________________________________\n",
      "_________________________________________________________________\n",
      "Layer (type)                 Output Shape              Param #   \n",
      "=================================================================\n",
      "dense_3 (Dense)              (None, 33)                759       \n",
      "_________________________________________________________________\n",
      "dense_4 (Dense)              (None, 33)                1122      \n",
      "_________________________________________________________________\n",
      "dense_5 (Dense)              (None, 5)                 170       \n",
      "=================================================================\n",
      "Total params: 2,051\n",
      "Trainable params: 2,051\n",
      "Non-trainable params: 0\n",
      "_________________________________________________________________\n",
      "_________________________________________________________________\n",
      "Layer (type)                 Output Shape              Param #   \n",
      "=================================================================\n",
      "dense_6 (Dense)              (None, 33)                759       \n",
      "_________________________________________________________________\n",
      "dense_7 (Dense)              (None, 33)                1122      \n",
      "_________________________________________________________________\n",
      "dense_8 (Dense)              (None, 33)                1122      \n",
      "_________________________________________________________________\n",
      "dense_9 (Dense)              (None, 5)                 170       \n",
      "=================================================================\n",
      "Total params: 3,173\n",
      "Trainable params: 3,173\n",
      "Non-trainable params: 0\n",
      "_________________________________________________________________\n",
      "_________________________________________________________________\n",
      "Layer (type)                 Output Shape              Param #   \n",
      "=================================================================\n",
      "dense_10 (Dense)             (None, 33)                759       \n",
      "_________________________________________________________________\n",
      "dense_11 (Dense)             (None, 33)                1122      \n",
      "_________________________________________________________________\n",
      "dense_12 (Dense)             (None, 33)                1122      \n",
      "_________________________________________________________________\n",
      "dense_13 (Dense)             (None, 33)                1122      \n",
      "_________________________________________________________________\n",
      "dense_14 (Dense)             (None, 5)                 170       \n",
      "=================================================================\n",
      "Total params: 4,295\n",
      "Trainable params: 4,295\n",
      "Non-trainable params: 0\n",
      "_________________________________________________________________\n",
      "_________________________________________________________________\n",
      "Layer (type)                 Output Shape              Param #   \n",
      "=================================================================\n",
      "dense_15 (Dense)             (None, 33)                759       \n",
      "_________________________________________________________________\n",
      "dense_16 (Dense)             (None, 33)                1122      \n",
      "_________________________________________________________________\n",
      "dense_17 (Dense)             (None, 33)                1122      \n",
      "_________________________________________________________________\n",
      "dense_18 (Dense)             (None, 33)                1122      \n",
      "_________________________________________________________________\n",
      "dense_19 (Dense)             (None, 33)                1122      \n",
      "_________________________________________________________________\n",
      "dense_20 (Dense)             (None, 5)                 170       \n",
      "=================================================================\n",
      "Total params: 5,417\n",
      "Trainable params: 5,417\n",
      "Non-trainable params: 0\n",
      "_________________________________________________________________\n"
     ]
    }
   ],
   "source": [
    "alpha = 5\n",
    "nodes = n_samples // (alpha * (n_features + n_classes))\n",
    "print(\"Number of nodes:\", nodes)\n",
    "models = [create_custom_model(n_features, n_classes, nodes, i, 'model_{}'.format(i)) \n",
    "          for i in range(1, 6)]\n",
    "\n",
    "for create_model in models:\n",
    "    create_model().summary()"
   ]
  },
  {
   "cell_type": "code",
   "execution_count": 36,
   "metadata": {
    "scrolled": true
   },
   "outputs": [
    {
     "name": "stdout",
     "output_type": "stream",
     "text": [
      "Model name: model_1\n",
      "Test loss: 0.4652413730759244\n",
      "Test accuracy: 0.8318131257217374\n",
      "Model name: model_2\n",
      "Test loss: 0.428543095898973\n",
      "Test accuracy: 0.8682981090497918\n",
      "Model name: model_3\n",
      "Test loss: 0.44955889830599904\n",
      "Test accuracy: 0.8787541713279665\n",
      "Model name: model_4\n",
      "Test loss: 0.6065559441308689\n",
      "Test accuracy: 0.8451612903358409\n",
      "Model name: model_5\n",
      "Test loss: 0.50077388786169\n",
      "Test accuracy: 0.8885428253880332\n"
     ]
    }
   ],
   "source": [
    "from keras.callbacks import TensorBoard\n",
    "\n",
    "history_dict = {}\n",
    "\n",
    "# TensorBoard Callback\n",
    "cb = TensorBoard()\n",
    "\n",
    "for create_model in models:\n",
    "    model = create_model()\n",
    "    print('Model name:', model.name)\n",
    "    history_callback = model.fit(X_train, Y_train,\n",
    "                                 batch_size=5,\n",
    "                                 epochs=50,\n",
    "                                 verbose=0,\n",
    "                                 validation_data=(X_test, Y_test),\n",
    "                                 callbacks=[cb])\n",
    "    score = model.evaluate(X_test, Y_test, verbose=0)\n",
    "    print('Test loss:', score[0])\n",
    "    print('Test accuracy:', score[1])\n",
    "    \n",
    "    history_dict[model.name] = [history_callback, model]"
   ]
  },
  {
   "cell_type": "code",
   "execution_count": 37,
   "metadata": {},
   "outputs": [
    {
     "data": {
      "image/png": "[encoded data removed]",
      "text/plain": [
       "<Figure size 576x432 with 2 Axes>"
      ]
     },
     "metadata": {
      "needs_background": "light"
     },
     "output_type": "display_data"
    }
   ],
   "source": [
    "fig, (ax1, ax2) = plt.subplots(2, figsize=(8, 6))\n",
    "\n",
    "for model_name in history_dict:\n",
    "    val_acc = history_dict[model_name][0].history['val_acc']\n",
    "    val_loss = history_dict[model_name][0].history['val_loss']\n",
    "    ax1.plot(val_acc, label=model_name)\n",
    "    ax2.plot(val_loss, label=model_name)\n",
    "    \n",
    "ax1.set_ylabel('validation accuracy')\n",
    "ax2.set_ylabel('validation loss')\n",
    "ax2.set_xlabel('epochs')\n",
    "ax1.legend()\n",
    "ax2.legend();\n",
    "\n",
    "plt.savefig(\"./figures/validation_nn.png\")"
   ]
  },
  {
   "cell_type": "code",
   "execution_count": 38,
   "metadata": {},
   "outputs": [
    {
     "data": {
      "image/png": "[encoded data removed]",
      "text/plain": [
       "<Figure size 720x720 with 1 Axes>"
      ]
     },
     "metadata": {
      "needs_background": "light"
     },
     "output_type": "display_data"
    }
   ],
   "source": [
    "from sklearn.metrics import roc_curve, auc\n",
    "\n",
    "plt.figure(figsize=(10, 10))\n",
    "plt.plot([0, 1], [0, 1], 'k--')\n",
    "\n",
    "for model_name in history_dict:\n",
    "    model = history_dict[model_name][1]\n",
    "    \n",
    "    Y_pred = model.predict(X_test)\n",
    "    fpr, tpr, threshold = roc_curve(Y_test.ravel(), Y_pred.ravel())\n",
    "    \n",
    "    plt.plot(fpr, tpr, label='{}, AUC = {:.3f}'.format(model_name, auc(fpr, tpr)))\n",
    "plt.xlabel('False positive rate')\n",
    "plt.ylabel('True positive rate')\n",
    "plt.title('ROC curve')\n",
    "plt.legend();\n",
    "\n",
    "plt.savefig(\"./figures/roc_nn.png\")"
   ]
  },
  {
   "cell_type": "code",
   "execution_count": 39,
   "metadata": {},
   "outputs": [],
   "source": [
    "from keras.wrappers.scikit_learn import KerasClassifier\n",
    "from sklearn.model_selection import cross_val_score\n",
    "\n",
    "create_model = create_custom_model(n_features, n_classes, nodes, 2)\n",
    "\n",
    "estimator = KerasClassifier(build_fn=create_model, epochs=50, batch_size=5, verbose=0)"
   ]
  },
  {
   "cell_type": "code",
   "execution_count": 40,
   "metadata": {},
   "outputs": [
    {
     "name": "stdout",
     "output_type": "stream",
     "text": [
      "Accuracy : 0.851 (+/- 0.008)\n"
     ]
    }
   ],
   "source": [
    "scores = cross_val_score(estimator, X_train, Y_train, cv=5)\n",
    "print(\"Accuracy : {:0.3f} (+/- {:0.3f})\".format(scores.mean(), scores.std()))"
   ]
  },
  {
   "cell_type": "code",
   "execution_count": 41,
   "metadata": {},
   "outputs": [
    {
     "data": {
      "text/plain": [
       "<keras.callbacks.History at 0x7fa36ff7a128>"
      ]
     },
     "execution_count": 41,
     "metadata": {},
     "output_type": "execute_result"
    }
   ],
   "source": [
    "estimator.fit(X_train, Y_train,\n",
    "             batch_size=5,\n",
    "             epochs=50,\n",
    "             verbose=0,\n",
    "             validation_data=(X_test, Y_test),\n",
    "             callbacks=[cb])"
   ]
  },
  {
   "cell_type": "code",
   "execution_count": 42,
   "metadata": {},
   "outputs": [],
   "source": [
    "tests_ids = car_test['id']\n",
    "del car_test['id']"
   ]
  },
  {
   "cell_type": "code",
   "execution_count": 43,
   "metadata": {},
   "outputs": [
    {
     "name": "stderr",
     "output_type": "stream",
     "text": [
      "/Users/davidalbertomartinvela/opt/anaconda3/envs/Kaggle/lib/python3.5/site-packages/ipykernel_launcher.py:1: DataConversionWarning: Data with input dtype uint8, int64, float64 were all converted to float64 by StandardScaler.\n",
      "  \"\"\"Entry point for launching an IPython kernel.\n"
     ]
    }
   ],
   "source": [
    "test_scaled = scaler.transform(car_test)"
   ]
  },
  {
   "cell_type": "code",
   "execution_count": 44,
   "metadata": {},
   "outputs": [],
   "source": [
    "predict = estimator.predict(test_scaled)"
   ]
  },
  {
   "cell_type": "code",
   "execution_count": 45,
   "metadata": {},
   "outputs": [
    {
     "name": "stdout",
     "output_type": "stream",
     "text": [
      "[4 0 1 ... 2 4 4]\n"
     ]
    }
   ],
   "source": [
    "print(predict)"
   ]
  },
  {
   "cell_type": "code",
   "execution_count": 46,
   "metadata": {},
   "outputs": [],
   "source": [
    "submit = pd.read_csv('../data/sample.csv')\n",
    "submit['Precio_cat'] = predict\n",
    "submit.to_csv('mis_resultados_nn.csv', index=False)"
   ]
  }
 ],
 "metadata": {
  "kernelspec": {
   "display_name": "Python 3",
   "language": "python",
   "name": "python3"
  },
  "language_info": {
   "codemirror_mode": {
    "name": "ipython",
    "version": 3
   },
   "file_extension": ".py",
   "mimetype": "text/x-python",
   "name": "python",
   "nbconvert_exporter": "python",
   "pygments_lexer": "ipython3",
   "version": "3.5.6"
  }
 },
 "nbformat": 4,
 "nbformat_minor": 4
}
