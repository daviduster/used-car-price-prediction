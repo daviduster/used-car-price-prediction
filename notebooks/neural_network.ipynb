{
 "cells": [
  {
   "cell_type": "code",
   "execution_count": 2,
   "metadata": {},
   "outputs": [],
   "source": [
    "import numpy as np\n",
    "import pandas as pd\n",
    "import matplotlib\n",
    "import matplotlib.pyplot as plt\n",
    "import seaborn as sns\n",
    "from collections import Counter"
   ]
  },
  {
   "cell_type": "code",
   "execution_count": 1,
   "metadata": {},
   "outputs": [
    {
     "name": "stderr",
     "output_type": "stream",
     "text": [
      "Using TensorFlow backend.\n"
     ]
    }
   ],
   "source": [
    "from keras.models import Sequential\n",
    "from keras.layers import Dense\n",
    "from keras.wrappers.scikit_learn import KerasClassifier\n",
    "from keras.utils import np_utils\n",
    "from sklearn.model_selection import cross_val_score\n",
    "from sklearn.model_selection import KFold\n",
    "from sklearn.preprocessing import LabelEncoder\n",
    "from sklearn.pipeline import Pipeline"
   ]
  },
  {
   "cell_type": "code",
   "execution_count": 26,
   "metadata": {},
   "outputs": [],
   "source": [
    "car_train=pd.read_csv(\"../data/train.csv\")\n",
    "car_test=pd.read_csv(\"../data/test.csv\")"
   ]
  },
  {
   "cell_type": "code",
   "execution_count": 27,
   "metadata": {},
   "outputs": [],
   "source": [
    "#since the discount column is missing in both train and test set lets remove that column\n",
    "car_train = car_train.drop('Descuento',axis=1)\n",
    "# Probar a rellenar\n",
    "car_train = car_train.dropna()"
   ]
  },
  {
   "cell_type": "code",
   "execution_count": 28,
   "metadata": {},
   "outputs": [],
   "source": [
    "car_train['Consumo']=car_train.Consumo.astype(str).str.partition()[0].astype('float')\n",
    "car_train['Motor_CC']=car_train.Motor_CC.astype(str).str.partition()[0].astype('int')\n",
    "car_train['Potencia']=car_train.Potencia.astype(str).str.partition()[0].astype('float')\n",
    "car_train['Asientos']=car_train.Asientos.astype('int')\n",
    "part = car_train['Nombre'].astype(str).str.partition()\n",
    "car_train['Company'] = part[0].str.title()\n",
    "#car_train_2['Car_name'] = part[2]\n",
    "car_train.drop(['Nombre'], axis = 1, inplace = True)"
   ]
  },
  {
   "cell_type": "code",
   "execution_count": 29,
   "metadata": {},
   "outputs": [],
   "source": [
    "car_train.replace({'First':1,'Second':2,'Third':3,'Fourth & Above':4},inplace = True)"
   ]
  },
  {
   "cell_type": "code",
   "execution_count": 30,
   "metadata": {},
   "outputs": [],
   "source": [
    "tipo_marchas = car_train[['Tipo_marchas']]\n",
    "tipo_marchas = pd.get_dummies(tipo_marchas, drop_first=True)\n",
    "ciudad = car_train[['Ciudad']]\n",
    "ciudad = pd.get_dummies(ciudad, drop_first=True)\n",
    "company = car_train[['Company']]\n",
    "company = pd.get_dummies(company, drop_first=True)\n",
    "combustible = car_train[['Combustible']]\n",
    "combustible = pd.get_dummies(combustible, drop_first=True)"
   ]
  },
  {
   "cell_type": "code",
   "execution_count": 31,
   "metadata": {},
   "outputs": [],
   "source": [
    "car_train = pd.concat([car_train, company , ciudad , tipo_marchas, combustible], axis = 1)"
   ]
  },
  {
   "cell_type": "code",
   "execution_count": 32,
   "metadata": {},
   "outputs": [],
   "source": [
    "car_train.drop(['id','Ciudad', 'Combustible', 'Tipo_marchas', 'Company'], axis = 1, inplace = True)"
   ]
  },
  {
   "cell_type": "code",
   "execution_count": 33,
   "metadata": {},
   "outputs": [
    {
     "data": {
      "text/html": [
       "<div>\n",
       "<style scoped>\n",
       "    .dataframe tbody tr th:only-of-type {\n",
       "        vertical-align: middle;\n",
       "    }\n",
       "\n",
       "    .dataframe tbody tr th {\n",
       "        vertical-align: top;\n",
       "    }\n",
       "\n",
       "    .dataframe thead th {\n",
       "        text-align: right;\n",
       "    }\n",
       "</style>\n",
       "<table border=\"1\" class=\"dataframe\">\n",
       "  <thead>\n",
       "    <tr style=\"text-align: right;\">\n",
       "      <th></th>\n",
       "      <th>Año</th>\n",
       "      <th>Kilometros</th>\n",
       "      <th>Mano</th>\n",
       "      <th>Consumo</th>\n",
       "      <th>Motor_CC</th>\n",
       "      <th>Potencia</th>\n",
       "      <th>Asientos</th>\n",
       "      <th>Precio_cat</th>\n",
       "      <th>Company_Bentley</th>\n",
       "      <th>Company_Bmw</th>\n",
       "      <th>...</th>\n",
       "      <th>Ciudad_G</th>\n",
       "      <th>Ciudad_H</th>\n",
       "      <th>Ciudad_I</th>\n",
       "      <th>Ciudad_J</th>\n",
       "      <th>Ciudad_K</th>\n",
       "      <th>Ciudad_L</th>\n",
       "      <th>Tipo_marchas_Manual</th>\n",
       "      <th>Combustible_Diesel</th>\n",
       "      <th>Combustible_LPG</th>\n",
       "      <th>Combustible_Petrol</th>\n",
       "    </tr>\n",
       "  </thead>\n",
       "  <tbody>\n",
       "    <tr>\n",
       "      <th>0</th>\n",
       "      <td>2012.0</td>\n",
       "      <td>83000.0</td>\n",
       "      <td>1</td>\n",
       "      <td>23.40</td>\n",
       "      <td>1248</td>\n",
       "      <td>74.00</td>\n",
       "      <td>5</td>\n",
       "      <td>3</td>\n",
       "      <td>0</td>\n",
       "      <td>0</td>\n",
       "      <td>...</td>\n",
       "      <td>1</td>\n",
       "      <td>0</td>\n",
       "      <td>0</td>\n",
       "      <td>0</td>\n",
       "      <td>0</td>\n",
       "      <td>0</td>\n",
       "      <td>1</td>\n",
       "      <td>1</td>\n",
       "      <td>0</td>\n",
       "      <td>0</td>\n",
       "    </tr>\n",
       "    <tr>\n",
       "      <th>1</th>\n",
       "      <td>2016.0</td>\n",
       "      <td>4800.0</td>\n",
       "      <td>1</td>\n",
       "      <td>20.51</td>\n",
       "      <td>998</td>\n",
       "      <td>67.04</td>\n",
       "      <td>5</td>\n",
       "      <td>3</td>\n",
       "      <td>0</td>\n",
       "      <td>0</td>\n",
       "      <td>...</td>\n",
       "      <td>0</td>\n",
       "      <td>0</td>\n",
       "      <td>1</td>\n",
       "      <td>0</td>\n",
       "      <td>0</td>\n",
       "      <td>0</td>\n",
       "      <td>1</td>\n",
       "      <td>0</td>\n",
       "      <td>0</td>\n",
       "      <td>1</td>\n",
       "    </tr>\n",
       "    <tr>\n",
       "      <th>2</th>\n",
       "      <td>2016.0</td>\n",
       "      <td>26000.0</td>\n",
       "      <td>1</td>\n",
       "      <td>25.32</td>\n",
       "      <td>1198</td>\n",
       "      <td>77.00</td>\n",
       "      <td>6</td>\n",
       "      <td>3</td>\n",
       "      <td>0</td>\n",
       "      <td>0</td>\n",
       "      <td>...</td>\n",
       "      <td>0</td>\n",
       "      <td>0</td>\n",
       "      <td>0</td>\n",
       "      <td>0</td>\n",
       "      <td>0</td>\n",
       "      <td>0</td>\n",
       "      <td>1</td>\n",
       "      <td>1</td>\n",
       "      <td>0</td>\n",
       "      <td>0</td>\n",
       "    </tr>\n",
       "    <tr>\n",
       "      <th>3</th>\n",
       "      <td>2013.0</td>\n",
       "      <td>56127.0</td>\n",
       "      <td>1</td>\n",
       "      <td>18.50</td>\n",
       "      <td>1197</td>\n",
       "      <td>80.00</td>\n",
       "      <td>5</td>\n",
       "      <td>3</td>\n",
       "      <td>0</td>\n",
       "      <td>0</td>\n",
       "      <td>...</td>\n",
       "      <td>0</td>\n",
       "      <td>0</td>\n",
       "      <td>0</td>\n",
       "      <td>0</td>\n",
       "      <td>0</td>\n",
       "      <td>0</td>\n",
       "      <td>1</td>\n",
       "      <td>0</td>\n",
       "      <td>0</td>\n",
       "      <td>1</td>\n",
       "    </tr>\n",
       "    <tr>\n",
       "      <th>4</th>\n",
       "      <td>2017.0</td>\n",
       "      <td>41981.0</td>\n",
       "      <td>1</td>\n",
       "      <td>18.70</td>\n",
       "      <td>1199</td>\n",
       "      <td>88.70</td>\n",
       "      <td>5</td>\n",
       "      <td>3</td>\n",
       "      <td>0</td>\n",
       "      <td>0</td>\n",
       "      <td>...</td>\n",
       "      <td>0</td>\n",
       "      <td>1</td>\n",
       "      <td>0</td>\n",
       "      <td>0</td>\n",
       "      <td>0</td>\n",
       "      <td>0</td>\n",
       "      <td>1</td>\n",
       "      <td>0</td>\n",
       "      <td>0</td>\n",
       "      <td>1</td>\n",
       "    </tr>\n",
       "  </tbody>\n",
       "</table>\n",
       "<p>5 rows × 49 columns</p>\n",
       "</div>"
      ],
      "text/plain": [
       "      Año  Kilometros  Mano  Consumo  Motor_CC  Potencia  Asientos  \\\n",
       "0  2012.0     83000.0     1    23.40      1248     74.00         5   \n",
       "1  2016.0      4800.0     1    20.51       998     67.04         5   \n",
       "2  2016.0     26000.0     1    25.32      1198     77.00         6   \n",
       "3  2013.0     56127.0     1    18.50      1197     80.00         5   \n",
       "4  2017.0     41981.0     1    18.70      1199     88.70         5   \n",
       "\n",
       "   Precio_cat  Company_Bentley  Company_Bmw         ...          Ciudad_G  \\\n",
       "0           3                0            0         ...                 1   \n",
       "1           3                0            0         ...                 0   \n",
       "2           3                0            0         ...                 0   \n",
       "3           3                0            0         ...                 0   \n",
       "4           3                0            0         ...                 0   \n",
       "\n",
       "   Ciudad_H  Ciudad_I  Ciudad_J  Ciudad_K  Ciudad_L  Tipo_marchas_Manual  \\\n",
       "0         0         0         0         0         0                    1   \n",
       "1         0         1         0         0         0                    1   \n",
       "2         0         0         0         0         0                    1   \n",
       "3         0         0         0         0         0                    1   \n",
       "4         1         0         0         0         0                    1   \n",
       "\n",
       "   Combustible_Diesel  Combustible_LPG  Combustible_Petrol  \n",
       "0                   1                0                   0  \n",
       "1                   0                0                   1  \n",
       "2                   1                0                   0  \n",
       "3                   0                0                   1  \n",
       "4                   0                0                   1  \n",
       "\n",
       "[5 rows x 49 columns]"
      ]
     },
     "execution_count": 33,
     "metadata": {},
     "output_type": "execute_result"
    }
   ],
   "source": [
    "car_train.head()"
   ]
  },
  {
   "cell_type": "code",
   "execution_count": 45,
   "metadata": {},
   "outputs": [
    {
     "data": {
      "text/plain": [
       "Index(['Año', 'Kilometros', 'Mano', 'Consumo', 'Motor_CC', 'Potencia',\n",
       "       'Asientos', 'Precio_cat', 'Company_Bentley', 'Company_Bmw',\n",
       "       'Company_Chevrolet', 'Company_Datsun', 'Company_Fiat', 'Company_Force',\n",
       "       'Company_Ford', 'Company_Honda', 'Company_Hyundai', 'Company_Isuzu',\n",
       "       'Company_Jaguar', 'Company_Jeep', 'Company_Lamborghini', 'Company_Land',\n",
       "       'Company_Mahindra', 'Company_Maruti', 'Company_Mercedes-Benz',\n",
       "       'Company_Mini', 'Company_Mitsubishi', 'Company_Nissan',\n",
       "       'Company_Porsche', 'Company_Renault', 'Company_Skoda', 'Company_Tata',\n",
       "       'Company_Toyota', 'Company_Volkswagen', 'Company_Volvo', 'Ciudad_C',\n",
       "       'Ciudad_D', 'Ciudad_E', 'Ciudad_F', 'Ciudad_G', 'Ciudad_H', 'Ciudad_I',\n",
       "       'Ciudad_J', 'Ciudad_K', 'Ciudad_L', 'Tipo_marchas_Manual',\n",
       "       'Combustible_Diesel', 'Combustible_LPG', 'Combustible_Petrol'],\n",
       "      dtype='object')"
      ]
     },
     "execution_count": 45,
     "metadata": {},
     "output_type": "execute_result"
    }
   ],
   "source": [
    "car_train.columns"
   ]
  },
  {
   "cell_type": "code",
   "execution_count": 35,
   "metadata": {},
   "outputs": [],
   "source": [
    "car_test = car_test.drop('Descuento',axis=1)"
   ]
  },
  {
   "cell_type": "code",
   "execution_count": 34,
   "metadata": {},
   "outputs": [],
   "source": [
    "car_test['Consumo']=car_test.Consumo.astype(str).str.partition()[0].astype('float')\n",
    "car_test['Motor_CC']=car_test.Motor_CC.astype(str).str.partition()[0].astype('int')\n",
    "car_test['Potencia']=car_test.Potencia.astype(str).str.partition()[0].astype('float')\n",
    "car_test['Asientos']=car_test.Asientos.astype('int')\n",
    "part = car_test['Nombre'].astype(str).str.partition()\n",
    "car_test['Company'] = part[0].str.title()\n",
    "#car_train_2['Car_name'] = part[2]\n",
    "car_test.drop(['Nombre'], axis = 1, inplace = True)"
   ]
  },
  {
   "cell_type": "code",
   "execution_count": 36,
   "metadata": {},
   "outputs": [],
   "source": [
    "tipo_marchas = car_test[['Tipo_marchas']]\n",
    "tipo_marchas = pd.get_dummies(tipo_marchas, drop_first=True)\n",
    "ciudad = car_test[['Ciudad']]\n",
    "ciudad = pd.get_dummies(ciudad, drop_first=True)\n",
    "company = car_test[['Company']]\n",
    "company = pd.get_dummies(company, drop_first=True)\n",
    "combustible = car_test[['Combustible']]\n",
    "combustible = pd.get_dummies(combustible, drop_first=True)"
   ]
  },
  {
   "cell_type": "code",
   "execution_count": 38,
   "metadata": {},
   "outputs": [],
   "source": [
    "car_test.drop(['Ciudad', 'Combustible', 'Tipo_marchas', 'Company'], axis = 1, inplace = True)"
   ]
  },
  {
   "cell_type": "code",
   "execution_count": 39,
   "metadata": {},
   "outputs": [],
   "source": [
    "# Get missing columns in the training test\n",
    "missing_cols = set( car_train.columns ) - set( car_test.columns )\n",
    "# Add a missing column in test set with default value equal to 0\n",
    "for c in missing_cols:\n",
    "    car_test[c] = 0\n",
    "# Ensure the order of column in the test set is in the same order than in train set\n",
    "car_test = car_test[car_train.columns]"
   ]
  },
  {
   "cell_type": "code",
   "execution_count": 40,
   "metadata": {},
   "outputs": [],
   "source": [
    "# load dataset\n",
    "X = car_train.drop('Precio_cat', axis=1)\n",
    "Y = car_train['Precio_cat']"
   ]
  },
  {
   "cell_type": "code",
   "execution_count": 41,
   "metadata": {},
   "outputs": [],
   "source": [
    "# encode class values as integers\n",
    "encoder = LabelEncoder()\n",
    "encoder.fit(Y)\n",
    "encoded_Y = encoder.transform(Y)\n",
    "# convert integers to dummy variables (i.e. one hot encoded)\n",
    "dummy_y = np_utils.to_categorical(encoded_Y)"
   ]
  },
  {
   "cell_type": "code",
   "execution_count": 48,
   "metadata": {},
   "outputs": [],
   "source": [
    "# define baseline model\n",
    "def baseline_model():\n",
    "\t# create model\n",
    "\tmodel = Sequential()\n",
    "\tmodel.add(Dense(8, input_dim=48, activation='relu'))\n",
    "\tmodel.add(Dense(5, activation='softmax'))\n",
    "\t# Compile model\n",
    "\tmodel.compile(loss='categorical_crossentropy', optimizer='adam', metrics=['accuracy'])\n",
    "\treturn model"
   ]
  },
  {
   "cell_type": "code",
   "execution_count": 49,
   "metadata": {},
   "outputs": [
    {
     "name": "stdout",
     "output_type": "stream",
     "text": [
      "Baseline: 24.76% (13.68%)\n"
     ]
    }
   ],
   "source": [
    "estimator = KerasClassifier(build_fn=baseline_model, epochs=200, batch_size=5, verbose=1)\n",
    "kfold = KFold(n_splits=10, shuffle=True)\n",
    "results = cross_val_score(estimator, X, dummy_y, cv=kfold)\n",
    "print(\"Baseline: %.2f%% (%.2f%%)\" % (results.mean()*100, results.std()*100))"
   ]
  },
  {
   "cell_type": "code",
   "execution_count": null,
   "metadata": {},
   "outputs": [],
   "source": []
  }
 ],
 "metadata": {
  "kernelspec": {
   "display_name": "Python 3",
   "language": "python",
   "name": "python3"
  },
  "language_info": {
   "codemirror_mode": {
    "name": "ipython",
    "version": 3
   },
   "file_extension": ".py",
   "mimetype": "text/x-python",
   "name": "python",
   "nbconvert_exporter": "python",
   "pygments_lexer": "ipython3",
   "version": "3.5.6"
  }
 },
 "nbformat": 4,
 "nbformat_minor": 4
}
