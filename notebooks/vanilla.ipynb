{
 "cells": [
  {
   "cell_type": "code",
   "execution_count": 77,
   "metadata": {},
   "outputs": [],
   "source": [
    "import numpy as np\n",
    "import pandas as pd\n",
    "import matplotlib.pyplot as plt\n",
    "import seaborn as sns"
   ]
  },
  {
   "cell_type": "code",
   "execution_count": 78,
   "metadata": {},
   "outputs": [],
   "source": [
    "from sklearn.preprocessing import LabelEncoder, scale, StandardScaler, Normalizer\n",
    "from sklearn.model_selection import RandomizedSearchCV"
   ]
  },
  {
   "cell_type": "markdown",
   "metadata": {},
   "source": [
    "Read files"
   ]
  },
  {
   "cell_type": "code",
   "execution_count": 79,
   "metadata": {},
   "outputs": [],
   "source": [
    "car_train=pd.read_csv(\"../data/train.csv\")\n",
    "car_test=pd.read_csv(\"../data/test.csv\")"
   ]
  },
  {
   "cell_type": "markdown",
   "metadata": {},
   "source": [
    "# Modelos"
   ]
  },
  {
   "cell_type": "code",
   "execution_count": 80,
   "metadata": {},
   "outputs": [],
   "source": [
    "from sklearn.metrics import r2_score, accuracy_score, f1_score, precision_score, recall_score\n",
    "from sklearn.model_selection import train_test_split, cross_val_score\n",
    "\n",
    "from sklearn.svm import LinearSVC\n",
    "from sklearn.neighbors import KNeighborsClassifier\n",
    "\n",
    "from sklearn.ensemble import RandomForestClassifier, ExtraTreesClassifier, AdaBoostClassifier\n",
    "from sklearn.tree import DecisionTreeClassifier\n",
    "\n",
    "from sklearn.svm import SVC"
   ]
  },
  {
   "cell_type": "code",
   "execution_count": 81,
   "metadata": {},
   "outputs": [],
   "source": [
    "def classifier_models(X_train, X_test, y_train, y_test, scoring, N_SPLITS):\n",
    "\n",
    "    # KNeighborsClassifier\n",
    "    print(\"KNeighborsClassifier\\n\")\n",
    "    neigh = KNeighborsClassifier()\n",
    "    model_report(neigh, X_train, X_test, y_train, y_test, scoring, N_SPLITS)\n",
    "    \n",
    "    # Decision Tree\n",
    "    print(\"\\nDecisionTreeClassifier\\n\")\n",
    "    dec_tree = DecisionTreeClassifier(random_state=42)\n",
    "    model_report(dec_tree, X_train, X_test, y_train, y_test, scoring, N_SPLITS)\n",
    "    \n",
    "    # RandomForestClassifier\n",
    "    print(\"\\nRandomForestClassifier\\n\")\n",
    "    rf_clf = RandomForestClassifier(random_state=42)\n",
    "    model_report(rf_clf, X_train, X_test, y_train, y_test, scoring, N_SPLITS)\n",
    "    \n",
    "    # ExtraTreesClassifier\n",
    "    print(\"\\nExtraTreesClassifier\\n\")\n",
    "    et_clf = ExtraTreesClassifier(random_state=42)\n",
    "    model_report(et_clf, X_train, X_test, y_train, y_test, scoring, N_SPLITS)\n",
    "    \n",
    "    # AdaBoostClassifier\n",
    "    print(\"\\nAdaBoostClassifier\\n\")\n",
    "    ab_clf = AdaBoostClassifier(random_state=42)\n",
    "    model_report(ab_clf, X_train, X_test, y_train, y_test, scoring, N_SPLITS)"
   ]
  },
  {
   "cell_type": "code",
   "execution_count": 82,
   "metadata": {},
   "outputs": [],
   "source": [
    "def svm_models(X_train, X_test, y_train, y_test, scoring, N_SPLITS):\n",
    "    print(\"\\nSVM\\n\")\n",
    "    print(\"\\nlinear\\n\")\n",
    "    svc_linear = SVC(random_state=42, kernel = \"linear\")\n",
    "    model_report(svc_linear, X_train, X_test, y_train, y_test, scoring, N_SPLITS)\n",
    "    \n",
    "    print(\"\\npoly\\n\")\n",
    "    svc_poly = SVC(random_state=42, kernel = \"poly\")\n",
    "    model_report(svc_poly, X_train, X_test, y_train, y_test, scoring, N_SPLITS)\n",
    "    \n",
    "    print(\"\\nrbf\\n\")\n",
    "    svc_rbf = SVC(random_state=42, kernel = \"rbf\")\n",
    "    model_report(svc_rbf, X_train, X_test, y_train, y_test, scoring, N_SPLITS)\n",
    "    \n",
    "    print(\"\\nsigmoid\\n\")\n",
    "    svc_sigmoid = SVC(random_state=42, kernel = \"sigmoid\")\n",
    "    model_report(svc_sigmoid, X_train, X_test, y_train, y_test, scoring, N_SPLITS)"
   ]
  },
  {
   "cell_type": "code",
   "execution_count": 83,
   "metadata": {},
   "outputs": [],
   "source": [
    "def model_report(model, X_train, X_test, y_train, y_test, scoring, splits):\n",
    "    model_score = cross_val_score(model, X_train, y_train, scoring = scoring, cv=splits)\n",
    "    print(\"cross_val_score: \", model_score.mean(), model_score.std())\n",
    "    \n",
    "    model.fit(X_train, y_train)\n",
    "    y_pred= model.predict(X_test)\n",
    "    print(\"Accuracy on Training set: \", model.score(X_train,y_train))\n",
    "    print(\"Accuracy on Testing set: \",model.score(X_test,y_test))\n",
    "    error_table(X_train, X_test, y_train, y_test, y_pred)"
   ]
  },
  {
   "cell_type": "code",
   "execution_count": 84,
   "metadata": {},
   "outputs": [],
   "source": [
    "def error_table(X_train, X_test, y_train, y_test, y_pred):\n",
    "    print(\"\\t\\tError Table\")\n",
    "    print('accuracy_score        : ', accuracy_score(y_test, y_pred))\n",
    "    print('f1_score macro        : ', f1_score(y_test, y_pred, average='macro'))\n",
    "    print('f1_score micro        : ', f1_score(y_test, y_pred, average='micro'))\n",
    "    print('precision_score macro : ', precision_score(y_test, y_pred, average='macro'))\n",
    "    print('precision_score micro : ', precision_score(y_test, y_pred, average='micro'))\n",
    "    print('recall_score macro.   : ', recall_score(y_test, y_pred, average='macro'))\n",
    "    print('recall_score micro.   : ', recall_score(y_test, y_pred, average='micro'))"
   ]
  },
  {
   "cell_type": "markdown",
   "metadata": {},
   "source": [
    "* [Version 1](#section-1)\n",
    "* [Version 2](#section-2)\n",
    "* [Version 3](#section-3)"
   ]
  },
  {
   "cell_type": "code",
   "execution_count": null,
   "metadata": {},
   "outputs": [],
   "source": [
    "car_train.shape"
   ]
  },
  {
   "cell_type": "code",
   "execution_count": null,
   "metadata": {},
   "outputs": [],
   "source": [
    "car_test.shape"
   ]
  },
  {
   "cell_type": "code",
   "execution_count": null,
   "metadata": {},
   "outputs": [],
   "source": [
    "car_train.head()"
   ]
  },
  {
   "cell_type": "code",
   "execution_count": null,
   "metadata": {},
   "outputs": [],
   "source": [
    "car_train.info()"
   ]
  },
  {
   "cell_type": "code",
   "execution_count": null,
   "metadata": {},
   "outputs": [],
   "source": [
    "car_test.head()"
   ]
  },
  {
   "cell_type": "code",
   "execution_count": null,
   "metadata": {},
   "outputs": [],
   "source": [
    "car_test.info()"
   ]
  },
  {
   "cell_type": "code",
   "execution_count": null,
   "metadata": {},
   "outputs": [],
   "source": [
    "# Remove id column\n",
    "car_train = car_train.drop('id', axis = 1)"
   ]
  },
  {
   "cell_type": "code",
   "execution_count": null,
   "metadata": {},
   "outputs": [],
   "source": [
    "print(\"Valores únicos en el conjunto de entrenamiento:\\n\")\n",
    "for i in car_train.columns:\n",
    "    print(i, car_train[i].unique())"
   ]
  },
  {
   "cell_type": "code",
   "execution_count": null,
   "metadata": {},
   "outputs": [],
   "source": [
    "print(\"Valores únicos en el conjunto de test:\\n\")\n",
    "for i in car_test.columns:\n",
    "    print(i, car_test[i].unique())"
   ]
  },
  {
   "cell_type": "code",
   "execution_count": null,
   "metadata": {},
   "outputs": [],
   "source": [
    "# find the number of nulls in each colum\n",
    "car_train.isnull().sum()"
   ]
  },
  {
   "cell_type": "code",
   "execution_count": null,
   "metadata": {},
   "outputs": [],
   "source": [
    "# find the number of nulls in each colum\n",
    "car_test.isnull().sum()"
   ]
  },
  {
   "cell_type": "code",
   "execution_count": null,
   "metadata": {},
   "outputs": [],
   "source": [
    "car_train.info()"
   ]
  },
  {
   "cell_type": "code",
   "execution_count": null,
   "metadata": {},
   "outputs": [],
   "source": [
    "car_train.nunique()"
   ]
  },
  {
   "cell_type": "code",
   "execution_count": null,
   "metadata": {},
   "outputs": [],
   "source": [
    "car_test.info()"
   ]
  },
  {
   "cell_type": "code",
   "execution_count": null,
   "metadata": {},
   "outputs": [],
   "source": [
    "car_test.nunique()"
   ]
  },
  {
   "cell_type": "code",
   "execution_count": null,
   "metadata": {},
   "outputs": [],
   "source": [
    "car_train.describe()"
   ]
  },
  {
   "cell_type": "code",
   "execution_count": null,
   "metadata": {},
   "outputs": [],
   "source": [
    "print(\"There is {} duplicated values in data frame\".format(car_train.duplicated().sum()))"
   ]
  },
  {
   "cell_type": "code",
   "execution_count": null,
   "metadata": {},
   "outputs": [],
   "source": [
    "car_test.describe()"
   ]
  },
  {
   "cell_type": "markdown",
   "metadata": {},
   "source": [
    "## Variables continuas"
   ]
  },
  {
   "cell_type": "code",
   "execution_count": null,
   "metadata": {},
   "outputs": [],
   "source": [
    "# Precio\n",
    "plt.subplot(121)\n",
    "sns.distplot(car_train['Precio_cat'],color=\"r\");\n",
    "\n",
    "plt.subplot(122)\n",
    "car_train['Precio_cat'].plot.box(figsize=(16,5))\n",
    "\n",
    "plt.show()"
   ]
  },
  {
   "cell_type": "code",
   "execution_count": null,
   "metadata": {},
   "outputs": [],
   "source": [
    "# Kilometros\n",
    "plt.subplot(121)\n",
    "sns.distplot(car_train['Kilometros'],color=\"y\");\n",
    "\n",
    "plt.subplot(122)\n",
    "car_train['Kilometros'].plot.box(figsize=(16,5))\n",
    "\n",
    "plt.show()"
   ]
  },
  {
   "cell_type": "markdown",
   "metadata": {},
   "source": [
    "## Variables Discretas"
   ]
  },
  {
   "cell_type": "code",
   "execution_count": null,
   "metadata": {},
   "outputs": [],
   "source": [
    "sns.countplot(y='Ciudad',data=car_train)\n",
    "print(car_train.Ciudad.value_counts(normalize=True)*100)"
   ]
  },
  {
   "cell_type": "code",
   "execution_count": null,
   "metadata": {},
   "outputs": [],
   "source": [
    "sns.countplot(x='Mano',data=car_train)\n",
    "print(car_train.Mano.value_counts(normalize=True)*100)"
   ]
  },
  {
   "cell_type": "code",
   "execution_count": null,
   "metadata": {},
   "outputs": [],
   "source": [
    "sns.countplot(x='Asientos',data=car_train)\n",
    "print(car_train.Asientos.value_counts())"
   ]
  },
  {
   "cell_type": "code",
   "execution_count": null,
   "metadata": {},
   "outputs": [],
   "source": [
    "sns.countplot(y=\"Motor_CC\", data=car_train, palette=\"Greens_d\",\n",
    "              order=car_train.Motor_CC.value_counts().iloc[:10].index)"
   ]
  },
  {
   "cell_type": "markdown",
   "metadata": {},
   "source": [
    "<a id=\"section-1\"></a>\n",
    "# Versión 1 \n",
    "Eliminar la mayoría de los duplicados, excepto el descuento que lo rellenamos por la moda, probar Regresión Logística, Lineal y Random Forest"
   ]
  },
  {
   "cell_type": "code",
   "execution_count": null,
   "metadata": {},
   "outputs": [],
   "source": [
    "car_train_1 = car_train.copy()\n",
    "car_test_1 = car_test.copy()"
   ]
  },
  {
   "cell_type": "code",
   "execution_count": null,
   "metadata": {},
   "outputs": [],
   "source": [
    "print(\"Shape of train data Before dropping any Row: \",car_train_1.shape)\n",
    "for i in car_train_1.columns:\n",
    "    if car_train_1[i].isnull().sum() > 0:\n",
    "        if i == \"Descuento\":\n",
    "            car_train_1[i]=car_train_1[i].fillna((car_train_1[i].mode()[0]))\n",
    "            print(\"Fill values in \" + i + \" with the mode: \",car_train_1[i].mode()[0])\n",
    "        else:\n",
    "            car_train_1 = car_train_1[car_train_1[i].notna()]\n",
    "            print(\"Shape after dropping nulls in \" + i + \":\",car_train_1.shape)"
   ]
  },
  {
   "cell_type": "code",
   "execution_count": null,
   "metadata": {},
   "outputs": [],
   "source": [
    "car_test_1['Descuento']=car_test_1['Descuento'].fillna((car_test_1['Descuento'].mode()[0]))"
   ]
  },
  {
   "cell_type": "code",
   "execution_count": null,
   "metadata": {},
   "outputs": [],
   "source": [
    "car_train_1_orig = car_train_1.copy()\n",
    "car_test_1_orig = car_test_1.copy()"
   ]
  },
  {
   "cell_type": "markdown",
   "metadata": {},
   "source": [
    "## Etiquetar atributos"
   ]
  },
  {
   "cell_type": "code",
   "execution_count": null,
   "metadata": {},
   "outputs": [],
   "source": [
    "for i in list(car_train_1.columns):\n",
    "    if car_train_1[i].dtypes == \"object\":\n",
    "        to_read = \"../data/\" + i.lower() + \".csv\"\n",
    "        label = LabelEncoder().fit(pd.read_csv(to_read)[i])\n",
    "        car_train_1[i] = label.transform(car_train_1_orig[i])\n",
    "        car_test_1[i] = label.transform(car_test_1_orig[i])"
   ]
  },
  {
   "cell_type": "code",
   "execution_count": null,
   "metadata": {},
   "outputs": [],
   "source": [
    "correcto = True\n",
    "\n",
    "for asientos in car_train_1_orig.Asientos.unique():\n",
    "    label_train = car_train_1.Asientos[car_train_1_orig.Asientos == asientos].unique()\n",
    "    label_test = car_test_1.Asientos[car_test_1_orig.Asientos == asientos].unique()\n",
    "    \n",
    "    if len(label_train)==0 or len(label_test)==0:\n",
    "        continue\n",
    "    \n",
    "    if label_train != label_test:\n",
    "        print(\"Error, {} es etiquetado en train como {} y en test como {}\".format(asientos, label_train, label_test))\n",
    "        correcto = False\n",
    "        break\n",
    "        \n",
    "if correcto:\n",
    "    print(\"Todo perfecto\")"
   ]
  },
  {
   "cell_type": "markdown",
   "metadata": {},
   "source": [
    "## Modelos"
   ]
  },
  {
   "cell_type": "code",
   "execution_count": null,
   "metadata": {},
   "outputs": [],
   "source": [
    "scoring = \"accuracy\"\n",
    "N_SPLITS = 5"
   ]
  },
  {
   "cell_type": "code",
   "execution_count": null,
   "metadata": {},
   "outputs": [],
   "source": [
    "y = car_train_1['Precio_cat']\n",
    "x = car_train_1.drop(['Precio_cat'],axis=1)"
   ]
  },
  {
   "cell_type": "code",
   "execution_count": null,
   "metadata": {},
   "outputs": [],
   "source": [
    "X_train, X_test, y_train, y_test = train_test_split(x, y, random_state= 42, test_size=0.2)"
   ]
  },
  {
   "cell_type": "code",
   "execution_count": null,
   "metadata": {},
   "outputs": [],
   "source": [
    "classifier_models(X_train, X_test, y_train, y_test, scoring, N_SPLITS)"
   ]
  },
  {
   "cell_type": "markdown",
   "metadata": {},
   "source": [
    "### With standardization "
   ]
  },
  {
   "cell_type": "code",
   "execution_count": null,
   "metadata": {},
   "outputs": [],
   "source": [
    "sc = StandardScaler()\n",
    "X_train_standard = sc.fit_transform(X_train)\n",
    "X_test_standard = sc.fit_transform(X_test)"
   ]
  },
  {
   "cell_type": "code",
   "execution_count": null,
   "metadata": {},
   "outputs": [],
   "source": [
    "classifier_models(X_train_standard, X_test_standard, y_train, y_test, scoring, N_SPLITS)"
   ]
  },
  {
   "cell_type": "code",
   "execution_count": null,
   "metadata": {},
   "outputs": [],
   "source": [
    "svm_models(X_train_standard, X_test_standard, y_train, y_test, scoring, N_SPLITS)"
   ]
  },
  {
   "cell_type": "markdown",
   "metadata": {},
   "source": [
    "### Normalizer"
   ]
  },
  {
   "cell_type": "code",
   "execution_count": null,
   "metadata": {},
   "outputs": [],
   "source": [
    "norm = Normalizer()\n",
    "X_train_norm = norm.fit_transform(X_train)\n",
    "X_test_norm = norm.fit_transform(X_test)"
   ]
  },
  {
   "cell_type": "code",
   "execution_count": null,
   "metadata": {},
   "outputs": [],
   "source": [
    "classifier_models(X_train_norm, X_test_norm, y_train, y_test, scoring, N_SPLITS)"
   ]
  },
  {
   "cell_type": "markdown",
   "metadata": {},
   "source": [
    "## Generate file Version 1"
   ]
  },
  {
   "cell_type": "code",
   "execution_count": null,
   "metadata": {},
   "outputs": [],
   "source": [
    "tests_ids_1 = car_test_1['id']\n",
    "del car_test_1['id']"
   ]
  },
  {
   "cell_type": "code",
   "execution_count": null,
   "metadata": {},
   "outputs": [],
   "source": [
    "predict_1 = rfg.predict(car_test_1)\n",
    "# Generamos \n",
    "df_result = pd.DataFrame({'id': tests_ids_1, 'Precio_cat': predict_1 })\n",
    "df_result.to_csv(\"mis_resultados_1.csv\", index=False)"
   ]
  },
  {
   "cell_type": "markdown",
   "metadata": {},
   "source": [
    "<a id=\"section-2\"></a>\n",
    "# Versión 2\n",
    "Hacer un poco de EDA, dummy variables, drop nan directamente, manipular el dataset, escalar variables, vemos que tenemos bastante skewed data"
   ]
  },
  {
   "cell_type": "code",
   "execution_count": 9,
   "metadata": {},
   "outputs": [],
   "source": [
    "car_train_2 = car_train.copy()\n",
    "car_test_2 = car_test.copy()"
   ]
  },
  {
   "cell_type": "code",
   "execution_count": 10,
   "metadata": {},
   "outputs": [],
   "source": [
    "#since the discount column is missing in both train and test set lets remove that column\n",
    "car_train_2=car_train_2.drop('Descuento',axis=1)"
   ]
  },
  {
   "cell_type": "code",
   "execution_count": 11,
   "metadata": {},
   "outputs": [],
   "source": [
    "car_train_2 = car_train_2.dropna()"
   ]
  },
  {
   "cell_type": "code",
   "execution_count": 12,
   "metadata": {},
   "outputs": [
    {
     "data": {
      "text/plain": [
       "array(['23.4 kmpl', '20.51 kmpl', '25.32 kmpl', ..., '22.9 kmpl',\n",
       "       '20.14 kmpl', '20.77 kmpl'], dtype=object)"
      ]
     },
     "execution_count": 12,
     "metadata": {},
     "output_type": "execute_result"
    }
   ],
   "source": [
    "car_train_2.Consumo.values"
   ]
  },
  {
   "cell_type": "code",
   "execution_count": 13,
   "metadata": {},
   "outputs": [
    {
     "data": {
      "text/plain": [
       "array(['1248 CC', '998 CC', '1198 CC', ..., '1248 CC', '1197 CC',\n",
       "       '1248 CC'], dtype=object)"
      ]
     },
     "execution_count": 13,
     "metadata": {},
     "output_type": "execute_result"
    }
   ],
   "source": [
    "car_train_2.Motor_CC.values"
   ]
  },
  {
   "cell_type": "code",
   "execution_count": 14,
   "metadata": {},
   "outputs": [
    {
     "data": {
      "text/plain": [
       "array(['74 bhp', '67.04 bhp', '77 bhp', ..., '74 bhp', '81.86 bhp',\n",
       "       '88.8 bhp'], dtype=object)"
      ]
     },
     "execution_count": 14,
     "metadata": {},
     "output_type": "execute_result"
    }
   ],
   "source": [
    "car_train_2.Potencia.values"
   ]
  },
  {
   "cell_type": "markdown",
   "metadata": {},
   "source": [
    "For visualisation we can add new column to the dataset based of Consumo column, we can convert object datatype to numberic"
   ]
  },
  {
   "cell_type": "code",
   "execution_count": 15,
   "metadata": {},
   "outputs": [],
   "source": [
    "car_train_2['Consumo']=car_train_2.Consumo.astype(str).str.partition()[0].astype('float')\n",
    "car_train_2['Motor_CC']=car_train_2.Motor_CC.astype(str).str.partition()[0].astype('int')\n",
    "car_train_2['Potencia']=car_train_2.Potencia.astype(str).str.partition()[0].astype('float')\n",
    "car_train_2['Asientos']=car_train_2.Asientos.astype('int')"
   ]
  },
  {
   "cell_type": "code",
   "execution_count": 16,
   "metadata": {},
   "outputs": [
    {
     "data": {
      "text/plain": [
       "array([23.4 , 20.51, 25.32, ..., 22.9 , 20.14, 20.77])"
      ]
     },
     "execution_count": 16,
     "metadata": {},
     "output_type": "execute_result"
    }
   ],
   "source": [
    "car_train_2.Consumo.values"
   ]
  },
  {
   "cell_type": "code",
   "execution_count": 17,
   "metadata": {},
   "outputs": [
    {
     "data": {
      "text/plain": [
       "array([74.  , 67.04, 77.  , ..., 74.  , 81.86, 88.8 ])"
      ]
     },
     "execution_count": 17,
     "metadata": {},
     "output_type": "execute_result"
    }
   ],
   "source": [
    "car_train_2.Potencia.values"
   ]
  },
  {
   "cell_type": "code",
   "execution_count": 18,
   "metadata": {},
   "outputs": [
    {
     "data": {
      "text/plain": [
       "array([1248,  998, 1198, ..., 1248, 1197, 1248])"
      ]
     },
     "execution_count": 18,
     "metadata": {},
     "output_type": "execute_result"
    }
   ],
   "source": [
    "car_train_2.Motor_CC.values"
   ]
  },
  {
   "cell_type": "code",
   "execution_count": 19,
   "metadata": {},
   "outputs": [
    {
     "data": {
      "text/plain": [
       "array([5, 5, 6, ..., 5, 5, 7])"
      ]
     },
     "execution_count": 19,
     "metadata": {},
     "output_type": "execute_result"
    }
   ],
   "source": [
    "car_train_2.Asientos.values"
   ]
  },
  {
   "cell_type": "code",
   "execution_count": null,
   "metadata": {},
   "outputs": [],
   "source": [
    "# Consumo\n",
    "plt.subplot(121)\n",
    "sns.distplot(car_train_2['Consumo'],color=\"b\");\n",
    "\n",
    "plt.subplot(122)\n",
    "car_train_2['Consumo'].plot.box(figsize=(16,5))\n",
    "\n",
    "plt.show()"
   ]
  },
  {
   "cell_type": "code",
   "execution_count": null,
   "metadata": {},
   "outputs": [],
   "source": [
    "# Motor CC\n",
    "plt.subplot(121)\n",
    "sns.distplot(car_train_2['Motor_CC'],color=\"g\");\n",
    "\n",
    "plt.subplot(122)\n",
    "car_train_2['Motor_CC'].plot.box(figsize=(16,5))\n",
    "\n",
    "plt.show() "
   ]
  },
  {
   "cell_type": "code",
   "execution_count": null,
   "metadata": {},
   "outputs": [],
   "source": [
    "# Potencia\n",
    "plt.subplot(121)\n",
    "sns.distplot(car_train_2['Potencia'],color=\"m\");\n",
    "\n",
    "plt.subplot(122)\n",
    "car_train_2['Potencia'].plot.box(figsize=(16,5))\n",
    "\n",
    "plt.show() "
   ]
  },
  {
   "cell_type": "markdown",
   "metadata": {},
   "source": [
    "## Outliers"
   ]
  },
  {
   "cell_type": "code",
   "execution_count": 20,
   "metadata": {},
   "outputs": [],
   "source": [
    "features_ch = ['Kilometros','Precio_cat','Potencia','Consumo','Motor_CC']"
   ]
  },
  {
   "cell_type": "code",
   "execution_count": 21,
   "metadata": {},
   "outputs": [
    {
     "data": {
      "image/png": "[encoded data removed]",
      "text/plain": [
       "<Figure size 432x288 with 1 Axes>"
      ]
     },
     "metadata": {
      "needs_background": "light"
     },
     "output_type": "display_data"
    },
    {
     "data": {
      "image/png": "[encoded data removed]",
      "text/plain": [
       "<Figure size 432x288 with 1 Axes>"
      ]
     },
     "metadata": {
      "needs_background": "light"
     },
     "output_type": "display_data"
    },
    {
     "data": {
      "image/png": "[encoded data removed]",
      "text/plain": [
       "<Figure size 432x288 with 1 Axes>"
      ]
     },
     "metadata": {
      "needs_background": "light"
     },
     "output_type": "display_data"
    },
    {
     "data": {
      "image/png": "[encoded data removed]",
      "text/plain": [
       "<Figure size 432x288 with 1 Axes>"
      ]
     },
     "metadata": {
      "needs_background": "light"
     },
     "output_type": "display_data"
    },
    {
     "data": {
      "image/png": "[encoded data removed]",
      "text/plain": [
       "<Figure size 432x288 with 1 Axes>"
      ]
     },
     "metadata": {
      "needs_background": "light"
     },
     "output_type": "display_data"
    }
   ],
   "source": [
    "for i in features_ch:\n",
    "    fig, ax = plt.subplots()\n",
    "    #plt.xlim(-10,10)\n",
    "    sns.boxplot(x = i, data = car_train_2, ax = ax)"
   ]
  },
  {
   "cell_type": "markdown",
   "metadata": {},
   "source": [
    "Tenemos un dataset muy pequeño intentaré eliminar lo menos posible"
   ]
  },
  {
   "cell_type": "code",
   "execution_count": 22,
   "metadata": {},
   "outputs": [
    {
     "name": "stdout",
     "output_type": "stream",
     "text": [
      "Kilometros\n",
      "max threshold : 487700.00000004075\n",
      "min threshold : 1000.0\n",
      "Precio_cat\n",
      "max threshold : 5.0\n",
      "min threshold : 1.0\n",
      "Potencia\n",
      "max threshold : 447.0800000000163\n",
      "min threshold : 34.956\n",
      "Consumo\n",
      "max threshold : 33.44\n",
      "min threshold : 0.0\n",
      "Motor_CC\n",
      "max threshold : 4813.975000000042\n",
      "min threshold : 624.0\n"
     ]
    }
   ],
   "source": [
    "for feature in features_ch:\n",
    "    print(feature)\n",
    "    print('max threshold :',car_train_2[feature].quantile(0.999))\n",
    "    print('min threshold :',car_train_2[feature].quantile(0.001))"
   ]
  },
  {
   "cell_type": "code",
   "execution_count": 23,
   "metadata": {},
   "outputs": [],
   "source": [
    "from sklearn.base import BaseEstimator,TransformerMixin,RegressorMixin"
   ]
  },
  {
   "cell_type": "code",
   "execution_count": 24,
   "metadata": {},
   "outputs": [],
   "source": [
    "class RemoveOutliers(BaseEstimator,TransformerMixin):\n",
    "    \"\"\"This class removes outliers from data.\n",
    "    Note: Outlier values are hard coded\n",
    "    \"\"\"\n",
    "\n",
    "    def fit (self,X,y=None):\n",
    "        return self\n",
    "    \n",
    "    \n",
    "    def transform(self,X,y=None):\n",
    "        X=X[X['Kilometros']< 262000] \n",
    "        \n",
    "        X=X[X['Potencia']<= 530]\n",
    "        \n",
    "        X=X[X['Motor_CC']<= 5900 ]\n",
    "        \n",
    "        return X"
   ]
  },
  {
   "cell_type": "code",
   "execution_count": 25,
   "metadata": {},
   "outputs": [],
   "source": [
    "car_train_2 = RemoveOutliers().fit_transform(car_train_2)"
   ]
  },
  {
   "cell_type": "code",
   "execution_count": 26,
   "metadata": {},
   "outputs": [
    {
     "name": "stdout",
     "output_type": "stream",
     "text": [
      "Kilometros\n",
      "max threshold : 242402.00000000276\n",
      "min threshold : 1000.0\n",
      "Precio_cat\n",
      "max threshold : 5.0\n",
      "min threshold : 1.0\n",
      "Potencia\n",
      "max threshold : 398.28300000002264\n",
      "min threshold : 34.9464\n",
      "Consumo\n",
      "max threshold : 33.44\n",
      "min threshold : 0.0\n",
      "Motor_CC\n",
      "max threshold : 4806.0\n",
      "min threshold : 624.0\n"
     ]
    }
   ],
   "source": [
    "for feature in features_ch:\n",
    "    print(feature)\n",
    "    print('max threshold :',car_train_2[feature].quantile(0.999))\n",
    "    print('min threshold :',car_train_2[feature].quantile(0.001))"
   ]
  },
  {
   "cell_type": "code",
   "execution_count": 27,
   "metadata": {},
   "outputs": [],
   "source": [
    "part = car_train_2['Nombre'].astype(str).str.partition()\n",
    "car_train_2['Company'] = part[0].str.title()\n",
    "car_train_2['Car_name'] = part[2]"
   ]
  },
  {
   "cell_type": "code",
   "execution_count": 28,
   "metadata": {},
   "outputs": [],
   "source": [
    "car_train_2 = car_train_2[car_train_2.Company != 'Bentley']"
   ]
  },
  {
   "cell_type": "code",
   "execution_count": 29,
   "metadata": {},
   "outputs": [
    {
     "data": {
      "text/html": [
       "<div>\n",
       "<style scoped>\n",
       "    .dataframe tbody tr th:only-of-type {\n",
       "        vertical-align: middle;\n",
       "    }\n",
       "\n",
       "    .dataframe tbody tr th {\n",
       "        vertical-align: top;\n",
       "    }\n",
       "\n",
       "    .dataframe thead th {\n",
       "        text-align: right;\n",
       "    }\n",
       "</style>\n",
       "<table border=\"1\" class=\"dataframe\">\n",
       "  <thead>\n",
       "    <tr style=\"text-align: right;\">\n",
       "      <th></th>\n",
       "      <th>id</th>\n",
       "      <th>Nombre</th>\n",
       "      <th>Ciudad</th>\n",
       "      <th>Año</th>\n",
       "      <th>Kilometros</th>\n",
       "      <th>Combustible</th>\n",
       "      <th>Tipo_marchas</th>\n",
       "      <th>Mano</th>\n",
       "      <th>Consumo</th>\n",
       "      <th>Motor_CC</th>\n",
       "      <th>Potencia</th>\n",
       "      <th>Asientos</th>\n",
       "      <th>Precio_cat</th>\n",
       "      <th>Company</th>\n",
       "      <th>Car_name</th>\n",
       "    </tr>\n",
       "  </thead>\n",
       "  <tbody>\n",
       "    <tr>\n",
       "      <th>0</th>\n",
       "      <td>1.0</td>\n",
       "      <td>Maruti Swift Dzire ZDI</td>\n",
       "      <td>G</td>\n",
       "      <td>2012.0</td>\n",
       "      <td>83000.0</td>\n",
       "      <td>Diesel</td>\n",
       "      <td>Manual</td>\n",
       "      <td>First</td>\n",
       "      <td>23.40</td>\n",
       "      <td>1248</td>\n",
       "      <td>74.00</td>\n",
       "      <td>5</td>\n",
       "      <td>3</td>\n",
       "      <td>Maruti</td>\n",
       "      <td>Swift Dzire ZDI</td>\n",
       "    </tr>\n",
       "    <tr>\n",
       "      <th>1</th>\n",
       "      <td>2.0</td>\n",
       "      <td>Maruti Wagon R LXI Optional</td>\n",
       "      <td>I</td>\n",
       "      <td>2016.0</td>\n",
       "      <td>4800.0</td>\n",
       "      <td>Petrol</td>\n",
       "      <td>Manual</td>\n",
       "      <td>First</td>\n",
       "      <td>20.51</td>\n",
       "      <td>998</td>\n",
       "      <td>67.04</td>\n",
       "      <td>5</td>\n",
       "      <td>3</td>\n",
       "      <td>Maruti</td>\n",
       "      <td>Wagon R LXI Optional</td>\n",
       "    </tr>\n",
       "    <tr>\n",
       "      <th>2</th>\n",
       "      <td>3.0</td>\n",
       "      <td>Mahindra KUV 100 mFALCON D75 K8</td>\n",
       "      <td>F</td>\n",
       "      <td>2016.0</td>\n",
       "      <td>26000.0</td>\n",
       "      <td>Diesel</td>\n",
       "      <td>Manual</td>\n",
       "      <td>First</td>\n",
       "      <td>25.32</td>\n",
       "      <td>1198</td>\n",
       "      <td>77.00</td>\n",
       "      <td>6</td>\n",
       "      <td>3</td>\n",
       "      <td>Mahindra</td>\n",
       "      <td>KUV 100 mFALCON D75 K8</td>\n",
       "    </tr>\n",
       "    <tr>\n",
       "      <th>3</th>\n",
       "      <td>4.0</td>\n",
       "      <td>Hyundai i20 1.2 Magna</td>\n",
       "      <td>E</td>\n",
       "      <td>2013.0</td>\n",
       "      <td>56127.0</td>\n",
       "      <td>Petrol</td>\n",
       "      <td>Manual</td>\n",
       "      <td>First</td>\n",
       "      <td>18.50</td>\n",
       "      <td>1197</td>\n",
       "      <td>80.00</td>\n",
       "      <td>5</td>\n",
       "      <td>3</td>\n",
       "      <td>Hyundai</td>\n",
       "      <td>i20 1.2 Magna</td>\n",
       "    </tr>\n",
       "    <tr>\n",
       "      <th>4</th>\n",
       "      <td>5.0</td>\n",
       "      <td>Honda Jazz 1.2 SV i VTEC</td>\n",
       "      <td>H</td>\n",
       "      <td>2017.0</td>\n",
       "      <td>41981.0</td>\n",
       "      <td>Petrol</td>\n",
       "      <td>Manual</td>\n",
       "      <td>First</td>\n",
       "      <td>18.70</td>\n",
       "      <td>1199</td>\n",
       "      <td>88.70</td>\n",
       "      <td>5</td>\n",
       "      <td>3</td>\n",
       "      <td>Honda</td>\n",
       "      <td>Jazz 1.2 SV i VTEC</td>\n",
       "    </tr>\n",
       "  </tbody>\n",
       "</table>\n",
       "</div>"
      ],
      "text/plain": [
       "    id                           Nombre Ciudad     Año  Kilometros  \\\n",
       "0  1.0           Maruti Swift Dzire ZDI      G  2012.0     83000.0   \n",
       "1  2.0      Maruti Wagon R LXI Optional      I  2016.0      4800.0   \n",
       "2  3.0  Mahindra KUV 100 mFALCON D75 K8      F  2016.0     26000.0   \n",
       "3  4.0            Hyundai i20 1.2 Magna      E  2013.0     56127.0   \n",
       "4  5.0         Honda Jazz 1.2 SV i VTEC      H  2017.0     41981.0   \n",
       "\n",
       "  Combustible Tipo_marchas   Mano  Consumo  Motor_CC  Potencia  Asientos  \\\n",
       "0      Diesel       Manual  First    23.40      1248     74.00         5   \n",
       "1      Petrol       Manual  First    20.51       998     67.04         5   \n",
       "2      Diesel       Manual  First    25.32      1198     77.00         6   \n",
       "3      Petrol       Manual  First    18.50      1197     80.00         5   \n",
       "4      Petrol       Manual  First    18.70      1199     88.70         5   \n",
       "\n",
       "   Precio_cat   Company                Car_name  \n",
       "0           3    Maruti         Swift Dzire ZDI  \n",
       "1           3    Maruti    Wagon R LXI Optional  \n",
       "2           3  Mahindra  KUV 100 mFALCON D75 K8  \n",
       "3           3   Hyundai           i20 1.2 Magna  \n",
       "4           3     Honda      Jazz 1.2 SV i VTEC  "
      ]
     },
     "execution_count": 29,
     "metadata": {},
     "output_type": "execute_result"
    }
   ],
   "source": [
    "car_train_2.head()"
   ]
  },
  {
   "cell_type": "code",
   "execution_count": 30,
   "metadata": {},
   "outputs": [],
   "source": [
    "car_train_2.drop(['Nombre','Car_name'], axis = 1, inplace = True)"
   ]
  },
  {
   "cell_type": "markdown",
   "metadata": {},
   "source": [
    "## Ordinal categorical data"
   ]
  },
  {
   "cell_type": "code",
   "execution_count": null,
   "metadata": {},
   "outputs": [],
   "source": [
    "fig_dims = (15, 8)\n",
    "fig, ax = plt.subplots(figsize = fig_dims)\n",
    "sns.boxplot(y = \"Precio_cat\", x = \"Mano\", data = car_train_2 )"
   ]
  },
  {
   "cell_type": "code",
   "execution_count": 31,
   "metadata": {},
   "outputs": [],
   "source": [
    "car_train_2.replace({'First':1,'Second':2,'Third':3,'Fourth & Above':4},inplace = True)"
   ]
  },
  {
   "cell_type": "markdown",
   "metadata": {},
   "source": [
    "## Dummy variables"
   ]
  },
  {
   "cell_type": "code",
   "execution_count": 32,
   "metadata": {},
   "outputs": [],
   "source": [
    "tipo_marchas = car_train_2[['Tipo_marchas']]\n",
    "tipo_marchas = pd.get_dummies(tipo_marchas, drop_first=True)"
   ]
  },
  {
   "cell_type": "code",
   "execution_count": 33,
   "metadata": {},
   "outputs": [],
   "source": [
    "ciudad = car_train_2[['Ciudad']]\n",
    "ciudad = pd.get_dummies(ciudad, drop_first=True)"
   ]
  },
  {
   "cell_type": "code",
   "execution_count": 34,
   "metadata": {},
   "outputs": [],
   "source": [
    "company = car_train_2[['Company']]\n",
    "company = pd.get_dummies(company, drop_first=True)"
   ]
  },
  {
   "cell_type": "code",
   "execution_count": 35,
   "metadata": {},
   "outputs": [],
   "source": [
    "combustible = car_train_2[['Combustible']]\n",
    "combustible = pd.get_dummies(combustible, drop_first=True)"
   ]
  },
  {
   "cell_type": "code",
   "execution_count": 36,
   "metadata": {},
   "outputs": [],
   "source": [
    "car_train_2 = pd.concat([car_train_2, company , ciudad , tipo_marchas, combustible], axis = 1)"
   ]
  },
  {
   "cell_type": "code",
   "execution_count": 37,
   "metadata": {},
   "outputs": [
    {
     "data": {
      "text/html": [
       "<div>\n",
       "<style scoped>\n",
       "    .dataframe tbody tr th:only-of-type {\n",
       "        vertical-align: middle;\n",
       "    }\n",
       "\n",
       "    .dataframe tbody tr th {\n",
       "        vertical-align: top;\n",
       "    }\n",
       "\n",
       "    .dataframe thead th {\n",
       "        text-align: right;\n",
       "    }\n",
       "</style>\n",
       "<table border=\"1\" class=\"dataframe\">\n",
       "  <thead>\n",
       "    <tr style=\"text-align: right;\">\n",
       "      <th></th>\n",
       "      <th>id</th>\n",
       "      <th>Ciudad</th>\n",
       "      <th>Año</th>\n",
       "      <th>Kilometros</th>\n",
       "      <th>Combustible</th>\n",
       "      <th>Tipo_marchas</th>\n",
       "      <th>Mano</th>\n",
       "      <th>Consumo</th>\n",
       "      <th>Motor_CC</th>\n",
       "      <th>Potencia</th>\n",
       "      <th>...</th>\n",
       "      <th>Ciudad_G</th>\n",
       "      <th>Ciudad_H</th>\n",
       "      <th>Ciudad_I</th>\n",
       "      <th>Ciudad_J</th>\n",
       "      <th>Ciudad_K</th>\n",
       "      <th>Ciudad_L</th>\n",
       "      <th>Tipo_marchas_Manual</th>\n",
       "      <th>Combustible_Diesel</th>\n",
       "      <th>Combustible_LPG</th>\n",
       "      <th>Combustible_Petrol</th>\n",
       "    </tr>\n",
       "  </thead>\n",
       "  <tbody>\n",
       "    <tr>\n",
       "      <th>0</th>\n",
       "      <td>1.0</td>\n",
       "      <td>G</td>\n",
       "      <td>2012.0</td>\n",
       "      <td>83000.0</td>\n",
       "      <td>Diesel</td>\n",
       "      <td>Manual</td>\n",
       "      <td>1</td>\n",
       "      <td>23.40</td>\n",
       "      <td>1248</td>\n",
       "      <td>74.00</td>\n",
       "      <td>...</td>\n",
       "      <td>1</td>\n",
       "      <td>0</td>\n",
       "      <td>0</td>\n",
       "      <td>0</td>\n",
       "      <td>0</td>\n",
       "      <td>0</td>\n",
       "      <td>1</td>\n",
       "      <td>1</td>\n",
       "      <td>0</td>\n",
       "      <td>0</td>\n",
       "    </tr>\n",
       "    <tr>\n",
       "      <th>1</th>\n",
       "      <td>2.0</td>\n",
       "      <td>I</td>\n",
       "      <td>2016.0</td>\n",
       "      <td>4800.0</td>\n",
       "      <td>Petrol</td>\n",
       "      <td>Manual</td>\n",
       "      <td>1</td>\n",
       "      <td>20.51</td>\n",
       "      <td>998</td>\n",
       "      <td>67.04</td>\n",
       "      <td>...</td>\n",
       "      <td>0</td>\n",
       "      <td>0</td>\n",
       "      <td>1</td>\n",
       "      <td>0</td>\n",
       "      <td>0</td>\n",
       "      <td>0</td>\n",
       "      <td>1</td>\n",
       "      <td>0</td>\n",
       "      <td>0</td>\n",
       "      <td>1</td>\n",
       "    </tr>\n",
       "    <tr>\n",
       "      <th>2</th>\n",
       "      <td>3.0</td>\n",
       "      <td>F</td>\n",
       "      <td>2016.0</td>\n",
       "      <td>26000.0</td>\n",
       "      <td>Diesel</td>\n",
       "      <td>Manual</td>\n",
       "      <td>1</td>\n",
       "      <td>25.32</td>\n",
       "      <td>1198</td>\n",
       "      <td>77.00</td>\n",
       "      <td>...</td>\n",
       "      <td>0</td>\n",
       "      <td>0</td>\n",
       "      <td>0</td>\n",
       "      <td>0</td>\n",
       "      <td>0</td>\n",
       "      <td>0</td>\n",
       "      <td>1</td>\n",
       "      <td>1</td>\n",
       "      <td>0</td>\n",
       "      <td>0</td>\n",
       "    </tr>\n",
       "    <tr>\n",
       "      <th>3</th>\n",
       "      <td>4.0</td>\n",
       "      <td>E</td>\n",
       "      <td>2013.0</td>\n",
       "      <td>56127.0</td>\n",
       "      <td>Petrol</td>\n",
       "      <td>Manual</td>\n",
       "      <td>1</td>\n",
       "      <td>18.50</td>\n",
       "      <td>1197</td>\n",
       "      <td>80.00</td>\n",
       "      <td>...</td>\n",
       "      <td>0</td>\n",
       "      <td>0</td>\n",
       "      <td>0</td>\n",
       "      <td>0</td>\n",
       "      <td>0</td>\n",
       "      <td>0</td>\n",
       "      <td>1</td>\n",
       "      <td>0</td>\n",
       "      <td>0</td>\n",
       "      <td>1</td>\n",
       "    </tr>\n",
       "    <tr>\n",
       "      <th>4</th>\n",
       "      <td>5.0</td>\n",
       "      <td>H</td>\n",
       "      <td>2017.0</td>\n",
       "      <td>41981.0</td>\n",
       "      <td>Petrol</td>\n",
       "      <td>Manual</td>\n",
       "      <td>1</td>\n",
       "      <td>18.70</td>\n",
       "      <td>1199</td>\n",
       "      <td>88.70</td>\n",
       "      <td>...</td>\n",
       "      <td>0</td>\n",
       "      <td>1</td>\n",
       "      <td>0</td>\n",
       "      <td>0</td>\n",
       "      <td>0</td>\n",
       "      <td>0</td>\n",
       "      <td>1</td>\n",
       "      <td>0</td>\n",
       "      <td>0</td>\n",
       "      <td>1</td>\n",
       "    </tr>\n",
       "  </tbody>\n",
       "</table>\n",
       "<p>5 rows × 52 columns</p>\n",
       "</div>"
      ],
      "text/plain": [
       "    id Ciudad     Año  Kilometros Combustible Tipo_marchas  Mano  Consumo  \\\n",
       "0  1.0      G  2012.0     83000.0      Diesel       Manual     1    23.40   \n",
       "1  2.0      I  2016.0      4800.0      Petrol       Manual     1    20.51   \n",
       "2  3.0      F  2016.0     26000.0      Diesel       Manual     1    25.32   \n",
       "3  4.0      E  2013.0     56127.0      Petrol       Manual     1    18.50   \n",
       "4  5.0      H  2017.0     41981.0      Petrol       Manual     1    18.70   \n",
       "\n",
       "   Motor_CC  Potencia  ...  Ciudad_G  Ciudad_H Ciudad_I  Ciudad_J  Ciudad_K  \\\n",
       "0      1248     74.00  ...         1         0        0         0         0   \n",
       "1       998     67.04  ...         0         0        1         0         0   \n",
       "2      1198     77.00  ...         0         0        0         0         0   \n",
       "3      1197     80.00  ...         0         0        0         0         0   \n",
       "4      1199     88.70  ...         0         1        0         0         0   \n",
       "\n",
       "   Ciudad_L  Tipo_marchas_Manual  Combustible_Diesel  Combustible_LPG  \\\n",
       "0         0                    1                   1                0   \n",
       "1         0                    1                   0                0   \n",
       "2         0                    1                   1                0   \n",
       "3         0                    1                   0                0   \n",
       "4         0                    1                   0                0   \n",
       "\n",
       "   Combustible_Petrol  \n",
       "0                   0  \n",
       "1                   1  \n",
       "2                   0  \n",
       "3                   1  \n",
       "4                   1  \n",
       "\n",
       "[5 rows x 52 columns]"
      ]
     },
     "execution_count": 37,
     "metadata": {},
     "output_type": "execute_result"
    }
   ],
   "source": [
    "car_train_2.head()"
   ]
  },
  {
   "cell_type": "code",
   "execution_count": 38,
   "metadata": {},
   "outputs": [],
   "source": [
    "car_train_2.drop(['id','Ciudad', 'Combustible', 'Tipo_marchas', 'Company'], axis = 1, inplace = True)"
   ]
  },
  {
   "cell_type": "code",
   "execution_count": 39,
   "metadata": {},
   "outputs": [
    {
     "data": {
      "text/plain": [
       "(3934, 47)"
      ]
     },
     "execution_count": 39,
     "metadata": {},
     "output_type": "execute_result"
    }
   ],
   "source": [
    "car_train_2.shape"
   ]
  },
  {
   "cell_type": "markdown",
   "metadata": {},
   "source": [
    "## Test data"
   ]
  },
  {
   "cell_type": "code",
   "execution_count": 40,
   "metadata": {},
   "outputs": [],
   "source": [
    "car_test_2 = car_test_2.drop('Descuento',axis=1)"
   ]
  },
  {
   "cell_type": "code",
   "execution_count": 41,
   "metadata": {},
   "outputs": [
    {
     "data": {
      "text/plain": [
       "(1159, 12)"
      ]
     },
     "execution_count": 41,
     "metadata": {},
     "output_type": "execute_result"
    }
   ],
   "source": [
    "car_test_2.shape"
   ]
  },
  {
   "cell_type": "code",
   "execution_count": 42,
   "metadata": {},
   "outputs": [],
   "source": [
    "car_test_2['Consumo']=car_test_2.Consumo.astype(str).str.partition()[0].astype('float')\n",
    "car_test_2['Motor_CC']=car_test_2.Motor_CC.astype(str).str.partition()[0].astype('int')\n",
    "car_test_2['Potencia']=car_test_2.Potencia.astype(str).str.partition()[0].astype('float')\n",
    "car_test_2['Asientos']=car_test_2.Asientos.astype('int')"
   ]
  },
  {
   "cell_type": "code",
   "execution_count": 43,
   "metadata": {},
   "outputs": [
    {
     "data": {
      "text/html": [
       "<div>\n",
       "<style scoped>\n",
       "    .dataframe tbody tr th:only-of-type {\n",
       "        vertical-align: middle;\n",
       "    }\n",
       "\n",
       "    .dataframe tbody tr th {\n",
       "        vertical-align: top;\n",
       "    }\n",
       "\n",
       "    .dataframe thead th {\n",
       "        text-align: right;\n",
       "    }\n",
       "</style>\n",
       "<table border=\"1\" class=\"dataframe\">\n",
       "  <thead>\n",
       "    <tr style=\"text-align: right;\">\n",
       "      <th></th>\n",
       "      <th>id</th>\n",
       "      <th>Nombre</th>\n",
       "      <th>Ciudad</th>\n",
       "      <th>Año</th>\n",
       "      <th>Kilometros</th>\n",
       "      <th>Combustible</th>\n",
       "      <th>Tipo_marchas</th>\n",
       "      <th>Mano</th>\n",
       "      <th>Consumo</th>\n",
       "      <th>Motor_CC</th>\n",
       "      <th>Potencia</th>\n",
       "      <th>Asientos</th>\n",
       "      <th>Company</th>\n",
       "    </tr>\n",
       "  </thead>\n",
       "  <tbody>\n",
       "    <tr>\n",
       "      <th>0</th>\n",
       "      <td>4820</td>\n",
       "      <td>Mercedes-Benz New C-Class C 220 CDI Avantgarde</td>\n",
       "      <td>H</td>\n",
       "      <td>2015</td>\n",
       "      <td>77771</td>\n",
       "      <td>Diesel</td>\n",
       "      <td>Automatic</td>\n",
       "      <td>First</td>\n",
       "      <td>19.27</td>\n",
       "      <td>2143</td>\n",
       "      <td>170.00</td>\n",
       "      <td>5</td>\n",
       "      <td>Mercedes-Benz</td>\n",
       "    </tr>\n",
       "    <tr>\n",
       "      <th>1</th>\n",
       "      <td>4821</td>\n",
       "      <td>Hyundai i10 Magna 1.1</td>\n",
       "      <td>J</td>\n",
       "      <td>2011</td>\n",
       "      <td>62000</td>\n",
       "      <td>Petrol</td>\n",
       "      <td>Manual</td>\n",
       "      <td>First</td>\n",
       "      <td>19.81</td>\n",
       "      <td>1086</td>\n",
       "      <td>68.05</td>\n",
       "      <td>5</td>\n",
       "      <td>Hyundai</td>\n",
       "    </tr>\n",
       "    <tr>\n",
       "      <th>2</th>\n",
       "      <td>4822</td>\n",
       "      <td>Ford Figo Diesel EXI</td>\n",
       "      <td>C</td>\n",
       "      <td>2010</td>\n",
       "      <td>129986</td>\n",
       "      <td>Diesel</td>\n",
       "      <td>Manual</td>\n",
       "      <td>Second</td>\n",
       "      <td>20.00</td>\n",
       "      <td>1399</td>\n",
       "      <td>68.00</td>\n",
       "      <td>5</td>\n",
       "      <td>Ford</td>\n",
       "    </tr>\n",
       "    <tr>\n",
       "      <th>3</th>\n",
       "      <td>4823</td>\n",
       "      <td>Maruti Swift Dzire VXI Optional</td>\n",
       "      <td>D</td>\n",
       "      <td>2015</td>\n",
       "      <td>49900</td>\n",
       "      <td>Petrol</td>\n",
       "      <td>Manual</td>\n",
       "      <td>First</td>\n",
       "      <td>20.85</td>\n",
       "      <td>1197</td>\n",
       "      <td>83.14</td>\n",
       "      <td>5</td>\n",
       "      <td>Maruti</td>\n",
       "    </tr>\n",
       "    <tr>\n",
       "      <th>4</th>\n",
       "      <td>4824</td>\n",
       "      <td>Maruti Ritz VXI</td>\n",
       "      <td>J</td>\n",
       "      <td>2010</td>\n",
       "      <td>75319</td>\n",
       "      <td>Petrol</td>\n",
       "      <td>Manual</td>\n",
       "      <td>Second</td>\n",
       "      <td>21.10</td>\n",
       "      <td>1197</td>\n",
       "      <td>85.80</td>\n",
       "      <td>5</td>\n",
       "      <td>Maruti</td>\n",
       "    </tr>\n",
       "  </tbody>\n",
       "</table>\n",
       "</div>"
      ],
      "text/plain": [
       "     id                                          Nombre Ciudad   Año  \\\n",
       "0  4820  Mercedes-Benz New C-Class C 220 CDI Avantgarde      H  2015   \n",
       "1  4821                           Hyundai i10 Magna 1.1      J  2011   \n",
       "2  4822                            Ford Figo Diesel EXI      C  2010   \n",
       "3  4823                 Maruti Swift Dzire VXI Optional      D  2015   \n",
       "4  4824                                 Maruti Ritz VXI      J  2010   \n",
       "\n",
       "   Kilometros Combustible Tipo_marchas    Mano  Consumo  Motor_CC  Potencia  \\\n",
       "0       77771      Diesel    Automatic   First    19.27      2143    170.00   \n",
       "1       62000      Petrol       Manual   First    19.81      1086     68.05   \n",
       "2      129986      Diesel       Manual  Second    20.00      1399     68.00   \n",
       "3       49900      Petrol       Manual   First    20.85      1197     83.14   \n",
       "4       75319      Petrol       Manual  Second    21.10      1197     85.80   \n",
       "\n",
       "   Asientos        Company  \n",
       "0         5  Mercedes-Benz  \n",
       "1         5        Hyundai  \n",
       "2         5           Ford  \n",
       "3         5         Maruti  \n",
       "4         5         Maruti  "
      ]
     },
     "execution_count": 43,
     "metadata": {},
     "output_type": "execute_result"
    }
   ],
   "source": [
    "part = car_test_2['Nombre'].str.partition()\n",
    "car_test_2['Company'] = part[0].str.title()\n",
    "car_test_2.head()"
   ]
  },
  {
   "cell_type": "code",
   "execution_count": 44,
   "metadata": {},
   "outputs": [],
   "source": [
    "car_test_2.replace({'First':1,'Second':2,'Third':3,'Fourth & Above':4},inplace = True)"
   ]
  },
  {
   "cell_type": "code",
   "execution_count": 45,
   "metadata": {},
   "outputs": [],
   "source": [
    "#as Transmission  is an nominal varible lets perform onehotencoding\n",
    "tipo_marchas = car_test_2[[\"Tipo_marchas\"]]\n",
    "tipo_marchas = pd.get_dummies(tipo_marchas,drop_first=True)\n",
    "\n",
    "# Location\n",
    "ciudad = car_test_2[[\"Ciudad\"]]\n",
    "ciudad = pd.get_dummies(ciudad,drop_first=True)\n",
    "\n",
    "#company\n",
    "company = car_test_2[[\"Company\"]]\n",
    "company = pd.get_dummies(company ,drop_first=True)\n",
    "\n",
    "#fuel_type\n",
    "combustible = car_test_2[[\"Combustible\"]]\n",
    "combustible = pd.get_dummies(combustible,drop_first=True)"
   ]
  },
  {
   "cell_type": "code",
   "execution_count": 46,
   "metadata": {},
   "outputs": [],
   "source": [
    "car_test_2 = pd.concat([car_test_2, company , ciudad , tipo_marchas, combustible ], axis = 1)"
   ]
  },
  {
   "cell_type": "code",
   "execution_count": 47,
   "metadata": {},
   "outputs": [],
   "source": [
    "car_test_2.drop(['Tipo_marchas', 'Ciudad', 'Company', 'Combustible', 'Nombre'], axis = 1, inplace = True)"
   ]
  },
  {
   "cell_type": "code",
   "execution_count": 48,
   "metadata": {},
   "outputs": [
    {
     "data": {
      "text/plain": [
       "(1159, 48)"
      ]
     },
     "execution_count": 48,
     "metadata": {},
     "output_type": "execute_result"
    }
   ],
   "source": [
    "car_test_2.shape"
   ]
  },
  {
   "cell_type": "code",
   "execution_count": 49,
   "metadata": {},
   "outputs": [
    {
     "data": {
      "text/html": [
       "<div>\n",
       "<style scoped>\n",
       "    .dataframe tbody tr th:only-of-type {\n",
       "        vertical-align: middle;\n",
       "    }\n",
       "\n",
       "    .dataframe tbody tr th {\n",
       "        vertical-align: top;\n",
       "    }\n",
       "\n",
       "    .dataframe thead th {\n",
       "        text-align: right;\n",
       "    }\n",
       "</style>\n",
       "<table border=\"1\" class=\"dataframe\">\n",
       "  <thead>\n",
       "    <tr style=\"text-align: right;\">\n",
       "      <th></th>\n",
       "      <th>id</th>\n",
       "      <th>Año</th>\n",
       "      <th>Kilometros</th>\n",
       "      <th>Mano</th>\n",
       "      <th>Consumo</th>\n",
       "      <th>Motor_CC</th>\n",
       "      <th>Potencia</th>\n",
       "      <th>Asientos</th>\n",
       "      <th>Company_Audi</th>\n",
       "      <th>Company_Bmw</th>\n",
       "      <th>...</th>\n",
       "      <th>Ciudad_G</th>\n",
       "      <th>Ciudad_H</th>\n",
       "      <th>Ciudad_I</th>\n",
       "      <th>Ciudad_J</th>\n",
       "      <th>Ciudad_K</th>\n",
       "      <th>Ciudad_L</th>\n",
       "      <th>Tipo_marchas_Manual</th>\n",
       "      <th>Combustible_Diesel</th>\n",
       "      <th>Combustible_LPG</th>\n",
       "      <th>Combustible_Petrol</th>\n",
       "    </tr>\n",
       "  </thead>\n",
       "  <tbody>\n",
       "    <tr>\n",
       "      <th>0</th>\n",
       "      <td>4820</td>\n",
       "      <td>2015</td>\n",
       "      <td>77771</td>\n",
       "      <td>1</td>\n",
       "      <td>19.27</td>\n",
       "      <td>2143</td>\n",
       "      <td>170.00</td>\n",
       "      <td>5</td>\n",
       "      <td>0</td>\n",
       "      <td>0</td>\n",
       "      <td>...</td>\n",
       "      <td>0</td>\n",
       "      <td>1</td>\n",
       "      <td>0</td>\n",
       "      <td>0</td>\n",
       "      <td>0</td>\n",
       "      <td>0</td>\n",
       "      <td>0</td>\n",
       "      <td>1</td>\n",
       "      <td>0</td>\n",
       "      <td>0</td>\n",
       "    </tr>\n",
       "    <tr>\n",
       "      <th>1</th>\n",
       "      <td>4821</td>\n",
       "      <td>2011</td>\n",
       "      <td>62000</td>\n",
       "      <td>1</td>\n",
       "      <td>19.81</td>\n",
       "      <td>1086</td>\n",
       "      <td>68.05</td>\n",
       "      <td>5</td>\n",
       "      <td>0</td>\n",
       "      <td>0</td>\n",
       "      <td>...</td>\n",
       "      <td>0</td>\n",
       "      <td>0</td>\n",
       "      <td>0</td>\n",
       "      <td>1</td>\n",
       "      <td>0</td>\n",
       "      <td>0</td>\n",
       "      <td>1</td>\n",
       "      <td>0</td>\n",
       "      <td>0</td>\n",
       "      <td>1</td>\n",
       "    </tr>\n",
       "    <tr>\n",
       "      <th>2</th>\n",
       "      <td>4822</td>\n",
       "      <td>2010</td>\n",
       "      <td>129986</td>\n",
       "      <td>2</td>\n",
       "      <td>20.00</td>\n",
       "      <td>1399</td>\n",
       "      <td>68.00</td>\n",
       "      <td>5</td>\n",
       "      <td>0</td>\n",
       "      <td>0</td>\n",
       "      <td>...</td>\n",
       "      <td>0</td>\n",
       "      <td>0</td>\n",
       "      <td>0</td>\n",
       "      <td>0</td>\n",
       "      <td>0</td>\n",
       "      <td>0</td>\n",
       "      <td>1</td>\n",
       "      <td>1</td>\n",
       "      <td>0</td>\n",
       "      <td>0</td>\n",
       "    </tr>\n",
       "    <tr>\n",
       "      <th>3</th>\n",
       "      <td>4823</td>\n",
       "      <td>2015</td>\n",
       "      <td>49900</td>\n",
       "      <td>1</td>\n",
       "      <td>20.85</td>\n",
       "      <td>1197</td>\n",
       "      <td>83.14</td>\n",
       "      <td>5</td>\n",
       "      <td>0</td>\n",
       "      <td>0</td>\n",
       "      <td>...</td>\n",
       "      <td>0</td>\n",
       "      <td>0</td>\n",
       "      <td>0</td>\n",
       "      <td>0</td>\n",
       "      <td>0</td>\n",
       "      <td>0</td>\n",
       "      <td>1</td>\n",
       "      <td>0</td>\n",
       "      <td>0</td>\n",
       "      <td>1</td>\n",
       "    </tr>\n",
       "    <tr>\n",
       "      <th>4</th>\n",
       "      <td>4824</td>\n",
       "      <td>2010</td>\n",
       "      <td>75319</td>\n",
       "      <td>2</td>\n",
       "      <td>21.10</td>\n",
       "      <td>1197</td>\n",
       "      <td>85.80</td>\n",
       "      <td>5</td>\n",
       "      <td>0</td>\n",
       "      <td>0</td>\n",
       "      <td>...</td>\n",
       "      <td>0</td>\n",
       "      <td>0</td>\n",
       "      <td>0</td>\n",
       "      <td>1</td>\n",
       "      <td>0</td>\n",
       "      <td>0</td>\n",
       "      <td>1</td>\n",
       "      <td>0</td>\n",
       "      <td>0</td>\n",
       "      <td>1</td>\n",
       "    </tr>\n",
       "  </tbody>\n",
       "</table>\n",
       "<p>5 rows × 48 columns</p>\n",
       "</div>"
      ],
      "text/plain": [
       "     id   Año  Kilometros  Mano  Consumo  Motor_CC  Potencia  Asientos  \\\n",
       "0  4820  2015       77771     1    19.27      2143    170.00         5   \n",
       "1  4821  2011       62000     1    19.81      1086     68.05         5   \n",
       "2  4822  2010      129986     2    20.00      1399     68.00         5   \n",
       "3  4823  2015       49900     1    20.85      1197     83.14         5   \n",
       "4  4824  2010       75319     2    21.10      1197     85.80         5   \n",
       "\n",
       "   Company_Audi  Company_Bmw  ...  Ciudad_G  Ciudad_H  Ciudad_I  Ciudad_J  \\\n",
       "0             0            0  ...         0         1         0         0   \n",
       "1             0            0  ...         0         0         0         1   \n",
       "2             0            0  ...         0         0         0         0   \n",
       "3             0            0  ...         0         0         0         0   \n",
       "4             0            0  ...         0         0         0         1   \n",
       "\n",
       "   Ciudad_K  Ciudad_L  Tipo_marchas_Manual  Combustible_Diesel  \\\n",
       "0         0         0                    0                   1   \n",
       "1         0         0                    1                   0   \n",
       "2         0         0                    1                   1   \n",
       "3         0         0                    1                   0   \n",
       "4         0         0                    1                   0   \n",
       "\n",
       "   Combustible_LPG  Combustible_Petrol  \n",
       "0                0                   0  \n",
       "1                0                   1  \n",
       "2                0                   0  \n",
       "3                0                   1  \n",
       "4                0                   1  \n",
       "\n",
       "[5 rows x 48 columns]"
      ]
     },
     "execution_count": 49,
     "metadata": {},
     "output_type": "execute_result"
    }
   ],
   "source": [
    "car_test_2.head()"
   ]
  },
  {
   "cell_type": "markdown",
   "metadata": {},
   "source": [
    "## Construimos modelo"
   ]
  },
  {
   "cell_type": "code",
   "execution_count": 50,
   "metadata": {},
   "outputs": [],
   "source": [
    "scoring = \"accuracy\"\n",
    "N_SPLITS = 5"
   ]
  },
  {
   "cell_type": "code",
   "execution_count": 51,
   "metadata": {},
   "outputs": [],
   "source": [
    "y = car_train_2['Precio_cat']\n",
    "X = car_train_2.drop('Precio_cat', axis=1)"
   ]
  },
  {
   "cell_type": "code",
   "execution_count": 52,
   "metadata": {},
   "outputs": [],
   "source": [
    "X_train, X_test, y_train, y_test = train_test_split(X, y, test_size = 0.2, random_state = 42)"
   ]
  },
  {
   "cell_type": "code",
   "execution_count": 53,
   "metadata": {},
   "outputs": [
    {
     "name": "stdout",
     "output_type": "stream",
     "text": [
      "KNeighborsClassifier\n",
      "\n",
      "cross_val_score:  0.5208110631640044 0.025726624988872678\n",
      "Accuracy on Training set:  0.6723863997457896\n",
      "Accuracy on Testing set:  0.5184243964421855\n",
      "\t\tError Table\n",
      "accuracy_score        :  0.5184243964421855\n",
      "f1_score macro        :  0.4152284754682144\n",
      "f1_score micro        :  0.5184243964421855\n",
      "precision_score macro :  0.43442669358695074\n",
      "precision_score micro :  0.5184243964421855\n",
      "recall_score macro.   :  0.40686305519257926\n",
      "recall_score micro.   :  0.5184243964421855\n",
      "\n",
      "DecisionTreeClassifier\n",
      "\n",
      "cross_val_score:  0.7629474853004264 0.00512547722349131\n",
      "Accuracy on Training set:  1.0\n",
      "Accuracy on Testing set:  0.758576874205845\n",
      "\t\tError Table\n",
      "accuracy_score        :  0.758576874205845\n",
      "f1_score macro        :  0.7197345857962494\n",
      "f1_score micro        :  0.758576874205845\n",
      "precision_score macro :  0.7189350100443005\n",
      "precision_score micro :  0.758576874205845\n",
      "recall_score macro.   :  0.7223409693884114\n",
      "recall_score micro.   :  0.758576874205845\n",
      "\n",
      "RandomForestClassifier\n",
      "\n",
      "cross_val_score:  0.8153723471370531 0.012904303116988675\n",
      "Accuracy on Training set:  1.0\n",
      "Accuracy on Testing set:  0.8259212198221093\n",
      "\t\tError Table\n",
      "accuracy_score        :  0.8259212198221093\n",
      "f1_score macro        :  0.7977961529084758\n",
      "f1_score micro        :  0.8259212198221093\n",
      "precision_score macro :  0.835862684143844\n",
      "precision_score micro :  0.8259212198221093\n",
      "recall_score macro.   :  0.7716222682830163\n",
      "recall_score micro.   :  0.8259212198221093\n",
      "\n",
      "ExtraTreesClassifier\n",
      "\n",
      "cross_val_score:  0.7978953743659626 0.011338538848084343\n",
      "Accuracy on Training set:  1.0\n",
      "Accuracy on Testing set:  0.7750952986022872\n",
      "\t\tError Table\n",
      "accuracy_score        :  0.7750952986022872\n",
      "f1_score macro        :  0.7420505376344086\n",
      "f1_score micro        :  0.7750952986022872\n",
      "precision_score macro :  0.7662086694434417\n",
      "precision_score micro :  0.7750952986022872\n",
      "recall_score macro.   :  0.7239010695102436\n",
      "recall_score micro.   :  0.7750952986022872\n",
      "\n",
      "AdaBoostClassifier\n",
      "\n",
      "cross_val_score:  0.657764150705327 0.045635487059228555\n",
      "Accuracy on Training set:  0.6765173180807118\n",
      "Accuracy on Testing set:  0.6925031766200762\n",
      "\t\tError Table\n",
      "accuracy_score        :  0.6925031766200762\n",
      "f1_score macro        :  0.6254370601561362\n",
      "f1_score micro        :  0.6925031766200762\n",
      "precision_score macro :  0.6876366773124344\n",
      "precision_score micro :  0.6925031766200762\n",
      "recall_score macro.   :  0.6302838998073789\n",
      "recall_score micro.   :  0.6925031766200762\n"
     ]
    }
   ],
   "source": [
    "classifier_models(X_train, X_test, y_train, y_test, scoring, N_SPLITS)"
   ]
  },
  {
   "cell_type": "code",
   "execution_count": 54,
   "metadata": {},
   "outputs": [],
   "source": [
    "# StandardScaler\n",
    "sc = StandardScaler()\n",
    "X_train_standard = sc.fit_transform(X_train)\n",
    "X_test_standard = sc.fit_transform(X_test)"
   ]
  },
  {
   "cell_type": "code",
   "execution_count": 55,
   "metadata": {},
   "outputs": [
    {
     "name": "stdout",
     "output_type": "stream",
     "text": [
      "KNeighborsClassifier\n",
      "\n",
      "cross_val_score:  0.6717470411588059 0.023181493321011853\n",
      "Accuracy on Training set:  0.7893231649189705\n",
      "Accuracy on Testing set:  0.6747141041931385\n",
      "\t\tError Table\n",
      "accuracy_score        :  0.6747141041931385\n",
      "f1_score macro        :  0.6012555890693456\n",
      "f1_score micro        :  0.6747141041931385\n",
      "precision_score macro :  0.6173544978858522\n",
      "precision_score micro :  0.6747141041931385\n",
      "recall_score macro.   :  0.5945291047702824\n",
      "recall_score micro.   :  0.6747141041931385\n",
      "\n",
      "DecisionTreeClassifier\n",
      "\n",
      "cross_val_score:  0.7629474853004264 0.00512547722349131\n",
      "Accuracy on Training set:  1.0\n",
      "Accuracy on Testing set:  0.7204574332909784\n",
      "\t\tError Table\n",
      "accuracy_score        :  0.7204574332909784\n",
      "f1_score macro        :  0.6871860803382714\n",
      "f1_score micro        :  0.7204574332909786\n",
      "precision_score macro :  0.6792695401655968\n",
      "precision_score micro :  0.7204574332909784\n",
      "recall_score macro.   :  0.7037605183121577\n",
      "recall_score micro.   :  0.7204574332909784\n",
      "\n",
      "RandomForestClassifier\n",
      "\n",
      "cross_val_score:  0.8147364170893583 0.01337891590839475\n",
      "Accuracy on Training set:  1.0\n",
      "Accuracy on Testing set:  0.8195679796696315\n",
      "\t\tError Table\n",
      "accuracy_score        :  0.8195679796696315\n",
      "f1_score macro        :  0.797489766970618\n",
      "f1_score micro        :  0.8195679796696315\n",
      "precision_score macro :  0.8252107511813224\n",
      "precision_score micro :  0.8195679796696315\n",
      "recall_score macro.   :  0.7768987776261296\n",
      "recall_score micro.   :  0.8195679796696315\n",
      "\n",
      "ExtraTreesClassifier\n",
      "\n",
      "cross_val_score:  0.7978953743659626 0.011338538848084343\n",
      "Accuracy on Training set:  1.0\n",
      "Accuracy on Testing set:  0.7903430749682337\n",
      "\t\tError Table\n",
      "accuracy_score        :  0.7903430749682337\n",
      "f1_score macro        :  0.7625384763532764\n",
      "f1_score micro        :  0.7903430749682339\n",
      "precision_score macro :  0.7774739681952273\n",
      "precision_score micro :  0.7903430749682337\n",
      "recall_score macro.   :  0.7505958053258308\n",
      "recall_score micro.   :  0.7903430749682337\n",
      "\n",
      "AdaBoostClassifier\n",
      "\n",
      "cross_val_score:  0.657764150705327 0.045635487059228555\n",
      "Accuracy on Training set:  0.6765173180807118\n",
      "Accuracy on Testing set:  0.6925031766200762\n",
      "\t\tError Table\n",
      "accuracy_score        :  0.6925031766200762\n",
      "f1_score macro        :  0.6244516079444138\n",
      "f1_score micro        :  0.6925031766200762\n",
      "precision_score macro :  0.6870501397093065\n",
      "precision_score micro :  0.6925031766200762\n",
      "recall_score macro.   :  0.6344613000843943\n",
      "recall_score micro.   :  0.6925031766200762\n"
     ]
    }
   ],
   "source": [
    "classifier_models(X_train_standard, X_test_standard, y_train, y_test, scoring, N_SPLITS)"
   ]
  },
  {
   "cell_type": "code",
   "execution_count": 56,
   "metadata": {},
   "outputs": [
    {
     "name": "stdout",
     "output_type": "stream",
     "text": [
      "\n",
      "SVM\n",
      "\n",
      "\n",
      "linear\n",
      "\n",
      "cross_val_score:  0.806150856739092 0.019253247472082756\n",
      "Accuracy on Training set:  0.8328566889100731\n",
      "Accuracy on Testing set:  0.843710292249047\n",
      "\t\tError Table\n",
      "accuracy_score        :  0.843710292249047\n",
      "f1_score macro        :  0.8347997678643893\n",
      "f1_score micro        :  0.843710292249047\n",
      "precision_score macro :  0.8409371996311711\n",
      "precision_score micro :  0.843710292249047\n",
      "recall_score macro.   :  0.829268521025103\n",
      "recall_score micro.   :  0.843710292249047\n",
      "\n",
      "poly\n",
      "\n",
      "cross_val_score:  0.6545880334115628 0.01259681449696551\n",
      "Accuracy on Training set:  0.732761360025421\n",
      "Accuracy on Testing set:  0.6607369758576874\n",
      "\t\tError Table\n",
      "accuracy_score        :  0.6607369758576874\n",
      "f1_score macro        :  0.5392684975378479\n",
      "f1_score micro        :  0.6607369758576874\n",
      "precision_score macro :  0.69419403755054\n",
      "precision_score micro :  0.6607369758576874\n",
      "recall_score macro.   :  0.5065734939770306\n",
      "recall_score micro.   :  0.6607369758576874\n",
      "\n",
      "rbf\n",
      "\n",
      "cross_val_score:  0.7820122643652055 0.012030991261357725\n",
      "Accuracy on Training set:  0.8535112805846838\n",
      "Accuracy on Testing set:  0.7992376111817027\n",
      "\t\tError Table\n",
      "accuracy_score        :  0.7992376111817027\n",
      "f1_score macro        :  0.7560361577500336\n",
      "f1_score micro        :  0.7992376111817026\n",
      "precision_score macro :  0.8142404170657777\n",
      "precision_score micro :  0.7992376111817027\n",
      "recall_score macro.   :  0.7197475303782371\n",
      "recall_score micro.   :  0.7992376111817027\n",
      "\n",
      "sigmoid\n",
      "\n",
      "cross_val_score:  0.7594453276806218 0.013384445279037486\n",
      "Accuracy on Training set:  0.7502383222116301\n",
      "Accuracy on Testing set:  0.772554002541296\n",
      "\t\tError Table\n",
      "accuracy_score        :  0.772554002541296\n",
      "f1_score macro        :  0.7502513801421962\n",
      "f1_score micro        :  0.772554002541296\n",
      "precision_score macro :  0.7858642699374517\n",
      "precision_score micro :  0.772554002541296\n",
      "recall_score macro.   :  0.7276325057365457\n",
      "recall_score micro.   :  0.772554002541296\n"
     ]
    }
   ],
   "source": [
    "svm_models(X_train_standard, X_test_standard, y_train, y_test, scoring, N_SPLITS)"
   ]
  },
  {
   "cell_type": "markdown",
   "metadata": {},
   "source": [
    "Profundizamos sobre los que han conseguido mejores puntuaciones"
   ]
  },
  {
   "cell_type": "markdown",
   "metadata": {},
   "source": [
    "### Best Random Forest Classifier"
   ]
  },
  {
   "cell_type": "code",
   "execution_count": 57,
   "metadata": {},
   "outputs": [],
   "source": [
    "#Randomized Search CV\n",
    "\n",
    "# Number of trees in random forest\n",
    "n_estimators = [int(x) for x in np.linspace(start = 100, stop = 1200, num = 12)]\n",
    "# Number of features to consider at every split\n",
    "max_features = ['auto', 'sqrt']\n",
    "# Maximum number of levels in tree\n",
    "max_depth = [int(x) for x in np.linspace(5, 30, num = 6)]\n",
    "# Minimum number of samples required to split a node\n",
    "min_samples_split = [2, 5, 10, 15, 100]\n",
    "# Minimum number of samples required at each leaf node\n",
    "min_samples_leaf = [1, 2, 5, 10]"
   ]
  },
  {
   "cell_type": "code",
   "execution_count": 58,
   "metadata": {},
   "outputs": [],
   "source": [
    "# Create the random grid\n",
    "\n",
    "random_grid = {'n_estimators': n_estimators,\n",
    "               'max_features': max_features,\n",
    "               'max_depth': max_depth,\n",
    "               'min_samples_split': min_samples_split,\n",
    "               'min_samples_leaf': min_samples_leaf}"
   ]
  },
  {
   "cell_type": "code",
   "execution_count": 59,
   "metadata": {},
   "outputs": [],
   "source": [
    "# search across 100 different combinations\n",
    "rf_random = RandomizedSearchCV(estimator = RandomForestClassifier(), \n",
    "                               param_distributions = random_grid, \n",
    "                               scoring=scoring, \n",
    "                               n_iter = 15, cv = 5, verbose=2, random_state=42, n_jobs = 1)"
   ]
  },
  {
   "cell_type": "code",
   "execution_count": 60,
   "metadata": {},
   "outputs": [
    {
     "name": "stdout",
     "output_type": "stream",
     "text": [
      "Fitting 5 folds for each of 25 candidates, totalling 125 fits\n",
      "[CV] n_estimators=900, min_samples_split=5, min_samples_leaf=5, max_features=sqrt, max_depth=10 \n"
     ]
    },
    {
     "name": "stderr",
     "output_type": "stream",
     "text": [
      "[Parallel(n_jobs=1)]: Using backend SequentialBackend with 1 concurrent workers.\n"
     ]
    },
    {
     "name": "stdout",
     "output_type": "stream",
     "text": [
      "[CV]  n_estimators=900, min_samples_split=5, min_samples_leaf=5, max_features=sqrt, max_depth=10, total=   1.8s\n",
      "[CV] n_estimators=900, min_samples_split=5, min_samples_leaf=5, max_features=sqrt, max_depth=10 \n"
     ]
    },
    {
     "name": "stderr",
     "output_type": "stream",
     "text": [
      "[Parallel(n_jobs=1)]: Done   1 out of   1 | elapsed:    1.8s remaining:    0.0s\n"
     ]
    },
    {
     "name": "stdout",
     "output_type": "stream",
     "text": [
      "[CV]  n_estimators=900, min_samples_split=5, min_samples_leaf=5, max_features=sqrt, max_depth=10, total=   1.8s\n",
      "[CV] n_estimators=900, min_samples_split=5, min_samples_leaf=5, max_features=sqrt, max_depth=10 \n",
      "[CV]  n_estimators=900, min_samples_split=5, min_samples_leaf=5, max_features=sqrt, max_depth=10, total=   1.7s\n",
      "[CV] n_estimators=900, min_samples_split=5, min_samples_leaf=5, max_features=sqrt, max_depth=10 \n",
      "[CV]  n_estimators=900, min_samples_split=5, min_samples_leaf=5, max_features=sqrt, max_depth=10, total=   1.7s\n",
      "[CV] n_estimators=900, min_samples_split=5, min_samples_leaf=5, max_features=sqrt, max_depth=10 \n",
      "[CV]  n_estimators=900, min_samples_split=5, min_samples_leaf=5, max_features=sqrt, max_depth=10, total=   1.7s\n",
      "[CV] n_estimators=1100, min_samples_split=10, min_samples_leaf=2, max_features=sqrt, max_depth=15 \n",
      "[CV]  n_estimators=1100, min_samples_split=10, min_samples_leaf=2, max_features=sqrt, max_depth=15, total=   2.8s\n",
      "[CV] n_estimators=1100, min_samples_split=10, min_samples_leaf=2, max_features=sqrt, max_depth=15 \n",
      "[CV]  n_estimators=1100, min_samples_split=10, min_samples_leaf=2, max_features=sqrt, max_depth=15, total=   3.2s\n",
      "[CV] n_estimators=1100, min_samples_split=10, min_samples_leaf=2, max_features=sqrt, max_depth=15 \n",
      "[CV]  n_estimators=1100, min_samples_split=10, min_samples_leaf=2, max_features=sqrt, max_depth=15, total=   3.3s\n",
      "[CV] n_estimators=1100, min_samples_split=10, min_samples_leaf=2, max_features=sqrt, max_depth=15 \n",
      "[CV]  n_estimators=1100, min_samples_split=10, min_samples_leaf=2, max_features=sqrt, max_depth=15, total=   3.0s\n",
      "[CV] n_estimators=1100, min_samples_split=10, min_samples_leaf=2, max_features=sqrt, max_depth=15 \n",
      "[CV]  n_estimators=1100, min_samples_split=10, min_samples_leaf=2, max_features=sqrt, max_depth=15, total=   4.8s\n",
      "[CV] n_estimators=300, min_samples_split=100, min_samples_leaf=5, max_features=auto, max_depth=15 \n",
      "[CV]  n_estimators=300, min_samples_split=100, min_samples_leaf=5, max_features=auto, max_depth=15, total=   1.0s\n",
      "[CV] n_estimators=300, min_samples_split=100, min_samples_leaf=5, max_features=auto, max_depth=15 \n",
      "[CV]  n_estimators=300, min_samples_split=100, min_samples_leaf=5, max_features=auto, max_depth=15, total=   1.6s\n",
      "[CV] n_estimators=300, min_samples_split=100, min_samples_leaf=5, max_features=auto, max_depth=15 \n",
      "[CV]  n_estimators=300, min_samples_split=100, min_samples_leaf=5, max_features=auto, max_depth=15, total=   1.5s\n",
      "[CV] n_estimators=300, min_samples_split=100, min_samples_leaf=5, max_features=auto, max_depth=15 \n",
      "[CV]  n_estimators=300, min_samples_split=100, min_samples_leaf=5, max_features=auto, max_depth=15, total=   1.5s\n",
      "[CV] n_estimators=300, min_samples_split=100, min_samples_leaf=5, max_features=auto, max_depth=15 \n",
      "[CV]  n_estimators=300, min_samples_split=100, min_samples_leaf=5, max_features=auto, max_depth=15, total=   1.1s\n",
      "[CV] n_estimators=400, min_samples_split=5, min_samples_leaf=5, max_features=auto, max_depth=15 \n",
      "[CV]  n_estimators=400, min_samples_split=5, min_samples_leaf=5, max_features=auto, max_depth=15, total=   1.6s\n",
      "[CV] n_estimators=400, min_samples_split=5, min_samples_leaf=5, max_features=auto, max_depth=15 \n",
      "[CV]  n_estimators=400, min_samples_split=5, min_samples_leaf=5, max_features=auto, max_depth=15, total=   2.0s\n",
      "[CV] n_estimators=400, min_samples_split=5, min_samples_leaf=5, max_features=auto, max_depth=15 \n",
      "[CV]  n_estimators=400, min_samples_split=5, min_samples_leaf=5, max_features=auto, max_depth=15, total=   3.3s\n",
      "[CV] n_estimators=400, min_samples_split=5, min_samples_leaf=5, max_features=auto, max_depth=15 \n",
      "[CV]  n_estimators=400, min_samples_split=5, min_samples_leaf=5, max_features=auto, max_depth=15, total=   2.2s\n",
      "[CV] n_estimators=400, min_samples_split=5, min_samples_leaf=5, max_features=auto, max_depth=15 \n",
      "[CV]  n_estimators=400, min_samples_split=5, min_samples_leaf=5, max_features=auto, max_depth=15, total=   2.0s\n",
      "[CV] n_estimators=700, min_samples_split=5, min_samples_leaf=10, max_features=auto, max_depth=20 \n",
      "[CV]  n_estimators=700, min_samples_split=5, min_samples_leaf=10, max_features=auto, max_depth=20, total=   2.1s\n",
      "[CV] n_estimators=700, min_samples_split=5, min_samples_leaf=10, max_features=auto, max_depth=20 \n",
      "[CV]  n_estimators=700, min_samples_split=5, min_samples_leaf=10, max_features=auto, max_depth=20, total=   2.0s\n",
      "[CV] n_estimators=700, min_samples_split=5, min_samples_leaf=10, max_features=auto, max_depth=20 \n",
      "[CV]  n_estimators=700, min_samples_split=5, min_samples_leaf=10, max_features=auto, max_depth=20, total=   1.8s\n",
      "[CV] n_estimators=700, min_samples_split=5, min_samples_leaf=10, max_features=auto, max_depth=20 \n",
      "[CV]  n_estimators=700, min_samples_split=5, min_samples_leaf=10, max_features=auto, max_depth=20, total=   2.2s\n",
      "[CV] n_estimators=700, min_samples_split=5, min_samples_leaf=10, max_features=auto, max_depth=20 \n",
      "[CV]  n_estimators=700, min_samples_split=5, min_samples_leaf=10, max_features=auto, max_depth=20, total=   2.7s\n",
      "[CV] n_estimators=1000, min_samples_split=2, min_samples_leaf=1, max_features=sqrt, max_depth=25 \n",
      "[CV]  n_estimators=1000, min_samples_split=2, min_samples_leaf=1, max_features=sqrt, max_depth=25, total=   4.2s\n",
      "[CV] n_estimators=1000, min_samples_split=2, min_samples_leaf=1, max_features=sqrt, max_depth=25 \n",
      "[CV]  n_estimators=1000, min_samples_split=2, min_samples_leaf=1, max_features=sqrt, max_depth=25, total=   4.2s\n",
      "[CV] n_estimators=1000, min_samples_split=2, min_samples_leaf=1, max_features=sqrt, max_depth=25 \n",
      "[CV]  n_estimators=1000, min_samples_split=2, min_samples_leaf=1, max_features=sqrt, max_depth=25, total=   3.7s\n",
      "[CV] n_estimators=1000, min_samples_split=2, min_samples_leaf=1, max_features=sqrt, max_depth=25 \n",
      "[CV]  n_estimators=1000, min_samples_split=2, min_samples_leaf=1, max_features=sqrt, max_depth=25, total=   3.6s\n",
      "[CV] n_estimators=1000, min_samples_split=2, min_samples_leaf=1, max_features=sqrt, max_depth=25 \n",
      "[CV]  n_estimators=1000, min_samples_split=2, min_samples_leaf=1, max_features=sqrt, max_depth=25, total=   4.0s\n",
      "[CV] n_estimators=1100, min_samples_split=15, min_samples_leaf=10, max_features=sqrt, max_depth=5 \n",
      "[CV]  n_estimators=1100, min_samples_split=15, min_samples_leaf=10, max_features=sqrt, max_depth=5, total=   2.2s\n",
      "[CV] n_estimators=1100, min_samples_split=15, min_samples_leaf=10, max_features=sqrt, max_depth=5 \n",
      "[CV]  n_estimators=1100, min_samples_split=15, min_samples_leaf=10, max_features=sqrt, max_depth=5, total=   2.3s\n",
      "[CV] n_estimators=1100, min_samples_split=15, min_samples_leaf=10, max_features=sqrt, max_depth=5 \n",
      "[CV]  n_estimators=1100, min_samples_split=15, min_samples_leaf=10, max_features=sqrt, max_depth=5, total=   2.5s\n",
      "[CV] n_estimators=1100, min_samples_split=15, min_samples_leaf=10, max_features=sqrt, max_depth=5 \n",
      "[CV]  n_estimators=1100, min_samples_split=15, min_samples_leaf=10, max_features=sqrt, max_depth=5, total=   3.3s\n",
      "[CV] n_estimators=1100, min_samples_split=15, min_samples_leaf=10, max_features=sqrt, max_depth=5 \n",
      "[CV]  n_estimators=1100, min_samples_split=15, min_samples_leaf=10, max_features=sqrt, max_depth=5, total=   2.6s\n",
      "[CV] n_estimators=300, min_samples_split=15, min_samples_leaf=1, max_features=sqrt, max_depth=15 \n",
      "[CV]  n_estimators=300, min_samples_split=15, min_samples_leaf=1, max_features=sqrt, max_depth=15, total=   0.9s\n",
      "[CV] n_estimators=300, min_samples_split=15, min_samples_leaf=1, max_features=sqrt, max_depth=15 \n",
      "[CV]  n_estimators=300, min_samples_split=15, min_samples_leaf=1, max_features=sqrt, max_depth=15, total=   0.8s\n",
      "[CV] n_estimators=300, min_samples_split=15, min_samples_leaf=1, max_features=sqrt, max_depth=15 \n",
      "[CV]  n_estimators=300, min_samples_split=15, min_samples_leaf=1, max_features=sqrt, max_depth=15, total=   0.8s\n",
      "[CV] n_estimators=300, min_samples_split=15, min_samples_leaf=1, max_features=sqrt, max_depth=15 \n",
      "[CV]  n_estimators=300, min_samples_split=15, min_samples_leaf=1, max_features=sqrt, max_depth=15, total=   1.0s\n",
      "[CV] n_estimators=300, min_samples_split=15, min_samples_leaf=1, max_features=sqrt, max_depth=15 \n",
      "[CV]  n_estimators=300, min_samples_split=15, min_samples_leaf=1, max_features=sqrt, max_depth=15, total=   1.0s\n",
      "[CV] n_estimators=700, min_samples_split=10, min_samples_leaf=2, max_features=sqrt, max_depth=5 \n"
     ]
    },
    {
     "name": "stdout",
     "output_type": "stream",
     "text": [
      "[CV]  n_estimators=700, min_samples_split=10, min_samples_leaf=2, max_features=sqrt, max_depth=5, total=   1.8s\n",
      "[CV] n_estimators=700, min_samples_split=10, min_samples_leaf=2, max_features=sqrt, max_depth=5 \n",
      "[CV]  n_estimators=700, min_samples_split=10, min_samples_leaf=2, max_features=sqrt, max_depth=5, total=   2.2s\n",
      "[CV] n_estimators=700, min_samples_split=10, min_samples_leaf=2, max_features=sqrt, max_depth=5 \n",
      "[CV]  n_estimators=700, min_samples_split=10, min_samples_leaf=2, max_features=sqrt, max_depth=5, total=   2.0s\n",
      "[CV] n_estimators=700, min_samples_split=10, min_samples_leaf=2, max_features=sqrt, max_depth=5 \n",
      "[CV]  n_estimators=700, min_samples_split=10, min_samples_leaf=2, max_features=sqrt, max_depth=5, total=   2.5s\n",
      "[CV] n_estimators=700, min_samples_split=10, min_samples_leaf=2, max_features=sqrt, max_depth=5 \n",
      "[CV]  n_estimators=700, min_samples_split=10, min_samples_leaf=2, max_features=sqrt, max_depth=5, total=   1.6s\n",
      "[CV] n_estimators=700, min_samples_split=15, min_samples_leaf=1, max_features=auto, max_depth=20 \n",
      "[CV]  n_estimators=700, min_samples_split=15, min_samples_leaf=1, max_features=auto, max_depth=20, total=   2.2s\n",
      "[CV] n_estimators=700, min_samples_split=15, min_samples_leaf=1, max_features=auto, max_depth=20 \n",
      "[CV]  n_estimators=700, min_samples_split=15, min_samples_leaf=1, max_features=auto, max_depth=20, total=   2.1s\n",
      "[CV] n_estimators=700, min_samples_split=15, min_samples_leaf=1, max_features=auto, max_depth=20 \n",
      "[CV]  n_estimators=700, min_samples_split=15, min_samples_leaf=1, max_features=auto, max_depth=20, total=   2.0s\n",
      "[CV] n_estimators=700, min_samples_split=15, min_samples_leaf=1, max_features=auto, max_depth=20 \n",
      "[CV]  n_estimators=700, min_samples_split=15, min_samples_leaf=1, max_features=auto, max_depth=20, total=   2.2s\n",
      "[CV] n_estimators=700, min_samples_split=15, min_samples_leaf=1, max_features=auto, max_depth=20 \n",
      "[CV]  n_estimators=700, min_samples_split=15, min_samples_leaf=1, max_features=auto, max_depth=20, total=   3.0s\n",
      "[CV] n_estimators=1200, min_samples_split=10, min_samples_leaf=10, max_features=auto, max_depth=25 \n",
      "[CV]  n_estimators=1200, min_samples_split=10, min_samples_leaf=10, max_features=auto, max_depth=25, total=   3.5s\n",
      "[CV] n_estimators=1200, min_samples_split=10, min_samples_leaf=10, max_features=auto, max_depth=25 \n",
      "[CV]  n_estimators=1200, min_samples_split=10, min_samples_leaf=10, max_features=auto, max_depth=25, total=   3.0s\n",
      "[CV] n_estimators=1200, min_samples_split=10, min_samples_leaf=10, max_features=auto, max_depth=25 \n",
      "[CV]  n_estimators=1200, min_samples_split=10, min_samples_leaf=10, max_features=auto, max_depth=25, total=   3.4s\n",
      "[CV] n_estimators=1200, min_samples_split=10, min_samples_leaf=10, max_features=auto, max_depth=25 \n",
      "[CV]  n_estimators=1200, min_samples_split=10, min_samples_leaf=10, max_features=auto, max_depth=25, total=   3.1s\n",
      "[CV] n_estimators=1200, min_samples_split=10, min_samples_leaf=10, max_features=auto, max_depth=25 \n",
      "[CV]  n_estimators=1200, min_samples_split=10, min_samples_leaf=10, max_features=auto, max_depth=25, total=   2.9s\n",
      "[CV] n_estimators=1100, min_samples_split=2, min_samples_leaf=5, max_features=auto, max_depth=5 \n",
      "[CV]  n_estimators=1100, min_samples_split=2, min_samples_leaf=5, max_features=auto, max_depth=5, total=   2.3s\n",
      "[CV] n_estimators=1100, min_samples_split=2, min_samples_leaf=5, max_features=auto, max_depth=5 \n",
      "[CV]  n_estimators=1100, min_samples_split=2, min_samples_leaf=5, max_features=auto, max_depth=5, total=   2.5s\n",
      "[CV] n_estimators=1100, min_samples_split=2, min_samples_leaf=5, max_features=auto, max_depth=5 \n",
      "[CV]  n_estimators=1100, min_samples_split=2, min_samples_leaf=5, max_features=auto, max_depth=5, total=   2.6s\n",
      "[CV] n_estimators=1100, min_samples_split=2, min_samples_leaf=5, max_features=auto, max_depth=5 \n",
      "[CV]  n_estimators=1100, min_samples_split=2, min_samples_leaf=5, max_features=auto, max_depth=5, total=   2.6s\n",
      "[CV] n_estimators=1100, min_samples_split=2, min_samples_leaf=5, max_features=auto, max_depth=5 \n",
      "[CV]  n_estimators=1100, min_samples_split=2, min_samples_leaf=5, max_features=auto, max_depth=5, total=   5.3s\n",
      "[CV] n_estimators=600, min_samples_split=2, min_samples_leaf=1, max_features=sqrt, max_depth=20 \n",
      "[CV]  n_estimators=600, min_samples_split=2, min_samples_leaf=1, max_features=sqrt, max_depth=20, total=   2.7s\n",
      "[CV] n_estimators=600, min_samples_split=2, min_samples_leaf=1, max_features=sqrt, max_depth=20 \n",
      "[CV]  n_estimators=600, min_samples_split=2, min_samples_leaf=1, max_features=sqrt, max_depth=20, total=   2.3s\n",
      "[CV] n_estimators=600, min_samples_split=2, min_samples_leaf=1, max_features=sqrt, max_depth=20 \n",
      "[CV]  n_estimators=600, min_samples_split=2, min_samples_leaf=1, max_features=sqrt, max_depth=20, total=   2.3s\n",
      "[CV] n_estimators=600, min_samples_split=2, min_samples_leaf=1, max_features=sqrt, max_depth=20 \n",
      "[CV]  n_estimators=600, min_samples_split=2, min_samples_leaf=1, max_features=sqrt, max_depth=20, total=   2.2s\n",
      "[CV] n_estimators=600, min_samples_split=2, min_samples_leaf=1, max_features=sqrt, max_depth=20 \n",
      "[CV]  n_estimators=600, min_samples_split=2, min_samples_leaf=1, max_features=sqrt, max_depth=20, total=   2.3s\n",
      "[CV] n_estimators=200, min_samples_split=100, min_samples_leaf=1, max_features=sqrt, max_depth=10 \n",
      "[CV]  n_estimators=200, min_samples_split=100, min_samples_leaf=1, max_features=sqrt, max_depth=10, total=   0.5s\n",
      "[CV] n_estimators=200, min_samples_split=100, min_samples_leaf=1, max_features=sqrt, max_depth=10 \n",
      "[CV]  n_estimators=200, min_samples_split=100, min_samples_leaf=1, max_features=sqrt, max_depth=10, total=   0.5s\n",
      "[CV] n_estimators=200, min_samples_split=100, min_samples_leaf=1, max_features=sqrt, max_depth=10 \n",
      "[CV]  n_estimators=200, min_samples_split=100, min_samples_leaf=1, max_features=sqrt, max_depth=10, total=   0.5s\n",
      "[CV] n_estimators=200, min_samples_split=100, min_samples_leaf=1, max_features=sqrt, max_depth=10 \n",
      "[CV]  n_estimators=200, min_samples_split=100, min_samples_leaf=1, max_features=sqrt, max_depth=10, total=   0.6s\n",
      "[CV] n_estimators=200, min_samples_split=100, min_samples_leaf=1, max_features=sqrt, max_depth=10 \n",
      "[CV]  n_estimators=200, min_samples_split=100, min_samples_leaf=1, max_features=sqrt, max_depth=10, total=   0.5s\n",
      "[CV] n_estimators=400, min_samples_split=100, min_samples_leaf=10, max_features=sqrt, max_depth=25 \n",
      "[CV]  n_estimators=400, min_samples_split=100, min_samples_leaf=10, max_features=sqrt, max_depth=25, total=   1.0s\n",
      "[CV] n_estimators=400, min_samples_split=100, min_samples_leaf=10, max_features=sqrt, max_depth=25 \n",
      "[CV]  n_estimators=400, min_samples_split=100, min_samples_leaf=10, max_features=sqrt, max_depth=25, total=   1.1s\n",
      "[CV] n_estimators=400, min_samples_split=100, min_samples_leaf=10, max_features=sqrt, max_depth=25 \n",
      "[CV]  n_estimators=400, min_samples_split=100, min_samples_leaf=10, max_features=sqrt, max_depth=25, total=   1.1s\n",
      "[CV] n_estimators=400, min_samples_split=100, min_samples_leaf=10, max_features=sqrt, max_depth=25 \n",
      "[CV]  n_estimators=400, min_samples_split=100, min_samples_leaf=10, max_features=sqrt, max_depth=25, total=   1.0s\n",
      "[CV] n_estimators=400, min_samples_split=100, min_samples_leaf=10, max_features=sqrt, max_depth=25 \n",
      "[CV]  n_estimators=400, min_samples_split=100, min_samples_leaf=10, max_features=sqrt, max_depth=25, total=   1.0s\n",
      "[CV] n_estimators=400, min_samples_split=5, min_samples_leaf=2, max_features=auto, max_depth=20 \n",
      "[CV]  n_estimators=400, min_samples_split=5, min_samples_leaf=2, max_features=auto, max_depth=20, total=   1.3s\n",
      "[CV] n_estimators=400, min_samples_split=5, min_samples_leaf=2, max_features=auto, max_depth=20 \n",
      "[CV]  n_estimators=400, min_samples_split=5, min_samples_leaf=2, max_features=auto, max_depth=20, total=   1.3s\n",
      "[CV] n_estimators=400, min_samples_split=5, min_samples_leaf=2, max_features=auto, max_depth=20 \n",
      "[CV]  n_estimators=400, min_samples_split=5, min_samples_leaf=2, max_features=auto, max_depth=20, total=   1.4s\n",
      "[CV] n_estimators=400, min_samples_split=5, min_samples_leaf=2, max_features=auto, max_depth=20 \n",
      "[CV]  n_estimators=400, min_samples_split=5, min_samples_leaf=2, max_features=auto, max_depth=20, total=   1.3s\n",
      "[CV] n_estimators=400, min_samples_split=5, min_samples_leaf=2, max_features=auto, max_depth=20 \n"
     ]
    },
    {
     "name": "stdout",
     "output_type": "stream",
     "text": [
      "[CV]  n_estimators=400, min_samples_split=5, min_samples_leaf=2, max_features=auto, max_depth=20, total=   2.2s\n",
      "[CV] n_estimators=1000, min_samples_split=10, min_samples_leaf=10, max_features=sqrt, max_depth=30 \n",
      "[CV]  n_estimators=1000, min_samples_split=10, min_samples_leaf=10, max_features=sqrt, max_depth=30, total=   3.3s\n",
      "[CV] n_estimators=1000, min_samples_split=10, min_samples_leaf=10, max_features=sqrt, max_depth=30 \n",
      "[CV]  n_estimators=1000, min_samples_split=10, min_samples_leaf=10, max_features=sqrt, max_depth=30, total=   2.5s\n",
      "[CV] n_estimators=1000, min_samples_split=10, min_samples_leaf=10, max_features=sqrt, max_depth=30 \n",
      "[CV]  n_estimators=1000, min_samples_split=10, min_samples_leaf=10, max_features=sqrt, max_depth=30, total=   2.8s\n",
      "[CV] n_estimators=1000, min_samples_split=10, min_samples_leaf=10, max_features=sqrt, max_depth=30 \n",
      "[CV]  n_estimators=1000, min_samples_split=10, min_samples_leaf=10, max_features=sqrt, max_depth=30, total=   2.8s\n",
      "[CV] n_estimators=1000, min_samples_split=10, min_samples_leaf=10, max_features=sqrt, max_depth=30 \n",
      "[CV]  n_estimators=1000, min_samples_split=10, min_samples_leaf=10, max_features=sqrt, max_depth=30, total=   2.6s\n",
      "[CV] n_estimators=1000, min_samples_split=10, min_samples_leaf=1, max_features=auto, max_depth=30 \n",
      "[CV]  n_estimators=1000, min_samples_split=10, min_samples_leaf=1, max_features=auto, max_depth=30, total=   3.4s\n",
      "[CV] n_estimators=1000, min_samples_split=10, min_samples_leaf=1, max_features=auto, max_depth=30 \n",
      "[CV]  n_estimators=1000, min_samples_split=10, min_samples_leaf=1, max_features=auto, max_depth=30, total=   3.0s\n",
      "[CV] n_estimators=1000, min_samples_split=10, min_samples_leaf=1, max_features=auto, max_depth=30 \n",
      "[CV]  n_estimators=1000, min_samples_split=10, min_samples_leaf=1, max_features=auto, max_depth=30, total=   2.7s\n",
      "[CV] n_estimators=1000, min_samples_split=10, min_samples_leaf=1, max_features=auto, max_depth=30 \n",
      "[CV]  n_estimators=1000, min_samples_split=10, min_samples_leaf=1, max_features=auto, max_depth=30, total=   2.5s\n",
      "[CV] n_estimators=1000, min_samples_split=10, min_samples_leaf=1, max_features=auto, max_depth=30 \n",
      "[CV]  n_estimators=1000, min_samples_split=10, min_samples_leaf=1, max_features=auto, max_depth=30, total=   3.7s\n",
      "[CV] n_estimators=400, min_samples_split=5, min_samples_leaf=1, max_features=sqrt, max_depth=15 \n",
      "[CV]  n_estimators=400, min_samples_split=5, min_samples_leaf=1, max_features=sqrt, max_depth=15, total=   1.5s\n",
      "[CV] n_estimators=400, min_samples_split=5, min_samples_leaf=1, max_features=sqrt, max_depth=15 \n",
      "[CV]  n_estimators=400, min_samples_split=5, min_samples_leaf=1, max_features=sqrt, max_depth=15, total=   1.3s\n",
      "[CV] n_estimators=400, min_samples_split=5, min_samples_leaf=1, max_features=sqrt, max_depth=15 \n",
      "[CV]  n_estimators=400, min_samples_split=5, min_samples_leaf=1, max_features=sqrt, max_depth=15, total=   2.0s\n",
      "[CV] n_estimators=400, min_samples_split=5, min_samples_leaf=1, max_features=sqrt, max_depth=15 \n",
      "[CV]  n_estimators=400, min_samples_split=5, min_samples_leaf=1, max_features=sqrt, max_depth=15, total=   1.8s\n",
      "[CV] n_estimators=400, min_samples_split=5, min_samples_leaf=1, max_features=sqrt, max_depth=15 \n",
      "[CV]  n_estimators=400, min_samples_split=5, min_samples_leaf=1, max_features=sqrt, max_depth=15, total=   1.8s\n",
      "[CV] n_estimators=800, min_samples_split=100, min_samples_leaf=10, max_features=sqrt, max_depth=10 \n",
      "[CV]  n_estimators=800, min_samples_split=100, min_samples_leaf=10, max_features=sqrt, max_depth=10, total=   1.7s\n",
      "[CV] n_estimators=800, min_samples_split=100, min_samples_leaf=10, max_features=sqrt, max_depth=10 \n",
      "[CV]  n_estimators=800, min_samples_split=100, min_samples_leaf=10, max_features=sqrt, max_depth=10, total=   1.6s\n",
      "[CV] n_estimators=800, min_samples_split=100, min_samples_leaf=10, max_features=sqrt, max_depth=10 \n",
      "[CV]  n_estimators=800, min_samples_split=100, min_samples_leaf=10, max_features=sqrt, max_depth=10, total=   1.6s\n",
      "[CV] n_estimators=800, min_samples_split=100, min_samples_leaf=10, max_features=sqrt, max_depth=10 \n",
      "[CV]  n_estimators=800, min_samples_split=100, min_samples_leaf=10, max_features=sqrt, max_depth=10, total=   1.6s\n",
      "[CV] n_estimators=800, min_samples_split=100, min_samples_leaf=10, max_features=sqrt, max_depth=10 \n",
      "[CV]  n_estimators=800, min_samples_split=100, min_samples_leaf=10, max_features=sqrt, max_depth=10, total=   2.5s\n",
      "[CV] n_estimators=900, min_samples_split=15, min_samples_leaf=5, max_features=sqrt, max_depth=25 \n",
      "[CV]  n_estimators=900, min_samples_split=15, min_samples_leaf=5, max_features=sqrt, max_depth=25, total=   2.2s\n",
      "[CV] n_estimators=900, min_samples_split=15, min_samples_leaf=5, max_features=sqrt, max_depth=25 \n",
      "[CV]  n_estimators=900, min_samples_split=15, min_samples_leaf=5, max_features=sqrt, max_depth=25, total=   2.9s\n",
      "[CV] n_estimators=900, min_samples_split=15, min_samples_leaf=5, max_features=sqrt, max_depth=25 \n",
      "[CV]  n_estimators=900, min_samples_split=15, min_samples_leaf=5, max_features=sqrt, max_depth=25, total=   2.3s\n",
      "[CV] n_estimators=900, min_samples_split=15, min_samples_leaf=5, max_features=sqrt, max_depth=25 \n",
      "[CV]  n_estimators=900, min_samples_split=15, min_samples_leaf=5, max_features=sqrt, max_depth=25, total=   3.2s\n",
      "[CV] n_estimators=900, min_samples_split=15, min_samples_leaf=5, max_features=sqrt, max_depth=25 \n",
      "[CV]  n_estimators=900, min_samples_split=15, min_samples_leaf=5, max_features=sqrt, max_depth=25, total=   3.2s\n",
      "[CV] n_estimators=900, min_samples_split=15, min_samples_leaf=10, max_features=auto, max_depth=15 \n",
      "[CV]  n_estimators=900, min_samples_split=15, min_samples_leaf=10, max_features=auto, max_depth=15, total=   1.8s\n",
      "[CV] n_estimators=900, min_samples_split=15, min_samples_leaf=10, max_features=auto, max_depth=15 \n",
      "[CV]  n_estimators=900, min_samples_split=15, min_samples_leaf=10, max_features=auto, max_depth=15, total=   1.9s\n",
      "[CV] n_estimators=900, min_samples_split=15, min_samples_leaf=10, max_features=auto, max_depth=15 \n",
      "[CV]  n_estimators=900, min_samples_split=15, min_samples_leaf=10, max_features=auto, max_depth=15, total=   1.8s\n",
      "[CV] n_estimators=900, min_samples_split=15, min_samples_leaf=10, max_features=auto, max_depth=15 \n",
      "[CV]  n_estimators=900, min_samples_split=15, min_samples_leaf=10, max_features=auto, max_depth=15, total=   1.7s\n",
      "[CV] n_estimators=900, min_samples_split=15, min_samples_leaf=10, max_features=auto, max_depth=15 \n",
      "[CV]  n_estimators=900, min_samples_split=15, min_samples_leaf=10, max_features=auto, max_depth=15, total=   1.8s\n",
      "[CV] n_estimators=400, min_samples_split=15, min_samples_leaf=10, max_features=sqrt, max_depth=5 \n",
      "[CV]  n_estimators=400, min_samples_split=15, min_samples_leaf=10, max_features=sqrt, max_depth=5, total=   0.9s\n",
      "[CV] n_estimators=400, min_samples_split=15, min_samples_leaf=10, max_features=sqrt, max_depth=5 \n",
      "[CV]  n_estimators=400, min_samples_split=15, min_samples_leaf=10, max_features=sqrt, max_depth=5, total=   0.7s\n",
      "[CV] n_estimators=400, min_samples_split=15, min_samples_leaf=10, max_features=sqrt, max_depth=5 \n",
      "[CV]  n_estimators=400, min_samples_split=15, min_samples_leaf=10, max_features=sqrt, max_depth=5, total=   0.6s\n",
      "[CV] n_estimators=400, min_samples_split=15, min_samples_leaf=10, max_features=sqrt, max_depth=5 \n",
      "[CV]  n_estimators=400, min_samples_split=15, min_samples_leaf=10, max_features=sqrt, max_depth=5, total=   0.7s\n",
      "[CV] n_estimators=400, min_samples_split=15, min_samples_leaf=10, max_features=sqrt, max_depth=5 \n",
      "[CV]  n_estimators=400, min_samples_split=15, min_samples_leaf=10, max_features=sqrt, max_depth=5, total=   0.7s\n",
      "[CV] n_estimators=1000, min_samples_split=5, min_samples_leaf=1, max_features=auto, max_depth=5 \n",
      "[CV]  n_estimators=1000, min_samples_split=5, min_samples_leaf=1, max_features=auto, max_depth=5, total=   2.0s\n",
      "[CV] n_estimators=1000, min_samples_split=5, min_samples_leaf=1, max_features=auto, max_depth=5 \n",
      "[CV]  n_estimators=1000, min_samples_split=5, min_samples_leaf=1, max_features=auto, max_depth=5, total=   3.7s\n",
      "[CV] n_estimators=1000, min_samples_split=5, min_samples_leaf=1, max_features=auto, max_depth=5 \n",
      "[CV]  n_estimators=1000, min_samples_split=5, min_samples_leaf=1, max_features=auto, max_depth=5, total=   1.8s\n",
      "[CV] n_estimators=1000, min_samples_split=5, min_samples_leaf=1, max_features=auto, max_depth=5 \n"
     ]
    },
    {
     "name": "stdout",
     "output_type": "stream",
     "text": [
      "[CV]  n_estimators=1000, min_samples_split=5, min_samples_leaf=1, max_features=auto, max_depth=5, total=   2.2s\n",
      "[CV] n_estimators=1000, min_samples_split=5, min_samples_leaf=1, max_features=auto, max_depth=5 \n",
      "[CV]  n_estimators=1000, min_samples_split=5, min_samples_leaf=1, max_features=auto, max_depth=5, total=   3.1s\n",
      "[CV] n_estimators=900, min_samples_split=5, min_samples_leaf=5, max_features=sqrt, max_depth=25 \n",
      "[CV]  n_estimators=900, min_samples_split=5, min_samples_leaf=5, max_features=sqrt, max_depth=25, total=   2.2s\n",
      "[CV] n_estimators=900, min_samples_split=5, min_samples_leaf=5, max_features=sqrt, max_depth=25 \n",
      "[CV]  n_estimators=900, min_samples_split=5, min_samples_leaf=5, max_features=sqrt, max_depth=25, total=   2.1s\n",
      "[CV] n_estimators=900, min_samples_split=5, min_samples_leaf=5, max_features=sqrt, max_depth=25 \n",
      "[CV]  n_estimators=900, min_samples_split=5, min_samples_leaf=5, max_features=sqrt, max_depth=25, total=   2.2s\n",
      "[CV] n_estimators=900, min_samples_split=5, min_samples_leaf=5, max_features=sqrt, max_depth=25 \n",
      "[CV]  n_estimators=900, min_samples_split=5, min_samples_leaf=5, max_features=sqrt, max_depth=25, total=   2.4s\n",
      "[CV] n_estimators=900, min_samples_split=5, min_samples_leaf=5, max_features=sqrt, max_depth=25 \n",
      "[CV]  n_estimators=900, min_samples_split=5, min_samples_leaf=5, max_features=sqrt, max_depth=25, total=   2.1s\n"
     ]
    },
    {
     "name": "stderr",
     "output_type": "stream",
     "text": [
      "[Parallel(n_jobs=1)]: Done 125 out of 125 | elapsed:  4.5min finished\n"
     ]
    },
    {
     "data": {
      "text/plain": [
       "RandomizedSearchCV(cv=5, estimator=RandomForestClassifier(), n_iter=25,\n",
       "                   n_jobs=1,\n",
       "                   param_distributions={'max_depth': [5, 10, 15, 20, 25, 30],\n",
       "                                        'max_features': ['auto', 'sqrt'],\n",
       "                                        'min_samples_leaf': [1, 2, 5, 10],\n",
       "                                        'min_samples_split': [2, 5, 10, 15,\n",
       "                                                              100],\n",
       "                                        'n_estimators': [100, 200, 300, 400,\n",
       "                                                         500, 600, 700, 800,\n",
       "                                                         900, 1000, 1100,\n",
       "                                                         1200]},\n",
       "                   random_state=42, scoring='accuracy', verbose=2)"
      ]
     },
     "execution_count": 60,
     "metadata": {},
     "output_type": "execute_result"
    }
   ],
   "source": [
    "rf_random.fit(X_train,y_train)"
   ]
  },
  {
   "cell_type": "code",
   "execution_count": 61,
   "metadata": {},
   "outputs": [
    {
     "data": {
      "text/plain": [
       "{'n_estimators': 600,\n",
       " 'min_samples_split': 2,\n",
       " 'min_samples_leaf': 1,\n",
       " 'max_features': 'sqrt',\n",
       " 'max_depth': 20}"
      ]
     },
     "execution_count": 61,
     "metadata": {},
     "output_type": "execute_result"
    }
   ],
   "source": [
    "rf_random.best_params_"
   ]
  },
  {
   "cell_type": "code",
   "execution_count": 62,
   "metadata": {},
   "outputs": [],
   "source": [
    "best_rfc = RandomForestClassifier(n_estimators = 600, min_samples_split = 2, \n",
    "                                  min_samples_leaf = 1, max_features = 'sqrt', max_depth = 20)"
   ]
  },
  {
   "cell_type": "code",
   "execution_count": 63,
   "metadata": {},
   "outputs": [
    {
     "name": "stdout",
     "output_type": "stream",
     "text": [
      "cross_val_score:  0.8207777525424584 0.012851022056908024\n",
      "Accuracy on Training set:  0.9955513187162377\n",
      "Accuracy on Testing set:  0.8246505717916137\n",
      "\t\tError Table\n",
      "accuracy_score        :  0.8246505717916137\n",
      "f1_score macro        :  0.7970419956844961\n",
      "f1_score micro        :  0.8246505717916137\n",
      "precision_score macro :  0.8438937906753556\n",
      "precision_score micro :  0.8246505717916137\n",
      "recall_score macro.   :  0.7661974768387624\n",
      "recall_score micro.   :  0.8246505717916137\n"
     ]
    }
   ],
   "source": [
    "model_report(best_rfc, X_train, X_test, y_train, y_test, scoring, N_SPLITS)"
   ]
  },
  {
   "cell_type": "markdown",
   "metadata": {},
   "source": [
    "### Best SVC"
   ]
  },
  {
   "cell_type": "code",
   "execution_count": 70,
   "metadata": {},
   "outputs": [],
   "source": [
    "# Create the random grid\n",
    "\n",
    "random_grid = {'kernel': ['linear', 'poly', 'rbf', 'sigmoid'],\n",
    "               'gamma': ['scale', 'auto'],\n",
    "               'C': [0.1,1, 10, 100]}"
   ]
  },
  {
   "cell_type": "code",
   "execution_count": 71,
   "metadata": {},
   "outputs": [],
   "source": [
    "# search across 100 different combinations\n",
    "svc_random = RandomizedSearchCV(estimator = SVC(), \n",
    "                               param_distributions = random_grid, \n",
    "                               scoring=scoring, \n",
    "                               n_iter = 15, cv = 5, verbose=2, random_state=42, n_jobs = 1)"
   ]
  },
  {
   "cell_type": "code",
   "execution_count": 72,
   "metadata": {},
   "outputs": [
    {
     "name": "stdout",
     "output_type": "stream",
     "text": [
      "Fitting 5 folds for each of 15 candidates, totalling 75 fits\n",
      "[CV] kernel=poly, gamma=auto, C=100 ..................................\n"
     ]
    },
    {
     "name": "stderr",
     "output_type": "stream",
     "text": [
      "[Parallel(n_jobs=1)]: Using backend SequentialBackend with 1 concurrent workers.\n"
     ]
    },
    {
     "name": "stdout",
     "output_type": "stream",
     "text": [
      "[CV] ................... kernel=poly, gamma=auto, C=100, total=   0.3s\n",
      "[CV] kernel=poly, gamma=auto, C=100 ..................................\n"
     ]
    },
    {
     "name": "stderr",
     "output_type": "stream",
     "text": [
      "[Parallel(n_jobs=1)]: Done   1 out of   1 | elapsed:    0.3s remaining:    0.0s\n"
     ]
    },
    {
     "name": "stdout",
     "output_type": "stream",
     "text": [
      "[CV] ................... kernel=poly, gamma=auto, C=100, total=   0.3s\n",
      "[CV] kernel=poly, gamma=auto, C=100 ..................................\n",
      "[CV] ................... kernel=poly, gamma=auto, C=100, total=   0.3s\n",
      "[CV] kernel=poly, gamma=auto, C=100 ..................................\n",
      "[CV] ................... kernel=poly, gamma=auto, C=100, total=   0.3s\n",
      "[CV] kernel=poly, gamma=auto, C=100 ..................................\n",
      "[CV] ................... kernel=poly, gamma=auto, C=100, total=   0.3s\n",
      "[CV] kernel=sigmoid, gamma=auto, C=1 .................................\n",
      "[CV] .................. kernel=sigmoid, gamma=auto, C=1, total=   0.3s\n",
      "[CV] kernel=sigmoid, gamma=auto, C=1 .................................\n",
      "[CV] .................. kernel=sigmoid, gamma=auto, C=1, total=   0.4s\n",
      "[CV] kernel=sigmoid, gamma=auto, C=1 .................................\n",
      "[CV] .................. kernel=sigmoid, gamma=auto, C=1, total=   0.3s\n",
      "[CV] kernel=sigmoid, gamma=auto, C=1 .................................\n",
      "[CV] .................. kernel=sigmoid, gamma=auto, C=1, total=   0.3s\n",
      "[CV] kernel=sigmoid, gamma=auto, C=1 .................................\n",
      "[CV] .................. kernel=sigmoid, gamma=auto, C=1, total=   0.3s\n",
      "[CV] kernel=linear, gamma=scale, C=100 ...............................\n",
      "[CV] ................ kernel=linear, gamma=scale, C=100, total=   6.7s\n",
      "[CV] kernel=linear, gamma=scale, C=100 ...............................\n",
      "[CV] ................ kernel=linear, gamma=scale, C=100, total=   6.8s\n",
      "[CV] kernel=linear, gamma=scale, C=100 ...............................\n",
      "[CV] ................ kernel=linear, gamma=scale, C=100, total=   4.7s\n",
      "[CV] kernel=linear, gamma=scale, C=100 ...............................\n",
      "[CV] ................ kernel=linear, gamma=scale, C=100, total=   6.3s\n",
      "[CV] kernel=linear, gamma=scale, C=100 ...............................\n",
      "[CV] ................ kernel=linear, gamma=scale, C=100, total=   5.0s\n",
      "[CV] kernel=poly, gamma=scale, C=10 ..................................\n",
      "[CV] ................... kernel=poly, gamma=scale, C=10, total=   0.3s\n",
      "[CV] kernel=poly, gamma=scale, C=10 ..................................\n",
      "[CV] ................... kernel=poly, gamma=scale, C=10, total=   0.3s\n",
      "[CV] kernel=poly, gamma=scale, C=10 ..................................\n",
      "[CV] ................... kernel=poly, gamma=scale, C=10, total=   0.3s\n",
      "[CV] kernel=poly, gamma=scale, C=10 ..................................\n",
      "[CV] ................... kernel=poly, gamma=scale, C=10, total=   0.3s\n",
      "[CV] kernel=poly, gamma=scale, C=10 ..................................\n",
      "[CV] ................... kernel=poly, gamma=scale, C=10, total=   0.3s\n",
      "[CV] kernel=linear, gamma=scale, C=1 .................................\n",
      "[CV] .................. kernel=linear, gamma=scale, C=1, total=   0.2s\n",
      "[CV] kernel=linear, gamma=scale, C=1 .................................\n",
      "[CV] .................. kernel=linear, gamma=scale, C=1, total=   0.2s\n",
      "[CV] kernel=linear, gamma=scale, C=1 .................................\n",
      "[CV] .................. kernel=linear, gamma=scale, C=1, total=   0.2s\n",
      "[CV] kernel=linear, gamma=scale, C=1 .................................\n",
      "[CV] .................. kernel=linear, gamma=scale, C=1, total=   0.2s\n",
      "[CV] kernel=linear, gamma=scale, C=1 .................................\n",
      "[CV] .................. kernel=linear, gamma=scale, C=1, total=   0.2s\n",
      "[CV] kernel=poly, gamma=scale, C=1 ...................................\n",
      "[CV] .................... kernel=poly, gamma=scale, C=1, total=   0.3s\n",
      "[CV] kernel=poly, gamma=scale, C=1 ...................................\n",
      "[CV] .................... kernel=poly, gamma=scale, C=1, total=   0.3s\n",
      "[CV] kernel=poly, gamma=scale, C=1 ...................................\n",
      "[CV] .................... kernel=poly, gamma=scale, C=1, total=   0.3s\n",
      "[CV] kernel=poly, gamma=scale, C=1 ...................................\n",
      "[CV] .................... kernel=poly, gamma=scale, C=1, total=   0.3s\n",
      "[CV] kernel=poly, gamma=scale, C=1 ...................................\n",
      "[CV] .................... kernel=poly, gamma=scale, C=1, total=   0.3s\n",
      "[CV] kernel=rbf, gamma=auto, C=100 ...................................\n",
      "[CV] .................... kernel=rbf, gamma=auto, C=100, total=   0.2s\n",
      "[CV] kernel=rbf, gamma=auto, C=100 ...................................\n",
      "[CV] .................... kernel=rbf, gamma=auto, C=100, total=   0.3s\n",
      "[CV] kernel=rbf, gamma=auto, C=100 ...................................\n",
      "[CV] .................... kernel=rbf, gamma=auto, C=100, total=   0.2s\n",
      "[CV] kernel=rbf, gamma=auto, C=100 ...................................\n",
      "[CV] .................... kernel=rbf, gamma=auto, C=100, total=   0.3s\n",
      "[CV] kernel=rbf, gamma=auto, C=100 ...................................\n",
      "[CV] .................... kernel=rbf, gamma=auto, C=100, total=   0.3s\n",
      "[CV] kernel=poly, gamma=scale, C=100 .................................\n",
      "[CV] .................. kernel=poly, gamma=scale, C=100, total=   0.3s\n",
      "[CV] kernel=poly, gamma=scale, C=100 .................................\n",
      "[CV] .................. kernel=poly, gamma=scale, C=100, total=   0.3s\n",
      "[CV] kernel=poly, gamma=scale, C=100 .................................\n",
      "[CV] .................. kernel=poly, gamma=scale, C=100, total=   0.2s\n",
      "[CV] kernel=poly, gamma=scale, C=100 .................................\n",
      "[CV] .................. kernel=poly, gamma=scale, C=100, total=   0.3s\n",
      "[CV] kernel=poly, gamma=scale, C=100 .................................\n",
      "[CV] .................. kernel=poly, gamma=scale, C=100, total=   0.3s\n",
      "[CV] kernel=linear, gamma=auto, C=1 ..................................\n",
      "[CV] ................... kernel=linear, gamma=auto, C=1, total=   0.2s\n",
      "[CV] kernel=linear, gamma=auto, C=1 ..................................\n",
      "[CV] ................... kernel=linear, gamma=auto, C=1, total=   0.3s\n",
      "[CV] kernel=linear, gamma=auto, C=1 ..................................\n",
      "[CV] ................... kernel=linear, gamma=auto, C=1, total=   0.4s\n",
      "[CV] kernel=linear, gamma=auto, C=1 ..................................\n",
      "[CV] ................... kernel=linear, gamma=auto, C=1, total=   0.2s\n",
      "[CV] kernel=linear, gamma=auto, C=1 ..................................\n",
      "[CV] ................... kernel=linear, gamma=auto, C=1, total=   0.2s\n",
      "[CV] kernel=linear, gamma=scale, C=0.1 ...............................\n",
      "[CV] ................ kernel=linear, gamma=scale, C=0.1, total=   0.2s\n",
      "[CV] kernel=linear, gamma=scale, C=0.1 ...............................\n",
      "[CV] ................ kernel=linear, gamma=scale, C=0.1, total=   0.2s\n",
      "[CV] kernel=linear, gamma=scale, C=0.1 ...............................\n",
      "[CV] ................ kernel=linear, gamma=scale, C=0.1, total=   0.2s\n",
      "[CV] kernel=linear, gamma=scale, C=0.1 ...............................\n",
      "[CV] ................ kernel=linear, gamma=scale, C=0.1, total=   0.2s\n",
      "[CV] kernel=linear, gamma=scale, C=0.1 ...............................\n",
      "[CV] ................ kernel=linear, gamma=scale, C=0.1, total=   0.2s\n",
      "[CV] kernel=linear, gamma=auto, C=0.1 ................................\n",
      "[CV] ................. kernel=linear, gamma=auto, C=0.1, total=   0.2s\n",
      "[CV] kernel=linear, gamma=auto, C=0.1 ................................\n",
      "[CV] ................. kernel=linear, gamma=auto, C=0.1, total=   0.2s\n",
      "[CV] kernel=linear, gamma=auto, C=0.1 ................................\n",
      "[CV] ................. kernel=linear, gamma=auto, C=0.1, total=   0.2s\n",
      "[CV] kernel=linear, gamma=auto, C=0.1 ................................\n",
      "[CV] ................. kernel=linear, gamma=auto, C=0.1, total=   0.2s\n",
      "[CV] kernel=linear, gamma=auto, C=0.1 ................................\n",
      "[CV] ................. kernel=linear, gamma=auto, C=0.1, total=   0.2s\n",
      "[CV] kernel=linear, gamma=scale, C=10 ................................\n",
      "[CV] ................. kernel=linear, gamma=scale, C=10, total=   0.8s\n",
      "[CV] kernel=linear, gamma=scale, C=10 ................................\n",
      "[CV] ................. kernel=linear, gamma=scale, C=10, total=   0.8s\n",
      "[CV] kernel=linear, gamma=scale, C=10 ................................\n",
      "[CV] ................. kernel=linear, gamma=scale, C=10, total=   0.7s\n",
      "[CV] kernel=linear, gamma=scale, C=10 ................................\n",
      "[CV] ................. kernel=linear, gamma=scale, C=10, total=   0.8s\n",
      "[CV] kernel=linear, gamma=scale, C=10 ................................\n"
     ]
    },
    {
     "name": "stdout",
     "output_type": "stream",
     "text": [
      "[CV] ................. kernel=linear, gamma=scale, C=10, total=   0.6s\n",
      "[CV] kernel=poly, gamma=auto, C=0.1 ..................................\n",
      "[CV] ................... kernel=poly, gamma=auto, C=0.1, total=   0.4s\n",
      "[CV] kernel=poly, gamma=auto, C=0.1 ..................................\n",
      "[CV] ................... kernel=poly, gamma=auto, C=0.1, total=   0.4s\n",
      "[CV] kernel=poly, gamma=auto, C=0.1 ..................................\n",
      "[CV] ................... kernel=poly, gamma=auto, C=0.1, total=   0.4s\n",
      "[CV] kernel=poly, gamma=auto, C=0.1 ..................................\n",
      "[CV] ................... kernel=poly, gamma=auto, C=0.1, total=   0.4s\n",
      "[CV] kernel=poly, gamma=auto, C=0.1 ..................................\n",
      "[CV] ................... kernel=poly, gamma=auto, C=0.1, total=   0.4s\n",
      "[CV] kernel=poly, gamma=auto, C=1 ....................................\n",
      "[CV] ..................... kernel=poly, gamma=auto, C=1, total=   0.3s\n",
      "[CV] kernel=poly, gamma=auto, C=1 ....................................\n",
      "[CV] ..................... kernel=poly, gamma=auto, C=1, total=   0.3s\n",
      "[CV] kernel=poly, gamma=auto, C=1 ....................................\n",
      "[CV] ..................... kernel=poly, gamma=auto, C=1, total=   0.3s\n",
      "[CV] kernel=poly, gamma=auto, C=1 ....................................\n",
      "[CV] ..................... kernel=poly, gamma=auto, C=1, total=   0.3s\n",
      "[CV] kernel=poly, gamma=auto, C=1 ....................................\n",
      "[CV] ..................... kernel=poly, gamma=auto, C=1, total=   0.4s\n",
      "[CV] kernel=sigmoid, gamma=scale, C=1 ................................\n",
      "[CV] ................. kernel=sigmoid, gamma=scale, C=1, total=   0.3s\n",
      "[CV] kernel=sigmoid, gamma=scale, C=1 ................................\n",
      "[CV] ................. kernel=sigmoid, gamma=scale, C=1, total=   0.3s\n",
      "[CV] kernel=sigmoid, gamma=scale, C=1 ................................\n",
      "[CV] ................. kernel=sigmoid, gamma=scale, C=1, total=   0.3s\n",
      "[CV] kernel=sigmoid, gamma=scale, C=1 ................................\n",
      "[CV] ................. kernel=sigmoid, gamma=scale, C=1, total=   0.4s\n",
      "[CV] kernel=sigmoid, gamma=scale, C=1 ................................\n",
      "[CV] ................. kernel=sigmoid, gamma=scale, C=1, total=   0.3s\n"
     ]
    },
    {
     "name": "stderr",
     "output_type": "stream",
     "text": [
      "[Parallel(n_jobs=1)]: Done  75 out of  75 | elapsed:   51.4s finished\n"
     ]
    },
    {
     "data": {
      "text/plain": [
       "RandomizedSearchCV(cv=5, estimator=SVC(), n_iter=15, n_jobs=1,\n",
       "                   param_distributions={'C': [0.1, 1, 10, 100],\n",
       "                                        'gamma': ['scale', 'auto'],\n",
       "                                        'kernel': ['linear', 'poly', 'rbf',\n",
       "                                                   'sigmoid']},\n",
       "                   random_state=42, scoring='accuracy', verbose=2)"
      ]
     },
     "execution_count": 72,
     "metadata": {},
     "output_type": "execute_result"
    }
   ],
   "source": [
    "svc_random.fit(X_train_standard, y_train)"
   ]
  },
  {
   "cell_type": "code",
   "execution_count": 73,
   "metadata": {},
   "outputs": [
    {
     "data": {
      "text/plain": [
       "{'kernel': 'linear', 'gamma': 'scale', 'C': 1}"
      ]
     },
     "execution_count": 73,
     "metadata": {},
     "output_type": "execute_result"
    }
   ],
   "source": [
    "svc_random.best_params_"
   ]
  },
  {
   "cell_type": "code",
   "execution_count": 75,
   "metadata": {},
   "outputs": [],
   "source": [
    "best_svc = SVC(kernel = 'linear', gamma = 'scale', C = 1)"
   ]
  },
  {
   "cell_type": "code",
   "execution_count": 76,
   "metadata": {},
   "outputs": [
    {
     "name": "stdout",
     "output_type": "stream",
     "text": [
      "cross_val_score:  0.806150856739092 0.019253247472082756\n",
      "Accuracy on Training set:  0.8328566889100731\n",
      "Accuracy on Testing set:  0.843710292249047\n",
      "\t\tError Table\n",
      "accuracy_score        :  0.843710292249047\n",
      "f1_score macro        :  0.8347997678643893\n",
      "f1_score micro        :  0.843710292249047\n",
      "precision_score macro :  0.8409371996311711\n",
      "precision_score micro :  0.843710292249047\n",
      "recall_score macro.   :  0.829268521025103\n",
      "recall_score micro.   :  0.843710292249047\n"
     ]
    }
   ],
   "source": [
    "model_report(best_svc, X_train_standard, X_test_standard, y_train, y_test, scoring, N_SPLITS)"
   ]
  },
  {
   "cell_type": "markdown",
   "metadata": {},
   "source": [
    "## Generando el fichero para Kaggle"
   ]
  },
  {
   "cell_type": "code",
   "execution_count": null,
   "metadata": {},
   "outputs": [],
   "source": [
    "tests_ids_2 = car_test_2['id']\n",
    "del car_test_2['id']"
   ]
  },
  {
   "cell_type": "code",
   "execution_count": null,
   "metadata": {},
   "outputs": [],
   "source": [
    "predict_2 = best_rfc.predict(scaled_features_test)\n",
    "print(predict_2)\n",
    "# Generamos \n",
    "df_result = pd.DataFrame({'id': tests_ids_2, 'Precio_cat': predict_2 })\n",
    "df_result.to_csv(\"mis_resultados_2.csv\", index=False)"
   ]
  },
  {
   "cell_type": "markdown",
   "metadata": {},
   "source": [
    "<a id=\"section-3\"></a>\n",
    "# Versión 3\n"
   ]
  },
  {
   "cell_type": "code",
   "execution_count": 85,
   "metadata": {},
   "outputs": [],
   "source": [
    "car_train_3 = car_train.copy()\n",
    "car_test_3 = car_test.copy()"
   ]
  },
  {
   "cell_type": "code",
   "execution_count": 86,
   "metadata": {},
   "outputs": [],
   "source": [
    "car_train_3.drop(['id'], axis = 1, inplace = True)"
   ]
  },
  {
   "cell_type": "code",
   "execution_count": 87,
   "metadata": {},
   "outputs": [
    {
     "data": {
      "text/html": [
       "<div>\n",
       "<style scoped>\n",
       "    .dataframe tbody tr th:only-of-type {\n",
       "        vertical-align: middle;\n",
       "    }\n",
       "\n",
       "    .dataframe tbody tr th {\n",
       "        vertical-align: top;\n",
       "    }\n",
       "\n",
       "    .dataframe thead th {\n",
       "        text-align: right;\n",
       "    }\n",
       "</style>\n",
       "<table border=\"1\" class=\"dataframe\">\n",
       "  <thead>\n",
       "    <tr style=\"text-align: right;\">\n",
       "      <th></th>\n",
       "      <th>Nombre</th>\n",
       "      <th>Ciudad</th>\n",
       "      <th>Año</th>\n",
       "      <th>Kilometros</th>\n",
       "      <th>Combustible</th>\n",
       "      <th>Tipo_marchas</th>\n",
       "      <th>Mano</th>\n",
       "      <th>Consumo</th>\n",
       "      <th>Motor_CC</th>\n",
       "      <th>Potencia</th>\n",
       "      <th>Asientos</th>\n",
       "      <th>Descuento</th>\n",
       "      <th>Precio_cat</th>\n",
       "    </tr>\n",
       "  </thead>\n",
       "  <tbody>\n",
       "    <tr>\n",
       "      <th>0</th>\n",
       "      <td>Maruti Swift Dzire ZDI</td>\n",
       "      <td>G</td>\n",
       "      <td>2012.0</td>\n",
       "      <td>83000.0</td>\n",
       "      <td>Diesel</td>\n",
       "      <td>Manual</td>\n",
       "      <td>First</td>\n",
       "      <td>23.4 kmpl</td>\n",
       "      <td>1248 CC</td>\n",
       "      <td>74 bhp</td>\n",
       "      <td>5.0</td>\n",
       "      <td>NaN</td>\n",
       "      <td>3</td>\n",
       "    </tr>\n",
       "    <tr>\n",
       "      <th>1</th>\n",
       "      <td>Maruti Wagon R LXI Optional</td>\n",
       "      <td>I</td>\n",
       "      <td>2016.0</td>\n",
       "      <td>4800.0</td>\n",
       "      <td>Petrol</td>\n",
       "      <td>Manual</td>\n",
       "      <td>First</td>\n",
       "      <td>20.51 kmpl</td>\n",
       "      <td>998 CC</td>\n",
       "      <td>67.04 bhp</td>\n",
       "      <td>5.0</td>\n",
       "      <td>NaN</td>\n",
       "      <td>3</td>\n",
       "    </tr>\n",
       "    <tr>\n",
       "      <th>2</th>\n",
       "      <td>Mahindra KUV 100 mFALCON D75 K8</td>\n",
       "      <td>F</td>\n",
       "      <td>2016.0</td>\n",
       "      <td>26000.0</td>\n",
       "      <td>Diesel</td>\n",
       "      <td>Manual</td>\n",
       "      <td>First</td>\n",
       "      <td>25.32 kmpl</td>\n",
       "      <td>1198 CC</td>\n",
       "      <td>77 bhp</td>\n",
       "      <td>6.0</td>\n",
       "      <td>NaN</td>\n",
       "      <td>3</td>\n",
       "    </tr>\n",
       "    <tr>\n",
       "      <th>3</th>\n",
       "      <td>Hyundai i20 1.2 Magna</td>\n",
       "      <td>E</td>\n",
       "      <td>2013.0</td>\n",
       "      <td>56127.0</td>\n",
       "      <td>Petrol</td>\n",
       "      <td>Manual</td>\n",
       "      <td>First</td>\n",
       "      <td>18.5 kmpl</td>\n",
       "      <td>1197 CC</td>\n",
       "      <td>80 bhp</td>\n",
       "      <td>5.0</td>\n",
       "      <td>NaN</td>\n",
       "      <td>3</td>\n",
       "    </tr>\n",
       "    <tr>\n",
       "      <th>4</th>\n",
       "      <td>Honda Jazz 1.2 SV i VTEC</td>\n",
       "      <td>H</td>\n",
       "      <td>2017.0</td>\n",
       "      <td>41981.0</td>\n",
       "      <td>Petrol</td>\n",
       "      <td>Manual</td>\n",
       "      <td>First</td>\n",
       "      <td>18.7 kmpl</td>\n",
       "      <td>1199 CC</td>\n",
       "      <td>88.7 bhp</td>\n",
       "      <td>5.0</td>\n",
       "      <td>NaN</td>\n",
       "      <td>3</td>\n",
       "    </tr>\n",
       "  </tbody>\n",
       "</table>\n",
       "</div>"
      ],
      "text/plain": [
       "                            Nombre Ciudad     Año  Kilometros Combustible  \\\n",
       "0           Maruti Swift Dzire ZDI      G  2012.0     83000.0      Diesel   \n",
       "1      Maruti Wagon R LXI Optional      I  2016.0      4800.0      Petrol   \n",
       "2  Mahindra KUV 100 mFALCON D75 K8      F  2016.0     26000.0      Diesel   \n",
       "3            Hyundai i20 1.2 Magna      E  2013.0     56127.0      Petrol   \n",
       "4         Honda Jazz 1.2 SV i VTEC      H  2017.0     41981.0      Petrol   \n",
       "\n",
       "  Tipo_marchas   Mano     Consumo Motor_CC   Potencia  Asientos  Descuento  \\\n",
       "0       Manual  First   23.4 kmpl  1248 CC     74 bhp       5.0        NaN   \n",
       "1       Manual  First  20.51 kmpl   998 CC  67.04 bhp       5.0        NaN   \n",
       "2       Manual  First  25.32 kmpl  1198 CC     77 bhp       6.0        NaN   \n",
       "3       Manual  First   18.5 kmpl  1197 CC     80 bhp       5.0        NaN   \n",
       "4       Manual  First   18.7 kmpl  1199 CC   88.7 bhp       5.0        NaN   \n",
       "\n",
       "   Precio_cat  \n",
       "0           3  \n",
       "1           3  \n",
       "2           3  \n",
       "3           3  \n",
       "4           3  "
      ]
     },
     "execution_count": 87,
     "metadata": {},
     "output_type": "execute_result"
    }
   ],
   "source": [
    "car_train_3.head()"
   ]
  },
  {
   "cell_type": "code",
   "execution_count": 88,
   "metadata": {},
   "outputs": [
    {
     "name": "stdout",
     "output_type": "stream",
     "text": [
      "Shape of train data Before dropping any Row:  (4819, 13)\n",
      "Shape after dropping nulls in Nombre: (4747, 13)\n",
      "Shape after dropping nulls in Ciudad: (4676, 13)\n",
      "Shape after dropping nulls in Año: (4606, 13)\n",
      "Shape after dropping nulls in Kilometros: (4540, 13)\n",
      "Shape after dropping nulls in Combustible: (4475, 13)\n",
      "Shape after dropping nulls in Tipo_marchas: (4410, 13)\n",
      "Shape after dropping nulls in Mano: (4342, 13)\n",
      "Shape after dropping nulls in Consumo: (4274, 13)\n",
      "Shape after dropping nulls in Motor_CC: (4185, 13)\n",
      "Shape after dropping nulls in Potencia: (4060, 13)\n",
      "Shape after dropping nulls in Asientos: (4001, 13)\n"
     ]
    }
   ],
   "source": [
    "print(\"Shape of train data Before dropping any Row: \", car_train_3.shape)\n",
    "for i in car_train_3.columns:\n",
    "    if car_train_3[i].isnull().sum() > 0:\n",
    "        if i != \"Descuento\":\n",
    "            car_train_3 = car_train_3[car_train_3[i].notna()]\n",
    "            print(\"Shape after dropping nulls in \" + i + \":\", car_train_3.shape)"
   ]
  },
  {
   "cell_type": "code",
   "execution_count": 89,
   "metadata": {},
   "outputs": [],
   "source": [
    "car_train_3 = car_train_3.reset_index(drop=True)"
   ]
  },
  {
   "cell_type": "markdown",
   "metadata": {},
   "source": [
    "Well after using .notna() we have many absent indexes (Eg: If row no 47 was droped then after 46 we have 48 index), so I reset the index and droping the present index."
   ]
  },
  {
   "cell_type": "code",
   "execution_count": 90,
   "metadata": {},
   "outputs": [],
   "source": [
    "car_train_3['Consumo']=car_train_3.Consumo.astype(str).str.partition()[0].astype('float')\n",
    "car_train_3['Motor_CC']=car_train_3.Motor_CC.astype(str).str.partition()[0].astype('int')\n",
    "car_train_3['Potencia']=car_train_3.Potencia.astype(str).str.partition()[0].astype('float')\n",
    "car_train_3['Asientos']=car_train_3.Asientos.astype('int')"
   ]
  },
  {
   "cell_type": "code",
   "execution_count": 91,
   "metadata": {},
   "outputs": [],
   "source": [
    "car_train_3['Descuento'] = car_train_3['Descuento'].astype(float)"
   ]
  },
  {
   "cell_type": "code",
   "execution_count": 92,
   "metadata": {},
   "outputs": [],
   "source": [
    "part = car_train_3['Nombre'].astype(str).str.partition()\n",
    "car_train_3['Company'] = part[0].str.title()"
   ]
  },
  {
   "cell_type": "markdown",
   "metadata": {},
   "source": [
    "## Categorical data"
   ]
  },
  {
   "cell_type": "code",
   "execution_count": 93,
   "metadata": {},
   "outputs": [
    {
     "data": {
      "text/plain": [
       "B    538\n",
       "F    496\n",
       "E    451\n",
       "H    449\n",
       "C    385\n",
       "J    361\n",
       "I    339\n",
       "D    313\n",
       "G    257\n",
       "K    254\n",
       "L    158\n",
       "Name: Ciudad, dtype: int64"
      ]
     },
     "execution_count": 93,
     "metadata": {},
     "output_type": "execute_result"
    }
   ],
   "source": [
    "car_train_3[\"Ciudad\"].value_counts()"
   ]
  },
  {
   "cell_type": "code",
   "execution_count": 94,
   "metadata": {},
   "outputs": [
    {
     "data": {
      "text/plain": [
       "<function matplotlib.pyplot.show(*args, **kw)>"
      ]
     },
     "execution_count": 94,
     "metadata": {},
     "output_type": "execute_result"
    },
    {
     "data": {
      "image/png": "[encoded data removed]",
      "text/plain": [
       "<Figure size 1296x432 with 1 Axes>"
      ]
     },
     "metadata": {
      "needs_background": "light"
     },
     "output_type": "display_data"
    }
   ],
   "source": [
    "sns.catplot(y='Precio_cat',x = 'Ciudad', data= car_train_3.sort_values('Precio_cat',ascending=False),kind=\"boxen\",height=6, aspect=3)\n",
    "plt.show"
   ]
  },
  {
   "cell_type": "code",
   "execution_count": 95,
   "metadata": {},
   "outputs": [],
   "source": [
    "ciudad = car_train_3[['Ciudad']]\n",
    "ciudad = pd.get_dummies(ciudad,drop_first=True)\n",
    "#ciudad.head()"
   ]
  },
  {
   "cell_type": "code",
   "execution_count": 96,
   "metadata": {},
   "outputs": [
    {
     "data": {
      "text/plain": [
       "Diesel    2172\n",
       "Petrol    1784\n",
       "CNG         38\n",
       "LPG          7\n",
       "Name: Combustible, dtype: int64"
      ]
     },
     "execution_count": 96,
     "metadata": {},
     "output_type": "execute_result"
    }
   ],
   "source": [
    "car_train_3[\"Combustible\"].value_counts()"
   ]
  },
  {
   "cell_type": "code",
   "execution_count": 97,
   "metadata": {},
   "outputs": [
    {
     "data": {
      "text/plain": [
       "<function matplotlib.pyplot.show(*args, **kw)>"
      ]
     },
     "execution_count": 97,
     "metadata": {},
     "output_type": "execute_result"
    },
    {
     "data": {
      "image/png": "[encoded data removed]",
      "text/plain": [
       "<Figure size 1296x432 with 1 Axes>"
      ]
     },
     "metadata": {
      "needs_background": "light"
     },
     "output_type": "display_data"
    }
   ],
   "source": [
    "sns.catplot(y='Precio_cat',x = 'Combustible', data= car_train_3.sort_values('Precio_cat',ascending=False),kind=\"boxen\",height=6, aspect=3)\n",
    "plt.show"
   ]
  },
  {
   "cell_type": "code",
   "execution_count": 98,
   "metadata": {},
   "outputs": [],
   "source": [
    "combustible = car_train_3[['Combustible']]\n",
    "combustible = pd.get_dummies(combustible,drop_first=True)\n",
    "#combustible.head()"
   ]
  },
  {
   "cell_type": "code",
   "execution_count": 99,
   "metadata": {},
   "outputs": [
    {
     "data": {
      "text/plain": [
       "Manual       2852\n",
       "Automatic    1149\n",
       "Name: Tipo_marchas, dtype: int64"
      ]
     },
     "execution_count": 99,
     "metadata": {},
     "output_type": "execute_result"
    }
   ],
   "source": [
    "car_train_3[\"Tipo_marchas\"].value_counts()"
   ]
  },
  {
   "cell_type": "code",
   "execution_count": 100,
   "metadata": {},
   "outputs": [
    {
     "data": {
      "text/plain": [
       "<function matplotlib.pyplot.show(*args, **kw)>"
      ]
     },
     "execution_count": 100,
     "metadata": {},
     "output_type": "execute_result"
    },
    {
     "data": {
      "image/png": "[encoded data removed]",
      "text/plain": [
       "<Figure size 1296x432 with 1 Axes>"
      ]
     },
     "metadata": {
      "needs_background": "light"
     },
     "output_type": "display_data"
    }
   ],
   "source": [
    "sns.catplot(y='Precio_cat',x = 'Tipo_marchas', data= car_train_3.sort_values('Precio_cat',ascending=False),kind=\"boxen\",height=6, aspect=3)\n",
    "plt.show"
   ]
  },
  {
   "cell_type": "code",
   "execution_count": 101,
   "metadata": {},
   "outputs": [],
   "source": [
    "tipo_marchas = car_train_3[['Tipo_marchas']]\n",
    "tipo_marchas = pd.get_dummies(tipo_marchas,drop_first=True)\n",
    "#tipo_marchas.head()"
   ]
  },
  {
   "cell_type": "code",
   "execution_count": 102,
   "metadata": {},
   "outputs": [
    {
     "data": {
      "text/plain": [
       "First             3372\n",
       "Second             557\n",
       "Third               66\n",
       "Fourth & Above       6\n",
       "Name: Mano, dtype: int64"
      ]
     },
     "execution_count": 102,
     "metadata": {},
     "output_type": "execute_result"
    }
   ],
   "source": [
    "car_train_3[\"Mano\"].value_counts()"
   ]
  },
  {
   "cell_type": "code",
   "execution_count": 103,
   "metadata": {},
   "outputs": [],
   "source": [
    "car_train_3.replace({\"First\":1,\"Second\":2,\"Third\": 3,\"Fourth & Above\":4},inplace=True)\n",
    "#car_train_3.head()"
   ]
  },
  {
   "cell_type": "code",
   "execution_count": 104,
   "metadata": {},
   "outputs": [
    {
     "data": {
      "text/plain": [
       "Maruti           788\n",
       "Hyundai          733\n",
       "Honda            436\n",
       "Toyota           272\n",
       "Volkswagen       220\n",
       "Mercedes-Benz    208\n",
       "Ford             195\n",
       "Mahindra         191\n",
       "Bmw              174\n",
       "Audi             152\n",
       "Tata             121\n",
       "Skoda            118\n",
       "Renault          104\n",
       "Chevrolet         74\n",
       "Nissan            54\n",
       "Land              37\n",
       "Jaguar            27\n",
       "Mitsubishi        19\n",
       "Mini              18\n",
       "Fiat              16\n",
       "Jeep              11\n",
       "Porsche           11\n",
       "Volvo             10\n",
       "Datsun             7\n",
       "Isuzu              2\n",
       "Lamborghini        1\n",
       "Bentley            1\n",
       "Force              1\n",
       "Name: Company, dtype: int64"
      ]
     },
     "execution_count": 104,
     "metadata": {},
     "output_type": "execute_result"
    }
   ],
   "source": [
    "car_train_3['Company'].value_counts()"
   ]
  },
  {
   "cell_type": "code",
   "execution_count": 105,
   "metadata": {},
   "outputs": [
    {
     "data": {
      "text/plain": [
       "<function matplotlib.pyplot.show(*args, **kw)>"
      ]
     },
     "execution_count": 105,
     "metadata": {},
     "output_type": "execute_result"
    },
    {
     "data": {
      "image/png": "[encoded data removed]",
      "text/plain": [
       "<Figure size 1296x432 with 1 Axes>"
      ]
     },
     "metadata": {
      "needs_background": "light"
     },
     "output_type": "display_data"
    }
   ],
   "source": [
    "sns.catplot(y='Precio_cat',x = 'Company', data= car_train_3.sort_values('Precio_cat',ascending=False),kind=\"boxen\",height=6, aspect=3)\n",
    "plt.show"
   ]
  },
  {
   "cell_type": "code",
   "execution_count": 106,
   "metadata": {},
   "outputs": [],
   "source": [
    "# A lot of variation so let's drop them\n",
    "car_train_3.drop([\"Company\"], axis=1,inplace=True)"
   ]
  },
  {
   "cell_type": "code",
   "execution_count": 107,
   "metadata": {},
   "outputs": [],
   "source": [
    "car_train_3 = pd.concat([car_train_3, ciudad , combustible, tipo_marchas],axis=1)"
   ]
  },
  {
   "cell_type": "code",
   "execution_count": 108,
   "metadata": {},
   "outputs": [],
   "source": [
    "car_train_3.drop([\"Nombre\", \"Ciudad\", \"Combustible\", \"Tipo_marchas\", \"Descuento\"], axis = 1, inplace = True)"
   ]
  },
  {
   "cell_type": "code",
   "execution_count": 109,
   "metadata": {},
   "outputs": [
    {
     "data": {
      "text/html": [
       "<div>\n",
       "<style scoped>\n",
       "    .dataframe tbody tr th:only-of-type {\n",
       "        vertical-align: middle;\n",
       "    }\n",
       "\n",
       "    .dataframe tbody tr th {\n",
       "        vertical-align: top;\n",
       "    }\n",
       "\n",
       "    .dataframe thead th {\n",
       "        text-align: right;\n",
       "    }\n",
       "</style>\n",
       "<table border=\"1\" class=\"dataframe\">\n",
       "  <thead>\n",
       "    <tr style=\"text-align: right;\">\n",
       "      <th></th>\n",
       "      <th>Año</th>\n",
       "      <th>Kilometros</th>\n",
       "      <th>Mano</th>\n",
       "      <th>Consumo</th>\n",
       "      <th>Motor_CC</th>\n",
       "      <th>Potencia</th>\n",
       "      <th>Asientos</th>\n",
       "      <th>Precio_cat</th>\n",
       "      <th>Ciudad_C</th>\n",
       "      <th>Ciudad_D</th>\n",
       "      <th>...</th>\n",
       "      <th>Ciudad_G</th>\n",
       "      <th>Ciudad_H</th>\n",
       "      <th>Ciudad_I</th>\n",
       "      <th>Ciudad_J</th>\n",
       "      <th>Ciudad_K</th>\n",
       "      <th>Ciudad_L</th>\n",
       "      <th>Combustible_Diesel</th>\n",
       "      <th>Combustible_LPG</th>\n",
       "      <th>Combustible_Petrol</th>\n",
       "      <th>Tipo_marchas_Manual</th>\n",
       "    </tr>\n",
       "  </thead>\n",
       "  <tbody>\n",
       "    <tr>\n",
       "      <th>0</th>\n",
       "      <td>2012.0</td>\n",
       "      <td>83000.0</td>\n",
       "      <td>1</td>\n",
       "      <td>23.40</td>\n",
       "      <td>1248</td>\n",
       "      <td>74.00</td>\n",
       "      <td>5</td>\n",
       "      <td>3</td>\n",
       "      <td>0</td>\n",
       "      <td>0</td>\n",
       "      <td>...</td>\n",
       "      <td>1</td>\n",
       "      <td>0</td>\n",
       "      <td>0</td>\n",
       "      <td>0</td>\n",
       "      <td>0</td>\n",
       "      <td>0</td>\n",
       "      <td>1</td>\n",
       "      <td>0</td>\n",
       "      <td>0</td>\n",
       "      <td>1</td>\n",
       "    </tr>\n",
       "    <tr>\n",
       "      <th>1</th>\n",
       "      <td>2016.0</td>\n",
       "      <td>4800.0</td>\n",
       "      <td>1</td>\n",
       "      <td>20.51</td>\n",
       "      <td>998</td>\n",
       "      <td>67.04</td>\n",
       "      <td>5</td>\n",
       "      <td>3</td>\n",
       "      <td>0</td>\n",
       "      <td>0</td>\n",
       "      <td>...</td>\n",
       "      <td>0</td>\n",
       "      <td>0</td>\n",
       "      <td>1</td>\n",
       "      <td>0</td>\n",
       "      <td>0</td>\n",
       "      <td>0</td>\n",
       "      <td>0</td>\n",
       "      <td>0</td>\n",
       "      <td>1</td>\n",
       "      <td>1</td>\n",
       "    </tr>\n",
       "    <tr>\n",
       "      <th>2</th>\n",
       "      <td>2016.0</td>\n",
       "      <td>26000.0</td>\n",
       "      <td>1</td>\n",
       "      <td>25.32</td>\n",
       "      <td>1198</td>\n",
       "      <td>77.00</td>\n",
       "      <td>6</td>\n",
       "      <td>3</td>\n",
       "      <td>0</td>\n",
       "      <td>0</td>\n",
       "      <td>...</td>\n",
       "      <td>0</td>\n",
       "      <td>0</td>\n",
       "      <td>0</td>\n",
       "      <td>0</td>\n",
       "      <td>0</td>\n",
       "      <td>0</td>\n",
       "      <td>1</td>\n",
       "      <td>0</td>\n",
       "      <td>0</td>\n",
       "      <td>1</td>\n",
       "    </tr>\n",
       "    <tr>\n",
       "      <th>3</th>\n",
       "      <td>2013.0</td>\n",
       "      <td>56127.0</td>\n",
       "      <td>1</td>\n",
       "      <td>18.50</td>\n",
       "      <td>1197</td>\n",
       "      <td>80.00</td>\n",
       "      <td>5</td>\n",
       "      <td>3</td>\n",
       "      <td>0</td>\n",
       "      <td>0</td>\n",
       "      <td>...</td>\n",
       "      <td>0</td>\n",
       "      <td>0</td>\n",
       "      <td>0</td>\n",
       "      <td>0</td>\n",
       "      <td>0</td>\n",
       "      <td>0</td>\n",
       "      <td>0</td>\n",
       "      <td>0</td>\n",
       "      <td>1</td>\n",
       "      <td>1</td>\n",
       "    </tr>\n",
       "    <tr>\n",
       "      <th>4</th>\n",
       "      <td>2017.0</td>\n",
       "      <td>41981.0</td>\n",
       "      <td>1</td>\n",
       "      <td>18.70</td>\n",
       "      <td>1199</td>\n",
       "      <td>88.70</td>\n",
       "      <td>5</td>\n",
       "      <td>3</td>\n",
       "      <td>0</td>\n",
       "      <td>0</td>\n",
       "      <td>...</td>\n",
       "      <td>0</td>\n",
       "      <td>1</td>\n",
       "      <td>0</td>\n",
       "      <td>0</td>\n",
       "      <td>0</td>\n",
       "      <td>0</td>\n",
       "      <td>0</td>\n",
       "      <td>0</td>\n",
       "      <td>1</td>\n",
       "      <td>1</td>\n",
       "    </tr>\n",
       "  </tbody>\n",
       "</table>\n",
       "<p>5 rows × 22 columns</p>\n",
       "</div>"
      ],
      "text/plain": [
       "      Año  Kilometros  Mano  Consumo  Motor_CC  Potencia  Asientos  \\\n",
       "0  2012.0     83000.0     1    23.40      1248     74.00         5   \n",
       "1  2016.0      4800.0     1    20.51       998     67.04         5   \n",
       "2  2016.0     26000.0     1    25.32      1198     77.00         6   \n",
       "3  2013.0     56127.0     1    18.50      1197     80.00         5   \n",
       "4  2017.0     41981.0     1    18.70      1199     88.70         5   \n",
       "\n",
       "   Precio_cat  Ciudad_C  Ciudad_D  ...  Ciudad_G  Ciudad_H  Ciudad_I  \\\n",
       "0           3         0         0  ...         1         0         0   \n",
       "1           3         0         0  ...         0         0         1   \n",
       "2           3         0         0  ...         0         0         0   \n",
       "3           3         0         0  ...         0         0         0   \n",
       "4           3         0         0  ...         0         1         0   \n",
       "\n",
       "   Ciudad_J  Ciudad_K  Ciudad_L  Combustible_Diesel  Combustible_LPG  \\\n",
       "0         0         0         0                   1                0   \n",
       "1         0         0         0                   0                0   \n",
       "2         0         0         0                   1                0   \n",
       "3         0         0         0                   0                0   \n",
       "4         0         0         0                   0                0   \n",
       "\n",
       "   Combustible_Petrol  Tipo_marchas_Manual  \n",
       "0                   0                    1  \n",
       "1                   1                    1  \n",
       "2                   0                    1  \n",
       "3                   1                    1  \n",
       "4                   1                    1  \n",
       "\n",
       "[5 rows x 22 columns]"
      ]
     },
     "execution_count": 109,
     "metadata": {},
     "output_type": "execute_result"
    }
   ],
   "source": [
    "car_train_3.head()"
   ]
  },
  {
   "cell_type": "markdown",
   "metadata": {},
   "source": [
    "## Prepare test data"
   ]
  },
  {
   "cell_type": "code",
   "execution_count": 110,
   "metadata": {},
   "outputs": [
    {
     "data": {
      "text/html": [
       "<div>\n",
       "<style scoped>\n",
       "    .dataframe tbody tr th:only-of-type {\n",
       "        vertical-align: middle;\n",
       "    }\n",
       "\n",
       "    .dataframe tbody tr th {\n",
       "        vertical-align: top;\n",
       "    }\n",
       "\n",
       "    .dataframe thead th {\n",
       "        text-align: right;\n",
       "    }\n",
       "</style>\n",
       "<table border=\"1\" class=\"dataframe\">\n",
       "  <thead>\n",
       "    <tr style=\"text-align: right;\">\n",
       "      <th></th>\n",
       "      <th>id</th>\n",
       "      <th>Nombre</th>\n",
       "      <th>Ciudad</th>\n",
       "      <th>Año</th>\n",
       "      <th>Kilometros</th>\n",
       "      <th>Combustible</th>\n",
       "      <th>Tipo_marchas</th>\n",
       "      <th>Mano</th>\n",
       "      <th>Consumo</th>\n",
       "      <th>Motor_CC</th>\n",
       "      <th>Potencia</th>\n",
       "      <th>Asientos</th>\n",
       "      <th>Descuento</th>\n",
       "    </tr>\n",
       "  </thead>\n",
       "  <tbody>\n",
       "    <tr>\n",
       "      <th>0</th>\n",
       "      <td>4820</td>\n",
       "      <td>Mercedes-Benz New C-Class C 220 CDI Avantgarde</td>\n",
       "      <td>H</td>\n",
       "      <td>2015</td>\n",
       "      <td>77771</td>\n",
       "      <td>Diesel</td>\n",
       "      <td>Automatic</td>\n",
       "      <td>First</td>\n",
       "      <td>19.27 kmpl</td>\n",
       "      <td>2143 CC</td>\n",
       "      <td>170 bhp</td>\n",
       "      <td>5.0</td>\n",
       "      <td>NaN</td>\n",
       "    </tr>\n",
       "    <tr>\n",
       "      <th>1</th>\n",
       "      <td>4821</td>\n",
       "      <td>Hyundai i10 Magna 1.1</td>\n",
       "      <td>J</td>\n",
       "      <td>2011</td>\n",
       "      <td>62000</td>\n",
       "      <td>Petrol</td>\n",
       "      <td>Manual</td>\n",
       "      <td>First</td>\n",
       "      <td>19.81 kmpl</td>\n",
       "      <td>1086 CC</td>\n",
       "      <td>68.05 bhp</td>\n",
       "      <td>5.0</td>\n",
       "      <td>NaN</td>\n",
       "    </tr>\n",
       "    <tr>\n",
       "      <th>2</th>\n",
       "      <td>4822</td>\n",
       "      <td>Ford Figo Diesel EXI</td>\n",
       "      <td>C</td>\n",
       "      <td>2010</td>\n",
       "      <td>129986</td>\n",
       "      <td>Diesel</td>\n",
       "      <td>Manual</td>\n",
       "      <td>Second</td>\n",
       "      <td>20.0 kmpl</td>\n",
       "      <td>1399 CC</td>\n",
       "      <td>68 bhp</td>\n",
       "      <td>5.0</td>\n",
       "      <td>NaN</td>\n",
       "    </tr>\n",
       "    <tr>\n",
       "      <th>3</th>\n",
       "      <td>4823</td>\n",
       "      <td>Maruti Swift Dzire VXI Optional</td>\n",
       "      <td>D</td>\n",
       "      <td>2015</td>\n",
       "      <td>49900</td>\n",
       "      <td>Petrol</td>\n",
       "      <td>Manual</td>\n",
       "      <td>First</td>\n",
       "      <td>20.85 kmpl</td>\n",
       "      <td>1197 CC</td>\n",
       "      <td>83.14 bhp</td>\n",
       "      <td>5.0</td>\n",
       "      <td>NaN</td>\n",
       "    </tr>\n",
       "    <tr>\n",
       "      <th>4</th>\n",
       "      <td>4824</td>\n",
       "      <td>Maruti Ritz VXI</td>\n",
       "      <td>J</td>\n",
       "      <td>2010</td>\n",
       "      <td>75319</td>\n",
       "      <td>Petrol</td>\n",
       "      <td>Manual</td>\n",
       "      <td>Second</td>\n",
       "      <td>21.1 kmpl</td>\n",
       "      <td>1197 CC</td>\n",
       "      <td>85.80 bhp</td>\n",
       "      <td>5.0</td>\n",
       "      <td>NaN</td>\n",
       "    </tr>\n",
       "  </tbody>\n",
       "</table>\n",
       "</div>"
      ],
      "text/plain": [
       "     id                                          Nombre Ciudad   Año  \\\n",
       "0  4820  Mercedes-Benz New C-Class C 220 CDI Avantgarde      H  2015   \n",
       "1  4821                           Hyundai i10 Magna 1.1      J  2011   \n",
       "2  4822                            Ford Figo Diesel EXI      C  2010   \n",
       "3  4823                 Maruti Swift Dzire VXI Optional      D  2015   \n",
       "4  4824                                 Maruti Ritz VXI      J  2010   \n",
       "\n",
       "   Kilometros Combustible Tipo_marchas    Mano     Consumo Motor_CC  \\\n",
       "0       77771      Diesel    Automatic   First  19.27 kmpl  2143 CC   \n",
       "1       62000      Petrol       Manual   First  19.81 kmpl  1086 CC   \n",
       "2      129986      Diesel       Manual  Second   20.0 kmpl  1399 CC   \n",
       "3       49900      Petrol       Manual   First  20.85 kmpl  1197 CC   \n",
       "4       75319      Petrol       Manual  Second   21.1 kmpl  1197 CC   \n",
       "\n",
       "    Potencia  Asientos  Descuento  \n",
       "0    170 bhp       5.0        NaN  \n",
       "1  68.05 bhp       5.0        NaN  \n",
       "2     68 bhp       5.0        NaN  \n",
       "3  83.14 bhp       5.0        NaN  \n",
       "4  85.80 bhp       5.0        NaN  "
      ]
     },
     "execution_count": 110,
     "metadata": {},
     "output_type": "execute_result"
    }
   ],
   "source": [
    "car_test_3.head()"
   ]
  },
  {
   "cell_type": "code",
   "execution_count": 111,
   "metadata": {},
   "outputs": [],
   "source": [
    "car_test_3['Consumo']=car_test_3.Consumo.astype(str).str.partition()[0].astype('float')\n",
    "car_test_3['Motor_CC']=car_test_3.Motor_CC.astype(str).str.partition()[0].astype('int')\n",
    "car_test_3['Potencia']=car_test_3.Potencia.astype(str).str.partition()[0].astype('float')\n",
    "car_test_3['Asientos']=car_test_3.Asientos.astype('int')"
   ]
  },
  {
   "cell_type": "code",
   "execution_count": 112,
   "metadata": {},
   "outputs": [],
   "source": [
    "car_test_3.drop([\"Nombre\",\"Descuento\"],axis=1,inplace=True)"
   ]
  },
  {
   "cell_type": "code",
   "execution_count": 113,
   "metadata": {},
   "outputs": [
    {
     "name": "stdout",
     "output_type": "stream",
     "text": [
      "Final Test Size:  (1159, 22)\n"
     ]
    }
   ],
   "source": [
    "var = 'Ciudad'\n",
    "Location = car_test_3[[var]]\n",
    "Location = pd.get_dummies(Location,drop_first=True)\n",
    "Location.head()\n",
    "\n",
    "var = 'Combustible'\n",
    "Fuel_t = car_test_3[[var]]\n",
    "Fuel_t = pd.get_dummies(Fuel_t,drop_first=True)\n",
    "Fuel_t.head()\n",
    "\n",
    "var = 'Tipo_marchas'\n",
    "Transmission = car_test_3[[var]]\n",
    "Transmission = pd.get_dummies(Transmission,drop_first=True)\n",
    "Transmission.head()\n",
    "\n",
    "car_test_3.replace({\"First\":1,\"Second\":2,\"Third\": 3,\"Fourth & Above\":4},inplace=True)\n",
    "car_test_3.head()\n",
    "\n",
    "car_test_3= pd.concat([car_test_3,Location,Fuel_t,Transmission],axis=1)\n",
    "car_test_3.head()\n",
    "\n",
    "car_test_3.drop([\"Ciudad\",\"Combustible\",\"Tipo_marchas\"],axis=1,inplace=True)\n",
    "car_test_3.head()\n",
    "\n",
    "print(\"Final Test Size: \", car_test_3.shape)"
   ]
  },
  {
   "cell_type": "code",
   "execution_count": 114,
   "metadata": {},
   "outputs": [
    {
     "data": {
      "text/html": [
       "<div>\n",
       "<style scoped>\n",
       "    .dataframe tbody tr th:only-of-type {\n",
       "        vertical-align: middle;\n",
       "    }\n",
       "\n",
       "    .dataframe tbody tr th {\n",
       "        vertical-align: top;\n",
       "    }\n",
       "\n",
       "    .dataframe thead th {\n",
       "        text-align: right;\n",
       "    }\n",
       "</style>\n",
       "<table border=\"1\" class=\"dataframe\">\n",
       "  <thead>\n",
       "    <tr style=\"text-align: right;\">\n",
       "      <th></th>\n",
       "      <th>id</th>\n",
       "      <th>Año</th>\n",
       "      <th>Kilometros</th>\n",
       "      <th>Mano</th>\n",
       "      <th>Consumo</th>\n",
       "      <th>Motor_CC</th>\n",
       "      <th>Potencia</th>\n",
       "      <th>Asientos</th>\n",
       "      <th>Ciudad_C</th>\n",
       "      <th>Ciudad_D</th>\n",
       "      <th>...</th>\n",
       "      <th>Ciudad_G</th>\n",
       "      <th>Ciudad_H</th>\n",
       "      <th>Ciudad_I</th>\n",
       "      <th>Ciudad_J</th>\n",
       "      <th>Ciudad_K</th>\n",
       "      <th>Ciudad_L</th>\n",
       "      <th>Combustible_Diesel</th>\n",
       "      <th>Combustible_LPG</th>\n",
       "      <th>Combustible_Petrol</th>\n",
       "      <th>Tipo_marchas_Manual</th>\n",
       "    </tr>\n",
       "  </thead>\n",
       "  <tbody>\n",
       "    <tr>\n",
       "      <th>0</th>\n",
       "      <td>4820</td>\n",
       "      <td>2015</td>\n",
       "      <td>77771</td>\n",
       "      <td>1</td>\n",
       "      <td>19.27</td>\n",
       "      <td>2143</td>\n",
       "      <td>170.00</td>\n",
       "      <td>5</td>\n",
       "      <td>0</td>\n",
       "      <td>0</td>\n",
       "      <td>...</td>\n",
       "      <td>0</td>\n",
       "      <td>1</td>\n",
       "      <td>0</td>\n",
       "      <td>0</td>\n",
       "      <td>0</td>\n",
       "      <td>0</td>\n",
       "      <td>1</td>\n",
       "      <td>0</td>\n",
       "      <td>0</td>\n",
       "      <td>0</td>\n",
       "    </tr>\n",
       "    <tr>\n",
       "      <th>1</th>\n",
       "      <td>4821</td>\n",
       "      <td>2011</td>\n",
       "      <td>62000</td>\n",
       "      <td>1</td>\n",
       "      <td>19.81</td>\n",
       "      <td>1086</td>\n",
       "      <td>68.05</td>\n",
       "      <td>5</td>\n",
       "      <td>0</td>\n",
       "      <td>0</td>\n",
       "      <td>...</td>\n",
       "      <td>0</td>\n",
       "      <td>0</td>\n",
       "      <td>0</td>\n",
       "      <td>1</td>\n",
       "      <td>0</td>\n",
       "      <td>0</td>\n",
       "      <td>0</td>\n",
       "      <td>0</td>\n",
       "      <td>1</td>\n",
       "      <td>1</td>\n",
       "    </tr>\n",
       "    <tr>\n",
       "      <th>2</th>\n",
       "      <td>4822</td>\n",
       "      <td>2010</td>\n",
       "      <td>129986</td>\n",
       "      <td>2</td>\n",
       "      <td>20.00</td>\n",
       "      <td>1399</td>\n",
       "      <td>68.00</td>\n",
       "      <td>5</td>\n",
       "      <td>1</td>\n",
       "      <td>0</td>\n",
       "      <td>...</td>\n",
       "      <td>0</td>\n",
       "      <td>0</td>\n",
       "      <td>0</td>\n",
       "      <td>0</td>\n",
       "      <td>0</td>\n",
       "      <td>0</td>\n",
       "      <td>1</td>\n",
       "      <td>0</td>\n",
       "      <td>0</td>\n",
       "      <td>1</td>\n",
       "    </tr>\n",
       "    <tr>\n",
       "      <th>3</th>\n",
       "      <td>4823</td>\n",
       "      <td>2015</td>\n",
       "      <td>49900</td>\n",
       "      <td>1</td>\n",
       "      <td>20.85</td>\n",
       "      <td>1197</td>\n",
       "      <td>83.14</td>\n",
       "      <td>5</td>\n",
       "      <td>0</td>\n",
       "      <td>1</td>\n",
       "      <td>...</td>\n",
       "      <td>0</td>\n",
       "      <td>0</td>\n",
       "      <td>0</td>\n",
       "      <td>0</td>\n",
       "      <td>0</td>\n",
       "      <td>0</td>\n",
       "      <td>0</td>\n",
       "      <td>0</td>\n",
       "      <td>1</td>\n",
       "      <td>1</td>\n",
       "    </tr>\n",
       "    <tr>\n",
       "      <th>4</th>\n",
       "      <td>4824</td>\n",
       "      <td>2010</td>\n",
       "      <td>75319</td>\n",
       "      <td>2</td>\n",
       "      <td>21.10</td>\n",
       "      <td>1197</td>\n",
       "      <td>85.80</td>\n",
       "      <td>5</td>\n",
       "      <td>0</td>\n",
       "      <td>0</td>\n",
       "      <td>...</td>\n",
       "      <td>0</td>\n",
       "      <td>0</td>\n",
       "      <td>0</td>\n",
       "      <td>1</td>\n",
       "      <td>0</td>\n",
       "      <td>0</td>\n",
       "      <td>0</td>\n",
       "      <td>0</td>\n",
       "      <td>1</td>\n",
       "      <td>1</td>\n",
       "    </tr>\n",
       "  </tbody>\n",
       "</table>\n",
       "<p>5 rows × 22 columns</p>\n",
       "</div>"
      ],
      "text/plain": [
       "     id   Año  Kilometros  Mano  Consumo  Motor_CC  Potencia  Asientos  \\\n",
       "0  4820  2015       77771     1    19.27      2143    170.00         5   \n",
       "1  4821  2011       62000     1    19.81      1086     68.05         5   \n",
       "2  4822  2010      129986     2    20.00      1399     68.00         5   \n",
       "3  4823  2015       49900     1    20.85      1197     83.14         5   \n",
       "4  4824  2010       75319     2    21.10      1197     85.80         5   \n",
       "\n",
       "   Ciudad_C  Ciudad_D  ...  Ciudad_G  Ciudad_H  Ciudad_I  Ciudad_J  Ciudad_K  \\\n",
       "0         0         0  ...         0         1         0         0         0   \n",
       "1         0         0  ...         0         0         0         1         0   \n",
       "2         1         0  ...         0         0         0         0         0   \n",
       "3         0         1  ...         0         0         0         0         0   \n",
       "4         0         0  ...         0         0         0         1         0   \n",
       "\n",
       "   Ciudad_L  Combustible_Diesel  Combustible_LPG  Combustible_Petrol  \\\n",
       "0         0                   1                0                   0   \n",
       "1         0                   0                0                   1   \n",
       "2         0                   1                0                   0   \n",
       "3         0                   0                0                   1   \n",
       "4         0                   0                0                   1   \n",
       "\n",
       "   Tipo_marchas_Manual  \n",
       "0                    0  \n",
       "1                    1  \n",
       "2                    1  \n",
       "3                    1  \n",
       "4                    1  \n",
       "\n",
       "[5 rows x 22 columns]"
      ]
     },
     "execution_count": 114,
     "metadata": {},
     "output_type": "execute_result"
    }
   ],
   "source": [
    "car_test_3.head()"
   ]
  },
  {
   "cell_type": "code",
   "execution_count": 115,
   "metadata": {},
   "outputs": [
    {
     "data": {
      "text/plain": [
       "Index(['id', 'Año', 'Kilometros', 'Mano', 'Consumo', 'Motor_CC', 'Potencia',\n",
       "       'Asientos', 'Ciudad_C', 'Ciudad_D', 'Ciudad_E', 'Ciudad_F', 'Ciudad_G',\n",
       "       'Ciudad_H', 'Ciudad_I', 'Ciudad_J', 'Ciudad_K', 'Ciudad_L',\n",
       "       'Combustible_Diesel', 'Combustible_LPG', 'Combustible_Petrol',\n",
       "       'Tipo_marchas_Manual'],\n",
       "      dtype='object')"
      ]
     },
     "execution_count": 115,
     "metadata": {},
     "output_type": "execute_result"
    }
   ],
   "source": [
    "car_test_3.columns"
   ]
  },
  {
   "cell_type": "markdown",
   "metadata": {},
   "source": [
    "## Final features selection"
   ]
  },
  {
   "cell_type": "code",
   "execution_count": 116,
   "metadata": {},
   "outputs": [
    {
     "data": {
      "text/plain": [
       "Index(['Año', 'Kilometros', 'Mano', 'Consumo', 'Motor_CC', 'Potencia',\n",
       "       'Asientos', 'Precio_cat', 'Ciudad_C', 'Ciudad_D', 'Ciudad_E',\n",
       "       'Ciudad_F', 'Ciudad_G', 'Ciudad_H', 'Ciudad_I', 'Ciudad_J', 'Ciudad_K',\n",
       "       'Ciudad_L', 'Combustible_Diesel', 'Combustible_LPG',\n",
       "       'Combustible_Petrol', 'Tipo_marchas_Manual'],\n",
       "      dtype='object')"
      ]
     },
     "execution_count": 116,
     "metadata": {},
     "output_type": "execute_result"
    }
   ],
   "source": [
    "car_train_3.columns"
   ]
  },
  {
   "cell_type": "code",
   "execution_count": 117,
   "metadata": {},
   "outputs": [],
   "source": [
    "X = car_train_3.drop('Precio_cat', axis=1)\n",
    "y = car_train_3['Precio_cat']"
   ]
  },
  {
   "cell_type": "code",
   "execution_count": 118,
   "metadata": {},
   "outputs": [
    {
     "data": {
      "image/png": "[encoded data removed]",
      "text/plain": [
       "<Figure size 1296x1296 with 2 Axes>"
      ]
     },
     "metadata": {
      "needs_background": "light"
     },
     "output_type": "display_data"
    }
   ],
   "source": [
    "plt.figure(figsize=(18,18))\n",
    "sns.heatmap(car_train_3.corr(),annot=True,cmap='RdYlGn')\n",
    "\n",
    "plt.show()"
   ]
  },
  {
   "cell_type": "code",
   "execution_count": 119,
   "metadata": {},
   "outputs": [
    {
     "data": {
      "text/plain": [
       "ExtraTreesClassifier()"
      ]
     },
     "execution_count": 119,
     "metadata": {},
     "output_type": "execute_result"
    }
   ],
   "source": [
    "selection= ExtraTreesClassifier()\n",
    "selection.fit(X,y)"
   ]
  },
  {
   "cell_type": "code",
   "execution_count": 120,
   "metadata": {},
   "outputs": [
    {
     "data": {
      "image/png": "[encoded data removed]",
      "text/plain": [
       "<Figure size 864x576 with 1 Axes>"
      ]
     },
     "metadata": {
      "needs_background": "light"
     },
     "output_type": "display_data"
    }
   ],
   "source": [
    "#plot graph of feature importances for better visualization\n",
    "\n",
    "plt.figure(figsize = (12,8))\n",
    "feat_importances = pd.Series(selection.feature_importances_, index=X.columns)\n",
    "feat_importances.nlargest(20).plot(kind='barh')\n",
    "plt.show()"
   ]
  },
  {
   "cell_type": "markdown",
   "metadata": {},
   "source": [
    "## Construir el modelo"
   ]
  },
  {
   "cell_type": "code",
   "execution_count": 121,
   "metadata": {},
   "outputs": [],
   "source": [
    "scoring = \"accuracy\"\n",
    "N_SPLITS = 5"
   ]
  },
  {
   "cell_type": "code",
   "execution_count": 122,
   "metadata": {},
   "outputs": [],
   "source": [
    "X_train, X_test, y_train, y_test = train_test_split(X, y, test_size = 0.2, random_state = 25)"
   ]
  },
  {
   "cell_type": "code",
   "execution_count": 123,
   "metadata": {},
   "outputs": [
    {
     "name": "stdout",
     "output_type": "stream",
     "text": [
      "KNeighborsClassifier\n",
      "\n",
      "cross_val_score:  0.5118750000000001 0.01302041665999978\n",
      "Accuracy on Training set:  0.6671875\n",
      "Accuracy on Testing set:  0.5255930087390761\n",
      "\t\tError Table\n",
      "accuracy_score        :  0.5255930087390761\n",
      "f1_score macro        :  0.39461186552136185\n",
      "f1_score micro        :  0.5255930087390761\n",
      "precision_score macro :  0.43206912429535843\n",
      "precision_score micro :  0.5255930087390761\n",
      "recall_score macro.   :  0.3799098975753818\n",
      "recall_score micro.   :  0.5255930087390761\n",
      "\n",
      "DecisionTreeClassifier\n",
      "\n",
      "cross_val_score:  0.745 0.006202947887899761\n",
      "Accuracy on Training set:  1.0\n",
      "Accuracy on Testing set:  0.7640449438202247\n",
      "\t\tError Table\n",
      "accuracy_score        :  0.7640449438202247\n",
      "f1_score macro        :  0.7280697575768901\n",
      "f1_score micro        :  0.7640449438202248\n",
      "precision_score macro :  0.7326846142169996\n",
      "precision_score micro :  0.7640449438202247\n",
      "recall_score macro.   :  0.725069073704651\n",
      "recall_score micro.   :  0.7640449438202247\n",
      "\n",
      "RandomForestClassifier\n",
      "\n",
      "cross_val_score:  0.8081249999999999 0.009550441743710067\n",
      "Accuracy on Training set:  0.9996875\n",
      "Accuracy on Testing set:  0.850187265917603\n",
      "\t\tError Table\n",
      "accuracy_score        :  0.850187265917603\n",
      "f1_score macro        :  0.8139465843004767\n",
      "f1_score micro        :  0.850187265917603\n",
      "precision_score macro :  0.8545021478666808\n",
      "precision_score micro :  0.850187265917603\n",
      "recall_score macro.   :  0.7888084496694315\n",
      "recall_score micro.   :  0.850187265917603\n",
      "\n",
      "ExtraTreesClassifier\n",
      "\n",
      "cross_val_score:  0.7831250000000001 0.017880899376149943\n",
      "Accuracy on Training set:  1.0\n",
      "Accuracy on Testing set:  0.8077403245942572\n",
      "\t\tError Table\n",
      "accuracy_score        :  0.8077403245942572\n",
      "f1_score macro        :  0.7632145590524104\n",
      "f1_score micro        :  0.8077403245942573\n",
      "precision_score macro :  0.7958875684605247\n",
      "precision_score micro :  0.8077403245942572\n",
      "recall_score macro.   :  0.7397054773982237\n",
      "recall_score micro.   :  0.8077403245942572\n",
      "\n",
      "AdaBoostClassifier\n",
      "\n",
      "cross_val_score:  0.628125 0.06720566614877052\n",
      "Accuracy on Training set:  0.6603125\n",
      "Accuracy on Testing set:  0.6591760299625468\n",
      "\t\tError Table\n",
      "accuracy_score        :  0.6591760299625468\n",
      "f1_score macro        :  0.6074305336048417\n",
      "f1_score micro        :  0.6591760299625468\n",
      "precision_score macro :  0.5980002957517353\n",
      "precision_score micro :  0.6591760299625468\n",
      "recall_score macro.   :  0.6247251948362489\n",
      "recall_score micro.   :  0.6591760299625468\n"
     ]
    }
   ],
   "source": [
    "classifier_models(X_train, X_test, y_train, y_test, scoring, N_SPLITS)"
   ]
  },
  {
   "cell_type": "code",
   "execution_count": 124,
   "metadata": {},
   "outputs": [],
   "source": [
    "# StandardScaler\n",
    "sc = StandardScaler()\n",
    "X_train_standard = sc.fit_transform(X_train)\n",
    "X_test_standard = sc.fit_transform(X_test)"
   ]
  },
  {
   "cell_type": "code",
   "execution_count": 125,
   "metadata": {},
   "outputs": [
    {
     "name": "stdout",
     "output_type": "stream",
     "text": [
      "KNeighborsClassifier\n",
      "\n",
      "cross_val_score:  0.6903124999999999 0.020019521722558706\n",
      "Accuracy on Training set:  0.7896875\n",
      "Accuracy on Testing set:  0.7378277153558053\n",
      "\t\tError Table\n",
      "accuracy_score        :  0.7378277153558053\n",
      "f1_score macro        :  0.6927013731862174\n",
      "f1_score micro        :  0.7378277153558053\n",
      "precision_score macro :  0.7179163075048771\n",
      "precision_score micro :  0.7378277153558053\n",
      "recall_score macro.   :  0.672845828918202\n",
      "recall_score micro.   :  0.7378277153558053\n",
      "\n",
      "DecisionTreeClassifier\n",
      "\n",
      "cross_val_score:  0.7446875 0.006449927325171981\n",
      "Accuracy on Training set:  1.0\n",
      "Accuracy on Testing set:  0.7240948813982522\n",
      "\t\tError Table\n",
      "accuracy_score        :  0.7240948813982522\n",
      "f1_score macro        :  0.688081112460602\n",
      "f1_score micro        :  0.7240948813982522\n",
      "precision_score macro :  0.6947831563104424\n",
      "precision_score micro :  0.7240948813982522\n",
      "recall_score macro.   :  0.6855933984667643\n",
      "recall_score micro.   :  0.7240948813982522\n",
      "\n",
      "RandomForestClassifier\n",
      "\n",
      "cross_val_score:  0.8071875000000001 0.010203017323321564\n",
      "Accuracy on Training set:  0.9996875\n",
      "Accuracy on Testing set:  0.8139825218476904\n",
      "\t\tError Table\n",
      "accuracy_score        :  0.8139825218476904\n",
      "f1_score macro        :  0.7780341323829141\n",
      "f1_score micro        :  0.8139825218476904\n",
      "precision_score macro :  0.8149454027746887\n",
      "precision_score micro :  0.8139825218476904\n",
      "recall_score macro.   :  0.7522289961076138\n",
      "recall_score micro.   :  0.8139825218476904\n",
      "\n",
      "ExtraTreesClassifier\n",
      "\n",
      "cross_val_score:  0.7831250000000001 0.017880899376149943\n",
      "Accuracy on Training set:  1.0\n",
      "Accuracy on Testing set:  0.8002496878901373\n",
      "\t\tError Table\n",
      "accuracy_score        :  0.8002496878901373\n",
      "f1_score macro        :  0.7517081864121934\n",
      "f1_score micro        :  0.8002496878901373\n",
      "precision_score macro :  0.7742673862718801\n",
      "precision_score micro :  0.8002496878901373\n",
      "recall_score macro.   :  0.7342112349865448\n",
      "recall_score micro.   :  0.8002496878901373\n",
      "\n",
      "AdaBoostClassifier\n",
      "\n",
      "cross_val_score:  0.628125 0.06720566614877052\n",
      "Accuracy on Training set:  0.6603125\n",
      "Accuracy on Testing set:  0.6229712858926342\n",
      "\t\tError Table\n",
      "accuracy_score        :  0.6229712858926342\n",
      "f1_score macro        :  0.5705816374303547\n",
      "f1_score micro        :  0.6229712858926342\n",
      "precision_score macro :  0.5612454968627958\n",
      "precision_score micro :  0.6229712858926342\n",
      "recall_score macro.   :  0.5950390009959958\n",
      "recall_score micro.   :  0.6229712858926342\n"
     ]
    }
   ],
   "source": [
    "classifier_models(X_train_standard, X_test_standard, y_train, y_test, scoring, N_SPLITS)"
   ]
  },
  {
   "cell_type": "code",
   "execution_count": 126,
   "metadata": {},
   "outputs": [
    {
     "name": "stdout",
     "output_type": "stream",
     "text": [
      "\n",
      "SVM\n",
      "\n",
      "\n",
      "linear\n",
      "\n",
      "cross_val_score:  0.773125 0.006510208329999916\n",
      "Accuracy on Training set:  0.779375\n",
      "Accuracy on Testing set:  0.7602996254681648\n",
      "\t\tError Table\n",
      "accuracy_score        :  0.7602996254681648\n",
      "f1_score macro        :  0.7142949200484953\n",
      "f1_score micro        :  0.7602996254681647\n",
      "precision_score macro :  0.73949692985675\n",
      "precision_score micro :  0.7602996254681648\n",
      "recall_score macro.   :  0.6954164573597146\n",
      "recall_score micro.   :  0.7602996254681648\n",
      "\n",
      "poly\n",
      "\n",
      "cross_val_score:  0.7115625 0.01271686871835987\n",
      "Accuracy on Training set:  0.7721875\n",
      "Accuracy on Testing set:  0.7465667915106118\n",
      "\t\tError Table\n",
      "accuracy_score        :  0.7465667915106118\n",
      "f1_score macro        :  0.685326063056158\n",
      "f1_score micro        :  0.7465667915106118\n",
      "precision_score macro :  0.7731217528396546\n",
      "precision_score micro :  0.7465667915106118\n",
      "recall_score macro.   :  0.6385720621740477\n",
      "recall_score micro.   :  0.7465667915106118\n",
      "\n",
      "rbf\n",
      "\n",
      "cross_val_score:  0.7609374999999999 0.01104854345603983\n",
      "Accuracy on Training set:  0.8053125\n",
      "Accuracy on Testing set:  0.7890137328339576\n",
      "\t\tError Table\n",
      "accuracy_score        :  0.7890137328339576\n",
      "f1_score macro        :  0.7370183101821519\n",
      "f1_score micro        :  0.7890137328339576\n",
      "precision_score macro :  0.8043291831141273\n",
      "precision_score micro :  0.7890137328339576\n",
      "recall_score macro.   :  0.6995714277449904\n",
      "recall_score micro.   :  0.7890137328339576\n",
      "\n",
      "sigmoid\n",
      "\n",
      "cross_val_score:  0.6775 0.022110341189135924\n",
      "Accuracy on Training set:  0.6559375\n",
      "Accuracy on Testing set:  0.66541822721598\n",
      "\t\tError Table\n",
      "accuracy_score        :  0.66541822721598\n",
      "f1_score macro        :  0.6213797141450282\n",
      "f1_score micro        :  0.66541822721598\n",
      "precision_score macro :  0.648243898640841\n",
      "precision_score micro :  0.66541822721598\n",
      "recall_score macro.   :  0.6019428377491074\n",
      "recall_score micro.   :  0.66541822721598\n"
     ]
    }
   ],
   "source": [
    "svm_models(X_train_standard, X_test_standard, y_train, y_test, scoring, N_SPLITS)"
   ]
  },
  {
   "cell_type": "markdown",
   "metadata": {},
   "source": [
    "## Best Random Forest Classifier"
   ]
  },
  {
   "cell_type": "code",
   "execution_count": 127,
   "metadata": {},
   "outputs": [],
   "source": [
    "#Randomized Search CV\n",
    "\n",
    "# Number of trees in random forest\n",
    "n_estimators = [int(x) for x in np.linspace(start = 100, stop = 1200, num = 12)]\n",
    "# Number of features to consider at every split\n",
    "max_features = ['auto', 'sqrt']\n",
    "# Maximum number of levels in tree\n",
    "max_depth = [int(x) for x in np.linspace(5, 30, num = 6)]\n",
    "# Minimum number of samples required to split a node\n",
    "min_samples_split = [2, 5, 10, 15, 100]\n",
    "# Minimum number of samples required at each leaf node\n",
    "min_samples_leaf = [1, 2, 5, 10]"
   ]
  },
  {
   "cell_type": "code",
   "execution_count": 128,
   "metadata": {},
   "outputs": [],
   "source": [
    "rf_grid = {'n_estimators': n_estimators,\n",
    "           'max_features': max_features,\n",
    "           'max_depth': max_depth,\n",
    "           'min_samples_split': min_samples_split,\n",
    "           'min_samples_leaf': min_samples_leaf}"
   ]
  },
  {
   "cell_type": "code",
   "execution_count": 129,
   "metadata": {},
   "outputs": [],
   "source": [
    "# search across 100 different combinations\n",
    "rf_random = RandomizedSearchCV(estimator = RandomForestClassifier(), \n",
    "                               param_distributions = rf_grid, \n",
    "                               scoring=scoring, \n",
    "                               n_iter = 15, cv = 5, verbose=2, random_state=42, n_jobs = 1)"
   ]
  },
  {
   "cell_type": "code",
   "execution_count": 130,
   "metadata": {},
   "outputs": [
    {
     "name": "stdout",
     "output_type": "stream",
     "text": [
      "Fitting 5 folds for each of 15 candidates, totalling 75 fits\n",
      "[CV] n_estimators=900, min_samples_split=5, min_samples_leaf=5, max_features=sqrt, max_depth=10 \n"
     ]
    },
    {
     "name": "stderr",
     "output_type": "stream",
     "text": [
      "[Parallel(n_jobs=1)]: Using backend SequentialBackend with 1 concurrent workers.\n"
     ]
    },
    {
     "name": "stdout",
     "output_type": "stream",
     "text": [
      "[CV]  n_estimators=900, min_samples_split=5, min_samples_leaf=5, max_features=sqrt, max_depth=10, total=   3.7s\n",
      "[CV] n_estimators=900, min_samples_split=5, min_samples_leaf=5, max_features=sqrt, max_depth=10 \n"
     ]
    },
    {
     "name": "stderr",
     "output_type": "stream",
     "text": [
      "[Parallel(n_jobs=1)]: Done   1 out of   1 | elapsed:    3.7s remaining:    0.0s\n"
     ]
    },
    {
     "name": "stdout",
     "output_type": "stream",
     "text": [
      "[CV]  n_estimators=900, min_samples_split=5, min_samples_leaf=5, max_features=sqrt, max_depth=10, total=   2.8s\n",
      "[CV] n_estimators=900, min_samples_split=5, min_samples_leaf=5, max_features=sqrt, max_depth=10 \n",
      "[CV]  n_estimators=900, min_samples_split=5, min_samples_leaf=5, max_features=sqrt, max_depth=10, total=   3.5s\n",
      "[CV] n_estimators=900, min_samples_split=5, min_samples_leaf=5, max_features=sqrt, max_depth=10 \n",
      "[CV]  n_estimators=900, min_samples_split=5, min_samples_leaf=5, max_features=sqrt, max_depth=10, total=   4.0s\n",
      "[CV] n_estimators=900, min_samples_split=5, min_samples_leaf=5, max_features=sqrt, max_depth=10 \n",
      "[CV]  n_estimators=900, min_samples_split=5, min_samples_leaf=5, max_features=sqrt, max_depth=10, total=   3.6s\n",
      "[CV] n_estimators=1100, min_samples_split=10, min_samples_leaf=2, max_features=sqrt, max_depth=15 \n",
      "[CV]  n_estimators=1100, min_samples_split=10, min_samples_leaf=2, max_features=sqrt, max_depth=15, total=   4.8s\n",
      "[CV] n_estimators=1100, min_samples_split=10, min_samples_leaf=2, max_features=sqrt, max_depth=15 \n",
      "[CV]  n_estimators=1100, min_samples_split=10, min_samples_leaf=2, max_features=sqrt, max_depth=15, total=   6.0s\n",
      "[CV] n_estimators=1100, min_samples_split=10, min_samples_leaf=2, max_features=sqrt, max_depth=15 \n",
      "[CV]  n_estimators=1100, min_samples_split=10, min_samples_leaf=2, max_features=sqrt, max_depth=15, total=   3.6s\n",
      "[CV] n_estimators=1100, min_samples_split=10, min_samples_leaf=2, max_features=sqrt, max_depth=15 \n",
      "[CV]  n_estimators=1100, min_samples_split=10, min_samples_leaf=2, max_features=sqrt, max_depth=15, total=   3.3s\n",
      "[CV] n_estimators=1100, min_samples_split=10, min_samples_leaf=2, max_features=sqrt, max_depth=15 \n",
      "[CV]  n_estimators=1100, min_samples_split=10, min_samples_leaf=2, max_features=sqrt, max_depth=15, total=   3.5s\n",
      "[CV] n_estimators=300, min_samples_split=100, min_samples_leaf=5, max_features=auto, max_depth=15 \n",
      "[CV]  n_estimators=300, min_samples_split=100, min_samples_leaf=5, max_features=auto, max_depth=15, total=   0.7s\n",
      "[CV] n_estimators=300, min_samples_split=100, min_samples_leaf=5, max_features=auto, max_depth=15 \n",
      "[CV]  n_estimators=300, min_samples_split=100, min_samples_leaf=5, max_features=auto, max_depth=15, total=   0.7s\n",
      "[CV] n_estimators=300, min_samples_split=100, min_samples_leaf=5, max_features=auto, max_depth=15 \n",
      "[CV]  n_estimators=300, min_samples_split=100, min_samples_leaf=5, max_features=auto, max_depth=15, total=   0.8s\n",
      "[CV] n_estimators=300, min_samples_split=100, min_samples_leaf=5, max_features=auto, max_depth=15 \n",
      "[CV]  n_estimators=300, min_samples_split=100, min_samples_leaf=5, max_features=auto, max_depth=15, total=   0.7s\n",
      "[CV] n_estimators=300, min_samples_split=100, min_samples_leaf=5, max_features=auto, max_depth=15 \n",
      "[CV]  n_estimators=300, min_samples_split=100, min_samples_leaf=5, max_features=auto, max_depth=15, total=   0.7s\n",
      "[CV] n_estimators=400, min_samples_split=5, min_samples_leaf=5, max_features=auto, max_depth=15 \n",
      "[CV]  n_estimators=400, min_samples_split=5, min_samples_leaf=5, max_features=auto, max_depth=15, total=   1.2s\n",
      "[CV] n_estimators=400, min_samples_split=5, min_samples_leaf=5, max_features=auto, max_depth=15 \n",
      "[CV]  n_estimators=400, min_samples_split=5, min_samples_leaf=5, max_features=auto, max_depth=15, total=   1.4s\n",
      "[CV] n_estimators=400, min_samples_split=5, min_samples_leaf=5, max_features=auto, max_depth=15 \n",
      "[CV]  n_estimators=400, min_samples_split=5, min_samples_leaf=5, max_features=auto, max_depth=15, total=   1.2s\n",
      "[CV] n_estimators=400, min_samples_split=5, min_samples_leaf=5, max_features=auto, max_depth=15 \n",
      "[CV]  n_estimators=400, min_samples_split=5, min_samples_leaf=5, max_features=auto, max_depth=15, total=   1.3s\n",
      "[CV] n_estimators=400, min_samples_split=5, min_samples_leaf=5, max_features=auto, max_depth=15 \n",
      "[CV]  n_estimators=400, min_samples_split=5, min_samples_leaf=5, max_features=auto, max_depth=15, total=   1.1s\n",
      "[CV] n_estimators=700, min_samples_split=5, min_samples_leaf=10, max_features=auto, max_depth=20 \n",
      "[CV]  n_estimators=700, min_samples_split=5, min_samples_leaf=10, max_features=auto, max_depth=20, total=   1.8s\n",
      "[CV] n_estimators=700, min_samples_split=5, min_samples_leaf=10, max_features=auto, max_depth=20 \n",
      "[CV]  n_estimators=700, min_samples_split=5, min_samples_leaf=10, max_features=auto, max_depth=20, total=   1.9s\n",
      "[CV] n_estimators=700, min_samples_split=5, min_samples_leaf=10, max_features=auto, max_depth=20 \n",
      "[CV]  n_estimators=700, min_samples_split=5, min_samples_leaf=10, max_features=auto, max_depth=20, total=   1.8s\n",
      "[CV] n_estimators=700, min_samples_split=5, min_samples_leaf=10, max_features=auto, max_depth=20 \n",
      "[CV]  n_estimators=700, min_samples_split=5, min_samples_leaf=10, max_features=auto, max_depth=20, total=   2.2s\n",
      "[CV] n_estimators=700, min_samples_split=5, min_samples_leaf=10, max_features=auto, max_depth=20 \n",
      "[CV]  n_estimators=700, min_samples_split=5, min_samples_leaf=10, max_features=auto, max_depth=20, total=   2.9s\n",
      "[CV] n_estimators=1000, min_samples_split=2, min_samples_leaf=1, max_features=sqrt, max_depth=25 \n",
      "[CV]  n_estimators=1000, min_samples_split=2, min_samples_leaf=1, max_features=sqrt, max_depth=25, total=   3.7s\n",
      "[CV] n_estimators=1000, min_samples_split=2, min_samples_leaf=1, max_features=sqrt, max_depth=25 \n",
      "[CV]  n_estimators=1000, min_samples_split=2, min_samples_leaf=1, max_features=sqrt, max_depth=25, total=   3.5s\n",
      "[CV] n_estimators=1000, min_samples_split=2, min_samples_leaf=1, max_features=sqrt, max_depth=25 \n",
      "[CV]  n_estimators=1000, min_samples_split=2, min_samples_leaf=1, max_features=sqrt, max_depth=25, total=   3.7s\n",
      "[CV] n_estimators=1000, min_samples_split=2, min_samples_leaf=1, max_features=sqrt, max_depth=25 \n",
      "[CV]  n_estimators=1000, min_samples_split=2, min_samples_leaf=1, max_features=sqrt, max_depth=25, total=   3.5s\n",
      "[CV] n_estimators=1000, min_samples_split=2, min_samples_leaf=1, max_features=sqrt, max_depth=25 \n",
      "[CV]  n_estimators=1000, min_samples_split=2, min_samples_leaf=1, max_features=sqrt, max_depth=25, total=   3.8s\n",
      "[CV] n_estimators=1100, min_samples_split=15, min_samples_leaf=10, max_features=sqrt, max_depth=5 \n",
      "[CV]  n_estimators=1100, min_samples_split=15, min_samples_leaf=10, max_features=sqrt, max_depth=5, total=   2.4s\n",
      "[CV] n_estimators=1100, min_samples_split=15, min_samples_leaf=10, max_features=sqrt, max_depth=5 \n",
      "[CV]  n_estimators=1100, min_samples_split=15, min_samples_leaf=10, max_features=sqrt, max_depth=5, total=   2.3s\n",
      "[CV] n_estimators=1100, min_samples_split=15, min_samples_leaf=10, max_features=sqrt, max_depth=5 \n",
      "[CV]  n_estimators=1100, min_samples_split=15, min_samples_leaf=10, max_features=sqrt, max_depth=5, total=   2.4s\n",
      "[CV] n_estimators=1100, min_samples_split=15, min_samples_leaf=10, max_features=sqrt, max_depth=5 \n",
      "[CV]  n_estimators=1100, min_samples_split=15, min_samples_leaf=10, max_features=sqrt, max_depth=5, total=   2.5s\n",
      "[CV] n_estimators=1100, min_samples_split=15, min_samples_leaf=10, max_features=sqrt, max_depth=5 \n",
      "[CV]  n_estimators=1100, min_samples_split=15, min_samples_leaf=10, max_features=sqrt, max_depth=5, total=   3.1s\n",
      "[CV] n_estimators=300, min_samples_split=15, min_samples_leaf=1, max_features=sqrt, max_depth=15 \n",
      "[CV]  n_estimators=300, min_samples_split=15, min_samples_leaf=1, max_features=sqrt, max_depth=15, total=   1.4s\n",
      "[CV] n_estimators=300, min_samples_split=15, min_samples_leaf=1, max_features=sqrt, max_depth=15 \n",
      "[CV]  n_estimators=300, min_samples_split=15, min_samples_leaf=1, max_features=sqrt, max_depth=15, total=   1.0s\n",
      "[CV] n_estimators=300, min_samples_split=15, min_samples_leaf=1, max_features=sqrt, max_depth=15 \n",
      "[CV]  n_estimators=300, min_samples_split=15, min_samples_leaf=1, max_features=sqrt, max_depth=15, total=   1.3s\n",
      "[CV] n_estimators=300, min_samples_split=15, min_samples_leaf=1, max_features=sqrt, max_depth=15 \n",
      "[CV]  n_estimators=300, min_samples_split=15, min_samples_leaf=1, max_features=sqrt, max_depth=15, total=   1.2s\n",
      "[CV] n_estimators=300, min_samples_split=15, min_samples_leaf=1, max_features=sqrt, max_depth=15 \n",
      "[CV]  n_estimators=300, min_samples_split=15, min_samples_leaf=1, max_features=sqrt, max_depth=15, total=   1.5s\n",
      "[CV] n_estimators=700, min_samples_split=10, min_samples_leaf=2, max_features=sqrt, max_depth=5 \n"
     ]
    },
    {
     "name": "stdout",
     "output_type": "stream",
     "text": [
      "[CV]  n_estimators=700, min_samples_split=10, min_samples_leaf=2, max_features=sqrt, max_depth=5, total=   3.0s\n",
      "[CV] n_estimators=700, min_samples_split=10, min_samples_leaf=2, max_features=sqrt, max_depth=5 \n",
      "[CV]  n_estimators=700, min_samples_split=10, min_samples_leaf=2, max_features=sqrt, max_depth=5, total=   1.7s\n",
      "[CV] n_estimators=700, min_samples_split=10, min_samples_leaf=2, max_features=sqrt, max_depth=5 \n",
      "[CV]  n_estimators=700, min_samples_split=10, min_samples_leaf=2, max_features=sqrt, max_depth=5, total=   3.0s\n",
      "[CV] n_estimators=700, min_samples_split=10, min_samples_leaf=2, max_features=sqrt, max_depth=5 \n",
      "[CV]  n_estimators=700, min_samples_split=10, min_samples_leaf=2, max_features=sqrt, max_depth=5, total=   2.2s\n",
      "[CV] n_estimators=700, min_samples_split=10, min_samples_leaf=2, max_features=sqrt, max_depth=5 \n",
      "[CV]  n_estimators=700, min_samples_split=10, min_samples_leaf=2, max_features=sqrt, max_depth=5, total=   2.2s\n",
      "[CV] n_estimators=700, min_samples_split=15, min_samples_leaf=1, max_features=auto, max_depth=20 \n",
      "[CV]  n_estimators=700, min_samples_split=15, min_samples_leaf=1, max_features=auto, max_depth=20, total=   3.9s\n",
      "[CV] n_estimators=700, min_samples_split=15, min_samples_leaf=1, max_features=auto, max_depth=20 \n",
      "[CV]  n_estimators=700, min_samples_split=15, min_samples_leaf=1, max_features=auto, max_depth=20, total=   4.8s\n",
      "[CV] n_estimators=700, min_samples_split=15, min_samples_leaf=1, max_features=auto, max_depth=20 \n",
      "[CV]  n_estimators=700, min_samples_split=15, min_samples_leaf=1, max_features=auto, max_depth=20, total=   3.0s\n",
      "[CV] n_estimators=700, min_samples_split=15, min_samples_leaf=1, max_features=auto, max_depth=20 \n",
      "[CV]  n_estimators=700, min_samples_split=15, min_samples_leaf=1, max_features=auto, max_depth=20, total=   2.1s\n",
      "[CV] n_estimators=700, min_samples_split=15, min_samples_leaf=1, max_features=auto, max_depth=20 \n",
      "[CV]  n_estimators=700, min_samples_split=15, min_samples_leaf=1, max_features=auto, max_depth=20, total=   2.1s\n",
      "[CV] n_estimators=1200, min_samples_split=10, min_samples_leaf=10, max_features=auto, max_depth=25 \n",
      "[CV]  n_estimators=1200, min_samples_split=10, min_samples_leaf=10, max_features=auto, max_depth=25, total=   3.4s\n",
      "[CV] n_estimators=1200, min_samples_split=10, min_samples_leaf=10, max_features=auto, max_depth=25 \n",
      "[CV]  n_estimators=1200, min_samples_split=10, min_samples_leaf=10, max_features=auto, max_depth=25, total=   3.5s\n",
      "[CV] n_estimators=1200, min_samples_split=10, min_samples_leaf=10, max_features=auto, max_depth=25 \n",
      "[CV]  n_estimators=1200, min_samples_split=10, min_samples_leaf=10, max_features=auto, max_depth=25, total=   3.3s\n",
      "[CV] n_estimators=1200, min_samples_split=10, min_samples_leaf=10, max_features=auto, max_depth=25 \n",
      "[CV]  n_estimators=1200, min_samples_split=10, min_samples_leaf=10, max_features=auto, max_depth=25, total=   3.5s\n",
      "[CV] n_estimators=1200, min_samples_split=10, min_samples_leaf=10, max_features=auto, max_depth=25 \n",
      "[CV]  n_estimators=1200, min_samples_split=10, min_samples_leaf=10, max_features=auto, max_depth=25, total=   3.4s\n",
      "[CV] n_estimators=1100, min_samples_split=2, min_samples_leaf=5, max_features=auto, max_depth=5 \n",
      "[CV]  n_estimators=1100, min_samples_split=2, min_samples_leaf=5, max_features=auto, max_depth=5, total=   2.6s\n",
      "[CV] n_estimators=1100, min_samples_split=2, min_samples_leaf=5, max_features=auto, max_depth=5 \n",
      "[CV]  n_estimators=1100, min_samples_split=2, min_samples_leaf=5, max_features=auto, max_depth=5, total=   4.2s\n",
      "[CV] n_estimators=1100, min_samples_split=2, min_samples_leaf=5, max_features=auto, max_depth=5 \n",
      "[CV]  n_estimators=1100, min_samples_split=2, min_samples_leaf=5, max_features=auto, max_depth=5, total=   2.9s\n",
      "[CV] n_estimators=1100, min_samples_split=2, min_samples_leaf=5, max_features=auto, max_depth=5 \n",
      "[CV]  n_estimators=1100, min_samples_split=2, min_samples_leaf=5, max_features=auto, max_depth=5, total=   2.5s\n",
      "[CV] n_estimators=1100, min_samples_split=2, min_samples_leaf=5, max_features=auto, max_depth=5 \n",
      "[CV]  n_estimators=1100, min_samples_split=2, min_samples_leaf=5, max_features=auto, max_depth=5, total=   2.5s\n",
      "[CV] n_estimators=600, min_samples_split=2, min_samples_leaf=1, max_features=sqrt, max_depth=20 \n",
      "[CV]  n_estimators=600, min_samples_split=2, min_samples_leaf=1, max_features=sqrt, max_depth=20, total=   2.9s\n",
      "[CV] n_estimators=600, min_samples_split=2, min_samples_leaf=1, max_features=sqrt, max_depth=20 \n",
      "[CV]  n_estimators=600, min_samples_split=2, min_samples_leaf=1, max_features=sqrt, max_depth=20, total=   2.6s\n",
      "[CV] n_estimators=600, min_samples_split=2, min_samples_leaf=1, max_features=sqrt, max_depth=20 \n",
      "[CV]  n_estimators=600, min_samples_split=2, min_samples_leaf=1, max_features=sqrt, max_depth=20, total=   3.6s\n",
      "[CV] n_estimators=600, min_samples_split=2, min_samples_leaf=1, max_features=sqrt, max_depth=20 \n",
      "[CV]  n_estimators=600, min_samples_split=2, min_samples_leaf=1, max_features=sqrt, max_depth=20, total=   2.9s\n",
      "[CV] n_estimators=600, min_samples_split=2, min_samples_leaf=1, max_features=sqrt, max_depth=20 \n",
      "[CV]  n_estimators=600, min_samples_split=2, min_samples_leaf=1, max_features=sqrt, max_depth=20, total=   2.8s\n",
      "[CV] n_estimators=200, min_samples_split=100, min_samples_leaf=1, max_features=sqrt, max_depth=10 \n",
      "[CV]  n_estimators=200, min_samples_split=100, min_samples_leaf=1, max_features=sqrt, max_depth=10, total=   0.5s\n",
      "[CV] n_estimators=200, min_samples_split=100, min_samples_leaf=1, max_features=sqrt, max_depth=10 \n",
      "[CV]  n_estimators=200, min_samples_split=100, min_samples_leaf=1, max_features=sqrt, max_depth=10, total=   0.5s\n",
      "[CV] n_estimators=200, min_samples_split=100, min_samples_leaf=1, max_features=sqrt, max_depth=10 \n",
      "[CV]  n_estimators=200, min_samples_split=100, min_samples_leaf=1, max_features=sqrt, max_depth=10, total=   0.6s\n",
      "[CV] n_estimators=200, min_samples_split=100, min_samples_leaf=1, max_features=sqrt, max_depth=10 \n",
      "[CV]  n_estimators=200, min_samples_split=100, min_samples_leaf=1, max_features=sqrt, max_depth=10, total=   0.6s\n",
      "[CV] n_estimators=200, min_samples_split=100, min_samples_leaf=1, max_features=sqrt, max_depth=10 \n",
      "[CV]  n_estimators=200, min_samples_split=100, min_samples_leaf=1, max_features=sqrt, max_depth=10, total=   0.6s\n",
      "[CV] n_estimators=400, min_samples_split=100, min_samples_leaf=10, max_features=sqrt, max_depth=25 \n",
      "[CV]  n_estimators=400, min_samples_split=100, min_samples_leaf=10, max_features=sqrt, max_depth=25, total=   1.4s\n",
      "[CV] n_estimators=400, min_samples_split=100, min_samples_leaf=10, max_features=sqrt, max_depth=25 \n",
      "[CV]  n_estimators=400, min_samples_split=100, min_samples_leaf=10, max_features=sqrt, max_depth=25, total=   1.4s\n",
      "[CV] n_estimators=400, min_samples_split=100, min_samples_leaf=10, max_features=sqrt, max_depth=25 \n",
      "[CV]  n_estimators=400, min_samples_split=100, min_samples_leaf=10, max_features=sqrt, max_depth=25, total=   1.5s\n",
      "[CV] n_estimators=400, min_samples_split=100, min_samples_leaf=10, max_features=sqrt, max_depth=25 \n",
      "[CV]  n_estimators=400, min_samples_split=100, min_samples_leaf=10, max_features=sqrt, max_depth=25, total=   1.5s\n",
      "[CV] n_estimators=400, min_samples_split=100, min_samples_leaf=10, max_features=sqrt, max_depth=25 \n",
      "[CV]  n_estimators=400, min_samples_split=100, min_samples_leaf=10, max_features=sqrt, max_depth=25, total=   1.2s\n"
     ]
    },
    {
     "name": "stderr",
     "output_type": "stream",
     "text": [
      "[Parallel(n_jobs=1)]: Done  75 out of  75 | elapsed:  3.0min finished\n"
     ]
    },
    {
     "data": {
      "text/plain": [
       "RandomizedSearchCV(cv=5, estimator=RandomForestClassifier(), n_iter=15,\n",
       "                   n_jobs=1,\n",
       "                   param_distributions={'max_depth': [5, 10, 15, 20, 25, 30],\n",
       "                                        'max_features': ['auto', 'sqrt'],\n",
       "                                        'min_samples_leaf': [1, 2, 5, 10],\n",
       "                                        'min_samples_split': [2, 5, 10, 15,\n",
       "                                                              100],\n",
       "                                        'n_estimators': [100, 200, 300, 400,\n",
       "                                                         500, 600, 700, 800,\n",
       "                                                         900, 1000, 1100,\n",
       "                                                         1200]},\n",
       "                   random_state=42, scoring='accuracy', verbose=2)"
      ]
     },
     "execution_count": 130,
     "metadata": {},
     "output_type": "execute_result"
    }
   ],
   "source": [
    "rf_random.fit(X_train, y_train)"
   ]
  },
  {
   "cell_type": "code",
   "execution_count": 131,
   "metadata": {},
   "outputs": [
    {
     "data": {
      "text/plain": [
       "{'n_estimators': 1000,\n",
       " 'min_samples_split': 2,\n",
       " 'min_samples_leaf': 1,\n",
       " 'max_features': 'sqrt',\n",
       " 'max_depth': 25}"
      ]
     },
     "execution_count": 131,
     "metadata": {},
     "output_type": "execute_result"
    }
   ],
   "source": [
    "rf_random.best_params_"
   ]
  },
  {
   "cell_type": "code",
   "execution_count": 132,
   "metadata": {},
   "outputs": [],
   "source": [
    "best_rfc = RandomForestClassifier(n_estimators = 1000, min_samples_split = 2,\n",
    "                                  min_samples_leaf = 1, max_features = 'sqrt', max_depth = 25)"
   ]
  },
  {
   "cell_type": "code",
   "execution_count": 133,
   "metadata": {},
   "outputs": [
    {
     "name": "stdout",
     "output_type": "stream",
     "text": [
      "cross_val_score:  0.8121875000000001 0.007743444808352433\n",
      "Accuracy on Training set:  1.0\n",
      "Accuracy on Testing set:  0.8476903870162297\n",
      "\t\tError Table\n",
      "accuracy_score        :  0.8476903870162297\n",
      "f1_score macro        :  0.8075606925342624\n",
      "f1_score micro        :  0.8476903870162297\n",
      "precision_score macro :  0.8426020704552298\n",
      "precision_score micro :  0.8476903870162297\n",
      "recall_score macro.   :  0.7836262489719452\n",
      "recall_score micro.   :  0.8476903870162297\n"
     ]
    }
   ],
   "source": [
    "model_report(best_rfc, X_train, X_test, y_train, y_test, scoring, N_SPLITS)"
   ]
  },
  {
   "cell_type": "markdown",
   "metadata": {},
   "source": [
    "### Best SVC "
   ]
  },
  {
   "cell_type": "code",
   "execution_count": 134,
   "metadata": {},
   "outputs": [],
   "source": [
    "# Create the random grid\n",
    "\n",
    "random_grid = {'kernel': ['linear', 'poly', 'rbf', 'sigmoid'],\n",
    "               'gamma': ['scale', 'auto'],\n",
    "               'C': [0.1,1, 10, 100]}"
   ]
  },
  {
   "cell_type": "code",
   "execution_count": 135,
   "metadata": {},
   "outputs": [],
   "source": [
    "# search across 100 different combinations\n",
    "svc_random = RandomizedSearchCV(estimator = SVC(), \n",
    "                               param_distributions = random_grid, \n",
    "                               scoring=scoring, \n",
    "                               n_iter = 15, cv = 5, verbose=2, random_state=42, n_jobs = 1)"
   ]
  },
  {
   "cell_type": "code",
   "execution_count": 136,
   "metadata": {},
   "outputs": [
    {
     "name": "stdout",
     "output_type": "stream",
     "text": [
      "Fitting 5 folds for each of 15 candidates, totalling 75 fits\n",
      "[CV] kernel=poly, gamma=auto, C=100 ..................................\n"
     ]
    },
    {
     "name": "stderr",
     "output_type": "stream",
     "text": [
      "[Parallel(n_jobs=1)]: Using backend SequentialBackend with 1 concurrent workers.\n"
     ]
    },
    {
     "name": "stdout",
     "output_type": "stream",
     "text": [
      "[CV] ................... kernel=poly, gamma=auto, C=100, total=   0.4s\n",
      "[CV] kernel=poly, gamma=auto, C=100 ..................................\n"
     ]
    },
    {
     "name": "stderr",
     "output_type": "stream",
     "text": [
      "[Parallel(n_jobs=1)]: Done   1 out of   1 | elapsed:    0.4s remaining:    0.0s\n"
     ]
    },
    {
     "name": "stdout",
     "output_type": "stream",
     "text": [
      "[CV] ................... kernel=poly, gamma=auto, C=100, total=   0.3s\n",
      "[CV] kernel=poly, gamma=auto, C=100 ..................................\n",
      "[CV] ................... kernel=poly, gamma=auto, C=100, total=   0.5s\n",
      "[CV] kernel=poly, gamma=auto, C=100 ..................................\n",
      "[CV] ................... kernel=poly, gamma=auto, C=100, total=   0.3s\n",
      "[CV] kernel=poly, gamma=auto, C=100 ..................................\n",
      "[CV] ................... kernel=poly, gamma=auto, C=100, total=   0.4s\n",
      "[CV] kernel=sigmoid, gamma=auto, C=1 .................................\n",
      "[CV] .................. kernel=sigmoid, gamma=auto, C=1, total=   0.4s\n",
      "[CV] kernel=sigmoid, gamma=auto, C=1 .................................\n",
      "[CV] .................. kernel=sigmoid, gamma=auto, C=1, total=   0.4s\n",
      "[CV] kernel=sigmoid, gamma=auto, C=1 .................................\n",
      "[CV] .................. kernel=sigmoid, gamma=auto, C=1, total=   0.4s\n",
      "[CV] kernel=sigmoid, gamma=auto, C=1 .................................\n",
      "[CV] .................. kernel=sigmoid, gamma=auto, C=1, total=   0.3s\n",
      "[CV] kernel=sigmoid, gamma=auto, C=1 .................................\n",
      "[CV] .................. kernel=sigmoid, gamma=auto, C=1, total=   0.4s\n",
      "[CV] kernel=linear, gamma=scale, C=100 ...............................\n",
      "[CV] ................ kernel=linear, gamma=scale, C=100, total=   5.0s\n",
      "[CV] kernel=linear, gamma=scale, C=100 ...............................\n",
      "[CV] ................ kernel=linear, gamma=scale, C=100, total=   7.1s\n",
      "[CV] kernel=linear, gamma=scale, C=100 ...............................\n",
      "[CV] ................ kernel=linear, gamma=scale, C=100, total=   4.7s\n",
      "[CV] kernel=linear, gamma=scale, C=100 ...............................\n",
      "[CV] ................ kernel=linear, gamma=scale, C=100, total=   4.4s\n",
      "[CV] kernel=linear, gamma=scale, C=100 ...............................\n",
      "[CV] ................ kernel=linear, gamma=scale, C=100, total=   5.3s\n",
      "[CV] kernel=poly, gamma=scale, C=10 ..................................\n",
      "[CV] ................... kernel=poly, gamma=scale, C=10, total=   0.2s\n",
      "[CV] kernel=poly, gamma=scale, C=10 ..................................\n",
      "[CV] ................... kernel=poly, gamma=scale, C=10, total=   0.3s\n",
      "[CV] kernel=poly, gamma=scale, C=10 ..................................\n",
      "[CV] ................... kernel=poly, gamma=scale, C=10, total=   0.2s\n",
      "[CV] kernel=poly, gamma=scale, C=10 ..................................\n",
      "[CV] ................... kernel=poly, gamma=scale, C=10, total=   0.3s\n",
      "[CV] kernel=poly, gamma=scale, C=10 ..................................\n",
      "[CV] ................... kernel=poly, gamma=scale, C=10, total=   0.3s\n",
      "[CV] kernel=linear, gamma=scale, C=1 .................................\n",
      "[CV] .................. kernel=linear, gamma=scale, C=1, total=   0.3s\n",
      "[CV] kernel=linear, gamma=scale, C=1 .................................\n",
      "[CV] .................. kernel=linear, gamma=scale, C=1, total=   0.2s\n",
      "[CV] kernel=linear, gamma=scale, C=1 .................................\n",
      "[CV] .................. kernel=linear, gamma=scale, C=1, total=   0.3s\n",
      "[CV] kernel=linear, gamma=scale, C=1 .................................\n",
      "[CV] .................. kernel=linear, gamma=scale, C=1, total=   0.2s\n",
      "[CV] kernel=linear, gamma=scale, C=1 .................................\n",
      "[CV] .................. kernel=linear, gamma=scale, C=1, total=   0.2s\n",
      "[CV] kernel=poly, gamma=scale, C=1 ...................................\n",
      "[CV] .................... kernel=poly, gamma=scale, C=1, total=   0.2s\n",
      "[CV] kernel=poly, gamma=scale, C=1 ...................................\n",
      "[CV] .................... kernel=poly, gamma=scale, C=1, total=   0.2s\n",
      "[CV] kernel=poly, gamma=scale, C=1 ...................................\n",
      "[CV] .................... kernel=poly, gamma=scale, C=1, total=   0.3s\n",
      "[CV] kernel=poly, gamma=scale, C=1 ...................................\n",
      "[CV] .................... kernel=poly, gamma=scale, C=1, total=   0.2s\n",
      "[CV] kernel=poly, gamma=scale, C=1 ...................................\n",
      "[CV] .................... kernel=poly, gamma=scale, C=1, total=   0.2s\n",
      "[CV] kernel=rbf, gamma=auto, C=100 ...................................\n",
      "[CV] .................... kernel=rbf, gamma=auto, C=100, total=   0.2s\n",
      "[CV] kernel=rbf, gamma=auto, C=100 ...................................\n",
      "[CV] .................... kernel=rbf, gamma=auto, C=100, total=   0.3s\n",
      "[CV] kernel=rbf, gamma=auto, C=100 ...................................\n",
      "[CV] .................... kernel=rbf, gamma=auto, C=100, total=   0.3s\n",
      "[CV] kernel=rbf, gamma=auto, C=100 ...................................\n",
      "[CV] .................... kernel=rbf, gamma=auto, C=100, total=   0.2s\n",
      "[CV] kernel=rbf, gamma=auto, C=100 ...................................\n",
      "[CV] .................... kernel=rbf, gamma=auto, C=100, total=   0.2s\n",
      "[CV] kernel=poly, gamma=scale, C=100 .................................\n",
      "[CV] .................. kernel=poly, gamma=scale, C=100, total=   0.5s\n",
      "[CV] kernel=poly, gamma=scale, C=100 .................................\n",
      "[CV] .................. kernel=poly, gamma=scale, C=100, total=   0.2s\n",
      "[CV] kernel=poly, gamma=scale, C=100 .................................\n",
      "[CV] .................. kernel=poly, gamma=scale, C=100, total=   0.3s\n",
      "[CV] kernel=poly, gamma=scale, C=100 .................................\n",
      "[CV] .................. kernel=poly, gamma=scale, C=100, total=   0.2s\n",
      "[CV] kernel=poly, gamma=scale, C=100 .................................\n",
      "[CV] .................. kernel=poly, gamma=scale, C=100, total=   0.3s\n",
      "[CV] kernel=linear, gamma=auto, C=1 ..................................\n",
      "[CV] ................... kernel=linear, gamma=auto, C=1, total=   0.2s\n",
      "[CV] kernel=linear, gamma=auto, C=1 ..................................\n",
      "[CV] ................... kernel=linear, gamma=auto, C=1, total=   0.2s\n",
      "[CV] kernel=linear, gamma=auto, C=1 ..................................\n",
      "[CV] ................... kernel=linear, gamma=auto, C=1, total=   0.2s\n",
      "[CV] kernel=linear, gamma=auto, C=1 ..................................\n",
      "[CV] ................... kernel=linear, gamma=auto, C=1, total=   0.2s\n",
      "[CV] kernel=linear, gamma=auto, C=1 ..................................\n",
      "[CV] ................... kernel=linear, gamma=auto, C=1, total=   0.2s\n",
      "[CV] kernel=linear, gamma=scale, C=0.1 ...............................\n",
      "[CV] ................ kernel=linear, gamma=scale, C=0.1, total=   0.2s\n",
      "[CV] kernel=linear, gamma=scale, C=0.1 ...............................\n",
      "[CV] ................ kernel=linear, gamma=scale, C=0.1, total=   0.1s\n",
      "[CV] kernel=linear, gamma=scale, C=0.1 ...............................\n",
      "[CV] ................ kernel=linear, gamma=scale, C=0.1, total=   0.1s\n",
      "[CV] kernel=linear, gamma=scale, C=0.1 ...............................\n",
      "[CV] ................ kernel=linear, gamma=scale, C=0.1, total=   0.2s\n",
      "[CV] kernel=linear, gamma=scale, C=0.1 ...............................\n",
      "[CV] ................ kernel=linear, gamma=scale, C=0.1, total=   0.1s\n",
      "[CV] kernel=linear, gamma=auto, C=0.1 ................................\n",
      "[CV] ................. kernel=linear, gamma=auto, C=0.1, total=   0.1s\n",
      "[CV] kernel=linear, gamma=auto, C=0.1 ................................\n",
      "[CV] ................. kernel=linear, gamma=auto, C=0.1, total=   0.2s\n",
      "[CV] kernel=linear, gamma=auto, C=0.1 ................................\n",
      "[CV] ................. kernel=linear, gamma=auto, C=0.1, total=   0.2s\n",
      "[CV] kernel=linear, gamma=auto, C=0.1 ................................\n",
      "[CV] ................. kernel=linear, gamma=auto, C=0.1, total=   0.1s\n",
      "[CV] kernel=linear, gamma=auto, C=0.1 ................................\n",
      "[CV] ................. kernel=linear, gamma=auto, C=0.1, total=   0.1s\n",
      "[CV] kernel=linear, gamma=scale, C=10 ................................\n",
      "[CV] ................. kernel=linear, gamma=scale, C=10, total=   0.7s\n",
      "[CV] kernel=linear, gamma=scale, C=10 ................................\n",
      "[CV] ................. kernel=linear, gamma=scale, C=10, total=   0.8s\n",
      "[CV] kernel=linear, gamma=scale, C=10 ................................\n",
      "[CV] ................. kernel=linear, gamma=scale, C=10, total=   0.9s\n",
      "[CV] kernel=linear, gamma=scale, C=10 ................................\n",
      "[CV] ................. kernel=linear, gamma=scale, C=10, total=   0.8s\n",
      "[CV] kernel=linear, gamma=scale, C=10 ................................\n"
     ]
    },
    {
     "name": "stdout",
     "output_type": "stream",
     "text": [
      "[CV] ................. kernel=linear, gamma=scale, C=10, total=   0.7s\n",
      "[CV] kernel=poly, gamma=auto, C=0.1 ..................................\n",
      "[CV] ................... kernel=poly, gamma=auto, C=0.1, total=   0.6s\n",
      "[CV] kernel=poly, gamma=auto, C=0.1 ..................................\n",
      "[CV] ................... kernel=poly, gamma=auto, C=0.1, total=   0.4s\n",
      "[CV] kernel=poly, gamma=auto, C=0.1 ..................................\n",
      "[CV] ................... kernel=poly, gamma=auto, C=0.1, total=   0.4s\n",
      "[CV] kernel=poly, gamma=auto, C=0.1 ..................................\n",
      "[CV] ................... kernel=poly, gamma=auto, C=0.1, total=   0.3s\n",
      "[CV] kernel=poly, gamma=auto, C=0.1 ..................................\n",
      "[CV] ................... kernel=poly, gamma=auto, C=0.1, total=   0.2s\n",
      "[CV] kernel=poly, gamma=auto, C=1 ....................................\n",
      "[CV] ..................... kernel=poly, gamma=auto, C=1, total=   0.2s\n",
      "[CV] kernel=poly, gamma=auto, C=1 ....................................\n",
      "[CV] ..................... kernel=poly, gamma=auto, C=1, total=   0.2s\n",
      "[CV] kernel=poly, gamma=auto, C=1 ....................................\n",
      "[CV] ..................... kernel=poly, gamma=auto, C=1, total=   0.2s\n",
      "[CV] kernel=poly, gamma=auto, C=1 ....................................\n",
      "[CV] ..................... kernel=poly, gamma=auto, C=1, total=   0.2s\n",
      "[CV] kernel=poly, gamma=auto, C=1 ....................................\n",
      "[CV] ..................... kernel=poly, gamma=auto, C=1, total=   0.2s\n",
      "[CV] kernel=sigmoid, gamma=scale, C=1 ................................\n",
      "[CV] ................. kernel=sigmoid, gamma=scale, C=1, total=   0.3s\n",
      "[CV] kernel=sigmoid, gamma=scale, C=1 ................................\n",
      "[CV] ................. kernel=sigmoid, gamma=scale, C=1, total=   0.2s\n",
      "[CV] kernel=sigmoid, gamma=scale, C=1 ................................\n",
      "[CV] ................. kernel=sigmoid, gamma=scale, C=1, total=   0.2s\n",
      "[CV] kernel=sigmoid, gamma=scale, C=1 ................................\n",
      "[CV] ................. kernel=sigmoid, gamma=scale, C=1, total=   0.2s\n",
      "[CV] kernel=sigmoid, gamma=scale, C=1 ................................\n",
      "[CV] ................. kernel=sigmoid, gamma=scale, C=1, total=   0.2s\n"
     ]
    },
    {
     "name": "stderr",
     "output_type": "stream",
     "text": [
      "[Parallel(n_jobs=1)]: Done  75 out of  75 | elapsed:   47.2s finished\n"
     ]
    },
    {
     "data": {
      "text/plain": [
       "RandomizedSearchCV(cv=5, estimator=SVC(), n_iter=15, n_jobs=1,\n",
       "                   param_distributions={'C': [0.1, 1, 10, 100],\n",
       "                                        'gamma': ['scale', 'auto'],\n",
       "                                        'kernel': ['linear', 'poly', 'rbf',\n",
       "                                                   'sigmoid']},\n",
       "                   random_state=42, scoring='accuracy', verbose=2)"
      ]
     },
     "execution_count": 136,
     "metadata": {},
     "output_type": "execute_result"
    }
   ],
   "source": [
    "svc_random.fit(X_train_standard, y_train)"
   ]
  },
  {
   "cell_type": "code",
   "execution_count": 138,
   "metadata": {},
   "outputs": [
    {
     "data": {
      "text/plain": [
       "{'kernel': 'linear', 'gamma': 'scale', 'C': 1}"
      ]
     },
     "execution_count": 138,
     "metadata": {},
     "output_type": "execute_result"
    }
   ],
   "source": [
    "svc_random.best_params_"
   ]
  },
  {
   "cell_type": "code",
   "execution_count": 139,
   "metadata": {},
   "outputs": [],
   "source": [
    "best_svc = SVC(kernel = 'linear', gamma = 'scale', C = 1)"
   ]
  },
  {
   "cell_type": "code",
   "execution_count": 140,
   "metadata": {},
   "outputs": [
    {
     "name": "stdout",
     "output_type": "stream",
     "text": [
      "cross_val_score:  0.773125 0.006510208329999916\n",
      "Accuracy on Training set:  0.779375\n",
      "Accuracy on Testing set:  0.7602996254681648\n",
      "\t\tError Table\n",
      "accuracy_score        :  0.7602996254681648\n",
      "f1_score macro        :  0.7142949200484953\n",
      "f1_score micro        :  0.7602996254681647\n",
      "precision_score macro :  0.73949692985675\n",
      "precision_score micro :  0.7602996254681648\n",
      "recall_score macro.   :  0.6954164573597146\n",
      "recall_score micro.   :  0.7602996254681648\n"
     ]
    }
   ],
   "source": [
    "model_report(best_svc, X_train_standard, X_test_standard, y_train, y_test, scoring, N_SPLITS)"
   ]
  },
  {
   "cell_type": "markdown",
   "metadata": {},
   "source": [
    "## Generando fichero kaggle"
   ]
  },
  {
   "cell_type": "code",
   "execution_count": null,
   "metadata": {},
   "outputs": [],
   "source": [
    "tests_ids_3 = car_test_3['id']\n",
    "del car_test_3['id']"
   ]
  },
  {
   "cell_type": "code",
   "execution_count": null,
   "metadata": {},
   "outputs": [],
   "source": [
    "predict_3 = best_rnd_clf.predict(final_car_test_3)\n",
    "print(predict_3)\n",
    "# Generamos \n",
    "df_result = pd.DataFrame({'id': tests_ids_3, 'Precio_cat': predict_3 })\n",
    "df_result.to_csv(\"mis_resultados_3.csv\", index=False)"
   ]
  },
  {
   "cell_type": "code",
   "execution_count": null,
   "metadata": {},
   "outputs": [],
   "source": []
  }
 ],
 "metadata": {
  "kernelspec": {
   "display_name": "Python 3",
   "language": "python",
   "name": "python3"
  },
  "language_info": {
   "codemirror_mode": {
    "name": "ipython",
    "version": 3
   },
   "file_extension": ".py",
   "mimetype": "text/x-python",
   "name": "python",
   "nbconvert_exporter": "python",
   "pygments_lexer": "ipython3",
   "version": "3.8.3"
  }
 },
 "nbformat": 4,
 "nbformat_minor": 4
}
