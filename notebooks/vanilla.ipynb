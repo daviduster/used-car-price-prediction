{
 "cells": [
  {
   "cell_type": "code",
   "execution_count": 3,
   "metadata": {},
   "outputs": [],
   "source": [
    "import numpy as np\n",
    "import pandas as pd\n",
    "import matplotlib.pyplot as plt\n",
    "import seaborn as sns"
   ]
  },
  {
   "cell_type": "code",
   "execution_count": 269,
   "metadata": {},
   "outputs": [],
   "source": [
    "from sklearn.model_selection import train_test_split, cross_val_score\n",
    "from sklearn.linear_model import LinearRegression, LogisticRegression\n",
    "from sklearn.metrics import r2_score\n",
    "from sklearn.ensemble import RandomForestRegressor\n",
    "from sklearn.preprocessing import LabelEncoder, scale\n",
    "from sklearn.model_selection import RandomizedSearchCV\n",
    "from sklearn.metrics import mean_squared_error, mean_absolute_error"
   ]
  },
  {
   "cell_type": "markdown",
   "metadata": {},
   "source": [
    "Read files"
   ]
  },
  {
   "cell_type": "code",
   "execution_count": 2,
   "metadata": {},
   "outputs": [],
   "source": [
    "car_train=pd.read_csv(\"../data/train.csv\")\n",
    "car_test=pd.read_csv(\"../data/test.csv\")"
   ]
  },
  {
   "cell_type": "markdown",
   "metadata": {},
   "source": [
    "* [Version 1](#section-1)\n",
    "* [Version 2](#section-2)"
   ]
  },
  {
   "cell_type": "code",
   "execution_count": null,
   "metadata": {},
   "outputs": [],
   "source": [
    "car_train.shape"
   ]
  },
  {
   "cell_type": "code",
   "execution_count": null,
   "metadata": {},
   "outputs": [],
   "source": [
    "car_test.shape"
   ]
  },
  {
   "cell_type": "code",
   "execution_count": null,
   "metadata": {},
   "outputs": [],
   "source": [
    "car_train.head()"
   ]
  },
  {
   "cell_type": "code",
   "execution_count": null,
   "metadata": {},
   "outputs": [],
   "source": [
    "car_train.info()"
   ]
  },
  {
   "cell_type": "code",
   "execution_count": null,
   "metadata": {},
   "outputs": [],
   "source": [
    "car_test.head()"
   ]
  },
  {
   "cell_type": "code",
   "execution_count": null,
   "metadata": {},
   "outputs": [],
   "source": [
    "car_test.info()"
   ]
  },
  {
   "cell_type": "code",
   "execution_count": null,
   "metadata": {},
   "outputs": [],
   "source": [
    "# Remove id column\n",
    "car_train = car_train.drop('id', axis = 1)"
   ]
  },
  {
   "cell_type": "code",
   "execution_count": 186,
   "metadata": {},
   "outputs": [
    {
     "name": "stdout",
     "output_type": "stream",
     "text": [
      "Valores únicos en el conjunto de entrenamiento:\n",
      "\n",
      "id [1.000e+00 2.000e+00 3.000e+00 ... 4.817e+03 4.818e+03 4.819e+03]\n",
      "Nombre ['Maruti Swift Dzire ZDI' 'Maruti Wagon R LXI Optional'\n",
      " 'Mahindra KUV 100 mFALCON D75 K8' ...\n",
      " 'Mercedes-Benz E-Class 280 Elegance' 'Honda City Corporate Edition'\n",
      " 'Porsche Panamera Diesel 250hp']\n",
      "Ciudad ['G' 'I' 'F' 'E' 'H' 'C' 'J' 'L' 'B' 'K' 'D' nan]\n",
      "Año [2012. 2016. 2013. 2017. 2009. 2014. 2011. 2015. 2008. 2010. 2018. 2006.\n",
      "   nan 2019. 2005. 2007. 2003. 2004. 2001. 1998. 2002. 2000. 1999.]\n",
      "Kilometros [83000.  4800. 26000. ... 60033. 40158. 65743.]\n",
      "Combustible ['Diesel' 'Petrol' nan 'CNG' 'LPG' 'Electric']\n",
      "Tipo_marchas ['Manual' 'Automatic' nan]\n",
      "Mano ['First' 'Second' 'Third' nan 'Fourth & Above']\n",
      "Consumo ['23.4 kmpl' '20.51 kmpl' '25.32 kmpl' '18.5 kmpl' '18.7 kmpl' '17.8 kmpl'\n",
      " '16.8 kmpl' '18.6 kmpl' '25.2 kmpl' '10.91 kmpl' '12.99 kmpl' '17.5 kmpl'\n",
      " '25.8 kmpl' '18.25 kmpl' '10.0 kmpl' '11.5 kmpl' '19.1 kmpl' '14.21 kmpl'\n",
      " '14.16 kmpl' '17.43 kmpl' '18.0 kmpl' '15.7 kmpl' '16.0 kmpl'\n",
      " '21.43 kmpl' '21.64 kmpl' '20.73 kmpl' '14.0 kmpl' '17.9 kmpl'\n",
      " '28.4 kmpl' '15.96 kmpl' nan '23.65 kmpl' '20.36 kmpl' '21.9 kmpl'\n",
      " '22.95 kmpl' '23.59 kmpl' '17.57 kmpl' '21.27 kmpl' '17.3 kmpl'\n",
      " '22.32 kmpl' '18.9 kmpl' '24.7 kmpl' '24.0 kmpl' '11.0 kmpl' '13.0 kmpl'\n",
      " '16.47 kmpl' '17.21 kmpl' '13.6 kmpl' '26.59 kmpl' '14.74 kmpl'\n",
      " '23.84 kmpl' '14.53 kmpl' '21.5 kmpl' '11.8 kmpl' '15.73 kmpl'\n",
      " '16.12 kmpl' '17.11 kmpl' '20.45 kmpl' '17.1 kmpl' '22.74 kmpl'\n",
      " '13.7 kmpl' '21.76 kmpl' '14.42 kmpl' '15.1 kmpl' '24.07 kmpl'\n",
      " '21.66 kmpl' '22.77 kmpl' '14.6 kmpl' '11.7 kmpl' '20.85 kmpl'\n",
      " '15.4 kmpl' '19.81 kmpl' '19.27 kmpl' '17.0 kmpl' '18.88 kmpl'\n",
      " '20.0 kmpl' '12.05 kmpl' '20.86 kmpl' '12.07 kmpl' '18.48 kmpl'\n",
      " '16.1 kmpl' '15.87 kmpl' '17.01 kmpl' '20.77 kmpl' '19.3 kmpl'\n",
      " '16.02 kmpl' '19.7 kmpl' '16.6 kmpl' '19.4 kmpl' '19.67 kmpl'\n",
      " '12.55 kmpl' '22.9 kmpl' '24.4 kmpl' '11.1 kmpl' '15.97 kmpl' '27.3 kmpl'\n",
      " '19.87 kmpl' '14.84 kmpl' '12.8 kmpl' '20.3 kmpl' '13.5 kmpl' '14.3 kmpl'\n",
      " '0.0 kmpl' '17.45 kmpl' '12.7 kmpl' '22.3 kmpl' '13.93 kmpl' '19.6 kmpl'\n",
      " '24.3 kmpl' '15.04 kmpl' '13.1 kmpl' '25.01 kmpl' '16.73 kmpl'\n",
      " '15.3 kmpl' '17.92 kmpl' '21.1 kmpl' '10.5 kmpl' '20.65 kmpl'\n",
      " '11.72 kmpl' '22.7 kmpl' '16.07 kmpl' '19.16 kmpl' '11.33 kmpl'\n",
      " '14.8 kmpl' '17.4 kmpl' '18.56 kmpl' '18.12 kmpl' '15.6 kmpl' '16.5 kmpl'\n",
      " '26.6 kmpl' '27.62 kmpl' '13.68 kmpl' '23.5 kmpl' '28.09 kmpl'\n",
      " '17.68 kmpl' '22.71 kmpl' '23.9 kmpl' '21.14 kmpl' '18.33 kmpl'\n",
      " '16.55 kmpl' '15.5 kmpl' '23.8 kmpl' '12.9 kmpl' '19.08 kmpl'\n",
      " '15.64 kmpl' '20.54 kmpl' '11.3 kmpl' '20.14 kmpl' '22.54 kmpl'\n",
      " '15.26 kmpl' '12.4 kmpl' '23.2 kmpl' '18.2 kmpl' '15.29 kmpl' '8.0 kmpl'\n",
      " '24.5 kmpl' '16.2 kmpl' '13.33 kmpl' '12.6 kmpl' '23.1 kmpl' '13.2 kmpl'\n",
      " '16.36 kmpl' '14.07 kmpl' '14.24 kmpl' '20.37 kmpl' '18.8 kmpl'\n",
      " '16.09 kmpl' '16.93 kmpl' '11.36 kmpl' '17.05 kmpl' '18.53 kmpl'\n",
      " '18.16 kmpl' '22.0 kmpl' '9.43 kmpl' '21.4 kmpl' '33.54 kmpl'\n",
      " '24.52 kmpl' '27.39 kmpl' '22.5 kmpl' '13.49 kmpl' '11.49 kmpl'\n",
      " '22.07 kmpl' '23.08 kmpl' '15.0 kmpl' '16.95 kmpl' '9.0 kmpl'\n",
      " '19.01 kmpl' '18.06 kmpl' '21.7 kmpl' '26.0 kmpl' '11.2 kmpl' '25.4 kmpl'\n",
      " '14.28 kmpl' '12.3 kmpl' '12.62 kmpl' '15.06 kmpl' '15.68 kmpl'\n",
      " '25.44 kmpl' '14.4 kmpl' '13.4 kmpl' '16.78 kmpl' '11.74 kmpl'\n",
      " '13.22 kmpl' '20.5 kmpl' '20.92 kmpl' '19.5 kmpl' '10.9 kmpl' '25.0 kmpl'\n",
      " '14.95 kmpl' '25.47 kmpl' '12.97 kmpl' '10.4 kmpl' '21.12 kmpl'\n",
      " '17.85 kmpl' '19.49 kmpl' '12.19 kmpl' '15.8 kmpl' '10.93 kmpl'\n",
      " '17.72 kmpl' '16.3 kmpl' '11.57 kmpl' '19.12 kmpl' '14.67 kmpl'\n",
      " '15.17 kmpl' '21.79 kmpl' '16.9 kmpl' '19.15 kmpl' '21.0 kmpl'\n",
      " '22.69 kmpl' '20.4 kmpl' '15.9 kmpl' '10.1 kmpl' '20.38 kmpl' '17.6 kmpl'\n",
      " '14.57 kmpl' '14.02 kmpl' '13.06 kmpl' '9.8 kmpl' '17.71 kmpl'\n",
      " '22.8 kmpl' '13.14 kmpl' '11.79 kmpl' '16.25 kmpl' '21.21 kmpl'\n",
      " '14.47 kmpl' '20.46 kmpl' '24.2 kmpl' '13.24 kmpl' '12.39 kmpl'\n",
      " '26.21 kmpl' '14.1 kmpl' '23.0 kmpl' '33.44 kmpl' '17.19 kmpl'\n",
      " '18.3 kmpl' '12.0 kmpl' '13.73 kmpl' '11.25 kmpl' '25.1 kmpl'\n",
      " '18.49 kmpl' '20.89 kmpl' '10.37 kmpl' '20.34 kmpl' '16.82 kmpl'\n",
      " '11.4 kmpl' '12.35 kmpl' '18.15 kmpl' '14.94 kmpl' '27.4 kmpl'\n",
      " '19.0 kmpl' '10.2 kmpl' '26.1 kmpl' '17.97 kmpl' '19.72 kmpl'\n",
      " '10.13 kmpl' '25.17 kmpl' '12.81 kmpl' '32.26 kmpl' '26.2 kmpl'\n",
      " '13.17 kmpl' '19.44 kmpl' '16.77 kmpl' '19.2 kmpl' '21.38 kmpl'\n",
      " '21.72 kmpl' '14.66 kmpl' '11.18 kmpl' '19.34 kmpl' '19.64 kmpl'\n",
      " '15.2 kmpl' '19.33 kmpl' '18.4 kmpl' '19.83 kmpl' '31.79 kmpl'\n",
      " '14.7 kmpl' '16.38 kmpl' '17.54 kmpl' '17.84 kmpl' '11.05 kmpl'\n",
      " '13.01 kmpl' '16.4 kmpl' '22.1 kmpl' '16.51 kmpl' '25.83 kmpl'\n",
      " '23.03 kmpl' '10.8 kmpl' '11.9 kmpl' '18.1 kmpl' '13.45 kmpl'\n",
      " '12.37 kmpl' '20.63 kmpl' '9.52 kmpl' '8.6 kmpl' '10.6 kmpl' '18.59 kmpl'\n",
      " '16.46 kmpl' '17.2 kmpl' '21.02 kmpl' '18.19 kmpl' '9.7 kmpl'\n",
      " '16.52 kmpl' '20.68 kmpl' '13.58 kmpl' '17.7 kmpl' '22.48 kmpl'\n",
      " '20.64 kmpl' '21.19 kmpl' '16.98 kmpl' '14.75 kmpl' '24.8 kmpl'\n",
      " '9.9 kmpl' '21.56 kmpl' '17.67 kmpl' '7.94 kmpl' '12.83 kmpl'\n",
      " '18.78 kmpl' '15.15 kmpl' '16.7 kmpl' '14.69 kmpl' '18.44 kmpl'\n",
      " '15.63 kmpl' '13.9 kmpl' '13.53 kmpl' '6.4 kmpl' '18.86 kmpl'\n",
      " '11.68 kmpl' '23.01 kmpl' '16.05 kmpl' '12.85 kmpl' '18.69 kmpl'\n",
      " '19.59 kmpl' '11.56 kmpl' '15.11 kmpl' '21.03 kmpl' '20.7 kmpl'\n",
      " '26.3 kmpl' '14.49 kmpl' '23.3 kmpl' '12.98 kmpl' '8.3 kmpl' '16.96 kmpl'\n",
      " '8.7 kmpl' '27.28 kmpl' '17.09 kmpl' '17.16 kmpl' '9.5 kmpl' '27.03 kmpl'\n",
      " '13.8 kmpl' '9.3 kmpl' '24.6 kmpl' '19.98 kmpl' '19.71 kmpl' '7.5 kmpl'\n",
      " '25.6 kmpl' '14.9 kmpl' '13.44 kmpl' '21.13 kmpl' '17.44 kmpl'\n",
      " '12.65 kmpl' '21.8 kmpl' '14.81 kmpl' '8.2 kmpl' '18.23 kmpl'\n",
      " '15.85 kmpl' '8.1 kmpl' '14.39 kmpl' '18.51 kmpl' '11.78 kmpl'\n",
      " '12.5 kmpl' '20.58 kmpl' '26.8 kmpl' '12.63 kmpl' '19.09 kmpl'\n",
      " '19.69 kmpl' '14.2 kmpl' '12.51 kmpl' '26.83 kmpl' '15.74 kmpl'\n",
      " '21.2 kmpl' '8.5 kmpl' '14.59 kmpl' '12.1 kmpl' '14.62 kmpl' '24.04 kmpl'\n",
      " '25.5 kmpl' '18.18 kmpl']\n",
      "Motor_CC ['1248 CC' '998 CC' '1198 CC' '1197 CC' '1199 CC' '1497 CC' '3198 CC'\n",
      " '2494 CC' '1298 CC' '1498 CC' '1968 CC' '2496 CC' '2982 CC' '2143 CC'\n",
      " '1396 CC' '1390 CC' '2179 CC' '1364 CC' '1461 CC' '1373 CC' '796 CC'\n",
      " '2523 CC' '1193 CC' nan '1120 CC' '2987 CC' '1591 CC' '1493 CC' '2993 CC'\n",
      " '1794 CC' '2967 CC' '1798 CC' '1995 CC' '1368 CC' '1796 CC' '1590 CC'\n",
      " '1086 CC' '1582 CC' '1998 CC' '2354 CC' '1799 CC' '1598 CC' '999 CC'\n",
      " '2609 CC' '1991 CC' '2499 CC' '1341 CC' '995 CC' '2835 CC' '2199 CC'\n",
      " '1196 CC' '4134 CC' '2148 CC' '1896 CC' '793 CC' '2393 CC' '624 CC'\n",
      " '1061 CC' '2755 CC' '2200 CC' '814 CC' '2360 CC' '4806 CC' '1997 CC'\n",
      " '1599 CC' '2995 CC' '1950 CC' '1495 CC' '1399 CC' '1596 CC' '1978 CC'\n",
      " '1999 CC' '4367 CC' '1984 CC' '1595 CC' '72 CC' '2400 CC' '1186 CC'\n",
      " '2198 CC' '2498 CC' '936 CC' '1496 CC' '993 CC' '2497 CC' '1047 CC'\n",
      " '2489 CC' '1405 CC' '1956 CC' '3498 CC' '1499 CC' '1388 CC' '1586 CC'\n",
      " '2997 CC' '1781 CC' '3436 CC' '2694 CC' '2979 CC' '2953 CC' '2698 CC'\n",
      " '799 CC' '2092 CC' '2956 CC' '2446 CC' '2696 CC' '1395 CC' '2894 CC'\n",
      " '1172 CC' '2359 CC' '5998 CC' '2996 CC' '1948 CC' '3597 CC' '1194 CC'\n",
      " '1462 CC' '1150 CC' '2773 CC' '5204 CC' '1985 CC' '3200 CC' '4951 CC'\n",
      " '2487 CC' '1969 CC' '1468 CC' '2771 CC' '3197 CC' '2147 CC' '1299 CC'\n",
      " '2477 CC' '2925 CC' '5461 CC' '2706 CC' '1242 CC' '2999 CC' '5000 CC'\n",
      " '1597 CC' '1422 CC' '2362 CC' '970 CC' '2112 CC']\n",
      "Potencia ['74 bhp' '67.04 bhp' '77 bhp' '80 bhp' '88.7 bhp' '75 bhp' '118 bhp'\n",
      " '81.83 bhp' '197 bhp' '100.6 bhp' '85.8 bhp' '98.6 bhp' '187.74 bhp'\n",
      " '157.7 bhp' '171 bhp' '203 bhp' '174.3 bhp' '76.8 bhp' '105.5 bhp'\n",
      " '117.3 bhp' '140 bhp' '87.2 bhp' '84.8 bhp' '91.1 bhp' '35 bhp' '136 bhp'\n",
      " '73.75 bhp' '62.1 bhp' '88.5 bhp' '78.9 bhp' '90 bhp' '73.74 bhp' nan\n",
      " '80.46 bhp' '88.76 bhp' '126.32 bhp' '81.86 bhp' '70 bhp' '198.5 bhp'\n",
      " '67.1 bhp' '121.3 bhp' '100 bhp' '63 bhp' '270.9 bhp' '84 bhp'\n",
      " '138.1 bhp' '81.80 bhp' '82 bhp' '180 bhp' '174.33 bhp' '245 bhp'\n",
      " '116.3 bhp' '83.8 bhp' '121.4 bhp' '47.3 bhp' '190 bhp' '67.05 bhp'\n",
      " '147.6 bhp' '83.83 bhp' '98.59 bhp' '112 bhp' '178 bhp' '83.14 bhp'\n",
      " '94 bhp' '68.05 bhp' '170 bhp' '184 bhp' '126.3 bhp' '108.5 bhp'\n",
      " '154 bhp' '73.9 bhp' '241.4 bhp' '88.2 bhp' '308.43 bhp' '93.7 bhp'\n",
      " '46.3 bhp' '86.8 bhp' '126.2 bhp' '168.5 bhp' '71 bhp' '142 bhp'\n",
      " '258 bhp' '167.62 bhp' '102 bhp' '130 bhp' '103.52 bhp' '116.6 bhp'\n",
      " '181.03 bhp' '108.45 bhp' '235 bhp' '120 bhp' '197.2 bhp' '103.6 bhp'\n",
      " '141 bhp' '89.75 bhp' '169 bhp' '218 bhp' '61 bhp' '62 bhp' '107.2 bhp'\n",
      " '194.3 bhp' '73 bhp' '181 bhp' '158.2 bhp' '89.84 bhp' '82.85 bhp'\n",
      " '335.2 bhp' '86.7 bhp' '130.2 bhp' '262.6 bhp' '201.15 bhp' '85.80 bhp'\n",
      " '106 bhp' '58.16 bhp' '47 bhp' '147.8 bhp' '86.79 bhp' '37.48 bhp'\n",
      " '167.7 bhp' '147.51 bhp' '160 bhp' '126.24 bhp' '64 bhp' '174.5 bhp'\n",
      " '139.01 bhp' '55.2 bhp' '157.75 bhp' '88.8 bhp' '88.73 bhp' '132 bhp'\n",
      " '73.94 bhp' '83 bhp' '183 bhp' '82.4 bhp' '57.5 bhp' '394.3 bhp'\n",
      " '153.86 bhp' '105 bhp' '103.2 bhp' '340 bhp' '191.34 bhp' '187.7 bhp'\n",
      " '98.82 bhp' '101 bhp' '83.1 bhp' '103.5 bhp' '171.5 bhp' '237.4 bhp'\n",
      " '138.03 bhp' '68 bhp' '64.08 bhp' '335.3 bhp' '88 bhp' '63.1 bhp'\n",
      " '120.7 bhp' '67 bhp' '41 bhp' '215 bhp' '73.97 bhp' '185 bhp' '158 bhp'\n",
      " '246.7 bhp' '177 bhp' '177.6 bhp' '194 bhp' '57.6 bhp' '65 bhp'\n",
      " '65.3 bhp' '125 bhp' '186 bhp' '60 bhp' '165 bhp' '69 bhp' '265 bhp'\n",
      " '88.50 bhp' '163.5 bhp' '300 bhp' '236 bhp' '86.76 bhp' '241 bhp'\n",
      " '272 bhp' '108.49 bhp' '254.79 bhp' '79.4 bhp' '110.4 bhp' '141.1 bhp'\n",
      " '123.24 bhp' '177.46 bhp' '56.3 bhp' '110 bhp' '254.8 bhp' '75.94 bhp'\n",
      " '64.1 bhp' '123.37 bhp' '152 bhp' '103.3 bhp' '143 bhp' '74.96 bhp'\n",
      " '108.62 bhp' '163.2 bhp' '118.3 bhp' '102.53 bhp' '80.9 bhp' '157.8 bhp'\n",
      " '104.68 bhp' '301.73 bhp' '82.9 bhp' '102.5 bhp' '69.01 bhp' '148 bhp'\n",
      " '210 bhp' '98.96 bhp' '40.3 bhp' '37.5 bhp' '147.9 bhp' '167.6 bhp'\n",
      " '224 bhp' '163.7 bhp' '306 bhp' '189.08 bhp' '138 bhp' '67.06 bhp'\n",
      " '99 bhp' '308 bhp' '99.6 bhp' '179.5 bhp' '127 bhp' '34.2 bhp'\n",
      " '364.9 bhp' '53.3 bhp' '168.7 bhp' '97.7 bhp' '148.31 bhp' '58.2 bhp'\n",
      " '271.23 bhp' '107.3 bhp' '114 bhp' '241.38 bhp' '73.8 bhp' '108.4 bhp'\n",
      " '97.6 bhp' '156 bhp' '76 bhp' '320 bhp' '55 bhp' '140.8 bhp' '203.2 bhp'\n",
      " '58.33 bhp' '138.02 bhp' '85 bhp' '177.5 bhp' '66.1 bhp' '313 bhp'\n",
      " '261.49 bhp' '444 bhp' '282 bhp' '78 bhp' '85.7 bhp' '150 bhp'\n",
      " '198.25 bhp' '91.7 bhp' '552 bhp' '91.72 bhp' '123.7 bhp' '204 bhp'\n",
      " '158.8 bhp' '134 bhp' '94.68 bhp' '201.1 bhp' '66 bhp' '116.4 bhp'\n",
      " '271.72 bhp' '103.25 bhp' '138.08 bhp' '74.9 bhp' '450 bhp' '147.5 bhp'\n",
      " '246.74 bhp' '98.79 bhp' '255 bhp' '240 bhp' '95 bhp' '63.12 bhp'\n",
      " '201 bhp' '200 bhp' '177.01 bhp' '53.64 bhp' '560 bhp' '122 bhp'\n",
      " '163 bhp' '103 bhp' '135.1 bhp' '199.3 bhp' '121.36 bhp' '102.57 bhp'\n",
      " '395 bhp' '113.98 bhp' '115 bhp' '144 bhp' '92.7 bhp' '175.67 bhp'\n",
      " '181.43 bhp' '178.4 bhp' '71.01 bhp' '70.02 bhp' '250 bhp' '207.8 bhp'\n",
      " '224.34 bhp' '382 bhp' '118.6 bhp' '192 bhp' '53.5 bhp' '193.1 bhp'\n",
      " '55.23 bhp' '112.2 bhp' '175.56 bhp' '112.4 bhp' '281.61 bhp' '387.3 bhp'\n",
      " '174.57 bhp' '161.6 bhp' '83.11 bhp' '104 bhp' '66.7 bhp' '333 bhp'\n",
      " '488.1 bhp' '37 bhp' '108.495 bhp' '92 bhp' '503 bhp' '38.4 bhp'\n",
      " '181.04 bhp' '362.07 bhp' '155 bhp' '500 bhp' '93 bhp' '187.4 bhp'\n",
      " '164.7 bhp' '149.92 bhp' '168 bhp' '189 bhp' '91.2 bhp' '261.5 bhp'\n",
      " '110.5 bhp' '82.5 bhp' '231.1 bhp']\n",
      "Asientos [ 5.  6.  7.  8. nan  4. 10.  9.  2.  0.]\n",
      "Descuento [  nan 53.14  8.36 10.32  8.34  6.62  7.45  6.59  5.88  7.17  4.48  8.09\n",
      " 10.52 11.19 15.05  9.12 14.67  7.48  6.23 13.6  10.06  1.02  4.71 79.43\n",
      " 12.68  8.05 23.06 62.11 19.27 34.45  8.26 56.97  9.1  15.01  1.36 86.97\n",
      " 36.69 11.48 10.91 20.8   8.13  7.63  5.58  7.59 10.28  5.04 28.05  7.01\n",
      " 26.55  4.98 10.7  11.05 13.58  8.56 49.14 15.86  5.61  7.36 11.33 12.74\n",
      " 18.45 11.29 11.12  7.39 19.43  8.16 16.06 64.57 13.7  24.26 95.13 55.07\n",
      "  4.69 33.58 43.65  6.96  9.47 47.87  7.87 22.37 70.55 15.29  7.96 10.3\n",
      "  8.99  9.19 11.67  6.   11.66 21.72 15.17 11.15 11.27  9.97 92.5  12.47\n",
      " 10.42 14.72  4.53  4.61  9.56 14.65  6.21  5.95 59.77 18.64 50.4   4.87\n",
      " 47.2  25.52 44.28 23.94 54.43  5.54 11.88  8.54  6.41  9.79 11.39  4.24\n",
      " 21.69 15.68  4.04 69.22  7.46 23.89 12.88 10.97  9.51  7.82  9.55 64.14\n",
      " 19.39 20.74 71.15 11.2   8.73 15.34  4.66  8.55 13.49  7.97  8.82 15.72\n",
      " 16.65 48.64 78.76  8.03  9.04 12.53 20.87 11.75 11.28  7.98 12.22 23.25\n",
      "  6.45  5.87  6.32  1.66  5.71 47.16  1.28 64.76 12.02  5.45  8.71 15.57\n",
      "  5.72 21.1   7.13  7.37  9.99  6.42 10.48  4.43 19.37  8.63  4.93 10.15\n",
      "  6.54 21.   79.78 15.36 33.36 19.34  6.82  4.7   5.42 48.18  5.8  11.69\n",
      "  6.29  7.83 69.47 22.66  8.24 11.3  12.14 10.94 14.84 40.73  4.78  1.04\n",
      " 16.04 91.38 15.94  6.14  7.52 11.74 11.11 21.36  6.33  8.1   6.71 52.77\n",
      " 11.77  7.15 53.72  4.74  8.28 55.61  6.74 11.89  5.67 14.32 32.45 42.89\n",
      "  7.    2.3   6.67  8.68 23.37  8.8  22.74 21.38 63.71 52.46 11.16 26.95\n",
      "  5.9  17.7  10.63 11.37 37.38  7.88 10.34 10.65  4.05 67.87 13.4  10.04\n",
      "  8.84 27.    8.85  6.63 23.14  5.56  9.46 19.18 12.51 14.1   4.37 11.26\n",
      " 10.89  5.29  7.3   3.95  8.12  8.23 10.1   4.09 83.92 26.56  9.26 15.55\n",
      "  3.98 35.    8.61 11.44 50.97  5.12 40.62  5.44 49.49  6.51  4.9  11.47\n",
      " 12.27 13.23 24.02 12.79  5.36  6.56 54.7  12.12  5.51  7.54  4.59  7.56\n",
      " 15.59  6.94 15.02 71.82 12.57  5.3   6.68 10.81 14.23 10.57 14.2  45.67\n",
      " 13.59 44.59 24.63  9.62  9.09 12.56  6.05 20.46  1.13 22.87 70.43 43.81\n",
      " 11.63 12.67 43.07  7.55  7.43 14.07 10.83  9.89 13.33  7.94 10.25 11.01\n",
      "  7.67  8.78 99.92 52.26 14.22 39.57 11.85  1.39  9.78  5.57 16.95 12.34\n",
      " 41.94 42.48 34.89 12.33 33.91 16.67  7.69 58.67  4.55  8.44 24.01 33.51\n",
      "  1.   67.1  22.46 23.19  3.96 22.43  5.92 69.59 67.67 26.45  8.18 38.72\n",
      "  1.71 37.9   4.33  8.38  8.75 10.41  8.58 44.8  36.94 20.97 13.72 33.68\n",
      " 10.17  1.4   6.07 19.21  6.83 87.57  7.91 11.96 69.37  4.36 45.36  6.4\n",
      "  5.68 37.17 36.15  7.85  9.96 14.11 12.   20.48  5.35 11.71 11.58 53.68\n",
      "  9.83 43.31  6.78  4.8  25.4  22.95  3.91 34.6  25.27 16.84 15.38 13.74\n",
      "  6.43 12.9  53.41 32.01 62.07 48.79 39.27 95.04 10.13  8.57  7.33 16.4\n",
      " 50.26 60.59  8.17 18.35  9.58 11.81  6.99 11.06 10.99 72.64 92.79  8.69\n",
      " 21.77 23.64 13.76  6.8   9.72  9.14 30.19  7.7  22.86  9.93 15.45 24.82\n",
      " 11.56  8.93 11.   25.54 42.12  7.65 21.33  5.13  4.29 19.86  7.35 15.06\n",
      " 15.14  4.45 19.91  6.08 11.98]\n",
      "Precio_cat [3 2 4 5 1]\n"
     ]
    }
   ],
   "source": [
    "print(\"Valores únicos en el conjunto de entrenamiento:\\n\")\n",
    "for i in car_train.columns:\n",
    "    print(i, car_train[i].unique())"
   ]
  },
  {
   "cell_type": "code",
   "execution_count": null,
   "metadata": {},
   "outputs": [],
   "source": [
    "print(\"Valores únicos en el conjunto de test:\\n\")\n",
    "for i in car_test.columns:\n",
    "    print(i, car_test[i].unique())"
   ]
  },
  {
   "cell_type": "code",
   "execution_count": null,
   "metadata": {},
   "outputs": [],
   "source": [
    "# find the number of nulls in each colum\n",
    "car_train.isnull().sum()"
   ]
  },
  {
   "cell_type": "code",
   "execution_count": null,
   "metadata": {},
   "outputs": [],
   "source": [
    "# find the number of nulls in each colum\n",
    "car_test.isnull().sum()"
   ]
  },
  {
   "cell_type": "code",
   "execution_count": null,
   "metadata": {},
   "outputs": [],
   "source": [
    "car_train.info()"
   ]
  },
  {
   "cell_type": "code",
   "execution_count": null,
   "metadata": {},
   "outputs": [],
   "source": [
    "car_train.nunique()"
   ]
  },
  {
   "cell_type": "code",
   "execution_count": null,
   "metadata": {},
   "outputs": [],
   "source": [
    "car_test.info()"
   ]
  },
  {
   "cell_type": "code",
   "execution_count": null,
   "metadata": {},
   "outputs": [],
   "source": [
    "car_test.nunique()"
   ]
  },
  {
   "cell_type": "code",
   "execution_count": null,
   "metadata": {},
   "outputs": [],
   "source": [
    "car_train.describe()"
   ]
  },
  {
   "cell_type": "code",
   "execution_count": null,
   "metadata": {},
   "outputs": [],
   "source": [
    "print(\"There is {} duplicated values in data frame\".format(car_train.duplicated().sum()))"
   ]
  },
  {
   "cell_type": "code",
   "execution_count": null,
   "metadata": {},
   "outputs": [],
   "source": [
    "car_test.describe()"
   ]
  },
  {
   "cell_type": "markdown",
   "metadata": {},
   "source": [
    "## Variables continuas"
   ]
  },
  {
   "cell_type": "code",
   "execution_count": null,
   "metadata": {},
   "outputs": [],
   "source": [
    "# Precio\n",
    "plt.subplot(121)\n",
    "sns.distplot(car_train['Precio_cat'],color=\"r\");\n",
    "\n",
    "plt.subplot(122)\n",
    "car_train['Precio_cat'].plot.box(figsize=(16,5))\n",
    "\n",
    "plt.show()"
   ]
  },
  {
   "cell_type": "code",
   "execution_count": null,
   "metadata": {},
   "outputs": [],
   "source": [
    "# Kilometros\n",
    "plt.subplot(121)\n",
    "sns.distplot(car_train['Kilometros'],color=\"y\");\n",
    "\n",
    "plt.subplot(122)\n",
    "car_train['Kilometros'].plot.box(figsize=(16,5))\n",
    "\n",
    "plt.show()"
   ]
  },
  {
   "cell_type": "markdown",
   "metadata": {},
   "source": [
    "## Variables Discretas"
   ]
  },
  {
   "cell_type": "code",
   "execution_count": null,
   "metadata": {},
   "outputs": [],
   "source": [
    "sns.countplot(y='Ciudad',data=car_train)\n",
    "print(car_train.Ciudad.value_counts(normalize=True)*100)"
   ]
  },
  {
   "cell_type": "code",
   "execution_count": null,
   "metadata": {},
   "outputs": [],
   "source": [
    "sns.countplot(x='Mano',data=car_train)\n",
    "print(car_train.Mano.value_counts(normalize=True)*100)"
   ]
  },
  {
   "cell_type": "code",
   "execution_count": null,
   "metadata": {},
   "outputs": [],
   "source": [
    "sns.countplot(x='Asientos',data=car_train)\n",
    "print(car_train.Asientos.value_counts())"
   ]
  },
  {
   "cell_type": "code",
   "execution_count": null,
   "metadata": {},
   "outputs": [],
   "source": [
    "sns.countplot(y=\"Motor_CC\", data=car_train, palette=\"Greens_d\",\n",
    "              order=car_train.Motor_CC.value_counts().iloc[:10].index)"
   ]
  },
  {
   "cell_type": "markdown",
   "metadata": {},
   "source": [
    "<a id=\"section-1\"></a>\n",
    "# Versión 1 \n",
    "Eliminar la mayoría de los duplicados, excepto el descuento que lo rellenamos por la moda, probar Regresión Logística, Lineal y Random Forest"
   ]
  },
  {
   "cell_type": "code",
   "execution_count": null,
   "metadata": {},
   "outputs": [],
   "source": [
    "car_train_1 = car_train.copy()\n",
    "car_test_1 = car_test.copy()"
   ]
  },
  {
   "cell_type": "code",
   "execution_count": null,
   "metadata": {},
   "outputs": [],
   "source": [
    "car_train_1.head()"
   ]
  },
  {
   "cell_type": "code",
   "execution_count": null,
   "metadata": {},
   "outputs": [],
   "source": [
    "car_train_1.columns"
   ]
  },
  {
   "cell_type": "code",
   "execution_count": null,
   "metadata": {},
   "outputs": [],
   "source": [
    "print(\"Shape of train data Before dropping any Row: \",car_train_1.shape)\n",
    "for i in car_train_1.columns:\n",
    "    if car_train_1[i].isnull().sum() > 0:\n",
    "        if i == \"Descuento\":\n",
    "            car_train_1[i]=car_train_1[i].fillna((car_train_1[i].mode()[0]))\n",
    "            print(\"Fill values in \" + i + \" with the mode: \",car_train[i].mode()[0])\n",
    "        else:\n",
    "            car_train_1 = car_train_1[car_train_1[i].notna()]\n",
    "            print(\"Shape after dropping nulls in \" + i + \":\",car_train_1.shape)"
   ]
  },
  {
   "cell_type": "code",
   "execution_count": null,
   "metadata": {},
   "outputs": [],
   "source": [
    "car_test_1['Descuento']=car_test_1['Descuento'].fillna((car_test_1['Descuento'].mode()[0]))"
   ]
  },
  {
   "cell_type": "code",
   "execution_count": null,
   "metadata": {},
   "outputs": [],
   "source": [
    "car_train_1.isnull().sum()"
   ]
  },
  {
   "cell_type": "code",
   "execution_count": null,
   "metadata": {},
   "outputs": [],
   "source": [
    "car_test_1.isnull().sum()"
   ]
  },
  {
   "cell_type": "code",
   "execution_count": null,
   "metadata": {},
   "outputs": [],
   "source": [
    "car_train_1_orig = car_train_1.copy()\n",
    "car_test_1_orig = car_test_1.copy()"
   ]
  },
  {
   "cell_type": "code",
   "execution_count": null,
   "metadata": {},
   "outputs": [],
   "source": [
    "for i in list(car_train_1.columns):\n",
    "    if car_train_1[i].dtypes == \"object\":\n",
    "        to_read = \"../data/\" + i.lower() + \".csv\"\n",
    "        label = LabelEncoder().fit(pd.read_csv(to_read)[i])\n",
    "        car_train_1[i] = label.transform(car_train_1_orig[i])\n",
    "        car_test_1[i] = label.transform(car_test_1_orig[i])"
   ]
  },
  {
   "cell_type": "code",
   "execution_count": null,
   "metadata": {},
   "outputs": [],
   "source": [
    "correcto = True\n",
    "\n",
    "for asientos in car_train_1_orig.Asientos.unique():\n",
    "    label_train = car_train_1.Asientos[car_train_1_orig.Asientos == asientos].unique()\n",
    "    label_test = car_test_1.Asientos[car_test_1_orig.Asientos == asientos].unique()\n",
    "    \n",
    "    if len(label_train)==0 or len(label_test)==0:\n",
    "        continue\n",
    "    \n",
    "    if label_train != label_test:\n",
    "        print(\"Error, {} es etiquetado en train como {} y en test como {}\".format(asientos, label_train, label_test))\n",
    "        correcto = False\n",
    "        break\n",
    "        \n",
    "if correcto:\n",
    "    print(\"Todo perfecto\")"
   ]
  },
  {
   "cell_type": "markdown",
   "metadata": {},
   "source": [
    "## Modelos"
   ]
  },
  {
   "cell_type": "code",
   "execution_count": null,
   "metadata": {},
   "outputs": [],
   "source": [
    "y = car_train_1['Precio_cat']\n",
    "x = car_train_1.drop(['Precio_cat'],axis=1)"
   ]
  },
  {
   "cell_type": "code",
   "execution_count": null,
   "metadata": {},
   "outputs": [],
   "source": [
    "x_train,x_test,y_train,y_test = train_test_split(x, y, random_state=0, test_size=0.2)"
   ]
  },
  {
   "cell_type": "code",
   "execution_count": null,
   "metadata": {},
   "outputs": [],
   "source": [
    "linear_r = LinearRegression()"
   ]
  },
  {
   "cell_type": "code",
   "execution_count": null,
   "metadata": {},
   "outputs": [],
   "source": [
    "linear_score = cross_val_score(linear_r, x_train, y_train, cv=5)"
   ]
  },
  {
   "cell_type": "code",
   "execution_count": null,
   "metadata": {},
   "outputs": [],
   "source": [
    "print(linear_score.mean(), linear_score.std())"
   ]
  },
  {
   "cell_type": "code",
   "execution_count": null,
   "metadata": {},
   "outputs": [],
   "source": [
    "linear_r.fit(x_train,y_train)\n",
    "linear_pred=linear_r.predict(x_test)\n",
    "print(linear_pred)\n",
    "linear_score=r2_score(y_test,linear_pred)"
   ]
  },
  {
   "cell_type": "code",
   "execution_count": null,
   "metadata": {},
   "outputs": [],
   "source": [
    "print(linear_score)"
   ]
  },
  {
   "cell_type": "code",
   "execution_count": null,
   "metadata": {},
   "outputs": [],
   "source": [
    "lr = LogisticRegression()"
   ]
  },
  {
   "cell_type": "code",
   "execution_count": null,
   "metadata": {},
   "outputs": [],
   "source": [
    "lr_score = cross_val_score(lr, x_train, y_train, cv=5)"
   ]
  },
  {
   "cell_type": "code",
   "execution_count": null,
   "metadata": {},
   "outputs": [],
   "source": [
    "print(lr_score.mean(), lr_score.std())"
   ]
  },
  {
   "cell_type": "code",
   "execution_count": null,
   "metadata": {},
   "outputs": [],
   "source": [
    "lr.fit(x_train,y_train)\n",
    "lr_pred=lr.predict(x_test)\n",
    "lr_score=r2_score(y_test,lr_pred)"
   ]
  },
  {
   "cell_type": "code",
   "execution_count": null,
   "metadata": {},
   "outputs": [],
   "source": [
    "rfg = RandomForestRegressor()"
   ]
  },
  {
   "cell_type": "code",
   "execution_count": null,
   "metadata": {},
   "outputs": [],
   "source": [
    "rfg_score = cross_val_score(rfg, x_train, y_train, cv=5)"
   ]
  },
  {
   "cell_type": "code",
   "execution_count": null,
   "metadata": {},
   "outputs": [],
   "source": [
    "print(rfg_score.mean(), rfg_score.std())"
   ]
  },
  {
   "cell_type": "code",
   "execution_count": null,
   "metadata": {},
   "outputs": [],
   "source": [
    "rfg.fit(x_train,y_train)\n",
    "rfg_pred=rfg.predict(x_test)\n",
    "rfg_score=r2_score(y_test,rfg_pred)"
   ]
  },
  {
   "cell_type": "code",
   "execution_count": null,
   "metadata": {},
   "outputs": [],
   "source": [
    "print(rfg_score)"
   ]
  },
  {
   "cell_type": "markdown",
   "metadata": {},
   "source": [
    "Generar fichero"
   ]
  },
  {
   "cell_type": "code",
   "execution_count": null,
   "metadata": {},
   "outputs": [],
   "source": [
    "# Ahora predecimos\n",
    "tests_ids_1 = car_test_1['id']\n",
    "del car_test_1['id']\n",
    "predict_1 = rfg.predict(car_test_1)\n",
    "# Generamos \n",
    "df_result = pd.DataFrame({'id': tests_ids_1, 'Precio_cat': np.around(predict_1).astype(int) })\n",
    "df_result.to_csv(\"mis_resultados_1.csv\", index=False)"
   ]
  },
  {
   "cell_type": "code",
   "execution_count": null,
   "metadata": {},
   "outputs": [],
   "source": [
    "df_result.head()"
   ]
  },
  {
   "cell_type": "markdown",
   "metadata": {},
   "source": [
    "<a id=\"section-2\"></a>\n",
    "# Versión 2\n",
    "Hacer un poco de EDA, dummy variables, drop nan directamente, manipular el dataset, escalar variables, vemos que tenemos bastante skewed data"
   ]
  },
  {
   "cell_type": "code",
   "execution_count": 197,
   "metadata": {},
   "outputs": [],
   "source": [
    "car_train_2 = car_train.copy()\n",
    "car_test_2 = car_test.copy()"
   ]
  },
  {
   "cell_type": "code",
   "execution_count": 198,
   "metadata": {},
   "outputs": [],
   "source": [
    "#since the discount column is missing in both train and test set lets remove that column\n",
    "car_train_2=car_train_2.drop('Descuento',axis=1)"
   ]
  },
  {
   "cell_type": "code",
   "execution_count": 199,
   "metadata": {},
   "outputs": [],
   "source": [
    "car_train_2 = car_train_2.dropna()"
   ]
  },
  {
   "cell_type": "code",
   "execution_count": 200,
   "metadata": {},
   "outputs": [
    {
     "data": {
      "text/html": [
       "<div>\n",
       "<style scoped>\n",
       "    .dataframe tbody tr th:only-of-type {\n",
       "        vertical-align: middle;\n",
       "    }\n",
       "\n",
       "    .dataframe tbody tr th {\n",
       "        vertical-align: top;\n",
       "    }\n",
       "\n",
       "    .dataframe thead th {\n",
       "        text-align: right;\n",
       "    }\n",
       "</style>\n",
       "<table border=\"1\" class=\"dataframe\">\n",
       "  <thead>\n",
       "    <tr style=\"text-align: right;\">\n",
       "      <th></th>\n",
       "      <th>id</th>\n",
       "      <th>Nombre</th>\n",
       "      <th>Ciudad</th>\n",
       "      <th>Año</th>\n",
       "      <th>Kilometros</th>\n",
       "      <th>Combustible</th>\n",
       "      <th>Tipo_marchas</th>\n",
       "      <th>Mano</th>\n",
       "      <th>Consumo</th>\n",
       "      <th>Motor_CC</th>\n",
       "      <th>Potencia</th>\n",
       "      <th>Asientos</th>\n",
       "      <th>Precio_cat</th>\n",
       "    </tr>\n",
       "  </thead>\n",
       "  <tbody>\n",
       "    <tr>\n",
       "      <th>0</th>\n",
       "      <td>1.0</td>\n",
       "      <td>Maruti Swift Dzire ZDI</td>\n",
       "      <td>G</td>\n",
       "      <td>2012.0</td>\n",
       "      <td>83000.0</td>\n",
       "      <td>Diesel</td>\n",
       "      <td>Manual</td>\n",
       "      <td>First</td>\n",
       "      <td>23.4 kmpl</td>\n",
       "      <td>1248 CC</td>\n",
       "      <td>74 bhp</td>\n",
       "      <td>5.0</td>\n",
       "      <td>3</td>\n",
       "    </tr>\n",
       "    <tr>\n",
       "      <th>1</th>\n",
       "      <td>2.0</td>\n",
       "      <td>Maruti Wagon R LXI Optional</td>\n",
       "      <td>I</td>\n",
       "      <td>2016.0</td>\n",
       "      <td>4800.0</td>\n",
       "      <td>Petrol</td>\n",
       "      <td>Manual</td>\n",
       "      <td>First</td>\n",
       "      <td>20.51 kmpl</td>\n",
       "      <td>998 CC</td>\n",
       "      <td>67.04 bhp</td>\n",
       "      <td>5.0</td>\n",
       "      <td>3</td>\n",
       "    </tr>\n",
       "    <tr>\n",
       "      <th>2</th>\n",
       "      <td>3.0</td>\n",
       "      <td>Mahindra KUV 100 mFALCON D75 K8</td>\n",
       "      <td>F</td>\n",
       "      <td>2016.0</td>\n",
       "      <td>26000.0</td>\n",
       "      <td>Diesel</td>\n",
       "      <td>Manual</td>\n",
       "      <td>First</td>\n",
       "      <td>25.32 kmpl</td>\n",
       "      <td>1198 CC</td>\n",
       "      <td>77 bhp</td>\n",
       "      <td>6.0</td>\n",
       "      <td>3</td>\n",
       "    </tr>\n",
       "    <tr>\n",
       "      <th>3</th>\n",
       "      <td>4.0</td>\n",
       "      <td>Hyundai i20 1.2 Magna</td>\n",
       "      <td>E</td>\n",
       "      <td>2013.0</td>\n",
       "      <td>56127.0</td>\n",
       "      <td>Petrol</td>\n",
       "      <td>Manual</td>\n",
       "      <td>First</td>\n",
       "      <td>18.5 kmpl</td>\n",
       "      <td>1197 CC</td>\n",
       "      <td>80 bhp</td>\n",
       "      <td>5.0</td>\n",
       "      <td>3</td>\n",
       "    </tr>\n",
       "    <tr>\n",
       "      <th>4</th>\n",
       "      <td>5.0</td>\n",
       "      <td>Honda Jazz 1.2 SV i VTEC</td>\n",
       "      <td>H</td>\n",
       "      <td>2017.0</td>\n",
       "      <td>41981.0</td>\n",
       "      <td>Petrol</td>\n",
       "      <td>Manual</td>\n",
       "      <td>First</td>\n",
       "      <td>18.7 kmpl</td>\n",
       "      <td>1199 CC</td>\n",
       "      <td>88.7 bhp</td>\n",
       "      <td>5.0</td>\n",
       "      <td>3</td>\n",
       "    </tr>\n",
       "  </tbody>\n",
       "</table>\n",
       "</div>"
      ],
      "text/plain": [
       "    id                           Nombre Ciudad     Año  Kilometros  \\\n",
       "0  1.0           Maruti Swift Dzire ZDI      G  2012.0     83000.0   \n",
       "1  2.0      Maruti Wagon R LXI Optional      I  2016.0      4800.0   \n",
       "2  3.0  Mahindra KUV 100 mFALCON D75 K8      F  2016.0     26000.0   \n",
       "3  4.0            Hyundai i20 1.2 Magna      E  2013.0     56127.0   \n",
       "4  5.0         Honda Jazz 1.2 SV i VTEC      H  2017.0     41981.0   \n",
       "\n",
       "  Combustible Tipo_marchas   Mano     Consumo Motor_CC   Potencia  Asientos  \\\n",
       "0      Diesel       Manual  First   23.4 kmpl  1248 CC     74 bhp       5.0   \n",
       "1      Petrol       Manual  First  20.51 kmpl   998 CC  67.04 bhp       5.0   \n",
       "2      Diesel       Manual  First  25.32 kmpl  1198 CC     77 bhp       6.0   \n",
       "3      Petrol       Manual  First   18.5 kmpl  1197 CC     80 bhp       5.0   \n",
       "4      Petrol       Manual  First   18.7 kmpl  1199 CC   88.7 bhp       5.0   \n",
       "\n",
       "   Precio_cat  \n",
       "0           3  \n",
       "1           3  \n",
       "2           3  \n",
       "3           3  \n",
       "4           3  "
      ]
     },
     "execution_count": 200,
     "metadata": {},
     "output_type": "execute_result"
    }
   ],
   "source": [
    "car_train_2.head()"
   ]
  },
  {
   "cell_type": "code",
   "execution_count": 201,
   "metadata": {},
   "outputs": [
    {
     "data": {
      "text/plain": [
       "(3946, 13)"
      ]
     },
     "execution_count": 201,
     "metadata": {},
     "output_type": "execute_result"
    }
   ],
   "source": [
    "car_train_2.shape"
   ]
  },
  {
   "cell_type": "code",
   "execution_count": 166,
   "metadata": {},
   "outputs": [
    {
     "data": {
      "text/plain": [
       "array(['23.4 kmpl', '20.51 kmpl', '25.32 kmpl', ..., '22.9 kmpl',\n",
       "       '20.14 kmpl', '20.77 kmpl'], dtype=object)"
      ]
     },
     "execution_count": 166,
     "metadata": {},
     "output_type": "execute_result"
    }
   ],
   "source": [
    "car_train_2.Consumo.values"
   ]
  },
  {
   "cell_type": "code",
   "execution_count": 167,
   "metadata": {},
   "outputs": [
    {
     "data": {
      "text/plain": [
       "array(['1248 CC', '998 CC', '1198 CC', ..., '1248 CC', '1197 CC',\n",
       "       '1248 CC'], dtype=object)"
      ]
     },
     "execution_count": 167,
     "metadata": {},
     "output_type": "execute_result"
    }
   ],
   "source": [
    "car_train_2.Motor_CC.values"
   ]
  },
  {
   "cell_type": "code",
   "execution_count": 168,
   "metadata": {},
   "outputs": [
    {
     "data": {
      "text/plain": [
       "array(['74 bhp', '67.04 bhp', '77 bhp', ..., '74 bhp', '81.86 bhp',\n",
       "       '88.8 bhp'], dtype=object)"
      ]
     },
     "execution_count": 168,
     "metadata": {},
     "output_type": "execute_result"
    }
   ],
   "source": [
    "car_train_2.Potencia.values"
   ]
  },
  {
   "cell_type": "markdown",
   "metadata": {},
   "source": [
    "For visualisation we can add new column to the dataset based of Consumo column, we can convert object datatype to numberic"
   ]
  },
  {
   "cell_type": "code",
   "execution_count": 202,
   "metadata": {},
   "outputs": [],
   "source": [
    "car_train_2['Consumo']=car_train_2.Consumo.astype(str).str.partition()[0].astype('float')\n",
    "car_train_2['Motor_CC']=car_train_2.Motor_CC.astype(str).str.partition()[0].astype('int')\n",
    "car_train_2['Potencia']=car_train_2.Potencia.astype(str).str.partition()[0].astype('float')\n",
    "car_train_2['Asientos']=car_train_2.Asientos.astype('int')"
   ]
  },
  {
   "cell_type": "code",
   "execution_count": 170,
   "metadata": {},
   "outputs": [
    {
     "data": {
      "text/plain": [
       "array([23.4 , 20.51, 25.32, ..., 22.9 , 20.14, 20.77])"
      ]
     },
     "execution_count": 170,
     "metadata": {},
     "output_type": "execute_result"
    }
   ],
   "source": [
    "car_train_2.Consumo.values"
   ]
  },
  {
   "cell_type": "code",
   "execution_count": 171,
   "metadata": {},
   "outputs": [
    {
     "data": {
      "text/plain": [
       "array([74.  , 67.04, 77.  , ..., 74.  , 81.86, 88.8 ])"
      ]
     },
     "execution_count": 171,
     "metadata": {},
     "output_type": "execute_result"
    }
   ],
   "source": [
    "car_train_2.Potencia.values"
   ]
  },
  {
   "cell_type": "code",
   "execution_count": 172,
   "metadata": {},
   "outputs": [
    {
     "data": {
      "text/plain": [
       "array([1248,  998, 1198, ..., 1248, 1197, 1248])"
      ]
     },
     "execution_count": 172,
     "metadata": {},
     "output_type": "execute_result"
    }
   ],
   "source": [
    "car_train_2.Motor_CC.values"
   ]
  },
  {
   "cell_type": "code",
   "execution_count": 173,
   "metadata": {},
   "outputs": [
    {
     "data": {
      "text/plain": [
       "array([5, 5, 6, ..., 5, 5, 7])"
      ]
     },
     "execution_count": 173,
     "metadata": {},
     "output_type": "execute_result"
    }
   ],
   "source": [
    "car_train_2.Asientos.values"
   ]
  },
  {
   "cell_type": "code",
   "execution_count": 125,
   "metadata": {},
   "outputs": [
    {
     "data": {
      "image/png": "[encoded data removed]",
      "text/plain": [
       "<Figure size 1152x360 with 2 Axes>"
      ]
     },
     "metadata": {
      "needs_background": "light"
     },
     "output_type": "display_data"
    }
   ],
   "source": [
    "# Consumo\n",
    "plt.subplot(121)\n",
    "sns.distplot(car_train_2['Consumo'],color=\"b\");\n",
    "\n",
    "plt.subplot(122)\n",
    "car_train_2['Consumo'].plot.box(figsize=(16,5))\n",
    "\n",
    "plt.show()"
   ]
  },
  {
   "cell_type": "code",
   "execution_count": 126,
   "metadata": {},
   "outputs": [
    {
     "data": {
      "image/png": "[encoded data removed]",
      "text/plain": [
       "<Figure size 1152x360 with 2 Axes>"
      ]
     },
     "metadata": {
      "needs_background": "light"
     },
     "output_type": "display_data"
    }
   ],
   "source": [
    "# Motor CC\n",
    "plt.subplot(121)\n",
    "sns.distplot(car_train_2['Motor_CC'],color=\"g\");\n",
    "\n",
    "plt.subplot(122)\n",
    "car_train_2['Motor_CC'].plot.box(figsize=(16,5))\n",
    "\n",
    "plt.show() "
   ]
  },
  {
   "cell_type": "code",
   "execution_count": 127,
   "metadata": {},
   "outputs": [
    {
     "data": {
      "image/png": "[encoded data removed]",
      "text/plain": [
       "<Figure size 1152x360 with 2 Axes>"
      ]
     },
     "metadata": {
      "needs_background": "light"
     },
     "output_type": "display_data"
    }
   ],
   "source": [
    "# Potencia\n",
    "plt.subplot(121)\n",
    "sns.distplot(car_train_2['Potencia'],color=\"m\");\n",
    "\n",
    "plt.subplot(122)\n",
    "car_train_2['Potencia'].plot.box(figsize=(16,5))\n",
    "\n",
    "plt.show() "
   ]
  },
  {
   "cell_type": "code",
   "execution_count": 128,
   "metadata": {},
   "outputs": [
    {
     "data": {
      "text/html": [
       "<div>\n",
       "<style scoped>\n",
       "    .dataframe tbody tr th:only-of-type {\n",
       "        vertical-align: middle;\n",
       "    }\n",
       "\n",
       "    .dataframe tbody tr th {\n",
       "        vertical-align: top;\n",
       "    }\n",
       "\n",
       "    .dataframe thead th {\n",
       "        text-align: right;\n",
       "    }\n",
       "</style>\n",
       "<table border=\"1\" class=\"dataframe\">\n",
       "  <thead>\n",
       "    <tr style=\"text-align: right;\">\n",
       "      <th></th>\n",
       "      <th>id</th>\n",
       "      <th>Nombre</th>\n",
       "      <th>Ciudad</th>\n",
       "      <th>Año</th>\n",
       "      <th>Kilometros</th>\n",
       "      <th>Combustible</th>\n",
       "      <th>Tipo_marchas</th>\n",
       "      <th>Mano</th>\n",
       "      <th>Consumo</th>\n",
       "      <th>Motor_CC</th>\n",
       "      <th>Potencia</th>\n",
       "      <th>Asientos</th>\n",
       "      <th>Precio_cat</th>\n",
       "    </tr>\n",
       "  </thead>\n",
       "  <tbody>\n",
       "    <tr>\n",
       "      <th>455</th>\n",
       "      <td>456.0</td>\n",
       "      <td>Mercedes-Benz C-Class Progressive C 220d</td>\n",
       "      <td>E</td>\n",
       "      <td>2019.0</td>\n",
       "      <td>15369.0</td>\n",
       "      <td>Diesel</td>\n",
       "      <td>Automatic</td>\n",
       "      <td>First</td>\n",
       "      <td>0.0</td>\n",
       "      <td>1950</td>\n",
       "      <td>194.0</td>\n",
       "      <td>5</td>\n",
       "      <td>5</td>\n",
       "    </tr>\n",
       "    <tr>\n",
       "      <th>496</th>\n",
       "      <td>497.0</td>\n",
       "      <td>Mercedes-Benz M-Class ML 350 4Matic</td>\n",
       "      <td>E</td>\n",
       "      <td>2016.0</td>\n",
       "      <td>22769.0</td>\n",
       "      <td>Diesel</td>\n",
       "      <td>Automatic</td>\n",
       "      <td>First</td>\n",
       "      <td>0.0</td>\n",
       "      <td>2987</td>\n",
       "      <td>165.0</td>\n",
       "      <td>5</td>\n",
       "      <td>5</td>\n",
       "    </tr>\n",
       "    <tr>\n",
       "      <th>957</th>\n",
       "      <td>958.0</td>\n",
       "      <td>Mercedes-Benz M-Class ML 350 4Matic</td>\n",
       "      <td>E</td>\n",
       "      <td>2016.0</td>\n",
       "      <td>27833.0</td>\n",
       "      <td>Diesel</td>\n",
       "      <td>Automatic</td>\n",
       "      <td>First</td>\n",
       "      <td>0.0</td>\n",
       "      <td>2987</td>\n",
       "      <td>165.0</td>\n",
       "      <td>5</td>\n",
       "      <td>5</td>\n",
       "    </tr>\n",
       "    <tr>\n",
       "      <th>1077</th>\n",
       "      <td>1078.0</td>\n",
       "      <td>Hyundai Santro Xing GL</td>\n",
       "      <td>B</td>\n",
       "      <td>2008.0</td>\n",
       "      <td>65000.0</td>\n",
       "      <td>Petrol</td>\n",
       "      <td>Manual</td>\n",
       "      <td>Second</td>\n",
       "      <td>0.0</td>\n",
       "      <td>1086</td>\n",
       "      <td>62.0</td>\n",
       "      <td>5</td>\n",
       "      <td>1</td>\n",
       "    </tr>\n",
       "    <tr>\n",
       "      <th>1136</th>\n",
       "      <td>1137.0</td>\n",
       "      <td>Hyundai Santro Xing GL</td>\n",
       "      <td>I</td>\n",
       "      <td>2009.0</td>\n",
       "      <td>60170.0</td>\n",
       "      <td>Petrol</td>\n",
       "      <td>Manual</td>\n",
       "      <td>First</td>\n",
       "      <td>0.0</td>\n",
       "      <td>1086</td>\n",
       "      <td>62.0</td>\n",
       "      <td>5</td>\n",
       "      <td>1</td>\n",
       "    </tr>\n",
       "    <tr>\n",
       "      <th>1390</th>\n",
       "      <td>1391.0</td>\n",
       "      <td>Mercedes-Benz M-Class ML 350 4Matic</td>\n",
       "      <td>D</td>\n",
       "      <td>2012.0</td>\n",
       "      <td>63000.0</td>\n",
       "      <td>Diesel</td>\n",
       "      <td>Automatic</td>\n",
       "      <td>First</td>\n",
       "      <td>0.0</td>\n",
       "      <td>2987</td>\n",
       "      <td>165.0</td>\n",
       "      <td>5</td>\n",
       "      <td>5</td>\n",
       "    </tr>\n",
       "    <tr>\n",
       "      <th>1638</th>\n",
       "      <td>1639.0</td>\n",
       "      <td>Skoda Superb 3.6 V6 FSI</td>\n",
       "      <td>F</td>\n",
       "      <td>2009.0</td>\n",
       "      <td>53000.0</td>\n",
       "      <td>Petrol</td>\n",
       "      <td>Automatic</td>\n",
       "      <td>First</td>\n",
       "      <td>0.0</td>\n",
       "      <td>3597</td>\n",
       "      <td>262.6</td>\n",
       "      <td>5</td>\n",
       "      <td>3</td>\n",
       "    </tr>\n",
       "    <tr>\n",
       "      <th>2605</th>\n",
       "      <td>2606.0</td>\n",
       "      <td>Land Rover Freelander 2 TD4 SE</td>\n",
       "      <td>G</td>\n",
       "      <td>2012.0</td>\n",
       "      <td>119203.0</td>\n",
       "      <td>Diesel</td>\n",
       "      <td>Automatic</td>\n",
       "      <td>First</td>\n",
       "      <td>0.0</td>\n",
       "      <td>2179</td>\n",
       "      <td>115.0</td>\n",
       "      <td>5</td>\n",
       "      <td>5</td>\n",
       "    </tr>\n",
       "    <tr>\n",
       "      <th>2632</th>\n",
       "      <td>2633.0</td>\n",
       "      <td>Land Rover Freelander 2 TD4 HSE</td>\n",
       "      <td>J</td>\n",
       "      <td>2013.0</td>\n",
       "      <td>72000.0</td>\n",
       "      <td>Diesel</td>\n",
       "      <td>Automatic</td>\n",
       "      <td>First</td>\n",
       "      <td>0.0</td>\n",
       "      <td>2179</td>\n",
       "      <td>115.0</td>\n",
       "      <td>5</td>\n",
       "      <td>5</td>\n",
       "    </tr>\n",
       "    <tr>\n",
       "      <th>2934</th>\n",
       "      <td>2935.0</td>\n",
       "      <td>Hyundai Santro Xing GL</td>\n",
       "      <td>H</td>\n",
       "      <td>2011.0</td>\n",
       "      <td>20842.0</td>\n",
       "      <td>Petrol</td>\n",
       "      <td>Manual</td>\n",
       "      <td>First</td>\n",
       "      <td>0.0</td>\n",
       "      <td>1086</td>\n",
       "      <td>62.0</td>\n",
       "      <td>5</td>\n",
       "      <td>2</td>\n",
       "    </tr>\n",
       "    <tr>\n",
       "      <th>3182</th>\n",
       "      <td>3183.0</td>\n",
       "      <td>Land Rover Freelander 2 TD4 SE</td>\n",
       "      <td>F</td>\n",
       "      <td>2013.0</td>\n",
       "      <td>46000.0</td>\n",
       "      <td>Diesel</td>\n",
       "      <td>Automatic</td>\n",
       "      <td>Second</td>\n",
       "      <td>0.0</td>\n",
       "      <td>2179</td>\n",
       "      <td>115.0</td>\n",
       "      <td>5</td>\n",
       "      <td>5</td>\n",
       "    </tr>\n",
       "    <tr>\n",
       "      <th>3510</th>\n",
       "      <td>3511.0</td>\n",
       "      <td>Hyundai Santro Xing GL</td>\n",
       "      <td>F</td>\n",
       "      <td>2010.0</td>\n",
       "      <td>58163.0</td>\n",
       "      <td>Petrol</td>\n",
       "      <td>Manual</td>\n",
       "      <td>First</td>\n",
       "      <td>0.0</td>\n",
       "      <td>1086</td>\n",
       "      <td>62.0</td>\n",
       "      <td>5</td>\n",
       "      <td>2</td>\n",
       "    </tr>\n",
       "    <tr>\n",
       "      <th>3656</th>\n",
       "      <td>3657.0</td>\n",
       "      <td>Mercedes-Benz M-Class ML 350 4Matic</td>\n",
       "      <td>L</td>\n",
       "      <td>2012.0</td>\n",
       "      <td>66000.0</td>\n",
       "      <td>Diesel</td>\n",
       "      <td>Automatic</td>\n",
       "      <td>First</td>\n",
       "      <td>0.0</td>\n",
       "      <td>2987</td>\n",
       "      <td>165.0</td>\n",
       "      <td>5</td>\n",
       "      <td>5</td>\n",
       "    </tr>\n",
       "    <tr>\n",
       "      <th>4128</th>\n",
       "      <td>4129.0</td>\n",
       "      <td>Hyundai Santro Xing GL</td>\n",
       "      <td>J</td>\n",
       "      <td>2012.0</td>\n",
       "      <td>61449.0</td>\n",
       "      <td>Petrol</td>\n",
       "      <td>Manual</td>\n",
       "      <td>First</td>\n",
       "      <td>0.0</td>\n",
       "      <td>1086</td>\n",
       "      <td>62.0</td>\n",
       "      <td>5</td>\n",
       "      <td>1</td>\n",
       "    </tr>\n",
       "    <tr>\n",
       "      <th>4199</th>\n",
       "      <td>4200.0</td>\n",
       "      <td>Land Rover Freelander 2 TD4 SE</td>\n",
       "      <td>C</td>\n",
       "      <td>2012.0</td>\n",
       "      <td>85000.0</td>\n",
       "      <td>Diesel</td>\n",
       "      <td>Automatic</td>\n",
       "      <td>Second</td>\n",
       "      <td>0.0</td>\n",
       "      <td>2179</td>\n",
       "      <td>115.0</td>\n",
       "      <td>5</td>\n",
       "      <td>5</td>\n",
       "    </tr>\n",
       "  </tbody>\n",
       "</table>\n",
       "</div>"
      ],
      "text/plain": [
       "          id                                    Nombre Ciudad     Año  \\\n",
       "455    456.0  Mercedes-Benz C-Class Progressive C 220d      E  2019.0   \n",
       "496    497.0       Mercedes-Benz M-Class ML 350 4Matic      E  2016.0   \n",
       "957    958.0       Mercedes-Benz M-Class ML 350 4Matic      E  2016.0   \n",
       "1077  1078.0                    Hyundai Santro Xing GL      B  2008.0   \n",
       "1136  1137.0                    Hyundai Santro Xing GL      I  2009.0   \n",
       "1390  1391.0       Mercedes-Benz M-Class ML 350 4Matic      D  2012.0   \n",
       "1638  1639.0                   Skoda Superb 3.6 V6 FSI      F  2009.0   \n",
       "2605  2606.0            Land Rover Freelander 2 TD4 SE      G  2012.0   \n",
       "2632  2633.0           Land Rover Freelander 2 TD4 HSE      J  2013.0   \n",
       "2934  2935.0                    Hyundai Santro Xing GL      H  2011.0   \n",
       "3182  3183.0            Land Rover Freelander 2 TD4 SE      F  2013.0   \n",
       "3510  3511.0                    Hyundai Santro Xing GL      F  2010.0   \n",
       "3656  3657.0       Mercedes-Benz M-Class ML 350 4Matic      L  2012.0   \n",
       "4128  4129.0                    Hyundai Santro Xing GL      J  2012.0   \n",
       "4199  4200.0            Land Rover Freelander 2 TD4 SE      C  2012.0   \n",
       "\n",
       "      Kilometros Combustible Tipo_marchas    Mano  Consumo  Motor_CC  \\\n",
       "455      15369.0      Diesel    Automatic   First      0.0      1950   \n",
       "496      22769.0      Diesel    Automatic   First      0.0      2987   \n",
       "957      27833.0      Diesel    Automatic   First      0.0      2987   \n",
       "1077     65000.0      Petrol       Manual  Second      0.0      1086   \n",
       "1136     60170.0      Petrol       Manual   First      0.0      1086   \n",
       "1390     63000.0      Diesel    Automatic   First      0.0      2987   \n",
       "1638     53000.0      Petrol    Automatic   First      0.0      3597   \n",
       "2605    119203.0      Diesel    Automatic   First      0.0      2179   \n",
       "2632     72000.0      Diesel    Automatic   First      0.0      2179   \n",
       "2934     20842.0      Petrol       Manual   First      0.0      1086   \n",
       "3182     46000.0      Diesel    Automatic  Second      0.0      2179   \n",
       "3510     58163.0      Petrol       Manual   First      0.0      1086   \n",
       "3656     66000.0      Diesel    Automatic   First      0.0      2987   \n",
       "4128     61449.0      Petrol       Manual   First      0.0      1086   \n",
       "4199     85000.0      Diesel    Automatic  Second      0.0      2179   \n",
       "\n",
       "      Potencia  Asientos  Precio_cat  \n",
       "455      194.0         5           5  \n",
       "496      165.0         5           5  \n",
       "957      165.0         5           5  \n",
       "1077      62.0         5           1  \n",
       "1136      62.0         5           1  \n",
       "1390     165.0         5           5  \n",
       "1638     262.6         5           3  \n",
       "2605     115.0         5           5  \n",
       "2632     115.0         5           5  \n",
       "2934      62.0         5           2  \n",
       "3182     115.0         5           5  \n",
       "3510      62.0         5           2  \n",
       "3656     165.0         5           5  \n",
       "4128      62.0         5           1  \n",
       "4199     115.0         5           5  "
      ]
     },
     "execution_count": 128,
     "metadata": {},
     "output_type": "execute_result"
    }
   ],
   "source": [
    "# Consumo vs Precio\n",
    "car_train_2.loc[car_train_2.Consumo == 0.0]"
   ]
  },
  {
   "cell_type": "markdown",
   "metadata": {},
   "source": [
    "Outliers"
   ]
  },
  {
   "cell_type": "code",
   "execution_count": 129,
   "metadata": {},
   "outputs": [],
   "source": [
    "features_ch = ['Kilometros','Precio_cat','Potencia','Consumo','Motor_CC']"
   ]
  },
  {
   "cell_type": "code",
   "execution_count": 21,
   "metadata": {},
   "outputs": [
    {
     "data": {
      "image/png": "[encoded data removed]",
      "text/plain": [
       "<Figure size 720x432 with 1 Axes>"
      ]
     },
     "metadata": {
      "needs_background": "light"
     },
     "output_type": "display_data"
    },
    {
     "data": {
      "image/png": "[encoded data removed]",
      "text/plain": [
       "<Figure size 720x432 with 1 Axes>"
      ]
     },
     "metadata": {
      "needs_background": "light"
     },
     "output_type": "display_data"
    },
    {
     "data": {
      "image/png": "[encoded data removed]",
      "text/plain": [
       "<Figure size 720x432 with 1 Axes>"
      ]
     },
     "metadata": {
      "needs_background": "light"
     },
     "output_type": "display_data"
    },
    {
     "data": {
      "image/png": "[encoded data removed]",
      "text/plain": [
       "<Figure size 720x432 with 1 Axes>"
      ]
     },
     "metadata": {
      "needs_background": "light"
     },
     "output_type": "display_data"
    },
    {
     "data": {
      "image/png": "[encoded data removed]",
      "text/plain": [
       "<Figure size 720x432 with 1 Axes>"
      ]
     },
     "metadata": {
      "needs_background": "light"
     },
     "output_type": "display_data"
    }
   ],
   "source": [
    "for feature in features_ch:\n",
    "        plt.figure(figsize=(10,6))\n",
    "    \n",
    "        data=car_train_2.copy()\n",
    "        plt.scatter(data[feature],data['Precio_cat'],alpha=0.3)\n",
    "        plt.xlabel(feature)\n",
    "        plt.ylabel('Precio_cat')\n",
    "        plt.show()"
   ]
  },
  {
   "cell_type": "code",
   "execution_count": 22,
   "metadata": {},
   "outputs": [
    {
     "data": {
      "image/png": "[encoded data removed]",
      "text/plain": [
       "<Figure size 432x288 with 1 Axes>"
      ]
     },
     "metadata": {
      "needs_background": "light"
     },
     "output_type": "display_data"
    },
    {
     "data": {
      "image/png": "[encoded data removed]",
      "text/plain": [
       "<Figure size 432x288 with 1 Axes>"
      ]
     },
     "metadata": {
      "needs_background": "light"
     },
     "output_type": "display_data"
    },
    {
     "data": {
      "image/png": "[encoded data removed]",
      "text/plain": [
       "<Figure size 432x288 with 1 Axes>"
      ]
     },
     "metadata": {
      "needs_background": "light"
     },
     "output_type": "display_data"
    },
    {
     "data": {
      "image/png": "[encoded data removed]",
      "text/plain": [
       "<Figure size 432x288 with 1 Axes>"
      ]
     },
     "metadata": {
      "needs_background": "light"
     },
     "output_type": "display_data"
    },
    {
     "data": {
      "image/png": "[encoded data removed]",
      "text/plain": [
       "<Figure size 432x288 with 1 Axes>"
      ]
     },
     "metadata": {
      "needs_background": "light"
     },
     "output_type": "display_data"
    }
   ],
   "source": [
    "for i in features_ch:\n",
    "    fig, ax = plt.subplots()\n",
    "    #plt.xlim(-10,10)\n",
    "    sns.boxplot(x = i, data = car_train_2, ax = ax)"
   ]
  },
  {
   "cell_type": "markdown",
   "metadata": {},
   "source": [
    "Tenemos un dataset muy pequeño intentaré eliminar lo menos posible"
   ]
  },
  {
   "cell_type": "code",
   "execution_count": 203,
   "metadata": {},
   "outputs": [],
   "source": [
    "part = car_train_2['Nombre'].astype(str).str.partition()\n",
    "car_train_2['Company'] = part[0].str.title()\n",
    "car_train_2['Car_name'] = part[2]"
   ]
  },
  {
   "cell_type": "code",
   "execution_count": 204,
   "metadata": {},
   "outputs": [],
   "source": [
    "car_train_2 = car_train_2[car_train_2.Company != 'Bentley']"
   ]
  },
  {
   "cell_type": "code",
   "execution_count": 132,
   "metadata": {},
   "outputs": [
    {
     "data": {
      "text/html": [
       "<div>\n",
       "<style scoped>\n",
       "    .dataframe tbody tr th:only-of-type {\n",
       "        vertical-align: middle;\n",
       "    }\n",
       "\n",
       "    .dataframe tbody tr th {\n",
       "        vertical-align: top;\n",
       "    }\n",
       "\n",
       "    .dataframe thead th {\n",
       "        text-align: right;\n",
       "    }\n",
       "</style>\n",
       "<table border=\"1\" class=\"dataframe\">\n",
       "  <thead>\n",
       "    <tr style=\"text-align: right;\">\n",
       "      <th></th>\n",
       "      <th>id</th>\n",
       "      <th>Nombre</th>\n",
       "      <th>Ciudad</th>\n",
       "      <th>Año</th>\n",
       "      <th>Kilometros</th>\n",
       "      <th>Combustible</th>\n",
       "      <th>Tipo_marchas</th>\n",
       "      <th>Mano</th>\n",
       "      <th>Consumo</th>\n",
       "      <th>Motor_CC</th>\n",
       "      <th>Potencia</th>\n",
       "      <th>Asientos</th>\n",
       "      <th>Precio_cat</th>\n",
       "      <th>Company</th>\n",
       "      <th>Car_name</th>\n",
       "    </tr>\n",
       "  </thead>\n",
       "  <tbody>\n",
       "    <tr>\n",
       "      <th>0</th>\n",
       "      <td>1.0</td>\n",
       "      <td>Maruti Swift Dzire ZDI</td>\n",
       "      <td>G</td>\n",
       "      <td>2012.0</td>\n",
       "      <td>83000.0</td>\n",
       "      <td>Diesel</td>\n",
       "      <td>Manual</td>\n",
       "      <td>First</td>\n",
       "      <td>23.40</td>\n",
       "      <td>1248</td>\n",
       "      <td>74.00</td>\n",
       "      <td>5</td>\n",
       "      <td>3</td>\n",
       "      <td>Maruti</td>\n",
       "      <td>Swift Dzire ZDI</td>\n",
       "    </tr>\n",
       "    <tr>\n",
       "      <th>1</th>\n",
       "      <td>2.0</td>\n",
       "      <td>Maruti Wagon R LXI Optional</td>\n",
       "      <td>I</td>\n",
       "      <td>2016.0</td>\n",
       "      <td>4800.0</td>\n",
       "      <td>Petrol</td>\n",
       "      <td>Manual</td>\n",
       "      <td>First</td>\n",
       "      <td>20.51</td>\n",
       "      <td>998</td>\n",
       "      <td>67.04</td>\n",
       "      <td>5</td>\n",
       "      <td>3</td>\n",
       "      <td>Maruti</td>\n",
       "      <td>Wagon R LXI Optional</td>\n",
       "    </tr>\n",
       "    <tr>\n",
       "      <th>2</th>\n",
       "      <td>3.0</td>\n",
       "      <td>Mahindra KUV 100 mFALCON D75 K8</td>\n",
       "      <td>F</td>\n",
       "      <td>2016.0</td>\n",
       "      <td>26000.0</td>\n",
       "      <td>Diesel</td>\n",
       "      <td>Manual</td>\n",
       "      <td>First</td>\n",
       "      <td>25.32</td>\n",
       "      <td>1198</td>\n",
       "      <td>77.00</td>\n",
       "      <td>6</td>\n",
       "      <td>3</td>\n",
       "      <td>Mahindra</td>\n",
       "      <td>KUV 100 mFALCON D75 K8</td>\n",
       "    </tr>\n",
       "    <tr>\n",
       "      <th>3</th>\n",
       "      <td>4.0</td>\n",
       "      <td>Hyundai i20 1.2 Magna</td>\n",
       "      <td>E</td>\n",
       "      <td>2013.0</td>\n",
       "      <td>56127.0</td>\n",
       "      <td>Petrol</td>\n",
       "      <td>Manual</td>\n",
       "      <td>First</td>\n",
       "      <td>18.50</td>\n",
       "      <td>1197</td>\n",
       "      <td>80.00</td>\n",
       "      <td>5</td>\n",
       "      <td>3</td>\n",
       "      <td>Hyundai</td>\n",
       "      <td>i20 1.2 Magna</td>\n",
       "    </tr>\n",
       "    <tr>\n",
       "      <th>4</th>\n",
       "      <td>5.0</td>\n",
       "      <td>Honda Jazz 1.2 SV i VTEC</td>\n",
       "      <td>H</td>\n",
       "      <td>2017.0</td>\n",
       "      <td>41981.0</td>\n",
       "      <td>Petrol</td>\n",
       "      <td>Manual</td>\n",
       "      <td>First</td>\n",
       "      <td>18.70</td>\n",
       "      <td>1199</td>\n",
       "      <td>88.70</td>\n",
       "      <td>5</td>\n",
       "      <td>3</td>\n",
       "      <td>Honda</td>\n",
       "      <td>Jazz 1.2 SV i VTEC</td>\n",
       "    </tr>\n",
       "  </tbody>\n",
       "</table>\n",
       "</div>"
      ],
      "text/plain": [
       "    id                           Nombre Ciudad     Año  Kilometros  \\\n",
       "0  1.0           Maruti Swift Dzire ZDI      G  2012.0     83000.0   \n",
       "1  2.0      Maruti Wagon R LXI Optional      I  2016.0      4800.0   \n",
       "2  3.0  Mahindra KUV 100 mFALCON D75 K8      F  2016.0     26000.0   \n",
       "3  4.0            Hyundai i20 1.2 Magna      E  2013.0     56127.0   \n",
       "4  5.0         Honda Jazz 1.2 SV i VTEC      H  2017.0     41981.0   \n",
       "\n",
       "  Combustible Tipo_marchas   Mano  Consumo  Motor_CC  Potencia  Asientos  \\\n",
       "0      Diesel       Manual  First    23.40      1248     74.00         5   \n",
       "1      Petrol       Manual  First    20.51       998     67.04         5   \n",
       "2      Diesel       Manual  First    25.32      1198     77.00         6   \n",
       "3      Petrol       Manual  First    18.50      1197     80.00         5   \n",
       "4      Petrol       Manual  First    18.70      1199     88.70         5   \n",
       "\n",
       "   Precio_cat   Company                Car_name  \n",
       "0           3    Maruti         Swift Dzire ZDI  \n",
       "1           3    Maruti    Wagon R LXI Optional  \n",
       "2           3  Mahindra  KUV 100 mFALCON D75 K8  \n",
       "3           3   Hyundai           i20 1.2 Magna  \n",
       "4           3     Honda      Jazz 1.2 SV i VTEC  "
      ]
     },
     "execution_count": 132,
     "metadata": {},
     "output_type": "execute_result"
    }
   ],
   "source": [
    "car_train_2.head()"
   ]
  },
  {
   "cell_type": "code",
   "execution_count": 205,
   "metadata": {},
   "outputs": [],
   "source": [
    "car_train_2.drop(['Nombre','Car_name'], axis = 1, inplace = True)"
   ]
  },
  {
   "cell_type": "markdown",
   "metadata": {},
   "source": [
    "## Ordinal categorical data"
   ]
  },
  {
   "cell_type": "code",
   "execution_count": 183,
   "metadata": {},
   "outputs": [
    {
     "data": {
      "text/plain": [
       "<matplotlib.axes._subplots.AxesSubplot at 0x7feac78937f0>"
      ]
     },
     "execution_count": 183,
     "metadata": {},
     "output_type": "execute_result"
    },
    {
     "data": {
      "image/png": "[encoded data removed]",
      "text/plain": [
       "<Figure size 1080x576 with 1 Axes>"
      ]
     },
     "metadata": {
      "needs_background": "light"
     },
     "output_type": "display_data"
    }
   ],
   "source": [
    "fig_dims = (15, 8)\n",
    "fig, ax = plt.subplots(figsize = fig_dims)\n",
    "sns.boxplot(y = \"Precio_cat\", x = \"Mano\", data = car_train_2 )"
   ]
  },
  {
   "cell_type": "code",
   "execution_count": 210,
   "metadata": {},
   "outputs": [],
   "source": [
    "car_train_2.replace({'First':1,'Second':2,'Third':3,'Fourth & Above':4},inplace = True)"
   ]
  },
  {
   "cell_type": "markdown",
   "metadata": {},
   "source": [
    "## Dummy variables"
   ]
  },
  {
   "cell_type": "code",
   "execution_count": 211,
   "metadata": {},
   "outputs": [],
   "source": [
    "tipo_marchas = car_train_2[['Tipo_marchas']]\n",
    "tipo_marchas = pd.get_dummies(tipo_marchas, drop_first=True)"
   ]
  },
  {
   "cell_type": "code",
   "execution_count": 33,
   "metadata": {},
   "outputs": [
    {
     "data": {
      "text/html": [
       "<div>\n",
       "<style scoped>\n",
       "    .dataframe tbody tr th:only-of-type {\n",
       "        vertical-align: middle;\n",
       "    }\n",
       "\n",
       "    .dataframe tbody tr th {\n",
       "        vertical-align: top;\n",
       "    }\n",
       "\n",
       "    .dataframe thead th {\n",
       "        text-align: right;\n",
       "    }\n",
       "</style>\n",
       "<table border=\"1\" class=\"dataframe\">\n",
       "  <thead>\n",
       "    <tr style=\"text-align: right;\">\n",
       "      <th></th>\n",
       "      <th>Tipo_marchas_Manual</th>\n",
       "    </tr>\n",
       "  </thead>\n",
       "  <tbody>\n",
       "    <tr>\n",
       "      <th>0</th>\n",
       "      <td>1</td>\n",
       "    </tr>\n",
       "    <tr>\n",
       "      <th>1</th>\n",
       "      <td>1</td>\n",
       "    </tr>\n",
       "    <tr>\n",
       "      <th>2</th>\n",
       "      <td>1</td>\n",
       "    </tr>\n",
       "    <tr>\n",
       "      <th>3</th>\n",
       "      <td>1</td>\n",
       "    </tr>\n",
       "    <tr>\n",
       "      <th>4</th>\n",
       "      <td>1</td>\n",
       "    </tr>\n",
       "  </tbody>\n",
       "</table>\n",
       "</div>"
      ],
      "text/plain": [
       "   Tipo_marchas_Manual\n",
       "0                    1\n",
       "1                    1\n",
       "2                    1\n",
       "3                    1\n",
       "4                    1"
      ]
     },
     "execution_count": 33,
     "metadata": {},
     "output_type": "execute_result"
    }
   ],
   "source": [
    "tipo_marchas.head()"
   ]
  },
  {
   "cell_type": "code",
   "execution_count": 212,
   "metadata": {},
   "outputs": [],
   "source": [
    "ciudad = car_train_2[['Ciudad']]\n",
    "ciudad = pd.get_dummies(ciudad, drop_first=True)"
   ]
  },
  {
   "cell_type": "code",
   "execution_count": 35,
   "metadata": {},
   "outputs": [
    {
     "data": {
      "text/html": [
       "<div>\n",
       "<style scoped>\n",
       "    .dataframe tbody tr th:only-of-type {\n",
       "        vertical-align: middle;\n",
       "    }\n",
       "\n",
       "    .dataframe tbody tr th {\n",
       "        vertical-align: top;\n",
       "    }\n",
       "\n",
       "    .dataframe thead th {\n",
       "        text-align: right;\n",
       "    }\n",
       "</style>\n",
       "<table border=\"1\" class=\"dataframe\">\n",
       "  <thead>\n",
       "    <tr style=\"text-align: right;\">\n",
       "      <th></th>\n",
       "      <th>Ciudad_C</th>\n",
       "      <th>Ciudad_D</th>\n",
       "      <th>Ciudad_E</th>\n",
       "      <th>Ciudad_F</th>\n",
       "      <th>Ciudad_G</th>\n",
       "      <th>Ciudad_H</th>\n",
       "      <th>Ciudad_I</th>\n",
       "      <th>Ciudad_J</th>\n",
       "      <th>Ciudad_K</th>\n",
       "      <th>Ciudad_L</th>\n",
       "    </tr>\n",
       "  </thead>\n",
       "  <tbody>\n",
       "    <tr>\n",
       "      <th>0</th>\n",
       "      <td>0</td>\n",
       "      <td>0</td>\n",
       "      <td>0</td>\n",
       "      <td>0</td>\n",
       "      <td>1</td>\n",
       "      <td>0</td>\n",
       "      <td>0</td>\n",
       "      <td>0</td>\n",
       "      <td>0</td>\n",
       "      <td>0</td>\n",
       "    </tr>\n",
       "    <tr>\n",
       "      <th>1</th>\n",
       "      <td>0</td>\n",
       "      <td>0</td>\n",
       "      <td>0</td>\n",
       "      <td>0</td>\n",
       "      <td>0</td>\n",
       "      <td>0</td>\n",
       "      <td>1</td>\n",
       "      <td>0</td>\n",
       "      <td>0</td>\n",
       "      <td>0</td>\n",
       "    </tr>\n",
       "    <tr>\n",
       "      <th>2</th>\n",
       "      <td>0</td>\n",
       "      <td>0</td>\n",
       "      <td>0</td>\n",
       "      <td>1</td>\n",
       "      <td>0</td>\n",
       "      <td>0</td>\n",
       "      <td>0</td>\n",
       "      <td>0</td>\n",
       "      <td>0</td>\n",
       "      <td>0</td>\n",
       "    </tr>\n",
       "    <tr>\n",
       "      <th>3</th>\n",
       "      <td>0</td>\n",
       "      <td>0</td>\n",
       "      <td>1</td>\n",
       "      <td>0</td>\n",
       "      <td>0</td>\n",
       "      <td>0</td>\n",
       "      <td>0</td>\n",
       "      <td>0</td>\n",
       "      <td>0</td>\n",
       "      <td>0</td>\n",
       "    </tr>\n",
       "    <tr>\n",
       "      <th>4</th>\n",
       "      <td>0</td>\n",
       "      <td>0</td>\n",
       "      <td>0</td>\n",
       "      <td>0</td>\n",
       "      <td>0</td>\n",
       "      <td>1</td>\n",
       "      <td>0</td>\n",
       "      <td>0</td>\n",
       "      <td>0</td>\n",
       "      <td>0</td>\n",
       "    </tr>\n",
       "  </tbody>\n",
       "</table>\n",
       "</div>"
      ],
      "text/plain": [
       "   Ciudad_C  Ciudad_D  Ciudad_E  Ciudad_F  Ciudad_G  Ciudad_H  Ciudad_I  \\\n",
       "0         0         0         0         0         1         0         0   \n",
       "1         0         0         0         0         0         0         1   \n",
       "2         0         0         0         1         0         0         0   \n",
       "3         0         0         1         0         0         0         0   \n",
       "4         0         0         0         0         0         1         0   \n",
       "\n",
       "   Ciudad_J  Ciudad_K  Ciudad_L  \n",
       "0         0         0         0  \n",
       "1         0         0         0  \n",
       "2         0         0         0  \n",
       "3         0         0         0  \n",
       "4         0         0         0  "
      ]
     },
     "execution_count": 35,
     "metadata": {},
     "output_type": "execute_result"
    }
   ],
   "source": [
    "ciudad.head()"
   ]
  },
  {
   "cell_type": "code",
   "execution_count": 213,
   "metadata": {},
   "outputs": [],
   "source": [
    "company = car_train_2[['Company']]\n",
    "company = pd.get_dummies(company, drop_first=True)"
   ]
  },
  {
   "cell_type": "code",
   "execution_count": 37,
   "metadata": {},
   "outputs": [
    {
     "data": {
      "text/html": [
       "<div>\n",
       "<style scoped>\n",
       "    .dataframe tbody tr th:only-of-type {\n",
       "        vertical-align: middle;\n",
       "    }\n",
       "\n",
       "    .dataframe tbody tr th {\n",
       "        vertical-align: top;\n",
       "    }\n",
       "\n",
       "    .dataframe thead th {\n",
       "        text-align: right;\n",
       "    }\n",
       "</style>\n",
       "<table border=\"1\" class=\"dataframe\">\n",
       "  <thead>\n",
       "    <tr style=\"text-align: right;\">\n",
       "      <th></th>\n",
       "      <th>Company_Bmw</th>\n",
       "      <th>Company_Chevrolet</th>\n",
       "      <th>Company_Datsun</th>\n",
       "      <th>Company_Fiat</th>\n",
       "      <th>Company_Force</th>\n",
       "      <th>Company_Ford</th>\n",
       "      <th>Company_Honda</th>\n",
       "      <th>Company_Hyundai</th>\n",
       "      <th>Company_Isuzu</th>\n",
       "      <th>Company_Jaguar</th>\n",
       "      <th>...</th>\n",
       "      <th>Company_Mini</th>\n",
       "      <th>Company_Mitsubishi</th>\n",
       "      <th>Company_Nissan</th>\n",
       "      <th>Company_Porsche</th>\n",
       "      <th>Company_Renault</th>\n",
       "      <th>Company_Skoda</th>\n",
       "      <th>Company_Tata</th>\n",
       "      <th>Company_Toyota</th>\n",
       "      <th>Company_Volkswagen</th>\n",
       "      <th>Company_Volvo</th>\n",
       "    </tr>\n",
       "  </thead>\n",
       "  <tbody>\n",
       "    <tr>\n",
       "      <th>0</th>\n",
       "      <td>0</td>\n",
       "      <td>0</td>\n",
       "      <td>0</td>\n",
       "      <td>0</td>\n",
       "      <td>0</td>\n",
       "      <td>0</td>\n",
       "      <td>0</td>\n",
       "      <td>0</td>\n",
       "      <td>0</td>\n",
       "      <td>0</td>\n",
       "      <td>...</td>\n",
       "      <td>0</td>\n",
       "      <td>0</td>\n",
       "      <td>0</td>\n",
       "      <td>0</td>\n",
       "      <td>0</td>\n",
       "      <td>0</td>\n",
       "      <td>0</td>\n",
       "      <td>0</td>\n",
       "      <td>0</td>\n",
       "      <td>0</td>\n",
       "    </tr>\n",
       "    <tr>\n",
       "      <th>1</th>\n",
       "      <td>0</td>\n",
       "      <td>0</td>\n",
       "      <td>0</td>\n",
       "      <td>0</td>\n",
       "      <td>0</td>\n",
       "      <td>0</td>\n",
       "      <td>0</td>\n",
       "      <td>0</td>\n",
       "      <td>0</td>\n",
       "      <td>0</td>\n",
       "      <td>...</td>\n",
       "      <td>0</td>\n",
       "      <td>0</td>\n",
       "      <td>0</td>\n",
       "      <td>0</td>\n",
       "      <td>0</td>\n",
       "      <td>0</td>\n",
       "      <td>0</td>\n",
       "      <td>0</td>\n",
       "      <td>0</td>\n",
       "      <td>0</td>\n",
       "    </tr>\n",
       "    <tr>\n",
       "      <th>2</th>\n",
       "      <td>0</td>\n",
       "      <td>0</td>\n",
       "      <td>0</td>\n",
       "      <td>0</td>\n",
       "      <td>0</td>\n",
       "      <td>0</td>\n",
       "      <td>0</td>\n",
       "      <td>0</td>\n",
       "      <td>0</td>\n",
       "      <td>0</td>\n",
       "      <td>...</td>\n",
       "      <td>0</td>\n",
       "      <td>0</td>\n",
       "      <td>0</td>\n",
       "      <td>0</td>\n",
       "      <td>0</td>\n",
       "      <td>0</td>\n",
       "      <td>0</td>\n",
       "      <td>0</td>\n",
       "      <td>0</td>\n",
       "      <td>0</td>\n",
       "    </tr>\n",
       "    <tr>\n",
       "      <th>3</th>\n",
       "      <td>0</td>\n",
       "      <td>0</td>\n",
       "      <td>0</td>\n",
       "      <td>0</td>\n",
       "      <td>0</td>\n",
       "      <td>0</td>\n",
       "      <td>0</td>\n",
       "      <td>1</td>\n",
       "      <td>0</td>\n",
       "      <td>0</td>\n",
       "      <td>...</td>\n",
       "      <td>0</td>\n",
       "      <td>0</td>\n",
       "      <td>0</td>\n",
       "      <td>0</td>\n",
       "      <td>0</td>\n",
       "      <td>0</td>\n",
       "      <td>0</td>\n",
       "      <td>0</td>\n",
       "      <td>0</td>\n",
       "      <td>0</td>\n",
       "    </tr>\n",
       "    <tr>\n",
       "      <th>4</th>\n",
       "      <td>0</td>\n",
       "      <td>0</td>\n",
       "      <td>0</td>\n",
       "      <td>0</td>\n",
       "      <td>0</td>\n",
       "      <td>0</td>\n",
       "      <td>1</td>\n",
       "      <td>0</td>\n",
       "      <td>0</td>\n",
       "      <td>0</td>\n",
       "      <td>...</td>\n",
       "      <td>0</td>\n",
       "      <td>0</td>\n",
       "      <td>0</td>\n",
       "      <td>0</td>\n",
       "      <td>0</td>\n",
       "      <td>0</td>\n",
       "      <td>0</td>\n",
       "      <td>0</td>\n",
       "      <td>0</td>\n",
       "      <td>0</td>\n",
       "    </tr>\n",
       "  </tbody>\n",
       "</table>\n",
       "<p>5 rows × 26 columns</p>\n",
       "</div>"
      ],
      "text/plain": [
       "   Company_Bmw  Company_Chevrolet  Company_Datsun  Company_Fiat  \\\n",
       "0            0                  0               0             0   \n",
       "1            0                  0               0             0   \n",
       "2            0                  0               0             0   \n",
       "3            0                  0               0             0   \n",
       "4            0                  0               0             0   \n",
       "\n",
       "   Company_Force  Company_Ford  Company_Honda  Company_Hyundai  Company_Isuzu  \\\n",
       "0              0             0              0                0              0   \n",
       "1              0             0              0                0              0   \n",
       "2              0             0              0                0              0   \n",
       "3              0             0              0                1              0   \n",
       "4              0             0              1                0              0   \n",
       "\n",
       "   Company_Jaguar  ...  Company_Mini  Company_Mitsubishi  Company_Nissan  \\\n",
       "0               0  ...             0                   0               0   \n",
       "1               0  ...             0                   0               0   \n",
       "2               0  ...             0                   0               0   \n",
       "3               0  ...             0                   0               0   \n",
       "4               0  ...             0                   0               0   \n",
       "\n",
       "   Company_Porsche  Company_Renault  Company_Skoda  Company_Tata  \\\n",
       "0                0                0              0             0   \n",
       "1                0                0              0             0   \n",
       "2                0                0              0             0   \n",
       "3                0                0              0             0   \n",
       "4                0                0              0             0   \n",
       "\n",
       "   Company_Toyota  Company_Volkswagen  Company_Volvo  \n",
       "0               0                   0              0  \n",
       "1               0                   0              0  \n",
       "2               0                   0              0  \n",
       "3               0                   0              0  \n",
       "4               0                   0              0  \n",
       "\n",
       "[5 rows x 26 columns]"
      ]
     },
     "execution_count": 37,
     "metadata": {},
     "output_type": "execute_result"
    }
   ],
   "source": [
    "company.head()"
   ]
  },
  {
   "cell_type": "code",
   "execution_count": 214,
   "metadata": {},
   "outputs": [],
   "source": [
    "combustible = car_train_2[['Combustible']]\n",
    "combustible = pd.get_dummies(combustible, drop_first=True)"
   ]
  },
  {
   "cell_type": "code",
   "execution_count": 39,
   "metadata": {},
   "outputs": [
    {
     "data": {
      "text/html": [
       "<div>\n",
       "<style scoped>\n",
       "    .dataframe tbody tr th:only-of-type {\n",
       "        vertical-align: middle;\n",
       "    }\n",
       "\n",
       "    .dataframe tbody tr th {\n",
       "        vertical-align: top;\n",
       "    }\n",
       "\n",
       "    .dataframe thead th {\n",
       "        text-align: right;\n",
       "    }\n",
       "</style>\n",
       "<table border=\"1\" class=\"dataframe\">\n",
       "  <thead>\n",
       "    <tr style=\"text-align: right;\">\n",
       "      <th></th>\n",
       "      <th>Combustible_Diesel</th>\n",
       "      <th>Combustible_LPG</th>\n",
       "      <th>Combustible_Petrol</th>\n",
       "    </tr>\n",
       "  </thead>\n",
       "  <tbody>\n",
       "    <tr>\n",
       "      <th>0</th>\n",
       "      <td>1</td>\n",
       "      <td>0</td>\n",
       "      <td>0</td>\n",
       "    </tr>\n",
       "    <tr>\n",
       "      <th>1</th>\n",
       "      <td>0</td>\n",
       "      <td>0</td>\n",
       "      <td>1</td>\n",
       "    </tr>\n",
       "    <tr>\n",
       "      <th>2</th>\n",
       "      <td>1</td>\n",
       "      <td>0</td>\n",
       "      <td>0</td>\n",
       "    </tr>\n",
       "    <tr>\n",
       "      <th>3</th>\n",
       "      <td>0</td>\n",
       "      <td>0</td>\n",
       "      <td>1</td>\n",
       "    </tr>\n",
       "    <tr>\n",
       "      <th>4</th>\n",
       "      <td>0</td>\n",
       "      <td>0</td>\n",
       "      <td>1</td>\n",
       "    </tr>\n",
       "  </tbody>\n",
       "</table>\n",
       "</div>"
      ],
      "text/plain": [
       "   Combustible_Diesel  Combustible_LPG  Combustible_Petrol\n",
       "0                   1                0                   0\n",
       "1                   0                0                   1\n",
       "2                   1                0                   0\n",
       "3                   0                0                   1\n",
       "4                   0                0                   1"
      ]
     },
     "execution_count": 39,
     "metadata": {},
     "output_type": "execute_result"
    }
   ],
   "source": [
    "combustible.head()"
   ]
  },
  {
   "cell_type": "code",
   "execution_count": 215,
   "metadata": {},
   "outputs": [],
   "source": [
    "car_train_2 = pd.concat([car_train_2, company , ciudad , tipo_marchas, combustible], axis = 1)"
   ]
  },
  {
   "cell_type": "code",
   "execution_count": 216,
   "metadata": {},
   "outputs": [
    {
     "data": {
      "text/html": [
       "<div>\n",
       "<style scoped>\n",
       "    .dataframe tbody tr th:only-of-type {\n",
       "        vertical-align: middle;\n",
       "    }\n",
       "\n",
       "    .dataframe tbody tr th {\n",
       "        vertical-align: top;\n",
       "    }\n",
       "\n",
       "    .dataframe thead th {\n",
       "        text-align: right;\n",
       "    }\n",
       "</style>\n",
       "<table border=\"1\" class=\"dataframe\">\n",
       "  <thead>\n",
       "    <tr style=\"text-align: right;\">\n",
       "      <th></th>\n",
       "      <th>id</th>\n",
       "      <th>Ciudad</th>\n",
       "      <th>Año</th>\n",
       "      <th>Kilometros</th>\n",
       "      <th>Combustible</th>\n",
       "      <th>Tipo_marchas</th>\n",
       "      <th>Mano</th>\n",
       "      <th>Consumo</th>\n",
       "      <th>Motor_CC</th>\n",
       "      <th>Potencia</th>\n",
       "      <th>...</th>\n",
       "      <th>Ciudad_G</th>\n",
       "      <th>Ciudad_H</th>\n",
       "      <th>Ciudad_I</th>\n",
       "      <th>Ciudad_J</th>\n",
       "      <th>Ciudad_K</th>\n",
       "      <th>Ciudad_L</th>\n",
       "      <th>Tipo_marchas_Manual</th>\n",
       "      <th>Combustible_Diesel</th>\n",
       "      <th>Combustible_LPG</th>\n",
       "      <th>Combustible_Petrol</th>\n",
       "    </tr>\n",
       "  </thead>\n",
       "  <tbody>\n",
       "    <tr>\n",
       "      <th>0</th>\n",
       "      <td>1.0</td>\n",
       "      <td>G</td>\n",
       "      <td>2012.0</td>\n",
       "      <td>83000.0</td>\n",
       "      <td>Diesel</td>\n",
       "      <td>Manual</td>\n",
       "      <td>1</td>\n",
       "      <td>23.40</td>\n",
       "      <td>1248</td>\n",
       "      <td>74.00</td>\n",
       "      <td>...</td>\n",
       "      <td>1</td>\n",
       "      <td>0</td>\n",
       "      <td>0</td>\n",
       "      <td>0</td>\n",
       "      <td>0</td>\n",
       "      <td>0</td>\n",
       "      <td>1</td>\n",
       "      <td>1</td>\n",
       "      <td>0</td>\n",
       "      <td>0</td>\n",
       "    </tr>\n",
       "    <tr>\n",
       "      <th>1</th>\n",
       "      <td>2.0</td>\n",
       "      <td>I</td>\n",
       "      <td>2016.0</td>\n",
       "      <td>4800.0</td>\n",
       "      <td>Petrol</td>\n",
       "      <td>Manual</td>\n",
       "      <td>1</td>\n",
       "      <td>20.51</td>\n",
       "      <td>998</td>\n",
       "      <td>67.04</td>\n",
       "      <td>...</td>\n",
       "      <td>0</td>\n",
       "      <td>0</td>\n",
       "      <td>1</td>\n",
       "      <td>0</td>\n",
       "      <td>0</td>\n",
       "      <td>0</td>\n",
       "      <td>1</td>\n",
       "      <td>0</td>\n",
       "      <td>0</td>\n",
       "      <td>1</td>\n",
       "    </tr>\n",
       "    <tr>\n",
       "      <th>2</th>\n",
       "      <td>3.0</td>\n",
       "      <td>F</td>\n",
       "      <td>2016.0</td>\n",
       "      <td>26000.0</td>\n",
       "      <td>Diesel</td>\n",
       "      <td>Manual</td>\n",
       "      <td>1</td>\n",
       "      <td>25.32</td>\n",
       "      <td>1198</td>\n",
       "      <td>77.00</td>\n",
       "      <td>...</td>\n",
       "      <td>0</td>\n",
       "      <td>0</td>\n",
       "      <td>0</td>\n",
       "      <td>0</td>\n",
       "      <td>0</td>\n",
       "      <td>0</td>\n",
       "      <td>1</td>\n",
       "      <td>1</td>\n",
       "      <td>0</td>\n",
       "      <td>0</td>\n",
       "    </tr>\n",
       "    <tr>\n",
       "      <th>3</th>\n",
       "      <td>4.0</td>\n",
       "      <td>E</td>\n",
       "      <td>2013.0</td>\n",
       "      <td>56127.0</td>\n",
       "      <td>Petrol</td>\n",
       "      <td>Manual</td>\n",
       "      <td>1</td>\n",
       "      <td>18.50</td>\n",
       "      <td>1197</td>\n",
       "      <td>80.00</td>\n",
       "      <td>...</td>\n",
       "      <td>0</td>\n",
       "      <td>0</td>\n",
       "      <td>0</td>\n",
       "      <td>0</td>\n",
       "      <td>0</td>\n",
       "      <td>0</td>\n",
       "      <td>1</td>\n",
       "      <td>0</td>\n",
       "      <td>0</td>\n",
       "      <td>1</td>\n",
       "    </tr>\n",
       "    <tr>\n",
       "      <th>4</th>\n",
       "      <td>5.0</td>\n",
       "      <td>H</td>\n",
       "      <td>2017.0</td>\n",
       "      <td>41981.0</td>\n",
       "      <td>Petrol</td>\n",
       "      <td>Manual</td>\n",
       "      <td>1</td>\n",
       "      <td>18.70</td>\n",
       "      <td>1199</td>\n",
       "      <td>88.70</td>\n",
       "      <td>...</td>\n",
       "      <td>0</td>\n",
       "      <td>1</td>\n",
       "      <td>0</td>\n",
       "      <td>0</td>\n",
       "      <td>0</td>\n",
       "      <td>0</td>\n",
       "      <td>1</td>\n",
       "      <td>0</td>\n",
       "      <td>0</td>\n",
       "      <td>1</td>\n",
       "    </tr>\n",
       "  </tbody>\n",
       "</table>\n",
       "<p>5 rows × 53 columns</p>\n",
       "</div>"
      ],
      "text/plain": [
       "    id Ciudad     Año  Kilometros Combustible Tipo_marchas  Mano  Consumo  \\\n",
       "0  1.0      G  2012.0     83000.0      Diesel       Manual     1    23.40   \n",
       "1  2.0      I  2016.0      4800.0      Petrol       Manual     1    20.51   \n",
       "2  3.0      F  2016.0     26000.0      Diesel       Manual     1    25.32   \n",
       "3  4.0      E  2013.0     56127.0      Petrol       Manual     1    18.50   \n",
       "4  5.0      H  2017.0     41981.0      Petrol       Manual     1    18.70   \n",
       "\n",
       "   Motor_CC  Potencia  ...  Ciudad_G  Ciudad_H Ciudad_I  Ciudad_J  Ciudad_K  \\\n",
       "0      1248     74.00  ...         1         0        0         0         0   \n",
       "1       998     67.04  ...         0         0        1         0         0   \n",
       "2      1198     77.00  ...         0         0        0         0         0   \n",
       "3      1197     80.00  ...         0         0        0         0         0   \n",
       "4      1199     88.70  ...         0         1        0         0         0   \n",
       "\n",
       "   Ciudad_L  Tipo_marchas_Manual  Combustible_Diesel  Combustible_LPG  \\\n",
       "0         0                    1                   1                0   \n",
       "1         0                    1                   0                0   \n",
       "2         0                    1                   1                0   \n",
       "3         0                    1                   0                0   \n",
       "4         0                    1                   0                0   \n",
       "\n",
       "   Combustible_Petrol  \n",
       "0                   0  \n",
       "1                   1  \n",
       "2                   0  \n",
       "3                   1  \n",
       "4                   1  \n",
       "\n",
       "[5 rows x 53 columns]"
      ]
     },
     "execution_count": 216,
     "metadata": {},
     "output_type": "execute_result"
    }
   ],
   "source": [
    "car_train_2.head()"
   ]
  },
  {
   "cell_type": "code",
   "execution_count": 217,
   "metadata": {},
   "outputs": [],
   "source": [
    "car_train_2.drop(['id', 'Ciudad', 'Combustible', 'Tipo_marchas', 'Company'], axis = 1, inplace = True)"
   ]
  },
  {
   "cell_type": "code",
   "execution_count": 218,
   "metadata": {},
   "outputs": [
    {
     "data": {
      "text/plain": [
       "(3945, 48)"
      ]
     },
     "execution_count": 218,
     "metadata": {},
     "output_type": "execute_result"
    }
   ],
   "source": [
    "car_train_2.shape"
   ]
  },
  {
   "cell_type": "markdown",
   "metadata": {},
   "source": [
    "## Test data"
   ]
  },
  {
   "cell_type": "code",
   "execution_count": 219,
   "metadata": {},
   "outputs": [],
   "source": [
    "car_test_2 = car_test_2.drop('Descuento',axis=1)"
   ]
  },
  {
   "cell_type": "code",
   "execution_count": 220,
   "metadata": {},
   "outputs": [],
   "source": [
    "car_test_2 = car_test_2.dropna()"
   ]
  },
  {
   "cell_type": "code",
   "execution_count": 221,
   "metadata": {},
   "outputs": [
    {
     "data": {
      "text/plain": [
       "(1159, 12)"
      ]
     },
     "execution_count": 221,
     "metadata": {},
     "output_type": "execute_result"
    }
   ],
   "source": [
    "car_test_2.shape"
   ]
  },
  {
   "cell_type": "code",
   "execution_count": 222,
   "metadata": {},
   "outputs": [],
   "source": [
    "car_test_2['Consumo']=car_test_2.Consumo.astype(str).str.partition()[0].astype('float')\n",
    "car_test_2['Motor_CC']=car_test_2.Motor_CC.astype(str).str.partition()[0].astype('int')\n",
    "car_test_2['Potencia']=car_test_2.Potencia.astype(str).str.partition()[0].astype('float')\n",
    "car_test_2['Asientos']=car_test_2.Asientos.astype('int')"
   ]
  },
  {
   "cell_type": "code",
   "execution_count": 151,
   "metadata": {},
   "outputs": [
    {
     "name": "stdout",
     "output_type": "stream",
     "text": [
      "<class 'pandas.core.frame.DataFrame'>\n",
      "Int64Index: 1159 entries, 0 to 1158\n",
      "Data columns (total 12 columns):\n",
      " #   Column        Non-Null Count  Dtype  \n",
      "---  ------        --------------  -----  \n",
      " 0   id            1159 non-null   int64  \n",
      " 1   Nombre        1159 non-null   object \n",
      " 2   Ciudad        1159 non-null   object \n",
      " 3   Año           1159 non-null   int64  \n",
      " 4   Kilometros    1159 non-null   int64  \n",
      " 5   Combustible   1159 non-null   object \n",
      " 6   Tipo_marchas  1159 non-null   object \n",
      " 7   Mano          1159 non-null   object \n",
      " 8   Consumo       1159 non-null   float64\n",
      " 9   Motor_CC      1159 non-null   int64  \n",
      " 10  Potencia      1159 non-null   float64\n",
      " 11  Asientos      1159 non-null   int64  \n",
      "dtypes: float64(2), int64(5), object(5)\n",
      "memory usage: 117.7+ KB\n"
     ]
    }
   ],
   "source": [
    "car_test_2.info()"
   ]
  },
  {
   "cell_type": "code",
   "execution_count": 152,
   "metadata": {},
   "outputs": [
    {
     "data": {
      "text/html": [
       "<div>\n",
       "<style scoped>\n",
       "    .dataframe tbody tr th:only-of-type {\n",
       "        vertical-align: middle;\n",
       "    }\n",
       "\n",
       "    .dataframe tbody tr th {\n",
       "        vertical-align: top;\n",
       "    }\n",
       "\n",
       "    .dataframe thead th {\n",
       "        text-align: right;\n",
       "    }\n",
       "</style>\n",
       "<table border=\"1\" class=\"dataframe\">\n",
       "  <thead>\n",
       "    <tr style=\"text-align: right;\">\n",
       "      <th></th>\n",
       "      <th>id</th>\n",
       "      <th>Nombre</th>\n",
       "      <th>Ciudad</th>\n",
       "      <th>Año</th>\n",
       "      <th>Kilometros</th>\n",
       "      <th>Combustible</th>\n",
       "      <th>Tipo_marchas</th>\n",
       "      <th>Mano</th>\n",
       "      <th>Consumo</th>\n",
       "      <th>Motor_CC</th>\n",
       "      <th>Potencia</th>\n",
       "      <th>Asientos</th>\n",
       "    </tr>\n",
       "  </thead>\n",
       "  <tbody>\n",
       "    <tr>\n",
       "      <th>0</th>\n",
       "      <td>4820</td>\n",
       "      <td>Mercedes-Benz New C-Class C 220 CDI Avantgarde</td>\n",
       "      <td>H</td>\n",
       "      <td>2015</td>\n",
       "      <td>77771</td>\n",
       "      <td>Diesel</td>\n",
       "      <td>Automatic</td>\n",
       "      <td>First</td>\n",
       "      <td>19.27</td>\n",
       "      <td>2143</td>\n",
       "      <td>170.00</td>\n",
       "      <td>5</td>\n",
       "    </tr>\n",
       "    <tr>\n",
       "      <th>1</th>\n",
       "      <td>4821</td>\n",
       "      <td>Hyundai i10 Magna 1.1</td>\n",
       "      <td>J</td>\n",
       "      <td>2011</td>\n",
       "      <td>62000</td>\n",
       "      <td>Petrol</td>\n",
       "      <td>Manual</td>\n",
       "      <td>First</td>\n",
       "      <td>19.81</td>\n",
       "      <td>1086</td>\n",
       "      <td>68.05</td>\n",
       "      <td>5</td>\n",
       "    </tr>\n",
       "    <tr>\n",
       "      <th>2</th>\n",
       "      <td>4822</td>\n",
       "      <td>Ford Figo Diesel EXI</td>\n",
       "      <td>C</td>\n",
       "      <td>2010</td>\n",
       "      <td>129986</td>\n",
       "      <td>Diesel</td>\n",
       "      <td>Manual</td>\n",
       "      <td>Second</td>\n",
       "      <td>20.00</td>\n",
       "      <td>1399</td>\n",
       "      <td>68.00</td>\n",
       "      <td>5</td>\n",
       "    </tr>\n",
       "    <tr>\n",
       "      <th>3</th>\n",
       "      <td>4823</td>\n",
       "      <td>Maruti Swift Dzire VXI Optional</td>\n",
       "      <td>D</td>\n",
       "      <td>2015</td>\n",
       "      <td>49900</td>\n",
       "      <td>Petrol</td>\n",
       "      <td>Manual</td>\n",
       "      <td>First</td>\n",
       "      <td>20.85</td>\n",
       "      <td>1197</td>\n",
       "      <td>83.14</td>\n",
       "      <td>5</td>\n",
       "    </tr>\n",
       "    <tr>\n",
       "      <th>4</th>\n",
       "      <td>4824</td>\n",
       "      <td>Maruti Ritz VXI</td>\n",
       "      <td>J</td>\n",
       "      <td>2010</td>\n",
       "      <td>75319</td>\n",
       "      <td>Petrol</td>\n",
       "      <td>Manual</td>\n",
       "      <td>Second</td>\n",
       "      <td>21.10</td>\n",
       "      <td>1197</td>\n",
       "      <td>85.80</td>\n",
       "      <td>5</td>\n",
       "    </tr>\n",
       "  </tbody>\n",
       "</table>\n",
       "</div>"
      ],
      "text/plain": [
       "     id                                          Nombre Ciudad   Año  \\\n",
       "0  4820  Mercedes-Benz New C-Class C 220 CDI Avantgarde      H  2015   \n",
       "1  4821                           Hyundai i10 Magna 1.1      J  2011   \n",
       "2  4822                            Ford Figo Diesel EXI      C  2010   \n",
       "3  4823                 Maruti Swift Dzire VXI Optional      D  2015   \n",
       "4  4824                                 Maruti Ritz VXI      J  2010   \n",
       "\n",
       "   Kilometros Combustible Tipo_marchas    Mano  Consumo  Motor_CC  Potencia  \\\n",
       "0       77771      Diesel    Automatic   First    19.27      2143    170.00   \n",
       "1       62000      Petrol       Manual   First    19.81      1086     68.05   \n",
       "2      129986      Diesel       Manual  Second    20.00      1399     68.00   \n",
       "3       49900      Petrol       Manual   First    20.85      1197     83.14   \n",
       "4       75319      Petrol       Manual  Second    21.10      1197     85.80   \n",
       "\n",
       "   Asientos  \n",
       "0         5  \n",
       "1         5  \n",
       "2         5  \n",
       "3         5  \n",
       "4         5  "
      ]
     },
     "execution_count": 152,
     "metadata": {},
     "output_type": "execute_result"
    }
   ],
   "source": [
    "car_test_2.head()"
   ]
  },
  {
   "cell_type": "code",
   "execution_count": 223,
   "metadata": {},
   "outputs": [
    {
     "data": {
      "text/html": [
       "<div>\n",
       "<style scoped>\n",
       "    .dataframe tbody tr th:only-of-type {\n",
       "        vertical-align: middle;\n",
       "    }\n",
       "\n",
       "    .dataframe tbody tr th {\n",
       "        vertical-align: top;\n",
       "    }\n",
       "\n",
       "    .dataframe thead th {\n",
       "        text-align: right;\n",
       "    }\n",
       "</style>\n",
       "<table border=\"1\" class=\"dataframe\">\n",
       "  <thead>\n",
       "    <tr style=\"text-align: right;\">\n",
       "      <th></th>\n",
       "      <th>id</th>\n",
       "      <th>Nombre</th>\n",
       "      <th>Ciudad</th>\n",
       "      <th>Año</th>\n",
       "      <th>Kilometros</th>\n",
       "      <th>Combustible</th>\n",
       "      <th>Tipo_marchas</th>\n",
       "      <th>Mano</th>\n",
       "      <th>Consumo</th>\n",
       "      <th>Motor_CC</th>\n",
       "      <th>Potencia</th>\n",
       "      <th>Asientos</th>\n",
       "      <th>Company</th>\n",
       "    </tr>\n",
       "  </thead>\n",
       "  <tbody>\n",
       "    <tr>\n",
       "      <th>0</th>\n",
       "      <td>4820</td>\n",
       "      <td>Mercedes-Benz New C-Class C 220 CDI Avantgarde</td>\n",
       "      <td>H</td>\n",
       "      <td>2015</td>\n",
       "      <td>77771</td>\n",
       "      <td>Diesel</td>\n",
       "      <td>Automatic</td>\n",
       "      <td>First</td>\n",
       "      <td>19.27</td>\n",
       "      <td>2143</td>\n",
       "      <td>170.00</td>\n",
       "      <td>5</td>\n",
       "      <td>Mercedes-Benz</td>\n",
       "    </tr>\n",
       "    <tr>\n",
       "      <th>1</th>\n",
       "      <td>4821</td>\n",
       "      <td>Hyundai i10 Magna 1.1</td>\n",
       "      <td>J</td>\n",
       "      <td>2011</td>\n",
       "      <td>62000</td>\n",
       "      <td>Petrol</td>\n",
       "      <td>Manual</td>\n",
       "      <td>First</td>\n",
       "      <td>19.81</td>\n",
       "      <td>1086</td>\n",
       "      <td>68.05</td>\n",
       "      <td>5</td>\n",
       "      <td>Hyundai</td>\n",
       "    </tr>\n",
       "    <tr>\n",
       "      <th>2</th>\n",
       "      <td>4822</td>\n",
       "      <td>Ford Figo Diesel EXI</td>\n",
       "      <td>C</td>\n",
       "      <td>2010</td>\n",
       "      <td>129986</td>\n",
       "      <td>Diesel</td>\n",
       "      <td>Manual</td>\n",
       "      <td>Second</td>\n",
       "      <td>20.00</td>\n",
       "      <td>1399</td>\n",
       "      <td>68.00</td>\n",
       "      <td>5</td>\n",
       "      <td>Ford</td>\n",
       "    </tr>\n",
       "    <tr>\n",
       "      <th>3</th>\n",
       "      <td>4823</td>\n",
       "      <td>Maruti Swift Dzire VXI Optional</td>\n",
       "      <td>D</td>\n",
       "      <td>2015</td>\n",
       "      <td>49900</td>\n",
       "      <td>Petrol</td>\n",
       "      <td>Manual</td>\n",
       "      <td>First</td>\n",
       "      <td>20.85</td>\n",
       "      <td>1197</td>\n",
       "      <td>83.14</td>\n",
       "      <td>5</td>\n",
       "      <td>Maruti</td>\n",
       "    </tr>\n",
       "    <tr>\n",
       "      <th>4</th>\n",
       "      <td>4824</td>\n",
       "      <td>Maruti Ritz VXI</td>\n",
       "      <td>J</td>\n",
       "      <td>2010</td>\n",
       "      <td>75319</td>\n",
       "      <td>Petrol</td>\n",
       "      <td>Manual</td>\n",
       "      <td>Second</td>\n",
       "      <td>21.10</td>\n",
       "      <td>1197</td>\n",
       "      <td>85.80</td>\n",
       "      <td>5</td>\n",
       "      <td>Maruti</td>\n",
       "    </tr>\n",
       "  </tbody>\n",
       "</table>\n",
       "</div>"
      ],
      "text/plain": [
       "     id                                          Nombre Ciudad   Año  \\\n",
       "0  4820  Mercedes-Benz New C-Class C 220 CDI Avantgarde      H  2015   \n",
       "1  4821                           Hyundai i10 Magna 1.1      J  2011   \n",
       "2  4822                            Ford Figo Diesel EXI      C  2010   \n",
       "3  4823                 Maruti Swift Dzire VXI Optional      D  2015   \n",
       "4  4824                                 Maruti Ritz VXI      J  2010   \n",
       "\n",
       "   Kilometros Combustible Tipo_marchas    Mano  Consumo  Motor_CC  Potencia  \\\n",
       "0       77771      Diesel    Automatic   First    19.27      2143    170.00   \n",
       "1       62000      Petrol       Manual   First    19.81      1086     68.05   \n",
       "2      129986      Diesel       Manual  Second    20.00      1399     68.00   \n",
       "3       49900      Petrol       Manual   First    20.85      1197     83.14   \n",
       "4       75319      Petrol       Manual  Second    21.10      1197     85.80   \n",
       "\n",
       "   Asientos        Company  \n",
       "0         5  Mercedes-Benz  \n",
       "1         5        Hyundai  \n",
       "2         5           Ford  \n",
       "3         5         Maruti  \n",
       "4         5         Maruti  "
      ]
     },
     "execution_count": 223,
     "metadata": {},
     "output_type": "execute_result"
    }
   ],
   "source": [
    "part = car_test_2['Nombre'].str.partition()\n",
    "car_test_2['Company'] = part[0].str.title()\n",
    "car_test_2.head()"
   ]
  },
  {
   "cell_type": "code",
   "execution_count": 224,
   "metadata": {},
   "outputs": [
    {
     "data": {
      "text/plain": [
       "27"
      ]
     },
     "execution_count": 224,
     "metadata": {},
     "output_type": "execute_result"
    }
   ],
   "source": [
    "car_test_2.Company.nunique()"
   ]
  },
  {
   "cell_type": "code",
   "execution_count": 225,
   "metadata": {},
   "outputs": [
    {
     "data": {
      "text/plain": [
       "2"
      ]
     },
     "execution_count": 225,
     "metadata": {},
     "output_type": "execute_result"
    }
   ],
   "source": [
    "car_test_2.Tipo_marchas.nunique()"
   ]
  },
  {
   "cell_type": "code",
   "execution_count": 227,
   "metadata": {},
   "outputs": [
    {
     "data": {
      "text/plain": [
       "4"
      ]
     },
     "execution_count": 227,
     "metadata": {},
     "output_type": "execute_result"
    }
   ],
   "source": [
    "car_test_2.Combustible.nunique()"
   ]
  },
  {
   "cell_type": "code",
   "execution_count": 228,
   "metadata": {},
   "outputs": [
    {
     "data": {
      "text/plain": [
       "11"
      ]
     },
     "execution_count": 228,
     "metadata": {},
     "output_type": "execute_result"
    }
   ],
   "source": [
    "car_test_2.Ciudad.nunique()"
   ]
  },
  {
   "cell_type": "code",
   "execution_count": 229,
   "metadata": {},
   "outputs": [],
   "source": [
    "car_test_2.replace({'First':1,'Second':2,'Third':3,'Fourth & Above':4},inplace = True)"
   ]
  },
  {
   "cell_type": "code",
   "execution_count": 230,
   "metadata": {},
   "outputs": [],
   "source": [
    "#as Transmission  is an nominal varible lets perform onehotencoding\n",
    "tipo_marchas = car_test_2[[\"Tipo_marchas\"]]\n",
    "tipo_marchas = pd.get_dummies(tipo_marchas,drop_first=True)\n",
    "\n",
    "# Location\n",
    "ciudad = car_test_2[[\"Ciudad\"]]\n",
    "ciudad = pd.get_dummies(ciudad,drop_first=True)\n",
    "\n",
    "#company\n",
    "company = car_test_2[[\"Company\"]]\n",
    "company = pd.get_dummies(company ,drop_first=True)\n",
    "\n",
    "#fuel_type\n",
    "combustible = car_test_2[[\"Combustible\"]]\n",
    "combustible = pd.get_dummies(combustible,drop_first=True)"
   ]
  },
  {
   "cell_type": "code",
   "execution_count": 231,
   "metadata": {},
   "outputs": [],
   "source": [
    "car_test_2 = pd.concat([car_test_2, company , ciudad , tipo_marchas, combustible ], axis = 1)"
   ]
  },
  {
   "cell_type": "code",
   "execution_count": 232,
   "metadata": {},
   "outputs": [],
   "source": [
    "car_test_2.drop(['Tipo_marchas', 'Ciudad', 'Company', 'Combustible', 'Nombre'], axis = 1, inplace = True)"
   ]
  },
  {
   "cell_type": "code",
   "execution_count": 233,
   "metadata": {},
   "outputs": [
    {
     "data": {
      "text/plain": [
       "(1159, 48)"
      ]
     },
     "execution_count": 233,
     "metadata": {},
     "output_type": "execute_result"
    }
   ],
   "source": [
    "car_test_2.shape"
   ]
  },
  {
   "cell_type": "code",
   "execution_count": 234,
   "metadata": {},
   "outputs": [
    {
     "data": {
      "text/html": [
       "<div>\n",
       "<style scoped>\n",
       "    .dataframe tbody tr th:only-of-type {\n",
       "        vertical-align: middle;\n",
       "    }\n",
       "\n",
       "    .dataframe tbody tr th {\n",
       "        vertical-align: top;\n",
       "    }\n",
       "\n",
       "    .dataframe thead th {\n",
       "        text-align: right;\n",
       "    }\n",
       "</style>\n",
       "<table border=\"1\" class=\"dataframe\">\n",
       "  <thead>\n",
       "    <tr style=\"text-align: right;\">\n",
       "      <th></th>\n",
       "      <th>id</th>\n",
       "      <th>Año</th>\n",
       "      <th>Kilometros</th>\n",
       "      <th>Mano</th>\n",
       "      <th>Consumo</th>\n",
       "      <th>Motor_CC</th>\n",
       "      <th>Potencia</th>\n",
       "      <th>Asientos</th>\n",
       "      <th>Company_Audi</th>\n",
       "      <th>Company_Bmw</th>\n",
       "      <th>...</th>\n",
       "      <th>Ciudad_G</th>\n",
       "      <th>Ciudad_H</th>\n",
       "      <th>Ciudad_I</th>\n",
       "      <th>Ciudad_J</th>\n",
       "      <th>Ciudad_K</th>\n",
       "      <th>Ciudad_L</th>\n",
       "      <th>Tipo_marchas_Manual</th>\n",
       "      <th>Combustible_Diesel</th>\n",
       "      <th>Combustible_LPG</th>\n",
       "      <th>Combustible_Petrol</th>\n",
       "    </tr>\n",
       "  </thead>\n",
       "  <tbody>\n",
       "    <tr>\n",
       "      <th>0</th>\n",
       "      <td>4820</td>\n",
       "      <td>2015</td>\n",
       "      <td>77771</td>\n",
       "      <td>1</td>\n",
       "      <td>19.27</td>\n",
       "      <td>2143</td>\n",
       "      <td>170.00</td>\n",
       "      <td>5</td>\n",
       "      <td>0</td>\n",
       "      <td>0</td>\n",
       "      <td>...</td>\n",
       "      <td>0</td>\n",
       "      <td>1</td>\n",
       "      <td>0</td>\n",
       "      <td>0</td>\n",
       "      <td>0</td>\n",
       "      <td>0</td>\n",
       "      <td>0</td>\n",
       "      <td>1</td>\n",
       "      <td>0</td>\n",
       "      <td>0</td>\n",
       "    </tr>\n",
       "    <tr>\n",
       "      <th>1</th>\n",
       "      <td>4821</td>\n",
       "      <td>2011</td>\n",
       "      <td>62000</td>\n",
       "      <td>1</td>\n",
       "      <td>19.81</td>\n",
       "      <td>1086</td>\n",
       "      <td>68.05</td>\n",
       "      <td>5</td>\n",
       "      <td>0</td>\n",
       "      <td>0</td>\n",
       "      <td>...</td>\n",
       "      <td>0</td>\n",
       "      <td>0</td>\n",
       "      <td>0</td>\n",
       "      <td>1</td>\n",
       "      <td>0</td>\n",
       "      <td>0</td>\n",
       "      <td>1</td>\n",
       "      <td>0</td>\n",
       "      <td>0</td>\n",
       "      <td>1</td>\n",
       "    </tr>\n",
       "    <tr>\n",
       "      <th>2</th>\n",
       "      <td>4822</td>\n",
       "      <td>2010</td>\n",
       "      <td>129986</td>\n",
       "      <td>2</td>\n",
       "      <td>20.00</td>\n",
       "      <td>1399</td>\n",
       "      <td>68.00</td>\n",
       "      <td>5</td>\n",
       "      <td>0</td>\n",
       "      <td>0</td>\n",
       "      <td>...</td>\n",
       "      <td>0</td>\n",
       "      <td>0</td>\n",
       "      <td>0</td>\n",
       "      <td>0</td>\n",
       "      <td>0</td>\n",
       "      <td>0</td>\n",
       "      <td>1</td>\n",
       "      <td>1</td>\n",
       "      <td>0</td>\n",
       "      <td>0</td>\n",
       "    </tr>\n",
       "    <tr>\n",
       "      <th>3</th>\n",
       "      <td>4823</td>\n",
       "      <td>2015</td>\n",
       "      <td>49900</td>\n",
       "      <td>1</td>\n",
       "      <td>20.85</td>\n",
       "      <td>1197</td>\n",
       "      <td>83.14</td>\n",
       "      <td>5</td>\n",
       "      <td>0</td>\n",
       "      <td>0</td>\n",
       "      <td>...</td>\n",
       "      <td>0</td>\n",
       "      <td>0</td>\n",
       "      <td>0</td>\n",
       "      <td>0</td>\n",
       "      <td>0</td>\n",
       "      <td>0</td>\n",
       "      <td>1</td>\n",
       "      <td>0</td>\n",
       "      <td>0</td>\n",
       "      <td>1</td>\n",
       "    </tr>\n",
       "    <tr>\n",
       "      <th>4</th>\n",
       "      <td>4824</td>\n",
       "      <td>2010</td>\n",
       "      <td>75319</td>\n",
       "      <td>2</td>\n",
       "      <td>21.10</td>\n",
       "      <td>1197</td>\n",
       "      <td>85.80</td>\n",
       "      <td>5</td>\n",
       "      <td>0</td>\n",
       "      <td>0</td>\n",
       "      <td>...</td>\n",
       "      <td>0</td>\n",
       "      <td>0</td>\n",
       "      <td>0</td>\n",
       "      <td>1</td>\n",
       "      <td>0</td>\n",
       "      <td>0</td>\n",
       "      <td>1</td>\n",
       "      <td>0</td>\n",
       "      <td>0</td>\n",
       "      <td>1</td>\n",
       "    </tr>\n",
       "  </tbody>\n",
       "</table>\n",
       "<p>5 rows × 48 columns</p>\n",
       "</div>"
      ],
      "text/plain": [
       "     id   Año  Kilometros  Mano  Consumo  Motor_CC  Potencia  Asientos  \\\n",
       "0  4820  2015       77771     1    19.27      2143    170.00         5   \n",
       "1  4821  2011       62000     1    19.81      1086     68.05         5   \n",
       "2  4822  2010      129986     2    20.00      1399     68.00         5   \n",
       "3  4823  2015       49900     1    20.85      1197     83.14         5   \n",
       "4  4824  2010       75319     2    21.10      1197     85.80         5   \n",
       "\n",
       "   Company_Audi  Company_Bmw  ...  Ciudad_G  Ciudad_H  Ciudad_I  Ciudad_J  \\\n",
       "0             0            0  ...         0         1         0         0   \n",
       "1             0            0  ...         0         0         0         1   \n",
       "2             0            0  ...         0         0         0         0   \n",
       "3             0            0  ...         0         0         0         0   \n",
       "4             0            0  ...         0         0         0         1   \n",
       "\n",
       "   Ciudad_K  Ciudad_L  Tipo_marchas_Manual  Combustible_Diesel  \\\n",
       "0         0         0                    0                   1   \n",
       "1         0         0                    1                   0   \n",
       "2         0         0                    1                   1   \n",
       "3         0         0                    1                   0   \n",
       "4         0         0                    1                   0   \n",
       "\n",
       "   Combustible_LPG  Combustible_Petrol  \n",
       "0                0                   0  \n",
       "1                0                   1  \n",
       "2                0                   0  \n",
       "3                0                   1  \n",
       "4                0                   1  \n",
       "\n",
       "[5 rows x 48 columns]"
      ]
     },
     "execution_count": 234,
     "metadata": {},
     "output_type": "execute_result"
    }
   ],
   "source": [
    "car_test_2.head()"
   ]
  },
  {
   "cell_type": "markdown",
   "metadata": {},
   "source": [
    "## Feature Scaling"
   ]
  },
  {
   "cell_type": "code",
   "execution_count": 235,
   "metadata": {},
   "outputs": [],
   "source": [
    "## Feature scaling\n",
    "from sklearn.preprocessing import StandardScaler"
   ]
  },
  {
   "cell_type": "code",
   "execution_count": 236,
   "metadata": {},
   "outputs": [],
   "source": [
    "scaled_features_train = car_train_2.copy()\n",
    "scaled_features_test = car_test_2.copy() "
   ]
  },
  {
   "cell_type": "code",
   "execution_count": 237,
   "metadata": {},
   "outputs": [],
   "source": [
    "col_names = ['Kilometros','Potencia','Consumo','Motor_CC']"
   ]
  },
  {
   "cell_type": "code",
   "execution_count": 238,
   "metadata": {},
   "outputs": [],
   "source": [
    "features_train = scaled_features_train[col_names]\n",
    "scaler = StandardScaler().fit(features_train.values)\n",
    "features_train = scaler.transform(features_train.values)"
   ]
  },
  {
   "cell_type": "code",
   "execution_count": 239,
   "metadata": {},
   "outputs": [],
   "source": [
    "scaled_features_train[col_names] = features_train"
   ]
  },
  {
   "cell_type": "code",
   "execution_count": 240,
   "metadata": {},
   "outputs": [
    {
     "data": {
      "text/html": [
       "<div>\n",
       "<style scoped>\n",
       "    .dataframe tbody tr th:only-of-type {\n",
       "        vertical-align: middle;\n",
       "    }\n",
       "\n",
       "    .dataframe tbody tr th {\n",
       "        vertical-align: top;\n",
       "    }\n",
       "\n",
       "    .dataframe thead th {\n",
       "        text-align: right;\n",
       "    }\n",
       "</style>\n",
       "<table border=\"1\" class=\"dataframe\">\n",
       "  <thead>\n",
       "    <tr style=\"text-align: right;\">\n",
       "      <th></th>\n",
       "      <th>Año</th>\n",
       "      <th>Kilometros</th>\n",
       "      <th>Mano</th>\n",
       "      <th>Consumo</th>\n",
       "      <th>Motor_CC</th>\n",
       "      <th>Potencia</th>\n",
       "      <th>Asientos</th>\n",
       "      <th>Precio_cat</th>\n",
       "      <th>Company_Bmw</th>\n",
       "      <th>Company_Chevrolet</th>\n",
       "      <th>...</th>\n",
       "      <th>Ciudad_G</th>\n",
       "      <th>Ciudad_H</th>\n",
       "      <th>Ciudad_I</th>\n",
       "      <th>Ciudad_J</th>\n",
       "      <th>Ciudad_K</th>\n",
       "      <th>Ciudad_L</th>\n",
       "      <th>Tipo_marchas_Manual</th>\n",
       "      <th>Combustible_Diesel</th>\n",
       "      <th>Combustible_LPG</th>\n",
       "      <th>Combustible_Petrol</th>\n",
       "    </tr>\n",
       "  </thead>\n",
       "  <tbody>\n",
       "    <tr>\n",
       "      <th>0</th>\n",
       "      <td>2012.0</td>\n",
       "      <td>0.221697</td>\n",
       "      <td>1</td>\n",
       "      <td>1.148874</td>\n",
       "      <td>-0.638762</td>\n",
       "      <td>-0.751974</td>\n",
       "      <td>5</td>\n",
       "      <td>3</td>\n",
       "      <td>0</td>\n",
       "      <td>0</td>\n",
       "      <td>...</td>\n",
       "      <td>1</td>\n",
       "      <td>0</td>\n",
       "      <td>0</td>\n",
       "      <td>0</td>\n",
       "      <td>0</td>\n",
       "      <td>0</td>\n",
       "      <td>1</td>\n",
       "      <td>1</td>\n",
       "      <td>0</td>\n",
       "      <td>0</td>\n",
       "    </tr>\n",
       "    <tr>\n",
       "      <th>1</th>\n",
       "      <td>2016.0</td>\n",
       "      <td>-0.490385</td>\n",
       "      <td>1</td>\n",
       "      <td>0.485447</td>\n",
       "      <td>-1.067971</td>\n",
       "      <td>-0.887019</td>\n",
       "      <td>5</td>\n",
       "      <td>3</td>\n",
       "      <td>0</td>\n",
       "      <td>0</td>\n",
       "      <td>...</td>\n",
       "      <td>0</td>\n",
       "      <td>0</td>\n",
       "      <td>1</td>\n",
       "      <td>0</td>\n",
       "      <td>0</td>\n",
       "      <td>0</td>\n",
       "      <td>1</td>\n",
       "      <td>0</td>\n",
       "      <td>0</td>\n",
       "      <td>1</td>\n",
       "    </tr>\n",
       "    <tr>\n",
       "      <th>2</th>\n",
       "      <td>2016.0</td>\n",
       "      <td>-0.297339</td>\n",
       "      <td>1</td>\n",
       "      <td>1.589628</td>\n",
       "      <td>-0.724604</td>\n",
       "      <td>-0.693764</td>\n",
       "      <td>6</td>\n",
       "      <td>3</td>\n",
       "      <td>0</td>\n",
       "      <td>0</td>\n",
       "      <td>...</td>\n",
       "      <td>0</td>\n",
       "      <td>0</td>\n",
       "      <td>0</td>\n",
       "      <td>0</td>\n",
       "      <td>0</td>\n",
       "      <td>0</td>\n",
       "      <td>1</td>\n",
       "      <td>1</td>\n",
       "      <td>0</td>\n",
       "      <td>0</td>\n",
       "    </tr>\n",
       "    <tr>\n",
       "      <th>3</th>\n",
       "      <td>2013.0</td>\n",
       "      <td>-0.023006</td>\n",
       "      <td>1</td>\n",
       "      <td>0.024032</td>\n",
       "      <td>-0.726321</td>\n",
       "      <td>-0.635555</td>\n",
       "      <td>5</td>\n",
       "      <td>3</td>\n",
       "      <td>0</td>\n",
       "      <td>0</td>\n",
       "      <td>...</td>\n",
       "      <td>0</td>\n",
       "      <td>0</td>\n",
       "      <td>0</td>\n",
       "      <td>0</td>\n",
       "      <td>0</td>\n",
       "      <td>0</td>\n",
       "      <td>1</td>\n",
       "      <td>0</td>\n",
       "      <td>0</td>\n",
       "      <td>1</td>\n",
       "    </tr>\n",
       "    <tr>\n",
       "      <th>4</th>\n",
       "      <td>2017.0</td>\n",
       "      <td>-0.151818</td>\n",
       "      <td>1</td>\n",
       "      <td>0.069944</td>\n",
       "      <td>-0.722887</td>\n",
       "      <td>-0.466748</td>\n",
       "      <td>5</td>\n",
       "      <td>3</td>\n",
       "      <td>0</td>\n",
       "      <td>0</td>\n",
       "      <td>...</td>\n",
       "      <td>0</td>\n",
       "      <td>1</td>\n",
       "      <td>0</td>\n",
       "      <td>0</td>\n",
       "      <td>0</td>\n",
       "      <td>0</td>\n",
       "      <td>1</td>\n",
       "      <td>0</td>\n",
       "      <td>0</td>\n",
       "      <td>1</td>\n",
       "    </tr>\n",
       "  </tbody>\n",
       "</table>\n",
       "<p>5 rows × 48 columns</p>\n",
       "</div>"
      ],
      "text/plain": [
       "      Año  Kilometros  Mano   Consumo  Motor_CC  Potencia  Asientos  \\\n",
       "0  2012.0    0.221697     1  1.148874 -0.638762 -0.751974         5   \n",
       "1  2016.0   -0.490385     1  0.485447 -1.067971 -0.887019         5   \n",
       "2  2016.0   -0.297339     1  1.589628 -0.724604 -0.693764         6   \n",
       "3  2013.0   -0.023006     1  0.024032 -0.726321 -0.635555         5   \n",
       "4  2017.0   -0.151818     1  0.069944 -0.722887 -0.466748         5   \n",
       "\n",
       "   Precio_cat  Company_Bmw  Company_Chevrolet  ...  Ciudad_G  Ciudad_H  \\\n",
       "0           3            0                  0  ...         1         0   \n",
       "1           3            0                  0  ...         0         0   \n",
       "2           3            0                  0  ...         0         0   \n",
       "3           3            0                  0  ...         0         0   \n",
       "4           3            0                  0  ...         0         1   \n",
       "\n",
       "   Ciudad_I  Ciudad_J  Ciudad_K  Ciudad_L  Tipo_marchas_Manual  \\\n",
       "0         0         0         0         0                    1   \n",
       "1         1         0         0         0                    1   \n",
       "2         0         0         0         0                    1   \n",
       "3         0         0         0         0                    1   \n",
       "4         0         0         0         0                    1   \n",
       "\n",
       "   Combustible_Diesel  Combustible_LPG  Combustible_Petrol  \n",
       "0                   1                0                   0  \n",
       "1                   0                0                   1  \n",
       "2                   1                0                   0  \n",
       "3                   0                0                   1  \n",
       "4                   0                0                   1  \n",
       "\n",
       "[5 rows x 48 columns]"
      ]
     },
     "execution_count": 240,
     "metadata": {},
     "output_type": "execute_result"
    }
   ],
   "source": [
    "scaled_features_train.head()"
   ]
  },
  {
   "cell_type": "code",
   "execution_count": 77,
   "metadata": {},
   "outputs": [
    {
     "data": {
      "text/plain": [
       "array([[<matplotlib.axes._subplots.AxesSubplot object at 0x7feac257e0d0>,\n",
       "        <matplotlib.axes._subplots.AxesSubplot object at 0x7feac28cd1c0>],\n",
       "       [<matplotlib.axes._subplots.AxesSubplot object at 0x7feac2ec5d00>,\n",
       "        <matplotlib.axes._subplots.AxesSubplot object at 0x7feac3071dc0>]],\n",
       "      dtype=object)"
      ]
     },
     "execution_count": 77,
     "metadata": {},
     "output_type": "execute_result"
    },
    {
     "data": {
      "image/png": "[encoded data removed]",
      "text/plain": [
       "<Figure size 1080x864 with 4 Axes>"
      ]
     },
     "metadata": {
      "needs_background": "light"
     },
     "output_type": "display_data"
    }
   ],
   "source": [
    "scaled_features_train[col_names].hist(bins=50,figsize=(15,12))"
   ]
  },
  {
   "cell_type": "code",
   "execution_count": 241,
   "metadata": {},
   "outputs": [],
   "source": [
    "features_test = scaled_features_test[col_names]\n",
    "scaler = StandardScaler().fit(features_test.values)\n",
    "features_test = scaler.transform(features_test.values)"
   ]
  },
  {
   "cell_type": "code",
   "execution_count": 242,
   "metadata": {},
   "outputs": [],
   "source": [
    "scaled_features_test[col_names] = features_test"
   ]
  },
  {
   "cell_type": "code",
   "execution_count": 110,
   "metadata": {},
   "outputs": [
    {
     "data": {
      "text/html": [
       "<div>\n",
       "<style scoped>\n",
       "    .dataframe tbody tr th:only-of-type {\n",
       "        vertical-align: middle;\n",
       "    }\n",
       "\n",
       "    .dataframe tbody tr th {\n",
       "        vertical-align: top;\n",
       "    }\n",
       "\n",
       "    .dataframe thead th {\n",
       "        text-align: right;\n",
       "    }\n",
       "</style>\n",
       "<table border=\"1\" class=\"dataframe\">\n",
       "  <thead>\n",
       "    <tr style=\"text-align: right;\">\n",
       "      <th></th>\n",
       "      <th>Año</th>\n",
       "      <th>Kilometros</th>\n",
       "      <th>Mano</th>\n",
       "      <th>Consumo</th>\n",
       "      <th>Motor_CC</th>\n",
       "      <th>Potencia</th>\n",
       "      <th>Asientos</th>\n",
       "      <th>Company_Audi</th>\n",
       "      <th>Company_Bmw</th>\n",
       "      <th>Company_Chevrolet</th>\n",
       "      <th>...</th>\n",
       "      <th>Ciudad_G</th>\n",
       "      <th>Ciudad_H</th>\n",
       "      <th>Ciudad_I</th>\n",
       "      <th>Ciudad_J</th>\n",
       "      <th>Ciudad_K</th>\n",
       "      <th>Ciudad_L</th>\n",
       "      <th>Tipo_marchas_Manual</th>\n",
       "      <th>Combustible_Diesel</th>\n",
       "      <th>Combustible_LPG</th>\n",
       "      <th>Combustible_Petrol</th>\n",
       "    </tr>\n",
       "  </thead>\n",
       "  <tbody>\n",
       "    <tr>\n",
       "      <th>0</th>\n",
       "      <td>2015</td>\n",
       "      <td>0.515357</td>\n",
       "      <td>1</td>\n",
       "      <td>0.315477</td>\n",
       "      <td>0.782812</td>\n",
       "      <td>0.928945</td>\n",
       "      <td>5</td>\n",
       "      <td>0</td>\n",
       "      <td>0</td>\n",
       "      <td>0</td>\n",
       "      <td>...</td>\n",
       "      <td>0</td>\n",
       "      <td>1</td>\n",
       "      <td>0</td>\n",
       "      <td>0</td>\n",
       "      <td>0</td>\n",
       "      <td>0</td>\n",
       "      <td>0</td>\n",
       "      <td>1</td>\n",
       "      <td>0</td>\n",
       "      <td>0</td>\n",
       "    </tr>\n",
       "    <tr>\n",
       "      <th>1</th>\n",
       "      <td>2011</td>\n",
       "      <td>0.073480</td>\n",
       "      <td>1</td>\n",
       "      <td>0.437839</td>\n",
       "      <td>-0.859256</td>\n",
       "      <td>-0.772356</td>\n",
       "      <td>5</td>\n",
       "      <td>0</td>\n",
       "      <td>0</td>\n",
       "      <td>0</td>\n",
       "      <td>...</td>\n",
       "      <td>0</td>\n",
       "      <td>0</td>\n",
       "      <td>0</td>\n",
       "      <td>1</td>\n",
       "      <td>0</td>\n",
       "      <td>0</td>\n",
       "      <td>1</td>\n",
       "      <td>0</td>\n",
       "      <td>0</td>\n",
       "      <td>1</td>\n",
       "    </tr>\n",
       "    <tr>\n",
       "      <th>2</th>\n",
       "      <td>2010</td>\n",
       "      <td>1.978332</td>\n",
       "      <td>2</td>\n",
       "      <td>0.480893</td>\n",
       "      <td>-0.373005</td>\n",
       "      <td>-0.773190</td>\n",
       "      <td>5</td>\n",
       "      <td>0</td>\n",
       "      <td>0</td>\n",
       "      <td>0</td>\n",
       "      <td>...</td>\n",
       "      <td>0</td>\n",
       "      <td>0</td>\n",
       "      <td>0</td>\n",
       "      <td>0</td>\n",
       "      <td>0</td>\n",
       "      <td>0</td>\n",
       "      <td>1</td>\n",
       "      <td>1</td>\n",
       "      <td>0</td>\n",
       "      <td>0</td>\n",
       "    </tr>\n",
       "    <tr>\n",
       "      <th>3</th>\n",
       "      <td>2015</td>\n",
       "      <td>-0.265541</td>\n",
       "      <td>1</td>\n",
       "      <td>0.673499</td>\n",
       "      <td>-0.686816</td>\n",
       "      <td>-0.520540</td>\n",
       "      <td>5</td>\n",
       "      <td>0</td>\n",
       "      <td>0</td>\n",
       "      <td>0</td>\n",
       "      <td>...</td>\n",
       "      <td>0</td>\n",
       "      <td>0</td>\n",
       "      <td>0</td>\n",
       "      <td>0</td>\n",
       "      <td>0</td>\n",
       "      <td>0</td>\n",
       "      <td>1</td>\n",
       "      <td>0</td>\n",
       "      <td>0</td>\n",
       "      <td>1</td>\n",
       "    </tr>\n",
       "    <tr>\n",
       "      <th>4</th>\n",
       "      <td>2010</td>\n",
       "      <td>0.446656</td>\n",
       "      <td>2</td>\n",
       "      <td>0.730148</td>\n",
       "      <td>-0.686816</td>\n",
       "      <td>-0.476151</td>\n",
       "      <td>5</td>\n",
       "      <td>0</td>\n",
       "      <td>0</td>\n",
       "      <td>0</td>\n",
       "      <td>...</td>\n",
       "      <td>0</td>\n",
       "      <td>0</td>\n",
       "      <td>0</td>\n",
       "      <td>1</td>\n",
       "      <td>0</td>\n",
       "      <td>0</td>\n",
       "      <td>1</td>\n",
       "      <td>0</td>\n",
       "      <td>0</td>\n",
       "      <td>1</td>\n",
       "    </tr>\n",
       "  </tbody>\n",
       "</table>\n",
       "<p>5 rows × 47 columns</p>\n",
       "</div>"
      ],
      "text/plain": [
       "    Año  Kilometros  Mano   Consumo  Motor_CC  Potencia  Asientos  \\\n",
       "0  2015    0.515357     1  0.315477  0.782812  0.928945         5   \n",
       "1  2011    0.073480     1  0.437839 -0.859256 -0.772356         5   \n",
       "2  2010    1.978332     2  0.480893 -0.373005 -0.773190         5   \n",
       "3  2015   -0.265541     1  0.673499 -0.686816 -0.520540         5   \n",
       "4  2010    0.446656     2  0.730148 -0.686816 -0.476151         5   \n",
       "\n",
       "   Company_Audi  Company_Bmw  Company_Chevrolet  ...  Ciudad_G  Ciudad_H  \\\n",
       "0             0            0                  0  ...         0         1   \n",
       "1             0            0                  0  ...         0         0   \n",
       "2             0            0                  0  ...         0         0   \n",
       "3             0            0                  0  ...         0         0   \n",
       "4             0            0                  0  ...         0         0   \n",
       "\n",
       "   Ciudad_I  Ciudad_J  Ciudad_K  Ciudad_L  Tipo_marchas_Manual  \\\n",
       "0         0         0         0         0                    0   \n",
       "1         0         1         0         0                    1   \n",
       "2         0         0         0         0                    1   \n",
       "3         0         0         0         0                    1   \n",
       "4         0         1         0         0                    1   \n",
       "\n",
       "   Combustible_Diesel  Combustible_LPG  Combustible_Petrol  \n",
       "0                   1                0                   0  \n",
       "1                   0                0                   1  \n",
       "2                   1                0                   0  \n",
       "3                   0                0                   1  \n",
       "4                   0                0                   1  \n",
       "\n",
       "[5 rows x 47 columns]"
      ]
     },
     "execution_count": 110,
     "metadata": {},
     "output_type": "execute_result"
    }
   ],
   "source": [
    "scaled_features_test.head()"
   ]
  },
  {
   "cell_type": "markdown",
   "metadata": {},
   "source": [
    "## Model"
   ]
  },
  {
   "cell_type": "code",
   "execution_count": 243,
   "metadata": {},
   "outputs": [],
   "source": [
    "y = scaled_features_train['Precio_cat']\n",
    "X = scaled_features_train.drop('Precio_cat', axis=1)"
   ]
  },
  {
   "cell_type": "code",
   "execution_count": 244,
   "metadata": {},
   "outputs": [],
   "source": [
    "X_train, X_test, y_train, y_test = train_test_split(X, y, test_size = 0.2, random_state = 25)"
   ]
  },
  {
   "cell_type": "code",
   "execution_count": 245,
   "metadata": {},
   "outputs": [],
   "source": [
    "## Regresión lineal"
   ]
  },
  {
   "cell_type": "code",
   "execution_count": 246,
   "metadata": {},
   "outputs": [],
   "source": [
    "linear_reg = LinearRegression()\n",
    "linear_reg_score = cross_val_score(linear_reg, X_train, y_train, cv=5)"
   ]
  },
  {
   "cell_type": "code",
   "execution_count": 247,
   "metadata": {},
   "outputs": [
    {
     "name": "stdout",
     "output_type": "stream",
     "text": [
      "0.81615277092984 0.016238927405221266\n"
     ]
    }
   ],
   "source": [
    "print(linear_reg_score.mean(), linear_reg_score.std())"
   ]
  },
  {
   "cell_type": "code",
   "execution_count": 248,
   "metadata": {},
   "outputs": [
    {
     "name": "stdout",
     "output_type": "stream",
     "text": [
      "Accuracy on Traing set:  0.8264191416506916\n",
      "Accuracy on Testing set:  0.8096951336472078\n"
     ]
    }
   ],
   "source": [
    "linear_reg.fit(X_train, y_train)\n",
    "y_pred = linear_reg.predict(X_test)\n",
    "print(\"Accuracy on Training set: \",linear_reg.score(X_train,y_train))\n",
    "print(\"Accuracy on Testing set: \",linear_reg.score(X_test,y_test))"
   ]
  },
  {
   "cell_type": "code",
   "execution_count": 249,
   "metadata": {},
   "outputs": [
    {
     "data": {
      "text/plain": [
       "ExtraTreesRegressor()"
      ]
     },
     "execution_count": 249,
     "metadata": {},
     "output_type": "execute_result"
    }
   ],
   "source": [
    "from sklearn.ensemble import ExtraTreesRegressor\n",
    "selection = ExtraTreesRegressor()\n",
    "selection.fit(X, y)"
   ]
  },
  {
   "cell_type": "code",
   "execution_count": 250,
   "metadata": {},
   "outputs": [
    {
     "data": {
      "image/png": "[encoded data removed]",
      "text/plain": [
       "<Figure size 864x576 with 1 Axes>"
      ]
     },
     "metadata": {
      "needs_background": "light"
     },
     "output_type": "display_data"
    }
   ],
   "source": [
    "#plot graph of feature importances for better visualization\n",
    "\n",
    "plt.figure(figsize = (12,8))\n",
    "feat_importances = pd.Series(selection.feature_importances_, index=X.columns)\n",
    "feat_importances.nlargest(20).plot(kind='barh')\n",
    "plt.show()"
   ]
  },
  {
   "cell_type": "code",
   "execution_count": null,
   "metadata": {},
   "outputs": [],
   "source": [
    "## Regresión Logística"
   ]
  },
  {
   "cell_type": "code",
   "execution_count": 101,
   "metadata": {},
   "outputs": [
    {
     "name": "stderr",
     "output_type": "stream",
     "text": [
      "/Users/davidalbertomartinvela/opt/anaconda3/lib/python3.8/site-packages/sklearn/linear_model/_logistic.py:762: ConvergenceWarning: lbfgs failed to converge (status=1):\n",
      "STOP: TOTAL NO. of ITERATIONS REACHED LIMIT.\n",
      "\n",
      "Increase the number of iterations (max_iter) or scale the data as shown in:\n",
      "    https://scikit-learn.org/stable/modules/preprocessing.html\n",
      "Please also refer to the documentation for alternative solver options:\n",
      "    https://scikit-learn.org/stable/modules/linear_model.html#logistic-regression\n",
      "  n_iter_i = _check_optimize_result(\n",
      "/Users/davidalbertomartinvela/opt/anaconda3/lib/python3.8/site-packages/sklearn/linear_model/_logistic.py:762: ConvergenceWarning: lbfgs failed to converge (status=1):\n",
      "STOP: TOTAL NO. of ITERATIONS REACHED LIMIT.\n",
      "\n",
      "Increase the number of iterations (max_iter) or scale the data as shown in:\n",
      "    https://scikit-learn.org/stable/modules/preprocessing.html\n",
      "Please also refer to the documentation for alternative solver options:\n",
      "    https://scikit-learn.org/stable/modules/linear_model.html#logistic-regression\n",
      "  n_iter_i = _check_optimize_result(\n",
      "/Users/davidalbertomartinvela/opt/anaconda3/lib/python3.8/site-packages/sklearn/linear_model/_logistic.py:762: ConvergenceWarning: lbfgs failed to converge (status=1):\n",
      "STOP: TOTAL NO. of ITERATIONS REACHED LIMIT.\n",
      "\n",
      "Increase the number of iterations (max_iter) or scale the data as shown in:\n",
      "    https://scikit-learn.org/stable/modules/preprocessing.html\n",
      "Please also refer to the documentation for alternative solver options:\n",
      "    https://scikit-learn.org/stable/modules/linear_model.html#logistic-regression\n",
      "  n_iter_i = _check_optimize_result(\n",
      "/Users/davidalbertomartinvela/opt/anaconda3/lib/python3.8/site-packages/sklearn/linear_model/_logistic.py:762: ConvergenceWarning: lbfgs failed to converge (status=1):\n",
      "STOP: TOTAL NO. of ITERATIONS REACHED LIMIT.\n",
      "\n",
      "Increase the number of iterations (max_iter) or scale the data as shown in:\n",
      "    https://scikit-learn.org/stable/modules/preprocessing.html\n",
      "Please also refer to the documentation for alternative solver options:\n",
      "    https://scikit-learn.org/stable/modules/linear_model.html#logistic-regression\n",
      "  n_iter_i = _check_optimize_result(\n",
      "/Users/davidalbertomartinvela/opt/anaconda3/lib/python3.8/site-packages/sklearn/linear_model/_logistic.py:762: ConvergenceWarning: lbfgs failed to converge (status=1):\n",
      "STOP: TOTAL NO. of ITERATIONS REACHED LIMIT.\n",
      "\n",
      "Increase the number of iterations (max_iter) or scale the data as shown in:\n",
      "    https://scikit-learn.org/stable/modules/preprocessing.html\n",
      "Please also refer to the documentation for alternative solver options:\n",
      "    https://scikit-learn.org/stable/modules/linear_model.html#logistic-regression\n",
      "  n_iter_i = _check_optimize_result(\n"
     ]
    }
   ],
   "source": [
    "lr = LogisticRegression()\n",
    "\n",
    "lr_score = cross_val_score(lr, X_train, y_train, cv=5)"
   ]
  },
  {
   "cell_type": "code",
   "execution_count": 102,
   "metadata": {},
   "outputs": [
    {
     "name": "stdout",
     "output_type": "stream",
     "text": [
      "0.6013972196032016 0.009925063585505671\n"
     ]
    }
   ],
   "source": [
    "print(lr_score.mean(), lr_score.std())"
   ]
  },
  {
   "cell_type": "code",
   "execution_count": null,
   "metadata": {},
   "outputs": [],
   "source": [
    "# Random Forest"
   ]
  },
  {
   "cell_type": "code",
   "execution_count": 251,
   "metadata": {},
   "outputs": [],
   "source": [
    "rfg = RandomForestRegressor()\n",
    "rfg_score = cross_val_score(rfg, X_train, y_train, cv=5)"
   ]
  },
  {
   "cell_type": "code",
   "execution_count": 252,
   "metadata": {},
   "outputs": [
    {
     "name": "stdout",
     "output_type": "stream",
     "text": [
      "0.8591449513454597 0.0055127951618190955\n"
     ]
    }
   ],
   "source": [
    "print(rfg_score.mean(), rfg_score.std())"
   ]
  },
  {
   "cell_type": "code",
   "execution_count": 253,
   "metadata": {},
   "outputs": [
    {
     "name": "stdout",
     "output_type": "stream",
     "text": [
      "Accuracy on Traing set:  0.9811038674661235\n",
      "Accuracy on Testing set:  0.8464895333412119\n"
     ]
    }
   ],
   "source": [
    "rfg.fit(X_train, y_train)\n",
    "y_pred= rfg.predict(X_test)\n",
    "print(\"Accuracy on Training set: \",rfg.score(X_train,y_train))\n",
    "print(\"Accuracy on Testing set: \",rfg.score(X_test,y_test))"
   ]
  },
  {
   "cell_type": "code",
   "execution_count": 254,
   "metadata": {},
   "outputs": [
    {
     "name": "stdout",
     "output_type": "stream",
     "text": [
      "\t\tError Table\n",
      "Mean Absolute Error      :  0.24201520912547528\n",
      "Mean Squared  Error      :  0.16692991128010137\n",
      "Root Mean Squared  Error :  0.4085705707464763\n",
      "R Squared Error          :  0.8464895333412119\n"
     ]
    }
   ],
   "source": [
    "print(\"\\t\\tError Table\")\n",
    "print('Mean Absolute Error      : ', mean_absolute_error(y_test, y_pred))\n",
    "print('Mean Squared  Error      : ', mean_squared_error(y_test, y_pred))\n",
    "print('Root Mean Squared  Error : ', np.sqrt(mean_squared_error(y_test, y_pred)))\n",
    "print('R Squared Error          : ', metrics.r2_score(y_test, y_pred))"
   ]
  },
  {
   "cell_type": "code",
   "execution_count": 255,
   "metadata": {},
   "outputs": [
    {
     "data": {
      "image/png": "[encoded data removed]",
      "text/plain": [
       "<Figure size 432x288 with 1 Axes>"
      ]
     },
     "metadata": {
      "needs_background": "light"
     },
     "output_type": "display_data"
    }
   ],
   "source": [
    "sns.distplot(y_test-y_pred)\n",
    "plt.show()"
   ]
  },
  {
   "cell_type": "markdown",
   "metadata": {},
   "source": [
    "## Generando el fichero para Kaggle"
   ]
  },
  {
   "cell_type": "code",
   "execution_count": 256,
   "metadata": {},
   "outputs": [],
   "source": [
    "tests_ids_2 = scaled_features_test['id']\n",
    "del scaled_features_test['id']\n",
    "\n",
    "predict_2 = rfg.predict(scaled_features_test)\n",
    "# Generamos \n",
    "df_result = pd.DataFrame({'id': tests_ids_2, 'Precio_cat': np.around(predict_2).astype(int) })\n",
    "df_result.to_csv(\"mis_resultados_2.csv\", index=False)"
   ]
  },
  {
   "cell_type": "code",
   "execution_count": 258,
   "metadata": {},
   "outputs": [],
   "source": [
    "#Randomized Search CV\n",
    "\n",
    "# Number of trees in random forest\n",
    "n_estimators = [int(x) for x in np.linspace(start = 100, stop = 1200, num = 12)]\n",
    "# Number of features to consider at every split\n",
    "max_features = ['auto', 'sqrt']\n",
    "# Maximum number of levels in tree\n",
    "max_depth = [int(x) for x in np.linspace(5, 30, num = 6)]\n",
    "# Minimum number of samples required to split a node\n",
    "min_samples_split = [2, 5, 10, 15, 100]\n",
    "# Minimum number of samples required at each leaf node\n",
    "min_samples_leaf = [1, 2, 5, 10]"
   ]
  },
  {
   "cell_type": "code",
   "execution_count": 259,
   "metadata": {},
   "outputs": [],
   "source": [
    "# Create the random grid\n",
    "\n",
    "random_grid = {'n_estimators': n_estimators,\n",
    "               'max_features': max_features,\n",
    "               'max_depth': max_depth,\n",
    "               'min_samples_split': min_samples_split,\n",
    "               'min_samples_leaf': min_samples_leaf}"
   ]
  },
  {
   "cell_type": "code",
   "execution_count": 260,
   "metadata": {},
   "outputs": [],
   "source": [
    "# search across 100 different combinations\n",
    "rf_random = RandomizedSearchCV(estimator = rfg, param_distributions = random_grid,scoring='neg_mean_squared_error', n_iter = 10, cv = 5, verbose=2, random_state=42, n_jobs = 1)"
   ]
  },
  {
   "cell_type": "code",
   "execution_count": 261,
   "metadata": {},
   "outputs": [
    {
     "name": "stdout",
     "output_type": "stream",
     "text": [
      "Fitting 5 folds for each of 10 candidates, totalling 50 fits\n",
      "[CV] n_estimators=900, min_samples_split=5, min_samples_leaf=5, max_features=sqrt, max_depth=10 \n"
     ]
    },
    {
     "name": "stderr",
     "output_type": "stream",
     "text": [
      "[Parallel(n_jobs=1)]: Using backend SequentialBackend with 1 concurrent workers.\n"
     ]
    },
    {
     "name": "stdout",
     "output_type": "stream",
     "text": [
      "[CV]  n_estimators=900, min_samples_split=5, min_samples_leaf=5, max_features=sqrt, max_depth=10, total=   1.9s\n",
      "[CV] n_estimators=900, min_samples_split=5, min_samples_leaf=5, max_features=sqrt, max_depth=10 \n"
     ]
    },
    {
     "name": "stderr",
     "output_type": "stream",
     "text": [
      "[Parallel(n_jobs=1)]: Done   1 out of   1 | elapsed:    1.9s remaining:    0.0s\n"
     ]
    },
    {
     "name": "stdout",
     "output_type": "stream",
     "text": [
      "[CV]  n_estimators=900, min_samples_split=5, min_samples_leaf=5, max_features=sqrt, max_depth=10, total=   1.9s\n",
      "[CV] n_estimators=900, min_samples_split=5, min_samples_leaf=5, max_features=sqrt, max_depth=10 \n",
      "[CV]  n_estimators=900, min_samples_split=5, min_samples_leaf=5, max_features=sqrt, max_depth=10, total=   1.7s\n",
      "[CV] n_estimators=900, min_samples_split=5, min_samples_leaf=5, max_features=sqrt, max_depth=10 \n",
      "[CV]  n_estimators=900, min_samples_split=5, min_samples_leaf=5, max_features=sqrt, max_depth=10, total=   1.6s\n",
      "[CV] n_estimators=900, min_samples_split=5, min_samples_leaf=5, max_features=sqrt, max_depth=10 \n",
      "[CV]  n_estimators=900, min_samples_split=5, min_samples_leaf=5, max_features=sqrt, max_depth=10, total=   1.6s\n",
      "[CV] n_estimators=1100, min_samples_split=10, min_samples_leaf=2, max_features=sqrt, max_depth=15 \n",
      "[CV]  n_estimators=1100, min_samples_split=10, min_samples_leaf=2, max_features=sqrt, max_depth=15, total=   2.4s\n",
      "[CV] n_estimators=1100, min_samples_split=10, min_samples_leaf=2, max_features=sqrt, max_depth=15 \n",
      "[CV]  n_estimators=1100, min_samples_split=10, min_samples_leaf=2, max_features=sqrt, max_depth=15, total=   2.4s\n",
      "[CV] n_estimators=1100, min_samples_split=10, min_samples_leaf=2, max_features=sqrt, max_depth=15 \n",
      "[CV]  n_estimators=1100, min_samples_split=10, min_samples_leaf=2, max_features=sqrt, max_depth=15, total=   2.4s\n",
      "[CV] n_estimators=1100, min_samples_split=10, min_samples_leaf=2, max_features=sqrt, max_depth=15 \n",
      "[CV]  n_estimators=1100, min_samples_split=10, min_samples_leaf=2, max_features=sqrt, max_depth=15, total=   2.3s\n",
      "[CV] n_estimators=1100, min_samples_split=10, min_samples_leaf=2, max_features=sqrt, max_depth=15 \n",
      "[CV]  n_estimators=1100, min_samples_split=10, min_samples_leaf=2, max_features=sqrt, max_depth=15, total=   2.3s\n",
      "[CV] n_estimators=300, min_samples_split=100, min_samples_leaf=5, max_features=auto, max_depth=15 \n",
      "[CV]  n_estimators=300, min_samples_split=100, min_samples_leaf=5, max_features=auto, max_depth=15, total=   1.5s\n",
      "[CV] n_estimators=300, min_samples_split=100, min_samples_leaf=5, max_features=auto, max_depth=15 \n",
      "[CV]  n_estimators=300, min_samples_split=100, min_samples_leaf=5, max_features=auto, max_depth=15, total=   1.5s\n",
      "[CV] n_estimators=300, min_samples_split=100, min_samples_leaf=5, max_features=auto, max_depth=15 \n",
      "[CV]  n_estimators=300, min_samples_split=100, min_samples_leaf=5, max_features=auto, max_depth=15, total=   1.5s\n",
      "[CV] n_estimators=300, min_samples_split=100, min_samples_leaf=5, max_features=auto, max_depth=15 \n",
      "[CV]  n_estimators=300, min_samples_split=100, min_samples_leaf=5, max_features=auto, max_depth=15, total=   1.5s\n",
      "[CV] n_estimators=300, min_samples_split=100, min_samples_leaf=5, max_features=auto, max_depth=15 \n",
      "[CV]  n_estimators=300, min_samples_split=100, min_samples_leaf=5, max_features=auto, max_depth=15, total=   1.5s\n",
      "[CV] n_estimators=400, min_samples_split=5, min_samples_leaf=5, max_features=auto, max_depth=15 \n",
      "[CV]  n_estimators=400, min_samples_split=5, min_samples_leaf=5, max_features=auto, max_depth=15, total=   2.6s\n",
      "[CV] n_estimators=400, min_samples_split=5, min_samples_leaf=5, max_features=auto, max_depth=15 \n",
      "[CV]  n_estimators=400, min_samples_split=5, min_samples_leaf=5, max_features=auto, max_depth=15, total=   2.6s\n",
      "[CV] n_estimators=400, min_samples_split=5, min_samples_leaf=5, max_features=auto, max_depth=15 \n",
      "[CV]  n_estimators=400, min_samples_split=5, min_samples_leaf=5, max_features=auto, max_depth=15, total=   2.7s\n",
      "[CV] n_estimators=400, min_samples_split=5, min_samples_leaf=5, max_features=auto, max_depth=15 \n",
      "[CV]  n_estimators=400, min_samples_split=5, min_samples_leaf=5, max_features=auto, max_depth=15, total=   2.7s\n",
      "[CV] n_estimators=400, min_samples_split=5, min_samples_leaf=5, max_features=auto, max_depth=15 \n",
      "[CV]  n_estimators=400, min_samples_split=5, min_samples_leaf=5, max_features=auto, max_depth=15, total=   2.7s\n",
      "[CV] n_estimators=700, min_samples_split=5, min_samples_leaf=10, max_features=auto, max_depth=20 \n",
      "[CV]  n_estimators=700, min_samples_split=5, min_samples_leaf=10, max_features=auto, max_depth=20, total=   4.1s\n",
      "[CV] n_estimators=700, min_samples_split=5, min_samples_leaf=10, max_features=auto, max_depth=20 \n",
      "[CV]  n_estimators=700, min_samples_split=5, min_samples_leaf=10, max_features=auto, max_depth=20, total=   4.2s\n",
      "[CV] n_estimators=700, min_samples_split=5, min_samples_leaf=10, max_features=auto, max_depth=20 \n",
      "[CV]  n_estimators=700, min_samples_split=5, min_samples_leaf=10, max_features=auto, max_depth=20, total=   4.1s\n",
      "[CV] n_estimators=700, min_samples_split=5, min_samples_leaf=10, max_features=auto, max_depth=20 \n",
      "[CV]  n_estimators=700, min_samples_split=5, min_samples_leaf=10, max_features=auto, max_depth=20, total=   4.1s\n",
      "[CV] n_estimators=700, min_samples_split=5, min_samples_leaf=10, max_features=auto, max_depth=20 \n",
      "[CV]  n_estimators=700, min_samples_split=5, min_samples_leaf=10, max_features=auto, max_depth=20, total=   4.2s\n",
      "[CV] n_estimators=1000, min_samples_split=2, min_samples_leaf=1, max_features=sqrt, max_depth=25 \n",
      "[CV]  n_estimators=1000, min_samples_split=2, min_samples_leaf=1, max_features=sqrt, max_depth=25, total=   2.7s\n",
      "[CV] n_estimators=1000, min_samples_split=2, min_samples_leaf=1, max_features=sqrt, max_depth=25 \n",
      "[CV]  n_estimators=1000, min_samples_split=2, min_samples_leaf=1, max_features=sqrt, max_depth=25, total=   2.7s\n",
      "[CV] n_estimators=1000, min_samples_split=2, min_samples_leaf=1, max_features=sqrt, max_depth=25 \n",
      "[CV]  n_estimators=1000, min_samples_split=2, min_samples_leaf=1, max_features=sqrt, max_depth=25, total=   2.7s\n",
      "[CV] n_estimators=1000, min_samples_split=2, min_samples_leaf=1, max_features=sqrt, max_depth=25 \n",
      "[CV]  n_estimators=1000, min_samples_split=2, min_samples_leaf=1, max_features=sqrt, max_depth=25, total=   2.7s\n",
      "[CV] n_estimators=1000, min_samples_split=2, min_samples_leaf=1, max_features=sqrt, max_depth=25 \n",
      "[CV]  n_estimators=1000, min_samples_split=2, min_samples_leaf=1, max_features=sqrt, max_depth=25, total=   2.7s\n",
      "[CV] n_estimators=1100, min_samples_split=15, min_samples_leaf=10, max_features=sqrt, max_depth=5 \n",
      "[CV]  n_estimators=1100, min_samples_split=15, min_samples_leaf=10, max_features=sqrt, max_depth=5, total=   1.5s\n",
      "[CV] n_estimators=1100, min_samples_split=15, min_samples_leaf=10, max_features=sqrt, max_depth=5 \n",
      "[CV]  n_estimators=1100, min_samples_split=15, min_samples_leaf=10, max_features=sqrt, max_depth=5, total=   1.5s\n",
      "[CV] n_estimators=1100, min_samples_split=15, min_samples_leaf=10, max_features=sqrt, max_depth=5 \n",
      "[CV]  n_estimators=1100, min_samples_split=15, min_samples_leaf=10, max_features=sqrt, max_depth=5, total=   1.5s\n",
      "[CV] n_estimators=1100, min_samples_split=15, min_samples_leaf=10, max_features=sqrt, max_depth=5 \n",
      "[CV]  n_estimators=1100, min_samples_split=15, min_samples_leaf=10, max_features=sqrt, max_depth=5, total=   1.5s\n",
      "[CV] n_estimators=1100, min_samples_split=15, min_samples_leaf=10, max_features=sqrt, max_depth=5 \n",
      "[CV]  n_estimators=1100, min_samples_split=15, min_samples_leaf=10, max_features=sqrt, max_depth=5, total=   1.5s\n",
      "[CV] n_estimators=300, min_samples_split=15, min_samples_leaf=1, max_features=sqrt, max_depth=15 \n",
      "[CV]  n_estimators=300, min_samples_split=15, min_samples_leaf=1, max_features=sqrt, max_depth=15, total=   0.6s\n",
      "[CV] n_estimators=300, min_samples_split=15, min_samples_leaf=1, max_features=sqrt, max_depth=15 \n",
      "[CV]  n_estimators=300, min_samples_split=15, min_samples_leaf=1, max_features=sqrt, max_depth=15, total=   0.7s\n",
      "[CV] n_estimators=300, min_samples_split=15, min_samples_leaf=1, max_features=sqrt, max_depth=15 \n",
      "[CV]  n_estimators=300, min_samples_split=15, min_samples_leaf=1, max_features=sqrt, max_depth=15, total=   0.6s\n",
      "[CV] n_estimators=300, min_samples_split=15, min_samples_leaf=1, max_features=sqrt, max_depth=15 \n",
      "[CV]  n_estimators=300, min_samples_split=15, min_samples_leaf=1, max_features=sqrt, max_depth=15, total=   0.6s\n",
      "[CV] n_estimators=300, min_samples_split=15, min_samples_leaf=1, max_features=sqrt, max_depth=15 \n",
      "[CV]  n_estimators=300, min_samples_split=15, min_samples_leaf=1, max_features=sqrt, max_depth=15, total=   0.6s\n",
      "[CV] n_estimators=700, min_samples_split=10, min_samples_leaf=2, max_features=sqrt, max_depth=5 \n"
     ]
    },
    {
     "name": "stdout",
     "output_type": "stream",
     "text": [
      "[CV]  n_estimators=700, min_samples_split=10, min_samples_leaf=2, max_features=sqrt, max_depth=5, total=   1.0s\n",
      "[CV] n_estimators=700, min_samples_split=10, min_samples_leaf=2, max_features=sqrt, max_depth=5 \n",
      "[CV]  n_estimators=700, min_samples_split=10, min_samples_leaf=2, max_features=sqrt, max_depth=5, total=   1.0s\n",
      "[CV] n_estimators=700, min_samples_split=10, min_samples_leaf=2, max_features=sqrt, max_depth=5 \n",
      "[CV]  n_estimators=700, min_samples_split=10, min_samples_leaf=2, max_features=sqrt, max_depth=5, total=   1.0s\n",
      "[CV] n_estimators=700, min_samples_split=10, min_samples_leaf=2, max_features=sqrt, max_depth=5 \n",
      "[CV]  n_estimators=700, min_samples_split=10, min_samples_leaf=2, max_features=sqrt, max_depth=5, total=   1.0s\n",
      "[CV] n_estimators=700, min_samples_split=10, min_samples_leaf=2, max_features=sqrt, max_depth=5 \n",
      "[CV]  n_estimators=700, min_samples_split=10, min_samples_leaf=2, max_features=sqrt, max_depth=5, total=   1.0s\n",
      "[CV] n_estimators=700, min_samples_split=15, min_samples_leaf=1, max_features=auto, max_depth=20 \n",
      "[CV]  n_estimators=700, min_samples_split=15, min_samples_leaf=1, max_features=auto, max_depth=20, total=   5.1s\n",
      "[CV] n_estimators=700, min_samples_split=15, min_samples_leaf=1, max_features=auto, max_depth=20 \n",
      "[CV]  n_estimators=700, min_samples_split=15, min_samples_leaf=1, max_features=auto, max_depth=20, total=   5.2s\n",
      "[CV] n_estimators=700, min_samples_split=15, min_samples_leaf=1, max_features=auto, max_depth=20 \n",
      "[CV]  n_estimators=700, min_samples_split=15, min_samples_leaf=1, max_features=auto, max_depth=20, total=   5.1s\n",
      "[CV] n_estimators=700, min_samples_split=15, min_samples_leaf=1, max_features=auto, max_depth=20 \n",
      "[CV]  n_estimators=700, min_samples_split=15, min_samples_leaf=1, max_features=auto, max_depth=20, total=   5.8s\n",
      "[CV] n_estimators=700, min_samples_split=15, min_samples_leaf=1, max_features=auto, max_depth=20 \n",
      "[CV]  n_estimators=700, min_samples_split=15, min_samples_leaf=1, max_features=auto, max_depth=20, total=   5.6s\n"
     ]
    },
    {
     "name": "stderr",
     "output_type": "stream",
     "text": [
      "[Parallel(n_jobs=1)]: Done  50 out of  50 | elapsed:  2.0min finished\n"
     ]
    },
    {
     "data": {
      "text/plain": [
       "RandomizedSearchCV(cv=5, estimator=RandomForestRegressor(), n_jobs=1,\n",
       "                   param_distributions={'max_depth': [5, 10, 15, 20, 25, 30],\n",
       "                                        'max_features': ['auto', 'sqrt'],\n",
       "                                        'min_samples_leaf': [1, 2, 5, 10],\n",
       "                                        'min_samples_split': [2, 5, 10, 15,\n",
       "                                                              100],\n",
       "                                        'n_estimators': [100, 200, 300, 400,\n",
       "                                                         500, 600, 700, 800,\n",
       "                                                         900, 1000, 1100,\n",
       "                                                         1200]},\n",
       "                   random_state=42, scoring='neg_mean_squared_error',\n",
       "                   verbose=2)"
      ]
     },
     "execution_count": 261,
     "metadata": {},
     "output_type": "execute_result"
    }
   ],
   "source": [
    "rf_random.fit(X,y)"
   ]
  },
  {
   "cell_type": "code",
   "execution_count": 262,
   "metadata": {},
   "outputs": [
    {
     "data": {
      "text/plain": [
       "{'n_estimators': 1000,\n",
       " 'min_samples_split': 2,\n",
       " 'min_samples_leaf': 1,\n",
       " 'max_features': 'sqrt',\n",
       " 'max_depth': 25}"
      ]
     },
     "execution_count": 262,
     "metadata": {},
     "output_type": "execute_result"
    }
   ],
   "source": [
    "rf_random.best_params_"
   ]
  },
  {
   "cell_type": "code",
   "execution_count": 263,
   "metadata": {},
   "outputs": [],
   "source": [
    "rfg_best = RandomForestRegressor(n_estimators=1000,min_samples_split=2,min_samples_leaf=1,max_features='sqrt',max_depth=25)"
   ]
  },
  {
   "cell_type": "code",
   "execution_count": 266,
   "metadata": {},
   "outputs": [],
   "source": [
    "rfg_best_score = cross_val_score(rfg_best, X_train, y_train, cv=5)"
   ]
  },
  {
   "cell_type": "code",
   "execution_count": 267,
   "metadata": {},
   "outputs": [
    {
     "name": "stdout",
     "output_type": "stream",
     "text": [
      "0.8634724419793154 0.005436514442607611\n"
     ]
    }
   ],
   "source": [
    "print(rfg_best_score.mean(), rfg_best_score.std())"
   ]
  },
  {
   "cell_type": "code",
   "execution_count": 268,
   "metadata": {},
   "outputs": [
    {
     "name": "stdout",
     "output_type": "stream",
     "text": [
      "Accuracy on Traing set:  0.9817866648165791\n",
      "Accuracy on Testing set:  0.8517814328406582\n"
     ]
    }
   ],
   "source": [
    "rfg_best.fit(X_train, y_train)\n",
    "y_pred= rfg_best.predict(X_test)\n",
    "print(\"Accuracy on Training set: \",rfg_best.score(X_train,y_train))\n",
    "print(\"Accuracy on Testing set: \",rfg_best.score(X_test,y_test))"
   ]
  },
  {
   "cell_type": "code",
   "execution_count": 270,
   "metadata": {},
   "outputs": [
    {
     "name": "stdout",
     "output_type": "stream",
     "text": [
      "\t\tError Table\n",
      "Mean Absolute Error      :  0.26031193376704587\n",
      "Mean Squared  Error      :  0.16117540910723469\n",
      "Root Mean Squared  Error :  0.4014665728391776\n",
      "R Squared Error          :  0.8517814328406582\n"
     ]
    }
   ],
   "source": [
    "print(\"\\t\\tError Table\")\n",
    "print('Mean Absolute Error      : ', mean_absolute_error(y_test, y_pred))\n",
    "print('Mean Squared  Error      : ', mean_squared_error(y_test, y_pred))\n",
    "print('Root Mean Squared  Error : ', np.sqrt(mean_squared_error(y_test, y_pred)))\n",
    "print('R Squared Error          : ', metrics.r2_score(y_test, y_pred))"
   ]
  },
  {
   "cell_type": "code",
   "execution_count": null,
   "metadata": {},
   "outputs": [],
   "source": []
  }
 ],
 "metadata": {
  "kernelspec": {
   "display_name": "Python 3",
   "language": "python",
   "name": "python3"
  },
  "language_info": {
   "codemirror_mode": {
    "name": "ipython",
    "version": 3
   },
   "file_extension": ".py",
   "mimetype": "text/x-python",
   "name": "python",
   "nbconvert_exporter": "python",
   "pygments_lexer": "ipython3",
   "version": "3.8.3"
  }
 },
 "nbformat": 4,
 "nbformat_minor": 4
}
