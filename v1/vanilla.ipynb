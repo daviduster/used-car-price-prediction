{
 "cells": [
  {
   "cell_type": "code",
   "execution_count": 8,
   "metadata": {},
   "outputs": [],
   "source": [
    "import numpy as np\n",
    "import pandas as pd\n",
    "import matplotlib.pyplot as plt"
   ]
  },
  {
   "cell_type": "code",
   "execution_count": 9,
   "metadata": {},
   "outputs": [],
   "source": [
    "car_train=pd.read_csv(\"../data/train.csv\")\n",
    "car_test=pd.read_csv(\"../data/test.csv\")"
   ]
  },
  {
   "cell_type": "code",
   "execution_count": 10,
   "metadata": {},
   "outputs": [
    {
     "data": {
      "text/html": [
       "<div>\n",
       "<style scoped>\n",
       "    .dataframe tbody tr th:only-of-type {\n",
       "        vertical-align: middle;\n",
       "    }\n",
       "\n",
       "    .dataframe tbody tr th {\n",
       "        vertical-align: top;\n",
       "    }\n",
       "\n",
       "    .dataframe thead th {\n",
       "        text-align: right;\n",
       "    }\n",
       "</style>\n",
       "<table border=\"1\" class=\"dataframe\">\n",
       "  <thead>\n",
       "    <tr style=\"text-align: right;\">\n",
       "      <th></th>\n",
       "      <th>id</th>\n",
       "      <th>Nombre</th>\n",
       "      <th>Ciudad</th>\n",
       "      <th>Año</th>\n",
       "      <th>Kilometros</th>\n",
       "      <th>Combustible</th>\n",
       "      <th>Tipo_marchas</th>\n",
       "      <th>Mano</th>\n",
       "      <th>Consumo</th>\n",
       "      <th>Motor_CC</th>\n",
       "      <th>Potencia</th>\n",
       "      <th>Asientos</th>\n",
       "      <th>Descuento</th>\n",
       "      <th>Precio_cat</th>\n",
       "    </tr>\n",
       "  </thead>\n",
       "  <tbody>\n",
       "    <tr>\n",
       "      <th>0</th>\n",
       "      <td>1.0</td>\n",
       "      <td>Maruti Swift Dzire ZDI</td>\n",
       "      <td>G</td>\n",
       "      <td>2012.0</td>\n",
       "      <td>83000.0</td>\n",
       "      <td>Diesel</td>\n",
       "      <td>Manual</td>\n",
       "      <td>First</td>\n",
       "      <td>23.4 kmpl</td>\n",
       "      <td>1248 CC</td>\n",
       "      <td>74 bhp</td>\n",
       "      <td>5.0</td>\n",
       "      <td>NaN</td>\n",
       "      <td>3</td>\n",
       "    </tr>\n",
       "    <tr>\n",
       "      <th>1</th>\n",
       "      <td>2.0</td>\n",
       "      <td>Maruti Wagon R LXI Optional</td>\n",
       "      <td>I</td>\n",
       "      <td>2016.0</td>\n",
       "      <td>4800.0</td>\n",
       "      <td>Petrol</td>\n",
       "      <td>Manual</td>\n",
       "      <td>First</td>\n",
       "      <td>20.51 kmpl</td>\n",
       "      <td>998 CC</td>\n",
       "      <td>67.04 bhp</td>\n",
       "      <td>5.0</td>\n",
       "      <td>NaN</td>\n",
       "      <td>3</td>\n",
       "    </tr>\n",
       "    <tr>\n",
       "      <th>2</th>\n",
       "      <td>3.0</td>\n",
       "      <td>Mahindra KUV 100 mFALCON D75 K8</td>\n",
       "      <td>F</td>\n",
       "      <td>2016.0</td>\n",
       "      <td>26000.0</td>\n",
       "      <td>Diesel</td>\n",
       "      <td>Manual</td>\n",
       "      <td>First</td>\n",
       "      <td>25.32 kmpl</td>\n",
       "      <td>1198 CC</td>\n",
       "      <td>77 bhp</td>\n",
       "      <td>6.0</td>\n",
       "      <td>NaN</td>\n",
       "      <td>3</td>\n",
       "    </tr>\n",
       "    <tr>\n",
       "      <th>3</th>\n",
       "      <td>4.0</td>\n",
       "      <td>Hyundai i20 1.2 Magna</td>\n",
       "      <td>E</td>\n",
       "      <td>2013.0</td>\n",
       "      <td>56127.0</td>\n",
       "      <td>Petrol</td>\n",
       "      <td>Manual</td>\n",
       "      <td>First</td>\n",
       "      <td>18.5 kmpl</td>\n",
       "      <td>1197 CC</td>\n",
       "      <td>80 bhp</td>\n",
       "      <td>5.0</td>\n",
       "      <td>NaN</td>\n",
       "      <td>3</td>\n",
       "    </tr>\n",
       "    <tr>\n",
       "      <th>4</th>\n",
       "      <td>5.0</td>\n",
       "      <td>Honda Jazz 1.2 SV i VTEC</td>\n",
       "      <td>H</td>\n",
       "      <td>2017.0</td>\n",
       "      <td>41981.0</td>\n",
       "      <td>Petrol</td>\n",
       "      <td>Manual</td>\n",
       "      <td>First</td>\n",
       "      <td>18.7 kmpl</td>\n",
       "      <td>1199 CC</td>\n",
       "      <td>88.7 bhp</td>\n",
       "      <td>5.0</td>\n",
       "      <td>NaN</td>\n",
       "      <td>3</td>\n",
       "    </tr>\n",
       "  </tbody>\n",
       "</table>\n",
       "</div>"
      ],
      "text/plain": [
       "    id                           Nombre Ciudad     Año  Kilometros  \\\n",
       "0  1.0           Maruti Swift Dzire ZDI      G  2012.0     83000.0   \n",
       "1  2.0      Maruti Wagon R LXI Optional      I  2016.0      4800.0   \n",
       "2  3.0  Mahindra KUV 100 mFALCON D75 K8      F  2016.0     26000.0   \n",
       "3  4.0            Hyundai i20 1.2 Magna      E  2013.0     56127.0   \n",
       "4  5.0         Honda Jazz 1.2 SV i VTEC      H  2017.0     41981.0   \n",
       "\n",
       "  Combustible Tipo_marchas   Mano     Consumo Motor_CC   Potencia  Asientos  \\\n",
       "0      Diesel       Manual  First   23.4 kmpl  1248 CC     74 bhp       5.0   \n",
       "1      Petrol       Manual  First  20.51 kmpl   998 CC  67.04 bhp       5.0   \n",
       "2      Diesel       Manual  First  25.32 kmpl  1198 CC     77 bhp       6.0   \n",
       "3      Petrol       Manual  First   18.5 kmpl  1197 CC     80 bhp       5.0   \n",
       "4      Petrol       Manual  First   18.7 kmpl  1199 CC   88.7 bhp       5.0   \n",
       "\n",
       "   Descuento  Precio_cat  \n",
       "0        NaN           3  \n",
       "1        NaN           3  \n",
       "2        NaN           3  \n",
       "3        NaN           3  \n",
       "4        NaN           3  "
      ]
     },
     "execution_count": 10,
     "metadata": {},
     "output_type": "execute_result"
    }
   ],
   "source": [
    "car_train.head()"
   ]
  },
  {
   "cell_type": "code",
   "execution_count": 11,
   "metadata": {},
   "outputs": [
    {
     "data": {
      "text/html": [
       "<div>\n",
       "<style scoped>\n",
       "    .dataframe tbody tr th:only-of-type {\n",
       "        vertical-align: middle;\n",
       "    }\n",
       "\n",
       "    .dataframe tbody tr th {\n",
       "        vertical-align: top;\n",
       "    }\n",
       "\n",
       "    .dataframe thead th {\n",
       "        text-align: right;\n",
       "    }\n",
       "</style>\n",
       "<table border=\"1\" class=\"dataframe\">\n",
       "  <thead>\n",
       "    <tr style=\"text-align: right;\">\n",
       "      <th></th>\n",
       "      <th>id</th>\n",
       "      <th>Nombre</th>\n",
       "      <th>Ciudad</th>\n",
       "      <th>Año</th>\n",
       "      <th>Kilometros</th>\n",
       "      <th>Combustible</th>\n",
       "      <th>Tipo_marchas</th>\n",
       "      <th>Mano</th>\n",
       "      <th>Consumo</th>\n",
       "      <th>Motor_CC</th>\n",
       "      <th>Potencia</th>\n",
       "      <th>Asientos</th>\n",
       "      <th>Descuento</th>\n",
       "    </tr>\n",
       "  </thead>\n",
       "  <tbody>\n",
       "    <tr>\n",
       "      <th>0</th>\n",
       "      <td>4820</td>\n",
       "      <td>Mercedes-Benz New C-Class C 220 CDI Avantgarde</td>\n",
       "      <td>H</td>\n",
       "      <td>2015</td>\n",
       "      <td>77771</td>\n",
       "      <td>Diesel</td>\n",
       "      <td>Automatic</td>\n",
       "      <td>First</td>\n",
       "      <td>19.27 kmpl</td>\n",
       "      <td>2143 CC</td>\n",
       "      <td>170 bhp</td>\n",
       "      <td>5.0</td>\n",
       "      <td>NaN</td>\n",
       "    </tr>\n",
       "    <tr>\n",
       "      <th>1</th>\n",
       "      <td>4821</td>\n",
       "      <td>Hyundai i10 Magna 1.1</td>\n",
       "      <td>J</td>\n",
       "      <td>2011</td>\n",
       "      <td>62000</td>\n",
       "      <td>Petrol</td>\n",
       "      <td>Manual</td>\n",
       "      <td>First</td>\n",
       "      <td>19.81 kmpl</td>\n",
       "      <td>1086 CC</td>\n",
       "      <td>68.05 bhp</td>\n",
       "      <td>5.0</td>\n",
       "      <td>NaN</td>\n",
       "    </tr>\n",
       "    <tr>\n",
       "      <th>2</th>\n",
       "      <td>4822</td>\n",
       "      <td>Ford Figo Diesel EXI</td>\n",
       "      <td>C</td>\n",
       "      <td>2010</td>\n",
       "      <td>129986</td>\n",
       "      <td>Diesel</td>\n",
       "      <td>Manual</td>\n",
       "      <td>Second</td>\n",
       "      <td>20.0 kmpl</td>\n",
       "      <td>1399 CC</td>\n",
       "      <td>68 bhp</td>\n",
       "      <td>5.0</td>\n",
       "      <td>NaN</td>\n",
       "    </tr>\n",
       "    <tr>\n",
       "      <th>3</th>\n",
       "      <td>4823</td>\n",
       "      <td>Maruti Swift Dzire VXI Optional</td>\n",
       "      <td>D</td>\n",
       "      <td>2015</td>\n",
       "      <td>49900</td>\n",
       "      <td>Petrol</td>\n",
       "      <td>Manual</td>\n",
       "      <td>First</td>\n",
       "      <td>20.85 kmpl</td>\n",
       "      <td>1197 CC</td>\n",
       "      <td>83.14 bhp</td>\n",
       "      <td>5.0</td>\n",
       "      <td>NaN</td>\n",
       "    </tr>\n",
       "    <tr>\n",
       "      <th>4</th>\n",
       "      <td>4824</td>\n",
       "      <td>Maruti Ritz VXI</td>\n",
       "      <td>J</td>\n",
       "      <td>2010</td>\n",
       "      <td>75319</td>\n",
       "      <td>Petrol</td>\n",
       "      <td>Manual</td>\n",
       "      <td>Second</td>\n",
       "      <td>21.1 kmpl</td>\n",
       "      <td>1197 CC</td>\n",
       "      <td>85.80 bhp</td>\n",
       "      <td>5.0</td>\n",
       "      <td>NaN</td>\n",
       "    </tr>\n",
       "  </tbody>\n",
       "</table>\n",
       "</div>"
      ],
      "text/plain": [
       "     id                                          Nombre Ciudad   Año  \\\n",
       "0  4820  Mercedes-Benz New C-Class C 220 CDI Avantgarde      H  2015   \n",
       "1  4821                           Hyundai i10 Magna 1.1      J  2011   \n",
       "2  4822                            Ford Figo Diesel EXI      C  2010   \n",
       "3  4823                 Maruti Swift Dzire VXI Optional      D  2015   \n",
       "4  4824                                 Maruti Ritz VXI      J  2010   \n",
       "\n",
       "   Kilometros Combustible Tipo_marchas    Mano     Consumo Motor_CC  \\\n",
       "0       77771      Diesel    Automatic   First  19.27 kmpl  2143 CC   \n",
       "1       62000      Petrol       Manual   First  19.81 kmpl  1086 CC   \n",
       "2      129986      Diesel       Manual  Second   20.0 kmpl  1399 CC   \n",
       "3       49900      Petrol       Manual   First  20.85 kmpl  1197 CC   \n",
       "4       75319      Petrol       Manual  Second   21.1 kmpl  1197 CC   \n",
       "\n",
       "    Potencia  Asientos  Descuento  \n",
       "0    170 bhp       5.0        NaN  \n",
       "1  68.05 bhp       5.0        NaN  \n",
       "2     68 bhp       5.0        NaN  \n",
       "3  83.14 bhp       5.0        NaN  \n",
       "4  85.80 bhp       5.0        NaN  "
      ]
     },
     "execution_count": 11,
     "metadata": {},
     "output_type": "execute_result"
    }
   ],
   "source": [
    "car_test.head()"
   ]
  },
  {
   "cell_type": "code",
   "execution_count": 12,
   "metadata": {},
   "outputs": [],
   "source": [
    "car_train = car_train.drop('id', axis = 1)\n",
    "car_test = car_test.drop('id', axis = 1)"
   ]
  },
  {
   "cell_type": "code",
   "execution_count": 13,
   "metadata": {},
   "outputs": [
    {
     "name": "stdout",
     "output_type": "stream",
     "text": [
      "<class 'pandas.core.frame.DataFrame'>\n",
      "RangeIndex: 4819 entries, 0 to 4818\n",
      "Data columns (total 13 columns):\n",
      " #   Column        Non-Null Count  Dtype  \n",
      "---  ------        --------------  -----  \n",
      " 0   Nombre        4747 non-null   object \n",
      " 1   Ciudad        4747 non-null   object \n",
      " 2   Año           4747 non-null   float64\n",
      " 3   Kilometros    4747 non-null   float64\n",
      " 4   Combustible   4747 non-null   object \n",
      " 5   Tipo_marchas  4747 non-null   object \n",
      " 6   Mano          4747 non-null   object \n",
      " 7   Consumo       4746 non-null   object \n",
      " 8   Motor_CC      4718 non-null   object \n",
      " 9   Potencia      4644 non-null   object \n",
      " 10  Asientos      4713 non-null   float64\n",
      " 11  Descuento     659 non-null    float64\n",
      " 12  Precio_cat    4819 non-null   int64  \n",
      "dtypes: float64(4), int64(1), object(8)\n",
      "memory usage: 489.6+ KB\n"
     ]
    }
   ],
   "source": [
    "car_train.info()"
   ]
  },
  {
   "cell_type": "code",
   "execution_count": 14,
   "metadata": {},
   "outputs": [
    {
     "name": "stdout",
     "output_type": "stream",
     "text": [
      "<class 'pandas.core.frame.DataFrame'>\n",
      "RangeIndex: 1159 entries, 0 to 1158\n",
      "Data columns (total 12 columns):\n",
      " #   Column        Non-Null Count  Dtype  \n",
      "---  ------        --------------  -----  \n",
      " 0   Nombre        1159 non-null   object \n",
      " 1   Ciudad        1159 non-null   object \n",
      " 2   Año           1159 non-null   int64  \n",
      " 3   Kilometros    1159 non-null   int64  \n",
      " 4   Combustible   1159 non-null   object \n",
      " 5   Tipo_marchas  1159 non-null   object \n",
      " 6   Mano          1159 non-null   object \n",
      " 7   Consumo       1159 non-null   object \n",
      " 8   Motor_CC      1159 non-null   object \n",
      " 9   Potencia      1159 non-null   object \n",
      " 10  Asientos      1159 non-null   float64\n",
      " 11  Descuento     155 non-null    float64\n",
      "dtypes: float64(2), int64(2), object(8)\n",
      "memory usage: 108.8+ KB\n"
     ]
    }
   ],
   "source": [
    "car_test.info()"
   ]
  },
  {
   "cell_type": "code",
   "execution_count": 15,
   "metadata": {},
   "outputs": [
    {
     "data": {
      "text/plain": [
       "Nombre            72\n",
       "Ciudad            72\n",
       "Año               72\n",
       "Kilometros        72\n",
       "Combustible       72\n",
       "Tipo_marchas      72\n",
       "Mano              72\n",
       "Consumo           73\n",
       "Motor_CC         101\n",
       "Potencia         175\n",
       "Asientos         106\n",
       "Descuento       4160\n",
       "Precio_cat         0\n",
       "dtype: int64"
      ]
     },
     "execution_count": 15,
     "metadata": {},
     "output_type": "execute_result"
    }
   ],
   "source": [
    "# find the number of nulls in each colum\n",
    "car_train.isnull().sum()"
   ]
  },
  {
   "cell_type": "code",
   "execution_count": 16,
   "metadata": {
    "scrolled": true
   },
   "outputs": [
    {
     "data": {
      "text/html": [
       "<div>\n",
       "<style scoped>\n",
       "    .dataframe tbody tr th:only-of-type {\n",
       "        vertical-align: middle;\n",
       "    }\n",
       "\n",
       "    .dataframe tbody tr th {\n",
       "        vertical-align: top;\n",
       "    }\n",
       "\n",
       "    .dataframe thead th {\n",
       "        text-align: right;\n",
       "    }\n",
       "</style>\n",
       "<table border=\"1\" class=\"dataframe\">\n",
       "  <thead>\n",
       "    <tr style=\"text-align: right;\">\n",
       "      <th></th>\n",
       "      <th>Año</th>\n",
       "      <th>Kilometros</th>\n",
       "      <th>Asientos</th>\n",
       "      <th>Descuento</th>\n",
       "      <th>Precio_cat</th>\n",
       "    </tr>\n",
       "  </thead>\n",
       "  <tbody>\n",
       "    <tr>\n",
       "      <th>count</th>\n",
       "      <td>4747.000000</td>\n",
       "      <td>4.747000e+03</td>\n",
       "      <td>4713.000000</td>\n",
       "      <td>659.000000</td>\n",
       "      <td>4819.000000</td>\n",
       "    </tr>\n",
       "    <tr>\n",
       "      <th>mean</th>\n",
       "      <td>2013.571098</td>\n",
       "      <td>5.852946e+04</td>\n",
       "      <td>5.286442</td>\n",
       "      <td>19.304598</td>\n",
       "      <td>3.281386</td>\n",
       "    </tr>\n",
       "    <tr>\n",
       "      <th>std</th>\n",
       "      <td>3.114298</td>\n",
       "      <td>1.011517e+05</td>\n",
       "      <td>0.815192</td>\n",
       "      <td>19.752814</td>\n",
       "      <td>1.049861</td>\n",
       "    </tr>\n",
       "    <tr>\n",
       "      <th>min</th>\n",
       "      <td>1998.000000</td>\n",
       "      <td>1.710000e+02</td>\n",
       "      <td>0.000000</td>\n",
       "      <td>1.000000</td>\n",
       "      <td>1.000000</td>\n",
       "    </tr>\n",
       "    <tr>\n",
       "      <th>25%</th>\n",
       "      <td>2012.000000</td>\n",
       "      <td>3.300000e+04</td>\n",
       "      <td>5.000000</td>\n",
       "      <td>7.630000</td>\n",
       "      <td>3.000000</td>\n",
       "    </tr>\n",
       "    <tr>\n",
       "      <th>50%</th>\n",
       "      <td>2014.000000</td>\n",
       "      <td>5.237300e+04</td>\n",
       "      <td>5.000000</td>\n",
       "      <td>11.190000</td>\n",
       "      <td>3.000000</td>\n",
       "    </tr>\n",
       "    <tr>\n",
       "      <th>75%</th>\n",
       "      <td>2016.000000</td>\n",
       "      <td>7.200000e+04</td>\n",
       "      <td>5.000000</td>\n",
       "      <td>21.535000</td>\n",
       "      <td>4.000000</td>\n",
       "    </tr>\n",
       "    <tr>\n",
       "      <th>max</th>\n",
       "      <td>2019.000000</td>\n",
       "      <td>6.500000e+06</td>\n",
       "      <td>10.000000</td>\n",
       "      <td>99.920000</td>\n",
       "      <td>5.000000</td>\n",
       "    </tr>\n",
       "  </tbody>\n",
       "</table>\n",
       "</div>"
      ],
      "text/plain": [
       "               Año    Kilometros     Asientos   Descuento   Precio_cat\n",
       "count  4747.000000  4.747000e+03  4713.000000  659.000000  4819.000000\n",
       "mean   2013.571098  5.852946e+04     5.286442   19.304598     3.281386\n",
       "std       3.114298  1.011517e+05     0.815192   19.752814     1.049861\n",
       "min    1998.000000  1.710000e+02     0.000000    1.000000     1.000000\n",
       "25%    2012.000000  3.300000e+04     5.000000    7.630000     3.000000\n",
       "50%    2014.000000  5.237300e+04     5.000000   11.190000     3.000000\n",
       "75%    2016.000000  7.200000e+04     5.000000   21.535000     4.000000\n",
       "max    2019.000000  6.500000e+06    10.000000   99.920000     5.000000"
      ]
     },
     "execution_count": 16,
     "metadata": {},
     "output_type": "execute_result"
    }
   ],
   "source": [
    "car_train.describe()"
   ]
  },
  {
   "cell_type": "code",
   "execution_count": 17,
   "metadata": {},
   "outputs": [
    {
     "name": "stdout",
     "output_type": "stream",
     "text": [
      "['Maruti Swift Dzire ZDI' 'Maruti Wagon R LXI Optional'\n",
      " 'Mahindra KUV 100 mFALCON D75 K8' ...\n",
      " 'Mercedes-Benz E-Class 280 Elegance' 'Honda City Corporate Edition'\n",
      " 'Porsche Panamera Diesel 250hp']\n",
      "['G' 'I' 'F' 'E' 'H' 'C' 'J' 'L' 'B' 'K' 'D' nan]\n",
      "['Diesel' 'Petrol' nan 'CNG' 'LPG' 'Electric']\n",
      "['Manual' 'Automatic' nan]\n",
      "['23.4 kmpl' '20.51 kmpl' '25.32 kmpl' '18.5 kmpl' '18.7 kmpl' '17.8 kmpl'\n",
      " '16.8 kmpl' '18.6 kmpl' '25.2 kmpl' '10.91 kmpl' '12.99 kmpl' '17.5 kmpl'\n",
      " '25.8 kmpl' '18.25 kmpl' '10.0 kmpl' '11.5 kmpl' '19.1 kmpl' '14.21 kmpl'\n",
      " '14.16 kmpl' '17.43 kmpl' '18.0 kmpl' '15.7 kmpl' '16.0 kmpl'\n",
      " '21.43 kmpl' '21.64 kmpl' '20.73 kmpl' '14.0 kmpl' '17.9 kmpl'\n",
      " '28.4 kmpl' '15.96 kmpl' nan '23.65 kmpl' '20.36 kmpl' '21.9 kmpl'\n",
      " '22.95 kmpl' '23.59 kmpl' '17.57 kmpl' '21.27 kmpl' '17.3 kmpl'\n",
      " '22.32 kmpl' '18.9 kmpl' '24.7 kmpl' '24.0 kmpl' '11.0 kmpl' '13.0 kmpl'\n",
      " '16.47 kmpl' '17.21 kmpl' '13.6 kmpl' '26.59 kmpl' '14.74 kmpl'\n",
      " '23.84 kmpl' '14.53 kmpl' '21.5 kmpl' '11.8 kmpl' '15.73 kmpl'\n",
      " '16.12 kmpl' '17.11 kmpl' '20.45 kmpl' '17.1 kmpl' '22.74 kmpl'\n",
      " '13.7 kmpl' '21.76 kmpl' '14.42 kmpl' '15.1 kmpl' '24.07 kmpl'\n",
      " '21.66 kmpl' '22.77 kmpl' '14.6 kmpl' '11.7 kmpl' '20.85 kmpl'\n",
      " '15.4 kmpl' '19.81 kmpl' '19.27 kmpl' '17.0 kmpl' '18.88 kmpl'\n",
      " '20.0 kmpl' '12.05 kmpl' '20.86 kmpl' '12.07 kmpl' '18.48 kmpl'\n",
      " '16.1 kmpl' '15.87 kmpl' '17.01 kmpl' '20.77 kmpl' '19.3 kmpl'\n",
      " '16.02 kmpl' '19.7 kmpl' '16.6 kmpl' '19.4 kmpl' '19.67 kmpl'\n",
      " '12.55 kmpl' '22.9 kmpl' '24.4 kmpl' '11.1 kmpl' '15.97 kmpl' '27.3 kmpl'\n",
      " '19.87 kmpl' '14.84 kmpl' '12.8 kmpl' '20.3 kmpl' '13.5 kmpl' '14.3 kmpl'\n",
      " '0.0 kmpl' '17.45 kmpl' '12.7 kmpl' '22.3 kmpl' '13.93 kmpl' '19.6 kmpl'\n",
      " '24.3 kmpl' '15.04 kmpl' '13.1 kmpl' '25.01 kmpl' '16.73 kmpl'\n",
      " '15.3 kmpl' '17.92 kmpl' '21.1 kmpl' '10.5 kmpl' '20.65 kmpl'\n",
      " '11.72 kmpl' '22.7 kmpl' '16.07 kmpl' '19.16 kmpl' '11.33 kmpl'\n",
      " '14.8 kmpl' '17.4 kmpl' '18.56 kmpl' '18.12 kmpl' '15.6 kmpl' '16.5 kmpl'\n",
      " '26.6 kmpl' '27.62 kmpl' '13.68 kmpl' '23.5 kmpl' '28.09 kmpl'\n",
      " '17.68 kmpl' '22.71 kmpl' '23.9 kmpl' '21.14 kmpl' '18.33 kmpl'\n",
      " '16.55 kmpl' '15.5 kmpl' '23.8 kmpl' '12.9 kmpl' '19.08 kmpl'\n",
      " '15.64 kmpl' '20.54 kmpl' '11.3 kmpl' '20.14 kmpl' '22.54 kmpl'\n",
      " '15.26 kmpl' '12.4 kmpl' '23.2 kmpl' '18.2 kmpl' '15.29 kmpl' '8.0 kmpl'\n",
      " '24.5 kmpl' '16.2 kmpl' '13.33 kmpl' '12.6 kmpl' '23.1 kmpl' '13.2 kmpl'\n",
      " '16.36 kmpl' '14.07 kmpl' '14.24 kmpl' '20.37 kmpl' '18.8 kmpl'\n",
      " '16.09 kmpl' '16.93 kmpl' '11.36 kmpl' '17.05 kmpl' '18.53 kmpl'\n",
      " '18.16 kmpl' '22.0 kmpl' '9.43 kmpl' '21.4 kmpl' '33.54 kmpl'\n",
      " '24.52 kmpl' '27.39 kmpl' '22.5 kmpl' '13.49 kmpl' '11.49 kmpl'\n",
      " '22.07 kmpl' '23.08 kmpl' '15.0 kmpl' '16.95 kmpl' '9.0 kmpl'\n",
      " '19.01 kmpl' '18.06 kmpl' '21.7 kmpl' '26.0 kmpl' '11.2 kmpl' '25.4 kmpl'\n",
      " '14.28 kmpl' '12.3 kmpl' '12.62 kmpl' '15.06 kmpl' '15.68 kmpl'\n",
      " '25.44 kmpl' '14.4 kmpl' '13.4 kmpl' '16.78 kmpl' '11.74 kmpl'\n",
      " '13.22 kmpl' '20.5 kmpl' '20.92 kmpl' '19.5 kmpl' '10.9 kmpl' '25.0 kmpl'\n",
      " '14.95 kmpl' '25.47 kmpl' '12.97 kmpl' '10.4 kmpl' '21.12 kmpl'\n",
      " '17.85 kmpl' '19.49 kmpl' '12.19 kmpl' '15.8 kmpl' '10.93 kmpl'\n",
      " '17.72 kmpl' '16.3 kmpl' '11.57 kmpl' '19.12 kmpl' '14.67 kmpl'\n",
      " '15.17 kmpl' '21.79 kmpl' '16.9 kmpl' '19.15 kmpl' '21.0 kmpl'\n",
      " '22.69 kmpl' '20.4 kmpl' '15.9 kmpl' '10.1 kmpl' '20.38 kmpl' '17.6 kmpl'\n",
      " '14.57 kmpl' '14.02 kmpl' '13.06 kmpl' '9.8 kmpl' '17.71 kmpl'\n",
      " '22.8 kmpl' '13.14 kmpl' '11.79 kmpl' '16.25 kmpl' '21.21 kmpl'\n",
      " '14.47 kmpl' '20.46 kmpl' '24.2 kmpl' '13.24 kmpl' '12.39 kmpl'\n",
      " '26.21 kmpl' '14.1 kmpl' '23.0 kmpl' '33.44 kmpl' '17.19 kmpl'\n",
      " '18.3 kmpl' '12.0 kmpl' '13.73 kmpl' '11.25 kmpl' '25.1 kmpl'\n",
      " '18.49 kmpl' '20.89 kmpl' '10.37 kmpl' '20.34 kmpl' '16.82 kmpl'\n",
      " '11.4 kmpl' '12.35 kmpl' '18.15 kmpl' '14.94 kmpl' '27.4 kmpl'\n",
      " '19.0 kmpl' '10.2 kmpl' '26.1 kmpl' '17.97 kmpl' '19.72 kmpl'\n",
      " '10.13 kmpl' '25.17 kmpl' '12.81 kmpl' '32.26 kmpl' '26.2 kmpl'\n",
      " '13.17 kmpl' '19.44 kmpl' '16.77 kmpl' '19.2 kmpl' '21.38 kmpl'\n",
      " '21.72 kmpl' '14.66 kmpl' '11.18 kmpl' '19.34 kmpl' '19.64 kmpl'\n",
      " '15.2 kmpl' '19.33 kmpl' '18.4 kmpl' '19.83 kmpl' '31.79 kmpl'\n",
      " '14.7 kmpl' '16.38 kmpl' '17.54 kmpl' '17.84 kmpl' '11.05 kmpl'\n",
      " '13.01 kmpl' '16.4 kmpl' '22.1 kmpl' '16.51 kmpl' '25.83 kmpl'\n",
      " '23.03 kmpl' '10.8 kmpl' '11.9 kmpl' '18.1 kmpl' '13.45 kmpl'\n",
      " '12.37 kmpl' '20.63 kmpl' '9.52 kmpl' '8.6 kmpl' '10.6 kmpl' '18.59 kmpl'\n",
      " '16.46 kmpl' '17.2 kmpl' '21.02 kmpl' '18.19 kmpl' '9.7 kmpl'\n",
      " '16.52 kmpl' '20.68 kmpl' '13.58 kmpl' '17.7 kmpl' '22.48 kmpl'\n",
      " '20.64 kmpl' '21.19 kmpl' '16.98 kmpl' '14.75 kmpl' '24.8 kmpl'\n",
      " '9.9 kmpl' '21.56 kmpl' '17.67 kmpl' '7.94 kmpl' '12.83 kmpl'\n",
      " '18.78 kmpl' '15.15 kmpl' '16.7 kmpl' '14.69 kmpl' '18.44 kmpl'\n",
      " '15.63 kmpl' '13.9 kmpl' '13.53 kmpl' '6.4 kmpl' '18.86 kmpl'\n",
      " '11.68 kmpl' '23.01 kmpl' '16.05 kmpl' '12.85 kmpl' '18.69 kmpl'\n",
      " '19.59 kmpl' '11.56 kmpl' '15.11 kmpl' '21.03 kmpl' '20.7 kmpl'\n",
      " '26.3 kmpl' '14.49 kmpl' '23.3 kmpl' '12.98 kmpl' '8.3 kmpl' '16.96 kmpl'\n",
      " '8.7 kmpl' '27.28 kmpl' '17.09 kmpl' '17.16 kmpl' '9.5 kmpl' '27.03 kmpl'\n",
      " '13.8 kmpl' '9.3 kmpl' '24.6 kmpl' '19.98 kmpl' '19.71 kmpl' '7.5 kmpl'\n",
      " '25.6 kmpl' '14.9 kmpl' '13.44 kmpl' '21.13 kmpl' '17.44 kmpl'\n",
      " '12.65 kmpl' '21.8 kmpl' '14.81 kmpl' '8.2 kmpl' '18.23 kmpl'\n",
      " '15.85 kmpl' '8.1 kmpl' '14.39 kmpl' '18.51 kmpl' '11.78 kmpl'\n",
      " '12.5 kmpl' '20.58 kmpl' '26.8 kmpl' '12.63 kmpl' '19.09 kmpl'\n",
      " '19.69 kmpl' '14.2 kmpl' '12.51 kmpl' '26.83 kmpl' '15.74 kmpl'\n",
      " '21.2 kmpl' '8.5 kmpl' '14.59 kmpl' '12.1 kmpl' '14.62 kmpl' '24.04 kmpl'\n",
      " '25.5 kmpl' '18.18 kmpl']\n",
      "['1248 CC' '998 CC' '1198 CC' '1197 CC' '1199 CC' '1497 CC' '3198 CC'\n",
      " '2494 CC' '1298 CC' '1498 CC' '1968 CC' '2496 CC' '2982 CC' '2143 CC'\n",
      " '1396 CC' '1390 CC' '2179 CC' '1364 CC' '1461 CC' '1373 CC' '796 CC'\n",
      " '2523 CC' '1193 CC' nan '1120 CC' '2987 CC' '1591 CC' '1493 CC' '2993 CC'\n",
      " '1794 CC' '2967 CC' '1798 CC' '1995 CC' '1368 CC' '1796 CC' '1590 CC'\n",
      " '1086 CC' '1582 CC' '1998 CC' '2354 CC' '1799 CC' '1598 CC' '999 CC'\n",
      " '2609 CC' '1991 CC' '2499 CC' '1341 CC' '995 CC' '2835 CC' '2199 CC'\n",
      " '1196 CC' '4134 CC' '2148 CC' '1896 CC' '793 CC' '2393 CC' '624 CC'\n",
      " '1061 CC' '2755 CC' '2200 CC' '814 CC' '2360 CC' '4806 CC' '1997 CC'\n",
      " '1599 CC' '2995 CC' '1950 CC' '1495 CC' '1399 CC' '1596 CC' '1978 CC'\n",
      " '1999 CC' '4367 CC' '1984 CC' '1595 CC' '72 CC' '2400 CC' '1186 CC'\n",
      " '2198 CC' '2498 CC' '936 CC' '1496 CC' '993 CC' '2497 CC' '1047 CC'\n",
      " '2489 CC' '1405 CC' '1956 CC' '3498 CC' '1499 CC' '1388 CC' '1586 CC'\n",
      " '2997 CC' '1781 CC' '3436 CC' '2694 CC' '2979 CC' '2953 CC' '2698 CC'\n",
      " '799 CC' '2092 CC' '2956 CC' '2446 CC' '2696 CC' '1395 CC' '2894 CC'\n",
      " '1172 CC' '2359 CC' '5998 CC' '2996 CC' '1948 CC' '3597 CC' '1194 CC'\n",
      " '1462 CC' '1150 CC' '2773 CC' '5204 CC' '1985 CC' '3200 CC' '4951 CC'\n",
      " '2487 CC' '1969 CC' '1468 CC' '2771 CC' '3197 CC' '2147 CC' '1299 CC'\n",
      " '2477 CC' '2925 CC' '5461 CC' '2706 CC' '1242 CC' '2999 CC' '5000 CC'\n",
      " '1597 CC' '1422 CC' '2362 CC' '970 CC' '2112 CC']\n",
      "['74 bhp' '67.04 bhp' '77 bhp' '80 bhp' '88.7 bhp' '75 bhp' '118 bhp'\n",
      " '81.83 bhp' '197 bhp' '100.6 bhp' '85.8 bhp' '98.6 bhp' '187.74 bhp'\n",
      " '157.7 bhp' '171 bhp' '203 bhp' '174.3 bhp' '76.8 bhp' '105.5 bhp'\n",
      " '117.3 bhp' '140 bhp' '87.2 bhp' '84.8 bhp' '91.1 bhp' '35 bhp' '136 bhp'\n",
      " '73.75 bhp' '62.1 bhp' '88.5 bhp' '78.9 bhp' '90 bhp' '73.74 bhp' nan\n",
      " '80.46 bhp' '88.76 bhp' '126.32 bhp' '81.86 bhp' '70 bhp' '198.5 bhp'\n",
      " '67.1 bhp' '121.3 bhp' '100 bhp' '63 bhp' '270.9 bhp' '84 bhp'\n",
      " '138.1 bhp' '81.80 bhp' '82 bhp' '180 bhp' '174.33 bhp' '245 bhp'\n",
      " '116.3 bhp' '83.8 bhp' '121.4 bhp' '47.3 bhp' '190 bhp' '67.05 bhp'\n",
      " '147.6 bhp' '83.83 bhp' '98.59 bhp' '112 bhp' '178 bhp' '83.14 bhp'\n",
      " '94 bhp' '68.05 bhp' '170 bhp' '184 bhp' '126.3 bhp' '108.5 bhp'\n",
      " '154 bhp' '73.9 bhp' '241.4 bhp' '88.2 bhp' '308.43 bhp' '93.7 bhp'\n",
      " '46.3 bhp' '86.8 bhp' '126.2 bhp' '168.5 bhp' '71 bhp' '142 bhp'\n",
      " '258 bhp' '167.62 bhp' '102 bhp' '130 bhp' '103.52 bhp' '116.6 bhp'\n",
      " '181.03 bhp' '108.45 bhp' '235 bhp' '120 bhp' '197.2 bhp' '103.6 bhp'\n",
      " '141 bhp' '89.75 bhp' '169 bhp' '218 bhp' '61 bhp' '62 bhp' '107.2 bhp'\n",
      " '194.3 bhp' '73 bhp' '181 bhp' '158.2 bhp' '89.84 bhp' '82.85 bhp'\n",
      " '335.2 bhp' '86.7 bhp' '130.2 bhp' '262.6 bhp' '201.15 bhp' '85.80 bhp'\n",
      " '106 bhp' '58.16 bhp' '47 bhp' '147.8 bhp' '86.79 bhp' '37.48 bhp'\n",
      " '167.7 bhp' '147.51 bhp' '160 bhp' '126.24 bhp' '64 bhp' '174.5 bhp'\n",
      " '139.01 bhp' '55.2 bhp' '157.75 bhp' '88.8 bhp' '88.73 bhp' '132 bhp'\n",
      " '73.94 bhp' '83 bhp' '183 bhp' '82.4 bhp' '57.5 bhp' '394.3 bhp'\n",
      " '153.86 bhp' '105 bhp' '103.2 bhp' '340 bhp' '191.34 bhp' '187.7 bhp'\n",
      " '98.82 bhp' '101 bhp' '83.1 bhp' '103.5 bhp' '171.5 bhp' '237.4 bhp'\n",
      " '138.03 bhp' '68 bhp' '64.08 bhp' '335.3 bhp' '88 bhp' '63.1 bhp'\n",
      " '120.7 bhp' '67 bhp' '41 bhp' '215 bhp' '73.97 bhp' '185 bhp' '158 bhp'\n",
      " '246.7 bhp' '177 bhp' '177.6 bhp' '194 bhp' '57.6 bhp' '65 bhp'\n",
      " '65.3 bhp' '125 bhp' '186 bhp' '60 bhp' '165 bhp' '69 bhp' '265 bhp'\n",
      " '88.50 bhp' '163.5 bhp' '300 bhp' '236 bhp' '86.76 bhp' '241 bhp'\n",
      " '272 bhp' '108.49 bhp' '254.79 bhp' '79.4 bhp' '110.4 bhp' '141.1 bhp'\n",
      " '123.24 bhp' '177.46 bhp' '56.3 bhp' '110 bhp' '254.8 bhp' '75.94 bhp'\n",
      " '64.1 bhp' '123.37 bhp' '152 bhp' '103.3 bhp' '143 bhp' '74.96 bhp'\n",
      " '108.62 bhp' '163.2 bhp' '118.3 bhp' '102.53 bhp' '80.9 bhp' '157.8 bhp'\n",
      " '104.68 bhp' '301.73 bhp' '82.9 bhp' '102.5 bhp' '69.01 bhp' '148 bhp'\n",
      " '210 bhp' '98.96 bhp' '40.3 bhp' '37.5 bhp' '147.9 bhp' '167.6 bhp'\n",
      " '224 bhp' '163.7 bhp' '306 bhp' '189.08 bhp' '138 bhp' '67.06 bhp'\n",
      " '99 bhp' '308 bhp' '99.6 bhp' '179.5 bhp' '127 bhp' '34.2 bhp'\n",
      " '364.9 bhp' '53.3 bhp' '168.7 bhp' '97.7 bhp' '148.31 bhp' '58.2 bhp'\n",
      " '271.23 bhp' '107.3 bhp' '114 bhp' '241.38 bhp' '73.8 bhp' '108.4 bhp'\n",
      " '97.6 bhp' '156 bhp' '76 bhp' '320 bhp' '55 bhp' '140.8 bhp' '203.2 bhp'\n",
      " '58.33 bhp' '138.02 bhp' '85 bhp' '177.5 bhp' '66.1 bhp' '313 bhp'\n",
      " '261.49 bhp' '444 bhp' '282 bhp' '78 bhp' '85.7 bhp' '150 bhp'\n",
      " '198.25 bhp' '91.7 bhp' '552 bhp' '91.72 bhp' '123.7 bhp' '204 bhp'\n",
      " '158.8 bhp' '134 bhp' '94.68 bhp' '201.1 bhp' '66 bhp' '116.4 bhp'\n",
      " '271.72 bhp' '103.25 bhp' '138.08 bhp' '74.9 bhp' '450 bhp' '147.5 bhp'\n",
      " '246.74 bhp' '98.79 bhp' '255 bhp' '240 bhp' '95 bhp' '63.12 bhp'\n",
      " '201 bhp' '200 bhp' '177.01 bhp' '53.64 bhp' '560 bhp' '122 bhp'\n",
      " '163 bhp' '103 bhp' '135.1 bhp' '199.3 bhp' '121.36 bhp' '102.57 bhp'\n",
      " '395 bhp' '113.98 bhp' '115 bhp' '144 bhp' '92.7 bhp' '175.67 bhp'\n",
      " '181.43 bhp' '178.4 bhp' '71.01 bhp' '70.02 bhp' '250 bhp' '207.8 bhp'\n",
      " '224.34 bhp' '382 bhp' '118.6 bhp' '192 bhp' '53.5 bhp' '193.1 bhp'\n",
      " '55.23 bhp' '112.2 bhp' '175.56 bhp' '112.4 bhp' '281.61 bhp' '387.3 bhp'\n",
      " '174.57 bhp' '161.6 bhp' '83.11 bhp' '104 bhp' '66.7 bhp' '333 bhp'\n",
      " '488.1 bhp' '37 bhp' '108.495 bhp' '92 bhp' '503 bhp' '38.4 bhp'\n",
      " '181.04 bhp' '362.07 bhp' '155 bhp' '500 bhp' '93 bhp' '187.4 bhp'\n",
      " '164.7 bhp' '149.92 bhp' '168 bhp' '189 bhp' '91.2 bhp' '261.5 bhp'\n",
      " '110.5 bhp' '82.5 bhp' '231.1 bhp']\n"
     ]
    }
   ],
   "source": [
    "# See unique values de nuestras variables categóricas\n",
    "print(car_train['Nombre'].unique())\n",
    "print(car_train['Ciudad'].unique())\n",
    "print(car_train['Combustible'].unique())\n",
    "print(car_train['Tipo_marchas'].unique())\n",
    "print(car_train['Consumo'].unique())\n",
    "print(car_train['Motor_CC'].unique())\n",
    "print(car_train['Potencia'].unique())"
   ]
  },
  {
   "cell_type": "code",
   "execution_count": 18,
   "metadata": {},
   "outputs": [
    {
     "name": "stdout",
     "output_type": "stream",
     "text": [
      "Shape of train data Before dropping any Row:  (4819, 13)\n",
      "Shape of train data After dropping Rows with NULL values in Nombre:  (4747, 13)\n",
      "Shape of train data After dropping Rows with NULL values in Ciudad:  (4676, 13)\n",
      "Shape of train data After dropping Rows with NULL values in Año:  (4606, 13)\n",
      "Shape of train data After dropping Rows with NULL values in Kilometros:  (4540, 13)\n",
      "Shape of train data After dropping Rows with NULL values in Combustible:  (4475, 13)\n",
      "Shape of train data After dropping Rows with NULL values in Tipo_marchas:  (4410, 13)\n",
      "Shape of train data After dropping Rows with NULL values in Mano:  (4342, 13)\n",
      "Shape of train data After dropping Rows with NULL values in Consumo:  (4274, 13)\n",
      "Shape of train data After dropping Rows with NULL values in Motor_CC:  (4185, 13)\n",
      "Shape of train data After dropping Rows with NULL values in Potencia:  (4060, 13)\n",
      "Shape of train data After dropping Rows with NULL values in Asientos:  (4001, 13)\n"
     ]
    }
   ],
   "source": [
    "# Eliminamos todos los valores de null de nuestras columnas excepto de descuento ya que son muchos\n",
    "print(\"Shape of train data Before dropping any Row: \",car_train.shape)\n",
    "car_train = car_train[car_train['Nombre'].notna()]\n",
    "print(\"Shape of train data After dropping Rows with NULL values in Nombre: \",car_train.shape)\n",
    "car_train = car_train[car_train['Ciudad'].notna()]\n",
    "print(\"Shape of train data After dropping Rows with NULL values in Ciudad: \",car_train.shape)\n",
    "car_train = car_train[car_train['Año'].notna()]\n",
    "print(\"Shape of train data After dropping Rows with NULL values in Año: \",car_train.shape)\n",
    "car_train = car_train[car_train['Kilometros'].notna()]\n",
    "print(\"Shape of train data After dropping Rows with NULL values in Kilometros: \",car_train.shape)\n",
    "car_train = car_train[car_train['Combustible'].notna()]\n",
    "print(\"Shape of train data After dropping Rows with NULL values in Combustible: \",car_train.shape)\n",
    "car_train = car_train[car_train['Tipo_marchas'].notna()]\n",
    "print(\"Shape of train data After dropping Rows with NULL values in Tipo_marchas: \",car_train.shape)\n",
    "car_train = car_train[car_train['Mano'].notna()]\n",
    "print(\"Shape of train data After dropping Rows with NULL values in Mano: \",car_train.shape)\n",
    "car_train = car_train[car_train['Consumo'].notna()]\n",
    "print(\"Shape of train data After dropping Rows with NULL values in Consumo: \",car_train.shape)\n",
    "car_train = car_train[car_train['Motor_CC'].notna()]\n",
    "print(\"Shape of train data After dropping Rows with NULL values in Motor_CC: \",car_train.shape)\n",
    "car_train = car_train[car_train['Potencia'].notna()]\n",
    "print(\"Shape of train data After dropping Rows with NULL values in Potencia: \",car_train.shape)\n",
    "car_train = car_train[car_train['Asientos'].notna()]\n",
    "print(\"Shape of train data After dropping Rows with NULL values in Asientos: \",car_train.shape)"
   ]
  },
  {
   "cell_type": "code",
   "execution_count": 19,
   "metadata": {},
   "outputs": [],
   "source": [
    "car_train = car_train.reset_index(drop=True)"
   ]
  },
  {
   "cell_type": "code",
   "execution_count": 20,
   "metadata": {},
   "outputs": [
    {
     "data": {
      "text/plain": [
       "Nombre             0\n",
       "Ciudad             0\n",
       "Año                0\n",
       "Kilometros         0\n",
       "Combustible        0\n",
       "Tipo_marchas       0\n",
       "Mano               0\n",
       "Consumo            0\n",
       "Motor_CC           0\n",
       "Potencia           0\n",
       "Asientos           0\n",
       "Descuento       3430\n",
       "Precio_cat         0\n",
       "dtype: int64"
      ]
     },
     "execution_count": 20,
     "metadata": {},
     "output_type": "execute_result"
    }
   ],
   "source": [
    "# find the number of nulls in each colum\n",
    "car_train.isnull().sum()"
   ]
  },
  {
   "cell_type": "code",
   "execution_count": 21,
   "metadata": {},
   "outputs": [],
   "source": [
    "# Aplicando etiqueta a varios ficheros\n",
    "from sklearn.preprocessing import LabelEncoder"
   ]
  },
  {
   "cell_type": "code",
   "execution_count": 22,
   "metadata": {},
   "outputs": [
    {
     "data": {
      "text/plain": [
       "Index(['Nombre', 'Ciudad', 'Año', 'Kilometros', 'Combustible', 'Tipo_marchas',\n",
       "       'Mano', 'Consumo', 'Motor_CC', 'Potencia', 'Asientos', 'Descuento',\n",
       "       'Precio_cat'],\n",
       "      dtype='object')"
      ]
     },
     "execution_count": 22,
     "metadata": {},
     "output_type": "execute_result"
    }
   ],
   "source": [
    "car_train.columns"
   ]
  },
  {
   "cell_type": "code",
   "execution_count": 37,
   "metadata": {},
   "outputs": [
    {
     "name": "stdout",
     "output_type": "stream",
     "text": [
      "Nombre\n",
      "Ciudad\n",
      "Año\n",
      "Kilometros\n",
      "Combustible\n",
      "Tipo_marchas\n",
      "Mano\n",
      "../data/mano.csv\n",
      "Consumo\n",
      "../data/consumo.csv\n",
      "Motor_CC\n",
      "../data/motor_cc.csv\n",
      "Potencia\n",
      "../data/potencia.csv\n",
      "Asientos\n",
      "Descuento\n",
      "Precio_cat\n"
     ]
    }
   ],
   "source": [
    "for i in list(car_train.columns):\n",
    "    print(i)\n",
    "    if car_train[i].dtypes == \"object\":\n",
    "        if i != \"Tipo_marchas\":\n",
    "            to_read = \"../data/\" + i.lower() + \".csv\"\n",
    "            print(to_read)\n",
    "            label = LabelEncoder().fit(pd.read_csv(to_read))\n",
    "            car_train[i] = label.transform(car_train[i])\n",
    "            car_test[i] = label.transform(car_test[i])"
   ]
  },
  {
   "cell_type": "code",
   "execution_count": 38,
   "metadata": {},
   "outputs": [
    {
     "data": {
      "text/plain": [
       "0    5.0\n",
       "1    5.0\n",
       "2    6.0\n",
       "3    5.0\n",
       "4    5.0\n",
       "Name: Asientos, dtype: float64"
      ]
     },
     "execution_count": 38,
     "metadata": {},
     "output_type": "execute_result"
    }
   ],
   "source": [
    "car_train.Asientos.head()"
   ]
  },
  {
   "cell_type": "code",
   "execution_count": 39,
   "metadata": {},
   "outputs": [
    {
     "data": {
      "text/plain": [
       "0    5.0\n",
       "1    5.0\n",
       "2    5.0\n",
       "3    5.0\n",
       "4    5.0\n",
       "Name: Asientos, dtype: float64"
      ]
     },
     "execution_count": 39,
     "metadata": {},
     "output_type": "execute_result"
    }
   ],
   "source": [
    "car_test.Asientos.head()"
   ]
  },
  {
   "cell_type": "code",
   "execution_count": 40,
   "metadata": {},
   "outputs": [],
   "source": [
    "df_train_orig = car_train.copy()\n",
    "df_test_orig = car_test.copy()"
   ]
  },
  {
   "cell_type": "code",
   "execution_count": 41,
   "metadata": {},
   "outputs": [],
   "source": [
    "for asientos in df_train_orig.Asientos.unique():\n",
    "    label_train = car_train.Asientos[df_train_orig.Asientos == asientos].unique()\n",
    "    label_test = car_test.Asientos[df_test_orig.Asientos == asientos].unique()\n",
    "    \n",
    "    \n",
    "    if len(label_train)==0 or len(label_test)==0:\n",
    "        continue\n",
    "    \n",
    "    if label_train != label_test:\n",
    "        print(\"Error, {} es etiquetado en train como {} y en test como {}\".format(asientos, label_train[0], label_test[0]))\n",
    "        break"
   ]
  },
  {
   "cell_type": "code",
   "execution_count": 43,
   "metadata": {},
   "outputs": [],
   "source": [
    "y = car_train['Precio_cat']\n",
    "x = car_train.drop(['Precio_cat'],axis=1)"
   ]
  },
  {
   "cell_type": "code",
   "execution_count": 44,
   "metadata": {},
   "outputs": [],
   "source": [
    "from sklearn.model_selection import train_test_split"
   ]
  },
  {
   "cell_type": "code",
   "execution_count": 57,
   "metadata": {},
   "outputs": [],
   "source": [
    "x_train,x_test,y_train,y_test = train_test_split(x, y, random_state=0, test_size=0.2)"
   ]
  },
  {
   "cell_type": "code",
   "execution_count": 58,
   "metadata": {},
   "outputs": [],
   "source": [
    "from sklearn.model_selection import cross_val_score"
   ]
  },
  {
   "cell_type": "code",
   "execution_count": 59,
   "metadata": {},
   "outputs": [],
   "source": [
    "metric = \"accuracy\"\n",
    "N_SPLITS = 5\n",
    "def get_full_score(regressor, X_full, y_full):\n",
    "    full_scores = cross_val_score(regressor, X_full, y_full, scoring = metric, cv = N_SPLITS)\n",
    "    return full_scores.mean(), full_scores.std()"
   ]
  },
  {
   "cell_type": "code",
   "execution_count": 60,
   "metadata": {},
   "outputs": [],
   "source": [
    "from sklearn.linear_model import LinearRegression, LogisticRegression"
   ]
  },
  {
   "cell_type": "code",
   "execution_count": 56,
   "metadata": {},
   "outputs": [],
   "source": [
    "lr = LogisticRegression()\n",
    "cross_val_score(lr, x_train, y_train, test_size=0.4, random_state=0)"
   ]
  },
  {
   "cell_type": "code",
   "execution_count": 48,
   "metadata": {},
   "outputs": [],
   "source": [
    "from sklearn.ensemble import RandomForestRegressor"
   ]
  },
  {
   "cell_type": "code",
   "execution_count": null,
   "metadata": {},
   "outputs": [],
   "source": []
  }
 ],
 "metadata": {
  "kernelspec": {
   "display_name": "Python 3",
   "language": "python",
   "name": "python3"
  },
  "language_info": {
   "codemirror_mode": {
    "name": "ipython",
    "version": 3
   },
   "file_extension": ".py",
   "mimetype": "text/x-python",
   "name": "python",
   "nbconvert_exporter": "python",
   "pygments_lexer": "ipython3",
   "version": "3.8.3"
  }
 },
 "nbformat": 4,
 "nbformat_minor": 4
}
